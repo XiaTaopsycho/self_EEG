{
 "cells": [
  {
   "cell_type": "code",
   "execution_count": null,
   "metadata": {},
   "outputs": [],
   "source": [
    "%matplotlib qt\n",
    "import mne\n",
    "import os\n",
    "from mne_bids import write_raw_bids,make_bids_basename"
   ]
  },
  {
   "cell_type": "code",
   "execution_count": null,
   "metadata": {},
   "outputs": [],
   "source": [
    "raw_fname=('RawData/eeg/')#define raw data path\n",
    "subjectlist=os.listdir(raw_fname)#get subject name"
   ]
  },
  {
   "cell_type": "code",
   "execution_count": null,
   "metadata": {},
   "outputs": [],
   "source": [
    "for subject in subjectlist:\n",
    "    montage=mne.channels.read_montage('standard_1020')#read montage\n",
    "    raw_name_path=os.path.join(raw_fname,subject)\n",
    "    if subject ==\"sub13\":#for sub13, block 4 was excluded according to the metadata that it was interupted\n",
    "        i = list(range(1,11))# because block was interupted, there was an additional bolck 10 compared with other subjects\n",
    "        i.remove(4)\n",
    "        for k in i:\n",
    "            block_path=(subject +'_Moral_asso_'+str(k)+'.vhdr')#define file name for each bolck\n",
    "            eeg_path=os.path.join(raw_name_path,block_path)#combine file path and block name\n",
    "            raw=mne.io.read_raw_brainvision(eeg_path,montage,preload=False)#read data as MNE raw object\n",
    "            events,events_id=mne.events_from_annotations(raw,event_id='auto')#read events from annotations\n",
    "            bids_basename = make_bids_basename(subject[3:5], run=k, task='Moral')#define bids file name\n",
    "            write_raw_bids(raw, bids_basename=bids_basename, output_path='./BIDS',\n",
    "                           event_id=events_id,events_data=events,overwrite=True)#write raw bids to corresponding folder \n",
    "    elif subject ==\"sub23\":#for sub23, block 2 was excluded according to the meta data that block 2 have extremly low accuracy which means that subject had not foucs on the task\n",
    "        i =list(range(1,11))\n",
    "        i.remove(2)\n",
    "        for k in i:\n",
    "            block_path=(subject +'_Moral_asso_'+str(k)+'.vhdr')\n",
    "            eeg_path=os.path.join(raw_name_path,block_path)\n",
    "            raw=mne.io.read_raw_brainvision(eeg_path,montage,preload=False)\n",
    "            events,events_id=mne.events_from_annotations(raw,event_id='auto')\n",
    "            bids_basename = make_bids_basename(subject[3:5], run=k, task='Moral')\n",
    "            write_raw_bids(raw, bids_basename=bids_basename, output_path='./BIDS',event_id=events_id,events_data=events,overwrite=True)\n",
    "    elif subject ==\"sub29\":#for sub29, block 9 and block 9.1 were exculded as operation error of the experimenter\n",
    "        i=list(range(1,11))\n",
    "        i.remove(9)\n",
    "        for k in i:\n",
    "            block_path=(subject +'_Moral_asso_'+str(k)+'.vhdr')\n",
    "            eeg_path=os.path.join(raw_name_path,block_path)\n",
    "            raw=mne.io.read_raw_brainvision(eeg_path,montage,preload=False)\n",
    "            events,events_id=mne.events_from_annotations(raw,event_id='auto')\n",
    "            bids_basename = make_bids_basename(subject[3:5], run=k, task='Moral')\n",
    "            write_raw_bids(raw, bids_basename=bids_basename, output_path='./BIDS',event_id=events_id,events_data=events,overwrite=True)\n",
    "    elif subject==\"sub31\":\n",
    "        i =list(range(1,11))\n",
    "        i.remove(2)\n",
    "        for k in i:\n",
    "            block_path=(subject +'_Moral_asso_'+str(k)+'.vhdr')\n",
    "            eeg_path=os.path.join(raw_name_path,block_path)\n",
    "            raw=mne.io.read_raw_brainvision(eeg_path,montage,preload=False)\n",
    "            events,events_id=mne.events_from_annotations(raw,event_id='auto')\n",
    "            bids_basename = make_bids_basename(subject[3:5], run=k, task='Moral')\n",
    "            write_raw_bids(raw, bids_basename=bids_basename, output_path='./BIDS',event_id=events_id,events_data=events,overwrite=True)\n",
    "        \n",
    "    else:\n",
    "        for i in range(1,10):\n",
    "            block_path=(subject +'_Moral_asso_'+str(i)+'.vhdr')\n",
    "            eeg_path=os.path.join(raw_name_path,block_path)\n",
    "            raw=mne.io.read_raw_brainvision(eeg_path,montage,preload=False)\n",
    "            events,events_id=mne.events_from_annotations(raw,event_id='auto')     \n",
    "            if len(subject)==4:#eg. change the subject sub6 into sub06 and save them as fif\n",
    "                d=list(subject)\n",
    "                d.insert(3,'0')\n",
    "                subject1=\"\".join(d)\n",
    "                bids_basename = make_bids_basename(subject1[3:5], run=i, task='Moral')\n",
    "                write_raw_bids(raw, bids_basename=bids_basename, output_path='./BIDS',event_id=events_id,events_data=events,overwrite=True)\n",
    "            elif len(subject)==5:\n",
    "                bids_basename1 = make_bids_basename(subject[3:5], run=i, task='Moral')\n",
    "                write_raw_bids(raw, bids_basename=bids_basename1, output_path='./BIDS',event_id=events_id,events_data=events,overwrite=True)"
   ]
  }
 ],
 "metadata": {
  "kernelspec": {
   "display_name": "Python 3",
   "language": "python",
   "name": "python3"
  },
  "language_info": {
   "codemirror_mode": {
    "name": "ipython",
    "version": 3
   },
   "file_extension": ".py",
   "mimetype": "text/x-python",
   "name": "python",
   "nbconvert_exporter": "python",
   "pygments_lexer": "ipython3",
   "version": "3.7.4"
  }
 },
 "nbformat": 4,
 "nbformat_minor": 2
}
