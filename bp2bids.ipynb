{
 "cells": [
  {
   "cell_type": "code",
   "execution_count": null,
   "metadata": {},
   "outputs": [],
   "source": [
    "%matplotlib qt\n",
    "import mne\n",
    "import os\n",
    "from mne_bids import write_raw_bids,make_bids_basename"
   ]
  },
  {
   "cell_type": "code",
   "execution_count": null,
   "metadata": {},
   "outputs": [],
   "source": [
    "raw_fname=('RawData/eeg/')\n",
    "subjectlist=os.listdir(raw_fname)"
   ]
  },
  {
   "cell_type": "code",
   "execution_count": null,
   "metadata": {},
   "outputs": [],
   "source": [
    "for subject in subjectlist:\n",
    "    montage=mne.channels.read_montage('standard_1020')#read montage\n",
    "    raw_name_path=os.path.join(raw_fname,subject)\n",
    "    for i in range(1,10):#read block\n",
    "        block_path=(subject +'_Moral_asso_'+str(i)+'.vhdr')\n",
    "        eeg_path=os.path.join(raw_name_path,block_path)\n",
    "        raw=mne.io.read_raw_brainvision(eeg_path,montage,preload=False)\n",
    "        events,events_id=mne.events_from_annotations(raw,event_id='auto')     \n",
    "        if len(subject)==4:#change the subject name from sub6 to sub06 and save them as fif\n",
    "            d=list(subject)\n",
    "            d.insert(3,'0')\n",
    "            subject1=\"\".join(d)\n",
    "            bids_basename = make_bids_basename(subject1[3:5], run=i, task='Moral')\n",
    "            write_raw_bids(raw, bids_basename=bids_basename, output_path='./BIDS',event_id=events_id,events_data=events,overwrite=True)\n",
    "        elif len(subject)==5:\n",
    "            bids_basename1 = make_bids_basename(subject[3:5], run=i, task='Moral')\n",
    "            write_raw_bids(raw, bids_basename=bids_basename1, output_path='./BIDS',event_id=events_id,events_data=events,overwrite=True)"
   ]
  }
 ],
 "metadata": {
  "kernelspec": {
   "display_name": "Python 3",
   "language": "python",
   "name": "python3"
  },
  "language_info": {
   "codemirror_mode": {
    "name": "ipython",
    "version": 3
   },
   "file_extension": ".py",
   "mimetype": "text/x-python",
   "name": "python",
   "nbconvert_exporter": "python",
   "pygments_lexer": "ipython3",
   "version": "3.7.4"
  }
 },
 "nbformat": 4,
 "nbformat_minor": 2
}
