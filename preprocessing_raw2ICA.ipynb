{
 "cells": [
  {
   "cell_type": "code",
   "execution_count": null,
   "metadata": {},
   "outputs": [],
   "source": [
    "%matplotlib qt\n",
    "import mne\n",
    "import os\n",
    "from mne.preprocessing import ICA"
   ]
  },
  {
   "cell_type": "code",
   "execution_count": null,
   "metadata": {},
   "outputs": [],
   "source": [
    "raw_fname=('raw_fif/')#define raw file name\n",
    "subjectlist=os.listdir(raw_fname)#get each subject name"
   ]
  },
  {
   "cell_type": "code",
   "execution_count": null,
   "metadata": {},
   "outputs": [],
   "source": [
    "for subject in subjectlist[0:1]:#loop with subject\n",
    "    montage=mne.channels.read_montage('standard_1020')#read montage\n",
    "    raw_name_path=os.path.join(raw_fname,subject)#Concatenate file name \n",
    "    raw=mne.io.read_raw_fif(raw_name_path,montage,preload=True)\n",
    "    raw.set_eeg_reference(ref_channels='average',projection=False)#re-reference with all channel averaged\n",
    "    raw.filter(0.5,None,fir_design='firwin')#high pass filter\n",
    "    raw.filter(None,30,fir_design='firwin')#low pass filter\n",
    "    events,events_id=mne.events_from_annotations(raw,event_id='auto')#read events from raw annotations\n",
    "    event_id = {'No_Bad':10,'No_Good':12,'No_Normal':14,'Yes_Bad':11,'Yes_Good':13,'Yes_Normal':15}#define events and events_id\n",
    "    events = mne.pick_events(events, include=[10,12,14,11,13,15])#pick events that we interested\n",
    "    epochs = mne.Epochs(raw,events,event_id=event_id,baseline=(None,0),preload=True,tmin=-0.3, tmax=0.55)#epoch and baseline correction\n",
    "    ica = ICA(n_components=63, method='fastica').fit(epochs)#run ica based on epochs data with fastica method \n",
    "    ica.save('Epochs_ica/'+subject[0:5] +'-ica.fif')#save ICA and epochs data\n",
    "    epochs.save('Epochs/'+subject[0:5] +'-epo.fif')"
   ]
  }
 ],
 "metadata": {
  "kernelspec": {
   "display_name": "Python 3",
   "language": "python",
   "name": "python3"
  },
  "language_info": {
   "codemirror_mode": {
    "name": "ipython",
    "version": 3
   },
   "file_extension": ".py",
   "mimetype": "text/x-python",
   "name": "python",
   "nbconvert_exporter": "python",
   "pygments_lexer": "ipython3",
   "version": "3.7.4"
  }
 },
 "nbformat": 4,
 "nbformat_minor": 2
}
