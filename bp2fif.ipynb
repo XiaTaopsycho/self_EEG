{
 "cells": [
  {
   "cell_type": "code",
   "execution_count": null,
   "metadata": {},
   "outputs": [],
   "source": [
    "%matplotlib qt\n",
    "import mne\n",
    "import os"
   ]
  },
  {
   "cell_type": "code",
   "execution_count": null,
   "metadata": {},
   "outputs": [],
   "source": [
    "#define the input and output path\n",
    "raw_fname=('RawData/eeg/')\n",
    "subjectlist=os.listdir(raw_fname)\n",
    "out_path=('raw_fif/')"
   ]
  },
  {
   "cell_type": "code",
   "execution_count": null,
   "metadata": {},
   "outputs": [],
   "source": [
    "for subject in subjectlist:\n",
    "    montage=mne.channels.read_montage('standard_1020')#read montage\n",
    "    raw_name_path=os.path.join(raw_fname,subject)\n",
    "    block1_fname=(raw_name_path + '/' +subject + '_Moral_asso_1.vhdr')#define path of block 1\n",
    "    raw=mne.io.read_raw_brainvision(block1_fname,montage,preload=True)# read .vhdr as mne raw instance\n",
    "    for i in range(2,10):#read block 2 to block9  and append them to block1\n",
    "        block_path=(subject +'_Moral_asso_'+str(i)+'.vhdr')\n",
    "        eeg_path=os.path.join(raw_name_path,block_path)\n",
    "        raw1=mne.io.read_raw_brainvision(eeg_path,montage,preload=True)\n",
    "        mne.io.Raw.append(self=raw,raws=raw1)\n",
    "    if len(subject)==4:#change the subject name from sub6 to sub06 and save them as fif\n",
    "        d=list(subject)\n",
    "        d.insert(3,'0')\n",
    "        subject1=\"\".join(d)\n",
    "        raw.save('raw_fif/'+subject1+'_raw.fif',overwrite=True)\n",
    "    elif len(subject)==5:\n",
    "        raw.save('raw_fif/'+subject1+'_raw.fif',overwrite=True)"
   ]
  }
 ],
 "metadata": {
  "kernelspec": {
   "display_name": "Python 3",
   "language": "python",
   "name": "python3"
  },
  "language_info": {
   "codemirror_mode": {
    "name": "ipython",
    "version": 3
   },
   "file_extension": ".py",
   "mimetype": "text/x-python",
   "name": "python",
   "nbconvert_exporter": "python",
   "pygments_lexer": "ipython3",
   "version": "3.7.4"
  }
 },
 "nbformat": 4,
 "nbformat_minor": 2
}
