{
 "cells": [
  {
   "cell_type": "code",
   "execution_count": 1,
   "metadata": {},
   "outputs": [],
   "source": [
    "%matplotlib qt\n",
    "import mne\n",
    "import os"
   ]
  },
  {
   "cell_type": "code",
   "execution_count": 2,
   "metadata": {
    "scrolled": true
   },
   "outputs": [
    {
     "name": "stdout",
     "output_type": "stream",
     "text": [
      "Python v3.6.8 |Anaconda, Inc.| (default, Dec 30 2018, 01:22:34) \n",
      "[GCC 7.3.0]\n",
      "MNE v0.19.0\n"
     ]
    }
   ],
   "source": [
    "import sys\n",
    "print('Python v{}'.format(sys.version))\n",
    "print('MNE v{}'.format(mne.__version__))"
   ]
  },
  {
   "cell_type": "markdown",
   "metadata": {},
   "source": [
    "### Below I tested one subject, but encountered the ValueError"
   ]
  },
  {
   "cell_type": "code",
   "execution_count": 3,
   "metadata": {},
   "outputs": [
    {
     "name": "stdout",
     "output_type": "stream",
     "text": [
      "Extracting parameters from RawData/eeg/sub7/sub7_Moral_asso_1.vhdr...\n",
      "Setting channel info structure...\n",
      "Reading 0 ... 164749  =      0.000 ...   329.498 secs...\n"
     ]
    },
    {
     "name": "stderr",
     "output_type": "stream",
     "text": [
      "/media/hcp4715/study/Py_Envs/Py_MNE/lib/python3.6/site-packages/mne/utils/docs.py:824: DeprecationWarning: Function read_montage is deprecated; ``read_montage`` is deprecated and will be removed in v0.20. Please use ``read_dig_fif``, ``read_dig_egi``, ``read_custom_montage``, or ``read_dig_captrack`` to read a digitization based on your needs instead; or ``make_standard_montage`` to create ``DigMontage`` based on template; or ``make_dig_montage`` to create a ``DigMontage`` out of np.arrays\n",
      "  warnings.warn(msg, category=DeprecationWarning)\n",
      "/media/hcp4715/study/Py_Envs/Py_MNE/lib/python3.6/site-packages/mne/utils/docs.py:807: DeprecationWarning: Class Montage is deprecated; Montage class is deprecated and will be removed in v0.20. Please use DigMontage instead.\n",
      "  warnings.warn(msg, category=DeprecationWarning)\n"
     ]
    },
    {
     "name": "stdout",
     "output_type": "stream",
     "text": [
      "sub7_Moral_asso_2.vhdr\n",
      "Extracting parameters from RawData/eeg/sub7/sub7_Moral_asso_2.vhdr...\n",
      "Setting channel info structure...\n",
      "Reading 0 ... 166149  =      0.000 ...   332.298 secs...\n"
     ]
    },
    {
     "name": "stderr",
     "output_type": "stream",
     "text": [
      "<ipython-input-3-34285c808995>:10: DeprecationWarning: Setting a montage using anything rather than DigMontage is deprecated and will raise an error in v0.20. Please use ``read_dig_fif``, ``read_dig_egi``, ``read_dig_polhemus_isotrak``, or ``read_dig_captrack`` ``read_dig_hpts``, ``read_dig_captrack`` or ``read_custom_montage`` to read a digitization based on your needs instead; or ``make_standard_montage`` to create ``DigMontage`` based on template; or ``make_dig_montage`` to create a ``DigMontage`` out of np.arrays.\n",
      "  raw = mne.io.read_raw_brainvision(block1_fname, montage, preload=True)\n",
      "<ipython-input-3-34285c808995>:10: DeprecationWarning: The `montage` parameter from `read_raw_brainvision` is deprecated and will be removed  in version 0.20. Use  raw.set_montage(montage) instead.\n",
      "  raw = mne.io.read_raw_brainvision(block1_fname, montage, preload=True)\n",
      "<ipython-input-3-34285c808995>:17: DeprecationWarning: Setting a montage using anything rather than DigMontage is deprecated and will raise an error in v0.20. Please use ``read_dig_fif``, ``read_dig_egi``, ``read_dig_polhemus_isotrak``, or ``read_dig_captrack`` ``read_dig_hpts``, ``read_dig_captrack`` or ``read_custom_montage`` to read a digitization based on your needs instead; or ``make_standard_montage`` to create ``DigMontage`` based on template; or ``make_dig_montage`` to create a ``DigMontage`` out of np.arrays.\n",
      "  raw1 = mne.io.read_raw_brainvision(eeg_path, montage, preload=True)\n",
      "<ipython-input-3-34285c808995>:17: DeprecationWarning: The `montage` parameter from `read_raw_brainvision` is deprecated and will be removed  in version 0.20. Use  raw.set_montage(montage) instead.\n",
      "  raw1 = mne.io.read_raw_brainvision(eeg_path, montage, preload=True)\n"
     ]
    },
    {
     "name": "stdout",
     "output_type": "stream",
     "text": [
      "sub7_Moral_asso_3.vhdr\n",
      "Extracting parameters from RawData/eeg/sub7/sub7_Moral_asso_3.vhdr...\n",
      "Setting channel info structure...\n",
      "Reading 0 ... 161849  =      0.000 ...   323.698 secs...\n",
      "sub7_Moral_asso_4.vhdr\n",
      "Extracting parameters from RawData/eeg/sub7/sub7_Moral_asso_4.vhdr...\n",
      "Setting channel info structure...\n",
      "Reading 0 ... 163524  =      0.000 ...   327.048 secs...\n"
     ]
    },
    {
     "name": "stderr",
     "output_type": "stream",
     "text": [
      "<ipython-input-3-34285c808995>:17: DeprecationWarning: Setting a montage using anything rather than DigMontage is deprecated and will raise an error in v0.20. Please use ``read_dig_fif``, ``read_dig_egi``, ``read_dig_polhemus_isotrak``, or ``read_dig_captrack`` ``read_dig_hpts``, ``read_dig_captrack`` or ``read_custom_montage`` to read a digitization based on your needs instead; or ``make_standard_montage`` to create ``DigMontage`` based on template; or ``make_dig_montage`` to create a ``DigMontage`` out of np.arrays.\n",
      "  raw1 = mne.io.read_raw_brainvision(eeg_path, montage, preload=True)\n",
      "<ipython-input-3-34285c808995>:17: DeprecationWarning: The `montage` parameter from `read_raw_brainvision` is deprecated and will be removed  in version 0.20. Use  raw.set_montage(montage) instead.\n",
      "  raw1 = mne.io.read_raw_brainvision(eeg_path, montage, preload=True)\n"
     ]
    },
    {
     "name": "stdout",
     "output_type": "stream",
     "text": [
      "sub7_Moral_asso_5.vhdr\n",
      "Extracting parameters from RawData/eeg/sub7/sub7_Moral_asso_5.vhdr...\n",
      "Setting channel info structure...\n",
      "Reading 0 ... 164424  =      0.000 ...   328.848 secs...\n"
     ]
    },
    {
     "name": "stderr",
     "output_type": "stream",
     "text": [
      "<ipython-input-3-34285c808995>:17: DeprecationWarning: Setting a montage using anything rather than DigMontage is deprecated and will raise an error in v0.20. Please use ``read_dig_fif``, ``read_dig_egi``, ``read_dig_polhemus_isotrak``, or ``read_dig_captrack`` ``read_dig_hpts``, ``read_dig_captrack`` or ``read_custom_montage`` to read a digitization based on your needs instead; or ``make_standard_montage`` to create ``DigMontage`` based on template; or ``make_dig_montage`` to create a ``DigMontage`` out of np.arrays.\n",
      "  raw1 = mne.io.read_raw_brainvision(eeg_path, montage, preload=True)\n",
      "<ipython-input-3-34285c808995>:17: DeprecationWarning: The `montage` parameter from `read_raw_brainvision` is deprecated and will be removed  in version 0.20. Use  raw.set_montage(montage) instead.\n",
      "  raw1 = mne.io.read_raw_brainvision(eeg_path, montage, preload=True)\n"
     ]
    },
    {
     "name": "stdout",
     "output_type": "stream",
     "text": [
      "sub7_Moral_asso_6.vhdr\n",
      "Extracting parameters from RawData/eeg/sub7/sub7_Moral_asso_6.vhdr...\n"
     ]
    },
    {
     "name": "stderr",
     "output_type": "stream",
     "text": [
      "<ipython-input-3-34285c808995>:17: DeprecationWarning: Setting a montage using anything rather than DigMontage is deprecated and will raise an error in v0.20. Please use ``read_dig_fif``, ``read_dig_egi``, ``read_dig_polhemus_isotrak``, or ``read_dig_captrack`` ``read_dig_hpts``, ``read_dig_captrack`` or ``read_custom_montage`` to read a digitization based on your needs instead; or ``make_standard_montage`` to create ``DigMontage`` based on template; or ``make_dig_montage`` to create a ``DigMontage`` out of np.arrays.\n",
      "  raw1 = mne.io.read_raw_brainvision(eeg_path, montage, preload=True)\n",
      "<ipython-input-3-34285c808995>:17: DeprecationWarning: The `montage` parameter from `read_raw_brainvision` is deprecated and will be removed  in version 0.20. Use  raw.set_montage(montage) instead.\n",
      "  raw1 = mne.io.read_raw_brainvision(eeg_path, montage, preload=True)\n"
     ]
    },
    {
     "ename": "ValueError",
     "evalue": "Currently only support versions 1.0 and 2.0, not 'Brain Vision Data Exchange Header File Version 1.0\\r\\r; Data created by the actiCHamp PyCorder\\r\\r\\r\\r[Common Infos]\\r\\rCodepage=UTF-8\\r\\rDataFile=sub7_Moral_asso_6.eeg\\r\\rMarkerFile=sub7_Moral_asso_6.vmrk\\r\\rDataFormat=BINARY\\r\\r; Data orientation: MULTIPLEXED=ch1,pt1, ch2,pt1 ...\\r\\rDataOrientation=MULTIPLEXED\\r\\rNumberOfChannels=63\\r\\r; Sampling interval in microseconds\\r\\rSamplingInterval=2000\\r\\r\\r\\r[Binary Infos]\\r\\rBinaryFormat=IEEE_FLOAT_32\\r\\r\\r\\r[Channel Infos]\\r\\r; Each entry: Ch<Channel number>=<Name>,<Reference channel name>,\\r\\r; <Scaling factor in \"Unit\">,<Unit>, Future extensions..\\r\\r; Fields are delimited by commas, some fields might be omitted (empty).\\r\\r; Commas in channel names are coded as \"\\\\1\".\\r\\rCh1=FP1,REF,1.0,V\\r\\rCh2=FZ,REF,1.0,V\\r\\rCh3=F3,REF,1.0,V\\r\\rCh4=F7,REF,1.0,V\\r\\rCh5=FT9,REF,1.0,V\\r\\rCh6=FC5,REF,1.0,V\\r\\rCh7=FC1,REF,1.0,V\\r\\rCh8=C3,REF,1.0,V\\r\\rCh9=T7,REF,1.0,V\\r\\rCh10=CP5,REF,1.0,V\\r\\rCh11=CP1,REF,1.0,V\\r\\rCh12=Pz,REF,1.0,V\\r\\rCh13=P3,REF,1.0,V\\r\\rCh14=P7,REF,1.0,V\\r\\rCh15=O1,REF,1.0,V\\r\\rCh16=Oz,REF,1.0,V\\r\\rCh17=O2,REF,1.0,V\\r\\rCh18=P4,REF,1.0,V\\r\\rCh19=P8,REF,1.0,V\\r\\rCh20=TP10,REF,1.0,V\\r\\rCh21=CP6,REF,1.0,V\\r\\rCh22=CP2,REF,1.0,V\\r\\rCh23=Cz,REF,1.0,V\\r\\rCh24=C4,REF,1.0,V\\r\\rCh25=T8,REF,1.0,V\\r\\rCh26=FT10,REF,1.0,V\\r\\rCh27=FC6,REF,1.0,V\\r\\rCh28=FC2,REF,1.0,V\\r\\rCh29=F4,REF,1.0,V\\r\\rCh30=F8,REF,1.0,V\\r\\rCh31=FP2,REF,1.0,V\\r\\rCh32=AF7,REF,1.0,V\\r\\rCh33=AF3,REF,1.0,V\\r\\rCh34=AFz,REF,1.0,V\\r\\rCh35=F1,REF,1.0,V\\r\\rCh36=F5,REF,1.0,V\\r\\rCh37=FT7,REF,1.0,V\\r\\rCh38=FC3,REF,1.0,V\\r\\rCh39=FCz,REF,1.0,V\\r\\rCh40=C1,REF,1.0,V\\r\\rCh41=C5,REF,1.0,V\\r\\rCh42=TP7,REF,1.0,V\\r\\rCh43=CP3,REF,1.0,V\\r\\rCh44=P1,REF,1.0,V\\r\\rCh45=P5,REF,1.0,V\\r\\rCh46=PO7,REF,1.0,V\\r\\rCh47=PO3,REF,1.0,V\\r\\rCh48=POz,REF,1.0,V\\r\\rCh49=PO4,REF,1.0,V\\r\\rCh50=PO8,REF,1.0,V\\r\\rCh51=P6,REF,1.0,V\\r\\rCh52=P2,REF,1.0,V\\r\\rCh53=CPz,REF,1.0,V\\r\\rCh54=CP4,REF,1.0,V\\r\\rCh55=TP8,REF,1.0,V\\r\\rCh56=C6,REF,1.0,V\\r\\rCh57=C2,REF,1.0,V\\r\\rCh58=FC4,REF,1.0,V\\r\\rCh59=FT8,REF,1.0,V\\r\\rCh60=F6,REF,1.0,V\\r\\rCh61=F2,REF,1.0,V\\r\\rCh62=AF4,REF,1.0,V\\r\\rCh63=AF8,REF,1.0,V\\r\\r\\r\\r[Comment]\\r\\rPyCorder V1.0.4\\r\\rAmplifier\\ractiCHamp (5001) SN: 12110121\\rModule 1  (5010) SN: 12110238\\rModule 2  (5010) SN: 13040342\\rModule 3  (5010) SN: 12110298\\rModule 4  (5010) SN: 13050351\\rModule 5  n.a.\\rVersion: DLL_17.12.11.16, DRV_03.04.01.146, CTRL_04.11.04.28, FPGA_44.00.00.00, DSP_06.11.05.25\\r\\r\\r\\r\\rReference channel: TP9\\r\\r\\r\\rImpedance [KOhm] at 15:09:42\\r\\r  1 FP1: 0\\r\\r  2 FZ: 0\\r\\r  3 F3: 8\\r\\r  4 F7: 5\\r\\r  5 FT9: Out of Range!\\r\\r  6 FC5: 4\\r\\r  7 FC1: 3\\r\\r  8 C3: 5\\r\\r  9 T7: 2\\r\\r 10 REF_TP9: 0\\r\\r 11 CP5: 0\\r\\r 12 CP1: 3\\r\\r 13 Pz: 5\\r\\r 14 P3: 3\\r\\r 15 P7: 3\\r\\r 16 O1: 2\\r\\r 17 Oz: 3\\r\\r 18 O2: 3\\r\\r 19 P4: 2\\r\\r 20 P8: 4\\r\\r 21 TP10: 1\\r\\r 22 CP6: 2\\r\\r 23 CP2: 4\\r\\r 24 Cz: 1\\r\\r 25 C4: 1\\r\\r 26 T8: 5\\r\\r 27 FT10: 2\\r\\r 28 FC6: 4\\r\\r 29 FC2: 1\\r\\r 30 F4: 3\\r\\r 31 F8: 3\\r\\r 32 FP2: 0\\r\\r 33 AF7: 1\\r\\r 34 AF3: 3\\r\\r 35 AFz: 0\\r\\r 36 F1: 2\\r\\r 37 F5: 3\\r\\r 38 FT7: 3\\r\\r 39 FC3: Out of Range!\\r\\r 40 FCz: 1\\r\\r 41 C1: 0\\r\\r 42 C5: 5\\r\\r 43 TP7: 3\\r\\r 44 CP3: 6\\r\\r 45 P1: 4\\r\\r 46 P5: 1\\r\\r 47 PO7: 1\\r\\r 48 PO3: 2\\r\\r 49 POz: 6\\r\\r 50 PO4: Out of Range!\\r\\r 51 PO8: 3\\r\\r 52 P6: 4\\r\\r 53 P2: 3\\r\\r 54 CPz: 3\\r\\r 55 CP4: 4\\r\\r 56 TP8: 4\\r\\r 57 C6: 1\\r\\r 58 C2: 1\\r\\r 59 FC4: 3\\r\\r 60 FT8: 0\\r\\r 61 F6: 3\\r\\r 62 F2: 1\\r\\r 63 AF4: 0\\r\\r 64 AF8: 3\\r\\rGND: 2' Contact MNE-Developers for support.",
     "output_type": "error",
     "traceback": [
      "\u001b[0;31m---------------------------------------------------------------------------\u001b[0m",
      "\u001b[0;31mValueError\u001b[0m                                Traceback (most recent call last)",
      "\u001b[0;32m<ipython-input-3-34285c808995>\u001b[0m in \u001b[0;36m<module>\u001b[0;34m\u001b[0m\n\u001b[1;32m     15\u001b[0m     \u001b[0meeg_path\u001b[0m \u001b[0;34m=\u001b[0m \u001b[0mos\u001b[0m\u001b[0;34m.\u001b[0m\u001b[0mpath\u001b[0m\u001b[0;34m.\u001b[0m\u001b[0mjoin\u001b[0m\u001b[0;34m(\u001b[0m\u001b[0mraw_name_path\u001b[0m\u001b[0;34m,\u001b[0m \u001b[0mblock_path\u001b[0m\u001b[0;34m)\u001b[0m\u001b[0;34m\u001b[0m\u001b[0;34m\u001b[0m\u001b[0m\n\u001b[1;32m     16\u001b[0m \u001b[0;34m\u001b[0m\u001b[0m\n\u001b[0;32m---> 17\u001b[0;31m     \u001b[0mraw1\u001b[0m \u001b[0;34m=\u001b[0m \u001b[0mmne\u001b[0m\u001b[0;34m.\u001b[0m\u001b[0mio\u001b[0m\u001b[0;34m.\u001b[0m\u001b[0mread_raw_brainvision\u001b[0m\u001b[0;34m(\u001b[0m\u001b[0meeg_path\u001b[0m\u001b[0;34m,\u001b[0m \u001b[0mmontage\u001b[0m\u001b[0;34m,\u001b[0m \u001b[0mpreload\u001b[0m\u001b[0;34m=\u001b[0m\u001b[0;32mTrue\u001b[0m\u001b[0;34m)\u001b[0m\u001b[0;34m\u001b[0m\u001b[0;34m\u001b[0m\u001b[0m\n\u001b[0m\u001b[1;32m     18\u001b[0m \u001b[0;34m\u001b[0m\u001b[0m\n\u001b[1;32m     19\u001b[0m     \u001b[0mmne\u001b[0m\u001b[0;34m.\u001b[0m\u001b[0mio\u001b[0m\u001b[0;34m.\u001b[0m\u001b[0mRaw\u001b[0m\u001b[0;34m.\u001b[0m\u001b[0mappend\u001b[0m\u001b[0;34m(\u001b[0m\u001b[0mself\u001b[0m\u001b[0;34m=\u001b[0m\u001b[0mraw\u001b[0m\u001b[0;34m,\u001b[0m \u001b[0mraws\u001b[0m\u001b[0;34m=\u001b[0m\u001b[0mraw1\u001b[0m\u001b[0;34m)\u001b[0m\u001b[0;34m\u001b[0m\u001b[0;34m\u001b[0m\u001b[0m\n",
      "\u001b[0;32m/media/hcp4715/study/Py_Envs/Py_MNE/lib/python3.6/site-packages/mne/io/brainvision/brainvision.py\u001b[0m in \u001b[0;36mread_raw_brainvision\u001b[0;34m(vhdr_fname, montage, eog, misc, scale, preload, verbose)\u001b[0m\n\u001b[1;32m    823\u001b[0m     return RawBrainVision(vhdr_fname=vhdr_fname, montage=montage, eog=eog,\n\u001b[1;32m    824\u001b[0m                           \u001b[0mmisc\u001b[0m\u001b[0;34m=\u001b[0m\u001b[0mmisc\u001b[0m\u001b[0;34m,\u001b[0m \u001b[0mscale\u001b[0m\u001b[0;34m=\u001b[0m\u001b[0mscale\u001b[0m\u001b[0;34m,\u001b[0m \u001b[0mpreload\u001b[0m\u001b[0;34m=\u001b[0m\u001b[0mpreload\u001b[0m\u001b[0;34m,\u001b[0m\u001b[0;34m\u001b[0m\u001b[0;34m\u001b[0m\u001b[0m\n\u001b[0;32m--> 825\u001b[0;31m                           verbose=verbose)\n\u001b[0m\u001b[1;32m    826\u001b[0m \u001b[0;34m\u001b[0m\u001b[0m\n\u001b[1;32m    827\u001b[0m \u001b[0;34m\u001b[0m\u001b[0m\n",
      "\u001b[0;32m</media/hcp4715/study/Py_Envs/Py_MNE/lib/python3.6/site-packages/mne/externals/decorator.py:decorator-gen-151>\u001b[0m in \u001b[0;36m__init__\u001b[0;34m(self, vhdr_fname, montage, eog, misc, scale, preload, verbose)\u001b[0m\n",
      "\u001b[0;32m/media/hcp4715/study/Py_Envs/Py_MNE/lib/python3.6/site-packages/mne/utils/_logging.py\u001b[0m in \u001b[0;36mwrapper\u001b[0;34m(*args, **kwargs)\u001b[0m\n\u001b[1;32m     88\u001b[0m             \u001b[0;32mwith\u001b[0m \u001b[0muse_log_level\u001b[0m\u001b[0;34m(\u001b[0m\u001b[0mverbose_level\u001b[0m\u001b[0;34m)\u001b[0m\u001b[0;34m:\u001b[0m\u001b[0;34m\u001b[0m\u001b[0;34m\u001b[0m\u001b[0m\n\u001b[1;32m     89\u001b[0m                 \u001b[0;32mreturn\u001b[0m \u001b[0mfunction\u001b[0m\u001b[0;34m(\u001b[0m\u001b[0;34m*\u001b[0m\u001b[0margs\u001b[0m\u001b[0;34m,\u001b[0m \u001b[0;34m**\u001b[0m\u001b[0mkwargs\u001b[0m\u001b[0;34m)\u001b[0m\u001b[0;34m\u001b[0m\u001b[0;34m\u001b[0m\u001b[0m\n\u001b[0;32m---> 90\u001b[0;31m         \u001b[0;32mreturn\u001b[0m \u001b[0mfunction\u001b[0m\u001b[0;34m(\u001b[0m\u001b[0;34m*\u001b[0m\u001b[0margs\u001b[0m\u001b[0;34m,\u001b[0m \u001b[0;34m**\u001b[0m\u001b[0mkwargs\u001b[0m\u001b[0;34m)\u001b[0m\u001b[0;34m\u001b[0m\u001b[0;34m\u001b[0m\u001b[0m\n\u001b[0m\u001b[1;32m     91\u001b[0m     return FunctionMaker.create(\n\u001b[1;32m     92\u001b[0m         \u001b[0mfunction\u001b[0m\u001b[0;34m,\u001b[0m \u001b[0;34m'return decfunc(%(signature)s)'\u001b[0m\u001b[0;34m,\u001b[0m\u001b[0;34m\u001b[0m\u001b[0;34m\u001b[0m\u001b[0m\n",
      "\u001b[0;32m/media/hcp4715/study/Py_Envs/Py_MNE/lib/python3.6/site-packages/mne/io/brainvision/brainvision.py\u001b[0m in \u001b[0;36m__init__\u001b[0;34m(self, vhdr_fname, montage, eog, misc, scale, preload, verbose)\u001b[0m\n\u001b[1;32m     67\u001b[0m         \u001b[0mvhdr_fname\u001b[0m \u001b[0;34m=\u001b[0m \u001b[0mop\u001b[0m\u001b[0;34m.\u001b[0m\u001b[0mabspath\u001b[0m\u001b[0;34m(\u001b[0m\u001b[0mvhdr_fname\u001b[0m\u001b[0;34m)\u001b[0m\u001b[0;34m\u001b[0m\u001b[0;34m\u001b[0m\u001b[0m\n\u001b[1;32m     68\u001b[0m         (info, data_fname, fmt, order, n_samples, mrk_fname, montage,\n\u001b[0;32m---> 69\u001b[0;31m          orig_units) = _get_vhdr_info(vhdr_fname, eog, misc, scale, montage)\n\u001b[0m\u001b[1;32m     70\u001b[0m         \u001b[0mself\u001b[0m\u001b[0;34m.\u001b[0m\u001b[0m_order\u001b[0m \u001b[0;34m=\u001b[0m \u001b[0morder\u001b[0m\u001b[0;34m\u001b[0m\u001b[0;34m\u001b[0m\u001b[0m\n\u001b[1;32m     71\u001b[0m         \u001b[0mself\u001b[0m\u001b[0;34m.\u001b[0m\u001b[0m_n_samples\u001b[0m \u001b[0;34m=\u001b[0m \u001b[0mn_samples\u001b[0m\u001b[0;34m\u001b[0m\u001b[0;34m\u001b[0m\u001b[0m\n",
      "\u001b[0;32m/media/hcp4715/study/Py_Envs/Py_MNE/lib/python3.6/site-packages/mne/io/brainvision/brainvision.py\u001b[0m in \u001b[0;36m_get_vhdr_info\u001b[0;34m(vhdr_fname, eog, misc, scale, montage)\u001b[0m\n\u001b[1;32m    438\u001b[0m                       \"not a file with extension '%s'.\" % ext)\n\u001b[1;32m    439\u001b[0m \u001b[0;34m\u001b[0m\u001b[0m\n\u001b[0;32m--> 440\u001b[0;31m     \u001b[0msettings\u001b[0m\u001b[0;34m,\u001b[0m \u001b[0mcfg\u001b[0m\u001b[0;34m,\u001b[0m \u001b[0mcinfostr\u001b[0m\u001b[0;34m,\u001b[0m \u001b[0minfo\u001b[0m \u001b[0;34m=\u001b[0m \u001b[0m_aux_vhdr_info\u001b[0m\u001b[0;34m(\u001b[0m\u001b[0mvhdr_fname\u001b[0m\u001b[0;34m)\u001b[0m\u001b[0;34m\u001b[0m\u001b[0;34m\u001b[0m\u001b[0m\n\u001b[0m\u001b[1;32m    441\u001b[0m \u001b[0;34m\u001b[0m\u001b[0m\n\u001b[1;32m    442\u001b[0m     \u001b[0morder\u001b[0m \u001b[0;34m=\u001b[0m \u001b[0mcfg\u001b[0m\u001b[0;34m.\u001b[0m\u001b[0mget\u001b[0m\u001b[0;34m(\u001b[0m\u001b[0mcinfostr\u001b[0m\u001b[0;34m,\u001b[0m \u001b[0;34m'DataOrientation'\u001b[0m\u001b[0;34m)\u001b[0m\u001b[0;34m\u001b[0m\u001b[0;34m\u001b[0m\u001b[0m\n",
      "\u001b[0;32m/media/hcp4715/study/Py_Envs/Py_MNE/lib/python3.6/site-packages/mne/io/brainvision/brainvision.py\u001b[0m in \u001b[0;36m_aux_vhdr_info\u001b[0;34m(vhdr_fname)\u001b[0m\n\u001b[1;32m    345\u001b[0m         \u001b[0;31m# same in Latin-1 and UTF-8\u001b[0m\u001b[0;34m\u001b[0m\u001b[0;34m\u001b[0m\u001b[0;34m\u001b[0m\u001b[0m\n\u001b[1;32m    346\u001b[0m         \u001b[0mheader\u001b[0m \u001b[0;34m=\u001b[0m \u001b[0mheader\u001b[0m\u001b[0;34m.\u001b[0m\u001b[0mdecode\u001b[0m\u001b[0;34m(\u001b[0m\u001b[0;34m'ascii'\u001b[0m\u001b[0;34m,\u001b[0m \u001b[0;34m'ignore'\u001b[0m\u001b[0;34m)\u001b[0m\u001b[0;34m.\u001b[0m\u001b[0mstrip\u001b[0m\u001b[0;34m(\u001b[0m\u001b[0;34m)\u001b[0m\u001b[0;34m\u001b[0m\u001b[0;34m\u001b[0m\u001b[0m\n\u001b[0;32m--> 347\u001b[0;31m         \u001b[0m_check_hdr_version\u001b[0m\u001b[0;34m(\u001b[0m\u001b[0mheader\u001b[0m\u001b[0;34m)\u001b[0m\u001b[0;34m\u001b[0m\u001b[0;34m\u001b[0m\u001b[0m\n\u001b[0m\u001b[1;32m    348\u001b[0m \u001b[0;34m\u001b[0m\u001b[0m\n\u001b[1;32m    349\u001b[0m         \u001b[0msettings\u001b[0m \u001b[0;34m=\u001b[0m \u001b[0mf\u001b[0m\u001b[0;34m.\u001b[0m\u001b[0mread\u001b[0m\u001b[0;34m(\u001b[0m\u001b[0;34m)\u001b[0m\u001b[0;34m\u001b[0m\u001b[0;34m\u001b[0m\u001b[0m\n",
      "\u001b[0;32m/media/hcp4715/study/Py_Envs/Py_MNE/lib/python3.6/site-packages/mne/io/brainvision/brainvision.py\u001b[0m in \u001b[0;36m_check_hdr_version\u001b[0;34m(header)\u001b[0m\n\u001b[1;32m    278\u001b[0m     \u001b[0;32melse\u001b[0m\u001b[0;34m:\u001b[0m\u001b[0;34m\u001b[0m\u001b[0;34m\u001b[0m\u001b[0m\n\u001b[1;32m    279\u001b[0m         raise ValueError(\"Currently only support versions 1.0 and 2.0, not %r \"\n\u001b[0;32m--> 280\u001b[0;31m                          \"Contact MNE-Developers for support.\" % header)\n\u001b[0m\u001b[1;32m    281\u001b[0m \u001b[0;34m\u001b[0m\u001b[0m\n\u001b[1;32m    282\u001b[0m \u001b[0;34m\u001b[0m\u001b[0m\n",
      "\u001b[0;31mValueError\u001b[0m: Currently only support versions 1.0 and 2.0, not 'Brain Vision Data Exchange Header File Version 1.0\\r\\r; Data created by the actiCHamp PyCorder\\r\\r\\r\\r[Common Infos]\\r\\rCodepage=UTF-8\\r\\rDataFile=sub7_Moral_asso_6.eeg\\r\\rMarkerFile=sub7_Moral_asso_6.vmrk\\r\\rDataFormat=BINARY\\r\\r; Data orientation: MULTIPLEXED=ch1,pt1, ch2,pt1 ...\\r\\rDataOrientation=MULTIPLEXED\\r\\rNumberOfChannels=63\\r\\r; Sampling interval in microseconds\\r\\rSamplingInterval=2000\\r\\r\\r\\r[Binary Infos]\\r\\rBinaryFormat=IEEE_FLOAT_32\\r\\r\\r\\r[Channel Infos]\\r\\r; Each entry: Ch<Channel number>=<Name>,<Reference channel name>,\\r\\r; <Scaling factor in \"Unit\">,<Unit>, Future extensions..\\r\\r; Fields are delimited by commas, some fields might be omitted (empty).\\r\\r; Commas in channel names are coded as \"\\\\1\".\\r\\rCh1=FP1,REF,1.0,V\\r\\rCh2=FZ,REF,1.0,V\\r\\rCh3=F3,REF,1.0,V\\r\\rCh4=F7,REF,1.0,V\\r\\rCh5=FT9,REF,1.0,V\\r\\rCh6=FC5,REF,1.0,V\\r\\rCh7=FC1,REF,1.0,V\\r\\rCh8=C3,REF,1.0,V\\r\\rCh9=T7,REF,1.0,V\\r\\rCh10=CP5,REF,1.0,V\\r\\rCh11=CP1,REF,1.0,V\\r\\rCh12=Pz,REF,1.0,V\\r\\rCh13=P3,REF,1.0,V\\r\\rCh14=P7,REF,1.0,V\\r\\rCh15=O1,REF,1.0,V\\r\\rCh16=Oz,REF,1.0,V\\r\\rCh17=O2,REF,1.0,V\\r\\rCh18=P4,REF,1.0,V\\r\\rCh19=P8,REF,1.0,V\\r\\rCh20=TP10,REF,1.0,V\\r\\rCh21=CP6,REF,1.0,V\\r\\rCh22=CP2,REF,1.0,V\\r\\rCh23=Cz,REF,1.0,V\\r\\rCh24=C4,REF,1.0,V\\r\\rCh25=T8,REF,1.0,V\\r\\rCh26=FT10,REF,1.0,V\\r\\rCh27=FC6,REF,1.0,V\\r\\rCh28=FC2,REF,1.0,V\\r\\rCh29=F4,REF,1.0,V\\r\\rCh30=F8,REF,1.0,V\\r\\rCh31=FP2,REF,1.0,V\\r\\rCh32=AF7,REF,1.0,V\\r\\rCh33=AF3,REF,1.0,V\\r\\rCh34=AFz,REF,1.0,V\\r\\rCh35=F1,REF,1.0,V\\r\\rCh36=F5,REF,1.0,V\\r\\rCh37=FT7,REF,1.0,V\\r\\rCh38=FC3,REF,1.0,V\\r\\rCh39=FCz,REF,1.0,V\\r\\rCh40=C1,REF,1.0,V\\r\\rCh41=C5,REF,1.0,V\\r\\rCh42=TP7,REF,1.0,V\\r\\rCh43=CP3,REF,1.0,V\\r\\rCh44=P1,REF,1.0,V\\r\\rCh45=P5,REF,1.0,V\\r\\rCh46=PO7,REF,1.0,V\\r\\rCh47=PO3,REF,1.0,V\\r\\rCh48=POz,REF,1.0,V\\r\\rCh49=PO4,REF,1.0,V\\r\\rCh50=PO8,REF,1.0,V\\r\\rCh51=P6,REF,1.0,V\\r\\rCh52=P2,REF,1.0,V\\r\\rCh53=CPz,REF,1.0,V\\r\\rCh54=CP4,REF,1.0,V\\r\\rCh55=TP8,REF,1.0,V\\r\\rCh56=C6,REF,1.0,V\\r\\rCh57=C2,REF,1.0,V\\r\\rCh58=FC4,REF,1.0,V\\r\\rCh59=FT8,REF,1.0,V\\r\\rCh60=F6,REF,1.0,V\\r\\rCh61=F2,REF,1.0,V\\r\\rCh62=AF4,REF,1.0,V\\r\\rCh63=AF8,REF,1.0,V\\r\\r\\r\\r[Comment]\\r\\rPyCorder V1.0.4\\r\\rAmplifier\\ractiCHamp (5001) SN: 12110121\\rModule 1  (5010) SN: 12110238\\rModule 2  (5010) SN: 13040342\\rModule 3  (5010) SN: 12110298\\rModule 4  (5010) SN: 13050351\\rModule 5  n.a.\\rVersion: DLL_17.12.11.16, DRV_03.04.01.146, CTRL_04.11.04.28, FPGA_44.00.00.00, DSP_06.11.05.25\\r\\r\\r\\r\\rReference channel: TP9\\r\\r\\r\\rImpedance [KOhm] at 15:09:42\\r\\r  1 FP1: 0\\r\\r  2 FZ: 0\\r\\r  3 F3: 8\\r\\r  4 F7: 5\\r\\r  5 FT9: Out of Range!\\r\\r  6 FC5: 4\\r\\r  7 FC1: 3\\r\\r  8 C3: 5\\r\\r  9 T7: 2\\r\\r 10 REF_TP9: 0\\r\\r 11 CP5: 0\\r\\r 12 CP1: 3\\r\\r 13 Pz: 5\\r\\r 14 P3: 3\\r\\r 15 P7: 3\\r\\r 16 O1: 2\\r\\r 17 Oz: 3\\r\\r 18 O2: 3\\r\\r 19 P4: 2\\r\\r 20 P8: 4\\r\\r 21 TP10: 1\\r\\r 22 CP6: 2\\r\\r 23 CP2: 4\\r\\r 24 Cz: 1\\r\\r 25 C4: 1\\r\\r 26 T8: 5\\r\\r 27 FT10: 2\\r\\r 28 FC6: 4\\r\\r 29 FC2: 1\\r\\r 30 F4: 3\\r\\r 31 F8: 3\\r\\r 32 FP2: 0\\r\\r 33 AF7: 1\\r\\r 34 AF3: 3\\r\\r 35 AFz: 0\\r\\r 36 F1: 2\\r\\r 37 F5: 3\\r\\r 38 FT7: 3\\r\\r 39 FC3: Out of Range!\\r\\r 40 FCz: 1\\r\\r 41 C1: 0\\r\\r 42 C5: 5\\r\\r 43 TP7: 3\\r\\r 44 CP3: 6\\r\\r 45 P1: 4\\r\\r 46 P5: 1\\r\\r 47 PO7: 1\\r\\r 48 PO3: 2\\r\\r 49 POz: 6\\r\\r 50 PO4: Out of Range!\\r\\r 51 PO8: 3\\r\\r 52 P6: 4\\r\\r 53 P2: 3\\r\\r 54 CPz: 3\\r\\r 55 CP4: 4\\r\\r 56 TP8: 4\\r\\r 57 C6: 1\\r\\r 58 C2: 1\\r\\r 59 FC4: 3\\r\\r 60 FT8: 0\\r\\r 61 F6: 3\\r\\r 62 F2: 1\\r\\r 63 AF4: 0\\r\\r 64 AF8: 3\\r\\rGND: 2' Contact MNE-Developers for support."
     ]
    }
   ],
   "source": [
    "#define the input and output path\n",
    "raw_fname=('RawData/eeg/')\n",
    "subjectlist=os.listdir(raw_fname)\n",
    "out_path=('raw_fif/')\n",
    "\n",
    "subject = 'sub7'\n",
    "montage = mne.channels.read_montage('standard_1020')#read montage\n",
    "raw_name_path = os.path.join(raw_fname,subject)\n",
    "block1_fname = (raw_name_path + '/' + subject + '_Moral_asso_1.vhdr')#define path of block 1\n",
    "raw = mne.io.read_raw_brainvision(block1_fname, montage, preload=True)\n",
    "for i in range(2,10):#read block 2 to block9  and append them to block1\n",
    "    block_path = (subject +'_Moral_asso_'+str(i)+'.vhdr')\n",
    "    print(block_path)\n",
    "    \n",
    "    eeg_path = os.path.join(raw_name_path, block_path)\n",
    "    \n",
    "    raw1 = mne.io.read_raw_brainvision(eeg_path, montage, preload=True)\n",
    "    \n",
    "    mne.io.Raw.append(self=raw, raws=raw1)\n",
    "\n",
    "if len(subject) == 4:  #change the subject name from sub6 to sub06 and save them as fif\n",
    "    d = list(subject)\n",
    "    d.insert(3,'0')\n",
    "    subject1 = \"\".join(d)\n",
    "    raw.save('raw_fif/'+subject1+'_raw.fif',overwrite=True)\n",
    "elif len(subject) == 5:\n",
    "    raw.save('raw_fif/'+subject1+'_raw.fif',overwrite=True)"
   ]
  },
  {
   "cell_type": "code",
   "execution_count": 4,
   "metadata": {},
   "outputs": [
    {
     "name": "stdout",
     "output_type": "stream",
     "text": [
      "Extracting parameters from RawData/eeg/sub10/sub10_Moral_asso_1.vhdr...\n",
      "Setting channel info structure...\n",
      "Reading 0 ... 160949  =      0.000 ...   321.898 secs...\n"
     ]
    },
    {
     "name": "stderr",
     "output_type": "stream",
     "text": [
      "/media/hcp4715/study/Py_Envs/Py_MNE/lib/python3.6/site-packages/mne/utils/docs.py:824: DeprecationWarning: Function read_montage is deprecated; ``read_montage`` is deprecated and will be removed in v0.20. Please use ``read_dig_fif``, ``read_dig_egi``, ``read_custom_montage``, or ``read_dig_captrack`` to read a digitization based on your needs instead; or ``make_standard_montage`` to create ``DigMontage`` based on template; or ``make_dig_montage`` to create a ``DigMontage`` out of np.arrays\n",
      "  warnings.warn(msg, category=DeprecationWarning)\n",
      "/media/hcp4715/study/Py_Envs/Py_MNE/lib/python3.6/site-packages/mne/utils/docs.py:807: DeprecationWarning: Class Montage is deprecated; Montage class is deprecated and will be removed in v0.20. Please use DigMontage instead.\n",
      "  warnings.warn(msg, category=DeprecationWarning)\n"
     ]
    },
    {
     "name": "stdout",
     "output_type": "stream",
     "text": [
      "Extracting parameters from RawData/eeg/sub10/sub10_Moral_asso_2.vhdr...\n",
      "Setting channel info structure...\n",
      "Reading 0 ... 163574  =      0.000 ...   327.148 secs...\n"
     ]
    },
    {
     "name": "stderr",
     "output_type": "stream",
     "text": [
      "<ipython-input-4-a0cc1c3abbac>:5: DeprecationWarning: Setting a montage using anything rather than DigMontage is deprecated and will raise an error in v0.20. Please use ``read_dig_fif``, ``read_dig_egi``, ``read_dig_polhemus_isotrak``, or ``read_dig_captrack`` ``read_dig_hpts``, ``read_dig_captrack`` or ``read_custom_montage`` to read a digitization based on your needs instead; or ``make_standard_montage`` to create ``DigMontage`` based on template; or ``make_dig_montage`` to create a ``DigMontage`` out of np.arrays.\n",
      "  raw=mne.io.read_raw_brainvision(block1_fname,montage,preload=True)# read .vhdr as mne raw instance\n",
      "<ipython-input-4-a0cc1c3abbac>:5: DeprecationWarning: The `montage` parameter from `read_raw_brainvision` is deprecated and will be removed  in version 0.20. Use  raw.set_montage(montage) instead.\n",
      "  raw=mne.io.read_raw_brainvision(block1_fname,montage,preload=True)# read .vhdr as mne raw instance\n"
     ]
    },
    {
     "name": "stdout",
     "output_type": "stream",
     "text": [
      "Extracting parameters from RawData/eeg/sub10/sub10_Moral_asso_3.vhdr...\n",
      "Setting channel info structure...\n",
      "Reading 0 ... 161399  =      0.000 ...   322.798 secs...\n"
     ]
    },
    {
     "name": "stderr",
     "output_type": "stream",
     "text": [
      "<ipython-input-4-a0cc1c3abbac>:9: DeprecationWarning: Setting a montage using anything rather than DigMontage is deprecated and will raise an error in v0.20. Please use ``read_dig_fif``, ``read_dig_egi``, ``read_dig_polhemus_isotrak``, or ``read_dig_captrack`` ``read_dig_hpts``, ``read_dig_captrack`` or ``read_custom_montage`` to read a digitization based on your needs instead; or ``make_standard_montage`` to create ``DigMontage`` based on template; or ``make_dig_montage`` to create a ``DigMontage`` out of np.arrays.\n",
      "  raw1=mne.io.read_raw_brainvision(eeg_path,montage,preload=True)\n",
      "<ipython-input-4-a0cc1c3abbac>:9: DeprecationWarning: The `montage` parameter from `read_raw_brainvision` is deprecated and will be removed  in version 0.20. Use  raw.set_montage(montage) instead.\n",
      "  raw1=mne.io.read_raw_brainvision(eeg_path,montage,preload=True)\n"
     ]
    },
    {
     "name": "stdout",
     "output_type": "stream",
     "text": [
      "Extracting parameters from RawData/eeg/sub10/sub10_Moral_asso_4.vhdr...\n",
      "Setting channel info structure...\n",
      "Reading 0 ... 179574  =      0.000 ...   359.148 secs...\n"
     ]
    },
    {
     "name": "stderr",
     "output_type": "stream",
     "text": [
      "<ipython-input-4-a0cc1c3abbac>:9: DeprecationWarning: Setting a montage using anything rather than DigMontage is deprecated and will raise an error in v0.20. Please use ``read_dig_fif``, ``read_dig_egi``, ``read_dig_polhemus_isotrak``, or ``read_dig_captrack`` ``read_dig_hpts``, ``read_dig_captrack`` or ``read_custom_montage`` to read a digitization based on your needs instead; or ``make_standard_montage`` to create ``DigMontage`` based on template; or ``make_dig_montage`` to create a ``DigMontage`` out of np.arrays.\n",
      "  raw1=mne.io.read_raw_brainvision(eeg_path,montage,preload=True)\n",
      "<ipython-input-4-a0cc1c3abbac>:9: DeprecationWarning: The `montage` parameter from `read_raw_brainvision` is deprecated and will be removed  in version 0.20. Use  raw.set_montage(montage) instead.\n",
      "  raw1=mne.io.read_raw_brainvision(eeg_path,montage,preload=True)\n"
     ]
    },
    {
     "name": "stdout",
     "output_type": "stream",
     "text": [
      "Extracting parameters from RawData/eeg/sub10/sub10_Moral_asso_5.vhdr...\n",
      "Setting channel info structure...\n",
      "Reading 0 ... 161624  =      0.000 ...   323.248 secs...\n"
     ]
    },
    {
     "name": "stderr",
     "output_type": "stream",
     "text": [
      "<ipython-input-4-a0cc1c3abbac>:9: DeprecationWarning: Setting a montage using anything rather than DigMontage is deprecated and will raise an error in v0.20. Please use ``read_dig_fif``, ``read_dig_egi``, ``read_dig_polhemus_isotrak``, or ``read_dig_captrack`` ``read_dig_hpts``, ``read_dig_captrack`` or ``read_custom_montage`` to read a digitization based on your needs instead; or ``make_standard_montage`` to create ``DigMontage`` based on template; or ``make_dig_montage`` to create a ``DigMontage`` out of np.arrays.\n",
      "  raw1=mne.io.read_raw_brainvision(eeg_path,montage,preload=True)\n",
      "<ipython-input-4-a0cc1c3abbac>:9: DeprecationWarning: The `montage` parameter from `read_raw_brainvision` is deprecated and will be removed  in version 0.20. Use  raw.set_montage(montage) instead.\n",
      "  raw1=mne.io.read_raw_brainvision(eeg_path,montage,preload=True)\n"
     ]
    },
    {
     "name": "stdout",
     "output_type": "stream",
     "text": [
      "Extracting parameters from RawData/eeg/sub10/sub10_Moral_asso_6.vhdr...\n",
      "Setting channel info structure...\n",
      "Reading 0 ... 163524  =      0.000 ...   327.048 secs...\n"
     ]
    },
    {
     "name": "stderr",
     "output_type": "stream",
     "text": [
      "<ipython-input-4-a0cc1c3abbac>:9: DeprecationWarning: Setting a montage using anything rather than DigMontage is deprecated and will raise an error in v0.20. Please use ``read_dig_fif``, ``read_dig_egi``, ``read_dig_polhemus_isotrak``, or ``read_dig_captrack`` ``read_dig_hpts``, ``read_dig_captrack`` or ``read_custom_montage`` to read a digitization based on your needs instead; or ``make_standard_montage`` to create ``DigMontage`` based on template; or ``make_dig_montage`` to create a ``DigMontage`` out of np.arrays.\n",
      "  raw1=mne.io.read_raw_brainvision(eeg_path,montage,preload=True)\n",
      "<ipython-input-4-a0cc1c3abbac>:9: DeprecationWarning: The `montage` parameter from `read_raw_brainvision` is deprecated and will be removed  in version 0.20. Use  raw.set_montage(montage) instead.\n",
      "  raw1=mne.io.read_raw_brainvision(eeg_path,montage,preload=True)\n"
     ]
    },
    {
     "name": "stdout",
     "output_type": "stream",
     "text": [
      "Extracting parameters from RawData/eeg/sub10/sub10_Moral_asso_7.vhdr...\n",
      "Setting channel info structure...\n",
      "Reading 0 ... 162499  =      0.000 ...   324.998 secs...\n"
     ]
    },
    {
     "name": "stderr",
     "output_type": "stream",
     "text": [
      "<ipython-input-4-a0cc1c3abbac>:9: DeprecationWarning: Setting a montage using anything rather than DigMontage is deprecated and will raise an error in v0.20. Please use ``read_dig_fif``, ``read_dig_egi``, ``read_dig_polhemus_isotrak``, or ``read_dig_captrack`` ``read_dig_hpts``, ``read_dig_captrack`` or ``read_custom_montage`` to read a digitization based on your needs instead; or ``make_standard_montage`` to create ``DigMontage`` based on template; or ``make_dig_montage`` to create a ``DigMontage`` out of np.arrays.\n",
      "  raw1=mne.io.read_raw_brainvision(eeg_path,montage,preload=True)\n",
      "<ipython-input-4-a0cc1c3abbac>:9: DeprecationWarning: The `montage` parameter from `read_raw_brainvision` is deprecated and will be removed  in version 0.20. Use  raw.set_montage(montage) instead.\n",
      "  raw1=mne.io.read_raw_brainvision(eeg_path,montage,preload=True)\n"
     ]
    },
    {
     "name": "stdout",
     "output_type": "stream",
     "text": [
      "Extracting parameters from RawData/eeg/sub10/sub10_Moral_asso_8.vhdr...\n",
      "Setting channel info structure...\n",
      "Reading 0 ... 160349  =      0.000 ...   320.698 secs...\n"
     ]
    },
    {
     "name": "stderr",
     "output_type": "stream",
     "text": [
      "<ipython-input-4-a0cc1c3abbac>:9: DeprecationWarning: Setting a montage using anything rather than DigMontage is deprecated and will raise an error in v0.20. Please use ``read_dig_fif``, ``read_dig_egi``, ``read_dig_polhemus_isotrak``, or ``read_dig_captrack`` ``read_dig_hpts``, ``read_dig_captrack`` or ``read_custom_montage`` to read a digitization based on your needs instead; or ``make_standard_montage`` to create ``DigMontage`` based on template; or ``make_dig_montage`` to create a ``DigMontage`` out of np.arrays.\n",
      "  raw1=mne.io.read_raw_brainvision(eeg_path,montage,preload=True)\n",
      "<ipython-input-4-a0cc1c3abbac>:9: DeprecationWarning: The `montage` parameter from `read_raw_brainvision` is deprecated and will be removed  in version 0.20. Use  raw.set_montage(montage) instead.\n",
      "  raw1=mne.io.read_raw_brainvision(eeg_path,montage,preload=True)\n"
     ]
    },
    {
     "name": "stdout",
     "output_type": "stream",
     "text": [
      "Extracting parameters from RawData/eeg/sub10/sub10_Moral_asso_9.vhdr...\n",
      "Setting channel info structure...\n",
      "Reading 0 ... 161874  =      0.000 ...   323.748 secs...\n"
     ]
    },
    {
     "name": "stderr",
     "output_type": "stream",
     "text": [
      "<ipython-input-4-a0cc1c3abbac>:9: DeprecationWarning: Setting a montage using anything rather than DigMontage is deprecated and will raise an error in v0.20. Please use ``read_dig_fif``, ``read_dig_egi``, ``read_dig_polhemus_isotrak``, or ``read_dig_captrack`` ``read_dig_hpts``, ``read_dig_captrack`` or ``read_custom_montage`` to read a digitization based on your needs instead; or ``make_standard_montage`` to create ``DigMontage`` based on template; or ``make_dig_montage`` to create a ``DigMontage`` out of np.arrays.\n",
      "  raw1=mne.io.read_raw_brainvision(eeg_path,montage,preload=True)\n",
      "<ipython-input-4-a0cc1c3abbac>:9: DeprecationWarning: The `montage` parameter from `read_raw_brainvision` is deprecated and will be removed  in version 0.20. Use  raw.set_montage(montage) instead.\n",
      "  raw1=mne.io.read_raw_brainvision(eeg_path,montage,preload=True)\n",
      "<ipython-input-4-a0cc1c3abbac>:9: DeprecationWarning: Setting a montage using anything rather than DigMontage is deprecated and will raise an error in v0.20. Please use ``read_dig_fif``, ``read_dig_egi``, ``read_dig_polhemus_isotrak``, or ``read_dig_captrack`` ``read_dig_hpts``, ``read_dig_captrack`` or ``read_custom_montage`` to read a digitization based on your needs instead; or ``make_standard_montage`` to create ``DigMontage`` based on template; or ``make_dig_montage`` to create a ``DigMontage`` out of np.arrays.\n",
      "  raw1=mne.io.read_raw_brainvision(eeg_path,montage,preload=True)\n",
      "<ipython-input-4-a0cc1c3abbac>:9: DeprecationWarning: The `montage` parameter from `read_raw_brainvision` is deprecated and will be removed  in version 0.20. Use  raw.set_montage(montage) instead.\n",
      "  raw1=mne.io.read_raw_brainvision(eeg_path,montage,preload=True)\n"
     ]
    },
    {
     "ename": "NameError",
     "evalue": "name 'subject1' is not defined",
     "output_type": "error",
     "traceback": [
      "\u001b[0;31m---------------------------------------------------------------------------\u001b[0m",
      "\u001b[0;31mNameError\u001b[0m                                 Traceback (most recent call last)",
      "\u001b[0;32m<ipython-input-4-a0cc1c3abbac>\u001b[0m in \u001b[0;36m<module>\u001b[0;34m\u001b[0m\n\u001b[1;32m     15\u001b[0m         \u001b[0mraw\u001b[0m\u001b[0;34m.\u001b[0m\u001b[0msave\u001b[0m\u001b[0;34m(\u001b[0m\u001b[0;34m'raw_fif/'\u001b[0m\u001b[0;34m+\u001b[0m\u001b[0msubject1\u001b[0m\u001b[0;34m+\u001b[0m\u001b[0;34m'_raw.fif'\u001b[0m\u001b[0;34m,\u001b[0m\u001b[0moverwrite\u001b[0m\u001b[0;34m=\u001b[0m\u001b[0;32mTrue\u001b[0m\u001b[0;34m)\u001b[0m\u001b[0;34m\u001b[0m\u001b[0;34m\u001b[0m\u001b[0m\n\u001b[1;32m     16\u001b[0m     \u001b[0;32melif\u001b[0m \u001b[0mlen\u001b[0m\u001b[0;34m(\u001b[0m\u001b[0msubject\u001b[0m\u001b[0;34m)\u001b[0m\u001b[0;34m==\u001b[0m\u001b[0;36m5\u001b[0m\u001b[0;34m:\u001b[0m\u001b[0;34m\u001b[0m\u001b[0;34m\u001b[0m\u001b[0m\n\u001b[0;32m---> 17\u001b[0;31m         \u001b[0mraw\u001b[0m\u001b[0;34m.\u001b[0m\u001b[0msave\u001b[0m\u001b[0;34m(\u001b[0m\u001b[0;34m'raw_fif/'\u001b[0m\u001b[0;34m+\u001b[0m\u001b[0msubject1\u001b[0m\u001b[0;34m+\u001b[0m\u001b[0;34m'_raw.fif'\u001b[0m\u001b[0;34m,\u001b[0m\u001b[0moverwrite\u001b[0m\u001b[0;34m=\u001b[0m\u001b[0;32mTrue\u001b[0m\u001b[0;34m)\u001b[0m\u001b[0;34m\u001b[0m\u001b[0;34m\u001b[0m\u001b[0m\n\u001b[0m",
      "\u001b[0;31mNameError\u001b[0m: name 'subject1' is not defined"
     ]
    }
   ],
   "source": [
    "for subject in subjectlist:\n",
    "    montage = mne.channels.read_montage('standard_1020')#read montage\n",
    "    raw_name_path = os.path.join(raw_fname,subject)\n",
    "    block1_fname = (raw_name_path + '/' +subject + '_Moral_asso_1.vhdr')#define path of block 1\n",
    "    raw = mne.io.read_raw_brainvision(block1_fname, montage, preload=True)# read .vhdr as mne raw instance\n",
    "    for i in range(2,10):#read block 2 to block9  and append them to block1\n",
    "        block_path = (subject +'_Moral_asso_'+str(i)+'.vhdr')\n",
    "        eeg_path = os.path.join(raw_name_path,block_path)\n",
    "        raw1 = mne.io.read_raw_brainvision(eeg_path,montage,preload=True)\n",
    "        mne.io.Raw.append(self=raw, raws=raw1)\n",
    "        \n",
    "    if len(subject)==4:  #change the subject name from sub6 to sub06 and save them as fif\n",
    "        d = list(subject)\n",
    "        d.insert(3,'0')\n",
    "        subject1 = \"\".join(d)\n",
    "        raw.save('raw_fif/'+subject1+'_raw.fif',overwrite=True)\n",
    "    elif len(subject) == 5:\n",
    "        raw.save('raw_fif/'+subject1+'_raw.fif',overwrite=True)"
   ]
  }
 ],
 "metadata": {
  "kernelspec": {
   "display_name": "Python 3",
   "language": "python",
   "name": "python3"
  },
  "language_info": {
   "codemirror_mode": {
    "name": "ipython",
    "version": 3
   },
   "file_extension": ".py",
   "mimetype": "text/x-python",
   "name": "python",
   "nbconvert_exporter": "python",
   "pygments_lexer": "ipython3",
   "version": "3.6.8"
  }
 },
 "nbformat": 4,
 "nbformat_minor": 2
}
