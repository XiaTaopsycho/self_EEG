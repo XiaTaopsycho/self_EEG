{
 "cells": [
  {
   "cell_type": "code",
   "execution_count": null,
   "metadata": {},
   "outputs": [],
   "source": [
    "%matplotlib qt\n",
    "import mne\n",
    "import os\n",
    "from mne.preprocessing import ICA\n",
    "import sys\n",
    "print('Python v{}'.format(sys.version))\n",
    "print('MNE v{}'.format(mne.__version__))"
   ]
  },
  {
   "cell_type": "code",
   "execution_count": null,
   "metadata": {},
   "outputs": [],
   "source": [
    "epochs_fname=('epochs_fif/')#define raw file name\n",
    "subjectlist=os.listdir(epochs_fname)#get each subject name\n",
    "#os.makedirs('ica_fif/')"
   ]
  },
  {
   "cell_type": "code",
   "execution_count": null,
   "metadata": {},
   "outputs": [],
   "source": [
    "NB_list,NG_list,NN_list=list(),list(),list()\n",
    "YB_list,YG_list,YN_list=list(),list(),list()"
   ]
  },
  {
   "cell_type": "code",
   "execution_count": null,
   "metadata": {},
   "outputs": [],
   "source": [
    "for subject in subjectlist:#loop with subject\n",
    "    epochs_name_path=os.path.join(epochs_fname,subject)#Concatenate file name \n",
    "    epochs=mne.read_epochs(epochs_name_path,preload=True)#read epochs\n",
    "    ica = ICA(n_components=20, max_pca_components=20, \n",
    "              method='fastica',random_state=98).fit(epochs)#run ica base on first 20 PCA components \n",
    "    ica.plot_sources(epochs,block=True)#plot 20 ICA components and remove artifacts EOG and ECG\n",
    "    ica.apply(epochs)#apply ICA to epochs\n",
    "    epochs.apply_baseline(None,0)#baseline correction\n",
    "    No_Bad,No_Good,No_Normal=epochs['No_Bad'],epochs['No_Good'],epochs['No_Normal']\n",
    "    Yes_Bad,Yes_Good,Yes_Normal=epochs['Yes_Bad'],epochs['Yes_Good'],epochs['Yes_Normal']#create epochs for each condition\n",
    "    NB_list.append(No_Bad.average())#create evoked list for each condition\n",
    "    NG_list.append(No_Good.average())\n",
    "    NN_list.append(No_Normal.average())\n",
    "    YB_list.append(Yes_Bad.average())\n",
    "    YG_list.append(Yes_Good.average())\n",
    "    YN_list.append(Yes_Normal.average())"
   ]
  },
  {
   "cell_type": "code",
   "execution_count": null,
   "metadata": {},
   "outputs": [],
   "source": [
    "picks = [epochs.ch_names.index(ch) for ch in [\"PO4\",\"PO3\",\"PO7\",\"PO8\"]]#define electrode of interest\n",
    "condition_index={'No_Bad':NB_list,'No_Good':NG_list,'No_Normal':NN_list,\n",
    "                'Yes_Bad':YB_list,'Yes_Good':YG_list,'Yes_Normal':YN_list} #set parameter for plot ERP"
   ]
  },
  {
   "cell_type": "code",
   "execution_count": null,
   "metadata": {},
   "outputs": [],
   "source": [
    "mne.viz.plot_compare_evokeds(condition_index,picks=picks,ci=None,legend='lower right',show_sensors='upper right')#plot compared ERP  "
   ]
  }
 ],
 "metadata": {
  "kernelspec": {
   "display_name": "Python 3",
   "language": "python",
   "name": "python3"
  },
  "language_info": {
   "codemirror_mode": {
    "name": "ipython",
    "version": 3
   },
   "file_extension": ".py",
   "mimetype": "text/x-python",
   "name": "python",
   "nbconvert_exporter": "python",
   "pygments_lexer": "ipython3",
   "version": "3.7.4"
  }
 },
 "nbformat": 4,
 "nbformat_minor": 2
}
