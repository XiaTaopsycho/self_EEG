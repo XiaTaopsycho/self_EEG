{
 "cells": [
  {
   "cell_type": "code",
   "execution_count": null,
   "metadata": {},
   "outputs": [],
   "source": [
    "%matplotlib qt\n",
    "import mne\n",
    "import os\n",
    "import sys\n",
    "print('Python v{}'.format(sys.version))\n",
    "print('MNE v{}'.format(mne.__version__))"
   ]
  },
  {
   "cell_type": "code",
   "execution_count": null,
   "metadata": {},
   "outputs": [],
   "source": [
    "raw_fname=('raw_fif/')#define raw file name\n",
    "subjectlist=os.listdir(raw_fname)#get each subject name\n",
    "os.makedirs('epochs_fif/')"
   ]
  },
  {
   "cell_type": "code",
   "execution_count": null,
   "metadata": {},
   "outputs": [],
   "source": [
    "for subject in subjectlist:#loop with subject\n",
    "    montage=mne.channels.read_montage('standard_1020')#read montage\n",
    "    raw_name_path=os.path.join(raw_fname,subject)#Concatenate file name \n",
    "    raw=mne.io.read_raw_fif(raw_name_path,montage,preload=True)\n",
    "    raw.filter(0.5,None,fir_design='firwin')#high pass filter with fir filter\n",
    "    raw.filter(None,40,fir_design='firwin')#low pass filter  with fir filter\n",
    "    events,events_id=mne.events_from_annotations(raw,event_id='auto')#read events from raw annotations\n",
    "    event_id = {'No_Bad':10,'No_Good':12,'No_Normal':14,'Yes_Bad':11,'Yes_Good':13,'Yes_Normal':15}#define events and events_id\n",
    "    events = mne.pick_events(events, include=[10,12,14,11,13,15])#pick events that we interested\n",
    "    epochs = mne.Epochs(raw,events,event_id=event_id,baseline=None,\n",
    "                        preload=True,tmin=-0.3,tmax=0.55,reject=dict(eeg=300e-6),\n",
    "                       flat=dict(eeg=1e-6))#epoch and reject those larger than 300 lower than 1 micro \n",
    "    epochs.save('epochs_fif/'+subject[0:6] +'-epo.fif',overwrite=True)#save epochs \n"
   ]
  },
  {
   "cell_type": "code",
   "execution_count": null,
   "metadata": {},
   "outputs": [],
   "source": []
  }
 ],
 "metadata": {
  "kernelspec": {
   "display_name": "Python 3",
   "language": "python",
   "name": "python3"
  },
  "language_info": {
   "codemirror_mode": {
    "name": "ipython",
    "version": 3
   },
   "file_extension": ".py",
   "mimetype": "text/x-python",
   "name": "python",
   "nbconvert_exporter": "python",
   "pygments_lexer": "ipython3",
   "version": "3.7.4"
  }
 },
 "nbformat": 4,
 "nbformat_minor": 2
}
