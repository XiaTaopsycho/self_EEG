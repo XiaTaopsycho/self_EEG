{
 "cells": [
  {
   "cell_type": "code",
   "execution_count": 5,
   "metadata": {},
   "outputs": [],
   "source": [
    "import mne\n",
    "import os\n",
    "%matplotlib qt"
   ]
  },
  {
   "cell_type": "code",
   "execution_count": 11,
   "metadata": {},
   "outputs": [],
   "source": [
    "#define raw path name\n",
    "raw_fname1=('RawData/eeg/sub29/sub_Moral_asso_1.vhdr')\n",
    "raw_fname2=('RawData/eeg/sub29/sub29_Moral_asso_10.vhdr')\n",
    "raw_fname3=('RawData/eeg/sub29/sub29_Moral_asso_9.1.vhdr')\n",
    "raw_fname4=('RawData/eeg/sub29/sub29_Moral_asso_9.vhdr')\n",
    "raw_fname5=('RawData/eeg/sub29/sub29_Moral_asso_2.vhdr')"
   ]
  },
  {
   "cell_type": "code",
   "execution_count": 12,
   "metadata": {},
   "outputs": [
    {
     "name": "stderr",
     "output_type": "stream",
     "text": [
      "/media/hcp4715/study/Py_Envs/Py_MNE/lib/python3.6/site-packages/mne/utils/docs.py:824: DeprecationWarning: Function read_montage is deprecated; ``read_montage`` is deprecated and will be removed in v0.20. Please use ``read_dig_fif``, ``read_dig_egi``, ``read_custom_montage``, or ``read_dig_captrack`` to read a digitization based on your needs instead; or ``make_standard_montage`` to create ``DigMontage`` based on template; or ``make_dig_montage`` to create a ``DigMontage`` out of np.arrays\n",
      "  warnings.warn(msg, category=DeprecationWarning)\n",
      "/media/hcp4715/study/Py_Envs/Py_MNE/lib/python3.6/site-packages/mne/utils/docs.py:807: DeprecationWarning: Class Montage is deprecated; Montage class is deprecated and will be removed in v0.20. Please use DigMontage instead.\n",
      "  warnings.warn(msg, category=DeprecationWarning)\n"
     ]
    }
   ],
   "source": [
    "#define montage\n",
    "montage=mne.channels.read_montage('standard_1020')\n"
   ]
  },
  {
   "cell_type": "code",
   "execution_count": 13,
   "metadata": {},
   "outputs": [
    {
     "name": "stdout",
     "output_type": "stream",
     "text": [
      "Extracting parameters from RawData/eeg/sub29/sub_Moral_asso_1.vhdr...\n",
      "Setting channel info structure...\n",
      "Reading 0 ... 160949  =      0.000 ...   321.898 secs...\n",
      "Extracting parameters from RawData/eeg/sub29/sub29_Moral_asso_10.vhdr...\n",
      "Setting channel info structure...\n",
      "Reading 0 ... 162199  =      0.000 ...   324.398 secs...\n",
      "Extracting parameters from RawData/eeg/sub29/sub29_Moral_asso_9.1.vhdr...\n",
      "Setting channel info structure...\n",
      "Reading 0 ... 129349  =      0.000 ...   258.698 secs...\n"
     ]
    },
    {
     "name": "stderr",
     "output_type": "stream",
     "text": [
      "<ipython-input-13-4a73cb570cbc>:2: DeprecationWarning: Setting a montage using anything rather than DigMontage is deprecated and will raise an error in v0.20. Please use ``read_dig_fif``, ``read_dig_egi``, ``read_dig_polhemus_isotrak``, or ``read_dig_captrack`` ``read_dig_hpts``, ``read_dig_captrack`` or ``read_custom_montage`` to read a digitization based on your needs instead; or ``make_standard_montage`` to create ``DigMontage`` based on template; or ``make_dig_montage`` to create a ``DigMontage`` out of np.arrays.\n",
      "  raw1=mne.io.read_raw_brainvision(raw_fname1,montage,preload=True)\n",
      "<ipython-input-13-4a73cb570cbc>:2: DeprecationWarning: The `montage` parameter from `read_raw_brainvision` is deprecated and will be removed  in version 0.20. Use  raw.set_montage(montage) instead.\n",
      "  raw1=mne.io.read_raw_brainvision(raw_fname1,montage,preload=True)\n",
      "<ipython-input-13-4a73cb570cbc>:3: DeprecationWarning: Setting a montage using anything rather than DigMontage is deprecated and will raise an error in v0.20. Please use ``read_dig_fif``, ``read_dig_egi``, ``read_dig_polhemus_isotrak``, or ``read_dig_captrack`` ``read_dig_hpts``, ``read_dig_captrack`` or ``read_custom_montage`` to read a digitization based on your needs instead; or ``make_standard_montage`` to create ``DigMontage`` based on template; or ``make_dig_montage`` to create a ``DigMontage`` out of np.arrays.\n",
      "  raw2=mne.io.read_raw_brainvision(raw_fname2,montage,preload=True)\n",
      "<ipython-input-13-4a73cb570cbc>:3: DeprecationWarning: The `montage` parameter from `read_raw_brainvision` is deprecated and will be removed  in version 0.20. Use  raw.set_montage(montage) instead.\n",
      "  raw2=mne.io.read_raw_brainvision(raw_fname2,montage,preload=True)\n"
     ]
    },
    {
     "name": "stdout",
     "output_type": "stream",
     "text": [
      "Extracting parameters from RawData/eeg/sub29/sub29_Moral_asso_9.vhdr...\n",
      "Setting channel info structure...\n",
      "Reading 0 ... 80699  =      0.000 ...   161.398 secs...\n",
      "Extracting parameters from RawData/eeg/sub29/sub29_Moral_asso_2.vhdr...\n",
      "Setting channel info structure...\n",
      "Reading 0 ... 155899  =      0.000 ...   311.798 secs...\n"
     ]
    },
    {
     "name": "stderr",
     "output_type": "stream",
     "text": [
      "<ipython-input-13-4a73cb570cbc>:4: DeprecationWarning: Setting a montage using anything rather than DigMontage is deprecated and will raise an error in v0.20. Please use ``read_dig_fif``, ``read_dig_egi``, ``read_dig_polhemus_isotrak``, or ``read_dig_captrack`` ``read_dig_hpts``, ``read_dig_captrack`` or ``read_custom_montage`` to read a digitization based on your needs instead; or ``make_standard_montage`` to create ``DigMontage`` based on template; or ``make_dig_montage`` to create a ``DigMontage`` out of np.arrays.\n",
      "  raw3=mne.io.read_raw_brainvision(raw_fname3,montage,preload=True)\n",
      "<ipython-input-13-4a73cb570cbc>:4: DeprecationWarning: The `montage` parameter from `read_raw_brainvision` is deprecated and will be removed  in version 0.20. Use  raw.set_montage(montage) instead.\n",
      "  raw3=mne.io.read_raw_brainvision(raw_fname3,montage,preload=True)\n",
      "<ipython-input-13-4a73cb570cbc>:5: DeprecationWarning: Setting a montage using anything rather than DigMontage is deprecated and will raise an error in v0.20. Please use ``read_dig_fif``, ``read_dig_egi``, ``read_dig_polhemus_isotrak``, or ``read_dig_captrack`` ``read_dig_hpts``, ``read_dig_captrack`` or ``read_custom_montage`` to read a digitization based on your needs instead; or ``make_standard_montage`` to create ``DigMontage`` based on template; or ``make_dig_montage`` to create a ``DigMontage`` out of np.arrays.\n",
      "  raw4=mne.io.read_raw_brainvision(raw_fname4,montage,preload=True)\n",
      "<ipython-input-13-4a73cb570cbc>:5: DeprecationWarning: The `montage` parameter from `read_raw_brainvision` is deprecated and will be removed  in version 0.20. Use  raw.set_montage(montage) instead.\n",
      "  raw4=mne.io.read_raw_brainvision(raw_fname4,montage,preload=True)\n",
      "<ipython-input-13-4a73cb570cbc>:6: DeprecationWarning: Setting a montage using anything rather than DigMontage is deprecated and will raise an error in v0.20. Please use ``read_dig_fif``, ``read_dig_egi``, ``read_dig_polhemus_isotrak``, or ``read_dig_captrack`` ``read_dig_hpts``, ``read_dig_captrack`` or ``read_custom_montage`` to read a digitization based on your needs instead; or ``make_standard_montage`` to create ``DigMontage`` based on template; or ``make_dig_montage`` to create a ``DigMontage`` out of np.arrays.\n",
      "  raw5=mne.io.read_raw_brainvision(raw_fname5,montage,preload=True)\n",
      "<ipython-input-13-4a73cb570cbc>:6: DeprecationWarning: The `montage` parameter from `read_raw_brainvision` is deprecated and will be removed  in version 0.20. Use  raw.set_montage(montage) instead.\n",
      "  raw5=mne.io.read_raw_brainvision(raw_fname5,montage,preload=True)\n"
     ]
    }
   ],
   "source": [
    "#read each bolck data\n",
    "raw1=mne.io.read_raw_brainvision(raw_fname1,montage,preload=True)\n",
    "raw2=mne.io.read_raw_brainvision(raw_fname2,montage,preload=True)\n",
    "raw3=mne.io.read_raw_brainvision(raw_fname3,montage,preload=True)\n",
    "raw4=mne.io.read_raw_brainvision(raw_fname4,montage,preload=True)\n",
    "raw5=mne.io.read_raw_brainvision(raw_fname5,montage,preload=True)"
   ]
  },
  {
   "cell_type": "code",
   "execution_count": 14,
   "metadata": {},
   "outputs": [
    {
     "name": "stdout",
     "output_type": "stream",
     "text": [
      "Used Annotations descriptions: ['New Segment/', 'Response/R  1', 'Response/R  2', 'Response/R  3', 'Response/R  4', 'Response/R  5', 'Response/R  6', 'Response/R 13', 'Response/R 14', 'Stimulus/S  3', 'Stimulus/S  5', 'Stimulus/S  7', 'Stimulus/S  9', 'Stimulus/S 11', 'Stimulus/S 13', 'Stimulus/S 15']\n",
      "Used Annotations descriptions: ['New Segment/', 'Response/R  1', 'Response/R  2', 'Response/R  3', 'Response/R  4', 'Response/R  5', 'Response/R  6', 'Response/R 13', 'Response/R 14', 'Stimulus/S  3', 'Stimulus/S  5', 'Stimulus/S  7', 'Stimulus/S  9', 'Stimulus/S 11', 'Stimulus/S 13', 'Stimulus/S 15']\n",
      "Used Annotations descriptions: ['New Segment/', 'Response/R  1', 'Response/R  2', 'Response/R  3', 'Response/R  4', 'Response/R  5', 'Response/R  6', 'Response/R 13', 'Response/R 14', 'Response/R 15', 'Stimulus/S  3', 'Stimulus/S  5', 'Stimulus/S  7', 'Stimulus/S  9', 'Stimulus/S 11', 'Stimulus/S 13', 'Stimulus/S 15']\n",
      "Used Annotations descriptions: ['New Segment/', 'Response/R  1', 'Response/R  2', 'Response/R  3', 'Response/R  4', 'Response/R  5', 'Response/R  6', 'Response/R 13', 'Response/R 14', 'Stimulus/S  3', 'Stimulus/S  5', 'Stimulus/S  7', 'Stimulus/S  9', 'Stimulus/S 11', 'Stimulus/S 13', 'Stimulus/S 15']\n",
      "Used Annotations descriptions: ['New Segment/', 'Response/R  1', 'Response/R  2', 'Response/R  3', 'Response/R  4', 'Response/R  5', 'Response/R  6', 'Response/R 13', 'Response/R 14', 'Stimulus/S  3', 'Stimulus/S  5', 'Stimulus/S  7', 'Stimulus/S  9', 'Stimulus/S 11', 'Stimulus/S 13', 'Stimulus/S 15']\n"
     ]
    }
   ],
   "source": [
    "#find events from annoatations\n",
    "events1,events_id1=mne.events_from_annotations(raw1,event_id='auto') \n",
    "events2,events_id2=mne.events_from_annotations(raw2,event_id='auto') \n",
    "events3,events_id3=mne.events_from_annotations(raw3,event_id='auto') \n",
    "events4,events_id4=mne.events_from_annotations(raw4,event_id='auto') \n",
    "events5,events_id5=mne.events_from_annotations(raw5,event_id='auto') "
   ]
  },
  {
   "cell_type": "code",
   "execution_count": 15,
   "metadata": {},
   "outputs": [
    {
     "name": "stderr",
     "output_type": "stream",
     "text": [
      "<ipython-input-15-869eb4650b62>:2: RuntimeWarning: More events than colors available. You should pass a list of unique colors.\n",
      "  fig1=mne.viz.plot_events(events=events1,event_id=events_id1,sfreq=raw1.info['sfreq'])\n",
      "<ipython-input-15-869eb4650b62>:3: RuntimeWarning: More events than colors available. You should pass a list of unique colors.\n",
      "  fig2=mne.viz.plot_events(events=events2,event_id=events_id2,sfreq=raw2.info['sfreq'])\n",
      "<ipython-input-15-869eb4650b62>:4: RuntimeWarning: More events than colors available. You should pass a list of unique colors.\n",
      "  fig3=mne.viz.plot_events(events=events3,event_id=events_id3,sfreq=raw3.info['sfreq'])\n",
      "<ipython-input-15-869eb4650b62>:5: RuntimeWarning: More events than colors available. You should pass a list of unique colors.\n",
      "  fig4=mne.viz.plot_events(events=events4,event_id=events_id4,sfreq=raw4.info['sfreq'])\n",
      "<ipython-input-15-869eb4650b62>:6: RuntimeWarning: More events than colors available. You should pass a list of unique colors.\n",
      "  fig5=mne.viz.plot_events(events=events5,event_id=events_id5,sfreq=raw5.info['sfreq'])\n"
     ]
    }
   ],
   "source": [
    "#plot events and compare\n",
    "fig1=mne.viz.plot_events(events=events1,event_id=events_id1,sfreq=raw1.info['sfreq'])\n",
    "fig2=mne.viz.plot_events(events=events2,event_id=events_id2,sfreq=raw2.info['sfreq'])\n",
    "fig3=mne.viz.plot_events(events=events3,event_id=events_id3,sfreq=raw3.info['sfreq'])\n",
    "fig4=mne.viz.plot_events(events=events4,event_id=events_id4,sfreq=raw4.info['sfreq'])\n",
    "fig5=mne.viz.plot_events(events=events5,event_id=events_id5,sfreq=raw5.info['sfreq'])"
   ]
  }
 ],
 "metadata": {
  "kernelspec": {
   "display_name": "Python 3",
   "language": "python",
   "name": "python3"
  },
  "language_info": {
   "codemirror_mode": {
    "name": "ipython",
    "version": 3
   },
   "file_extension": ".py",
   "mimetype": "text/x-python",
   "name": "python",
   "nbconvert_exporter": "python",
   "pygments_lexer": "ipython3",
   "version": "3.6.8"
  }
 },
 "nbformat": 4,
 "nbformat_minor": 2
}
