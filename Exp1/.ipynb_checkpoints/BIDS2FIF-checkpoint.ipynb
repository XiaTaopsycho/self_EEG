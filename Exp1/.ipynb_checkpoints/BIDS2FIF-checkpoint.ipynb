{
 "cells": [
  {
   "cell_type": "markdown",
   "metadata": {},
   "source": [
    "### Step 1.1: BIDS to FIF format"
   ]
  },
  {
   "cell_type": "code",
   "execution_count": 1,
   "metadata": {},
   "outputs": [
    {
     "name": "stdout",
     "output_type": "stream",
     "text": [
      "Python v3.6.8 |Anaconda, Inc.| (default, Dec 30 2018, 01:22:34) \n",
      "[GCC 7.3.0]\n",
      "MNE v0.19.0\n"
     ]
    }
   ],
   "source": [
    "%matplotlib qt\n",
    "import mne\n",
    "import os\n",
    "import sys\n",
    "print('Python v{}'.format(sys.version))\n",
    "print('MNE v{}'.format(mne.__version__))"
   ]
  },
  {
   "cell_type": "code",
   "execution_count": 3,
   "metadata": {},
   "outputs": [],
   "source": [
    "#define the input and output path\n",
    "raw_fname=('BIDS/')\n",
    "subjectlist=os.listdir(raw_fname)\n",
    "\n",
    "# Remove unneccessary files' names from the list\n",
    "subjectlist.remove('participants.tsv')\n",
    "subjectlist.remove('participants.json')\n",
    "subjectlist.remove('dataset_description.json') \n",
    "out_path=os.makedirs('raw_fif/')"
   ]
  },
  {
   "cell_type": "code",
   "execution_count": 4,
   "metadata": {},
   "outputs": [
    {
     "name": "stdout",
     "output_type": "stream",
     "text": [
      "Extracting parameters from BIDS/sub-06/eeg/sub-06_task-Moral_run-01_eeg.vhdr...\n",
      "Setting channel info structure...\n",
      "Reading 0 ... 162149  =      0.000 ...   324.298 secs...\n",
      "Extracting parameters from BIDS/sub-06/eeg/sub-06_task-Moral_run-02_eeg.vhdr...\n",
      "Setting channel info structure...\n",
      "Reading 0 ... 193499  =      0.000 ...   386.998 secs...\n"
     ]
    },
    {
     "name": "stderr",
     "output_type": "stream",
     "text": [
      "/media/hcp4715/study/Py_Envs/Py_MNE/lib/python3.6/site-packages/mne/utils/docs.py:824: DeprecationWarning: Function read_montage is deprecated; ``read_montage`` is deprecated and will be removed in v0.20. Please use ``read_dig_fif``, ``read_dig_egi``, ``read_custom_montage``, or ``read_dig_captrack`` to read a digitization based on your needs instead; or ``make_standard_montage`` to create ``DigMontage`` based on template; or ``make_dig_montage`` to create a ``DigMontage`` out of np.arrays\n",
      "  warnings.warn(msg, category=DeprecationWarning)\n",
      "/media/hcp4715/study/Py_Envs/Py_MNE/lib/python3.6/site-packages/mne/utils/docs.py:807: DeprecationWarning: Class Montage is deprecated; Montage class is deprecated and will be removed in v0.20. Please use DigMontage instead.\n",
      "  warnings.warn(msg, category=DeprecationWarning)\n",
      "<ipython-input-4-54bc8fe59c7b>:5: DeprecationWarning: Setting a montage using anything rather than DigMontage is deprecated and will raise an error in v0.20. Please use ``read_dig_fif``, ``read_dig_egi``, ``read_dig_polhemus_isotrak``, or ``read_dig_captrack`` ``read_dig_hpts``, ``read_dig_captrack`` or ``read_custom_montage`` to read a digitization based on your needs instead; or ``make_standard_montage`` to create ``DigMontage`` based on template; or ``make_dig_montage`` to create a ``DigMontage`` out of np.arrays.\n",
      "  raw = mne.io.read_raw_brainvision(block1_fname, montage, preload=True)   # read .vhdr as mne raw instance\n",
      "<ipython-input-4-54bc8fe59c7b>:5: DeprecationWarning: The `montage` parameter from `read_raw_brainvision` is deprecated and will be removed  in version 0.20. Use  raw.set_montage(montage) instead.\n",
      "  raw = mne.io.read_raw_brainvision(block1_fname, montage, preload=True)   # read .vhdr as mne raw instance\n"
     ]
    },
    {
     "name": "stdout",
     "output_type": "stream",
     "text": [
      "Extracting parameters from BIDS/sub-06/eeg/sub-06_task-Moral_run-03_eeg.vhdr...\n",
      "Setting channel info structure...\n",
      "Reading 0 ... 163199  =      0.000 ...   326.398 secs...\n"
     ]
    },
    {
     "name": "stderr",
     "output_type": "stream",
     "text": [
      "<ipython-input-4-54bc8fe59c7b>:9: DeprecationWarning: Setting a montage using anything rather than DigMontage is deprecated and will raise an error in v0.20. Please use ``read_dig_fif``, ``read_dig_egi``, ``read_dig_polhemus_isotrak``, or ``read_dig_captrack`` ``read_dig_hpts``, ``read_dig_captrack`` or ``read_custom_montage`` to read a digitization based on your needs instead; or ``make_standard_montage`` to create ``DigMontage`` based on template; or ``make_dig_montage`` to create a ``DigMontage`` out of np.arrays.\n",
      "  raw1 = mne.io.read_raw_brainvision(eeg_path,montage,preload=True)\n",
      "<ipython-input-4-54bc8fe59c7b>:9: DeprecationWarning: The `montage` parameter from `read_raw_brainvision` is deprecated and will be removed  in version 0.20. Use  raw.set_montage(montage) instead.\n",
      "  raw1 = mne.io.read_raw_brainvision(eeg_path,montage,preload=True)\n"
     ]
    },
    {
     "name": "stdout",
     "output_type": "stream",
     "text": [
      "Extracting parameters from BIDS/sub-06/eeg/sub-06_task-Moral_run-04_eeg.vhdr...\n",
      "Setting channel info structure...\n",
      "Reading 0 ... 165199  =      0.000 ...   330.398 secs...\n"
     ]
    },
    {
     "name": "stderr",
     "output_type": "stream",
     "text": [
      "<ipython-input-4-54bc8fe59c7b>:9: DeprecationWarning: Setting a montage using anything rather than DigMontage is deprecated and will raise an error in v0.20. Please use ``read_dig_fif``, ``read_dig_egi``, ``read_dig_polhemus_isotrak``, or ``read_dig_captrack`` ``read_dig_hpts``, ``read_dig_captrack`` or ``read_custom_montage`` to read a digitization based on your needs instead; or ``make_standard_montage`` to create ``DigMontage`` based on template; or ``make_dig_montage`` to create a ``DigMontage`` out of np.arrays.\n",
      "  raw1 = mne.io.read_raw_brainvision(eeg_path,montage,preload=True)\n",
      "<ipython-input-4-54bc8fe59c7b>:9: DeprecationWarning: The `montage` parameter from `read_raw_brainvision` is deprecated and will be removed  in version 0.20. Use  raw.set_montage(montage) instead.\n",
      "  raw1 = mne.io.read_raw_brainvision(eeg_path,montage,preload=True)\n"
     ]
    },
    {
     "name": "stdout",
     "output_type": "stream",
     "text": [
      "Extracting parameters from BIDS/sub-06/eeg/sub-06_task-Moral_run-05_eeg.vhdr...\n",
      "Setting channel info structure...\n",
      "Reading 0 ... 203349  =      0.000 ...   406.698 secs...\n"
     ]
    },
    {
     "name": "stderr",
     "output_type": "stream",
     "text": [
      "<ipython-input-4-54bc8fe59c7b>:9: DeprecationWarning: Setting a montage using anything rather than DigMontage is deprecated and will raise an error in v0.20. Please use ``read_dig_fif``, ``read_dig_egi``, ``read_dig_polhemus_isotrak``, or ``read_dig_captrack`` ``read_dig_hpts``, ``read_dig_captrack`` or ``read_custom_montage`` to read a digitization based on your needs instead; or ``make_standard_montage`` to create ``DigMontage`` based on template; or ``make_dig_montage`` to create a ``DigMontage`` out of np.arrays.\n",
      "  raw1 = mne.io.read_raw_brainvision(eeg_path,montage,preload=True)\n",
      "<ipython-input-4-54bc8fe59c7b>:9: DeprecationWarning: The `montage` parameter from `read_raw_brainvision` is deprecated and will be removed  in version 0.20. Use  raw.set_montage(montage) instead.\n",
      "  raw1 = mne.io.read_raw_brainvision(eeg_path,montage,preload=True)\n"
     ]
    },
    {
     "name": "stdout",
     "output_type": "stream",
     "text": [
      "Extracting parameters from BIDS/sub-06/eeg/sub-06_task-Moral_run-06_eeg.vhdr...\n",
      "Setting channel info structure...\n",
      "Reading 0 ... 182049  =      0.000 ...   364.098 secs...\n"
     ]
    },
    {
     "name": "stderr",
     "output_type": "stream",
     "text": [
      "<ipython-input-4-54bc8fe59c7b>:9: DeprecationWarning: Setting a montage using anything rather than DigMontage is deprecated and will raise an error in v0.20. Please use ``read_dig_fif``, ``read_dig_egi``, ``read_dig_polhemus_isotrak``, or ``read_dig_captrack`` ``read_dig_hpts``, ``read_dig_captrack`` or ``read_custom_montage`` to read a digitization based on your needs instead; or ``make_standard_montage`` to create ``DigMontage`` based on template; or ``make_dig_montage`` to create a ``DigMontage`` out of np.arrays.\n",
      "  raw1 = mne.io.read_raw_brainvision(eeg_path,montage,preload=True)\n",
      "<ipython-input-4-54bc8fe59c7b>:9: DeprecationWarning: The `montage` parameter from `read_raw_brainvision` is deprecated and will be removed  in version 0.20. Use  raw.set_montage(montage) instead.\n",
      "  raw1 = mne.io.read_raw_brainvision(eeg_path,montage,preload=True)\n",
      "<ipython-input-4-54bc8fe59c7b>:9: DeprecationWarning: Setting a montage using anything rather than DigMontage is deprecated and will raise an error in v0.20. Please use ``read_dig_fif``, ``read_dig_egi``, ``read_dig_polhemus_isotrak``, or ``read_dig_captrack`` ``read_dig_hpts``, ``read_dig_captrack`` or ``read_custom_montage`` to read a digitization based on your needs instead; or ``make_standard_montage`` to create ``DigMontage`` based on template; or ``make_dig_montage`` to create a ``DigMontage`` out of np.arrays.\n",
      "  raw1 = mne.io.read_raw_brainvision(eeg_path,montage,preload=True)\n",
      "<ipython-input-4-54bc8fe59c7b>:9: DeprecationWarning: The `montage` parameter from `read_raw_brainvision` is deprecated and will be removed  in version 0.20. Use  raw.set_montage(montage) instead.\n",
      "  raw1 = mne.io.read_raw_brainvision(eeg_path,montage,preload=True)\n"
     ]
    },
    {
     "name": "stdout",
     "output_type": "stream",
     "text": [
      "Extracting parameters from BIDS/sub-06/eeg/sub-06_task-Moral_run-07_eeg.vhdr...\n",
      "Setting channel info structure...\n",
      "Reading 0 ... 164824  =      0.000 ...   329.648 secs...\n"
     ]
    },
    {
     "name": "stderr",
     "output_type": "stream",
     "text": [
      "<ipython-input-4-54bc8fe59c7b>:9: DeprecationWarning: Setting a montage using anything rather than DigMontage is deprecated and will raise an error in v0.20. Please use ``read_dig_fif``, ``read_dig_egi``, ``read_dig_polhemus_isotrak``, or ``read_dig_captrack`` ``read_dig_hpts``, ``read_dig_captrack`` or ``read_custom_montage`` to read a digitization based on your needs instead; or ``make_standard_montage`` to create ``DigMontage`` based on template; or ``make_dig_montage`` to create a ``DigMontage`` out of np.arrays.\n",
      "  raw1 = mne.io.read_raw_brainvision(eeg_path,montage,preload=True)\n",
      "<ipython-input-4-54bc8fe59c7b>:9: DeprecationWarning: The `montage` parameter from `read_raw_brainvision` is deprecated and will be removed  in version 0.20. Use  raw.set_montage(montage) instead.\n",
      "  raw1 = mne.io.read_raw_brainvision(eeg_path,montage,preload=True)\n"
     ]
    },
    {
     "name": "stdout",
     "output_type": "stream",
     "text": [
      "Extracting parameters from BIDS/sub-06/eeg/sub-06_task-Moral_run-08_eeg.vhdr...\n",
      "Setting channel info structure...\n",
      "Reading 0 ... 180249  =      0.000 ...   360.498 secs...\n"
     ]
    },
    {
     "name": "stderr",
     "output_type": "stream",
     "text": [
      "<ipython-input-4-54bc8fe59c7b>:9: DeprecationWarning: Setting a montage using anything rather than DigMontage is deprecated and will raise an error in v0.20. Please use ``read_dig_fif``, ``read_dig_egi``, ``read_dig_polhemus_isotrak``, or ``read_dig_captrack`` ``read_dig_hpts``, ``read_dig_captrack`` or ``read_custom_montage`` to read a digitization based on your needs instead; or ``make_standard_montage`` to create ``DigMontage`` based on template; or ``make_dig_montage`` to create a ``DigMontage`` out of np.arrays.\n",
      "  raw1 = mne.io.read_raw_brainvision(eeg_path,montage,preload=True)\n",
      "<ipython-input-4-54bc8fe59c7b>:9: DeprecationWarning: The `montage` parameter from `read_raw_brainvision` is deprecated and will be removed  in version 0.20. Use  raw.set_montage(montage) instead.\n",
      "  raw1 = mne.io.read_raw_brainvision(eeg_path,montage,preload=True)\n"
     ]
    },
    {
     "name": "stdout",
     "output_type": "stream",
     "text": [
      "Extracting parameters from BIDS/sub-06/eeg/sub-06_task-Moral_run-09_eeg.vhdr...\n",
      "Setting channel info structure...\n",
      "Reading 0 ... 166324  =      0.000 ...   332.648 secs...\n"
     ]
    },
    {
     "name": "stderr",
     "output_type": "stream",
     "text": [
      "<ipython-input-4-54bc8fe59c7b>:9: DeprecationWarning: Setting a montage using anything rather than DigMontage is deprecated and will raise an error in v0.20. Please use ``read_dig_fif``, ``read_dig_egi``, ``read_dig_polhemus_isotrak``, or ``read_dig_captrack`` ``read_dig_hpts``, ``read_dig_captrack`` or ``read_custom_montage`` to read a digitization based on your needs instead; or ``make_standard_montage`` to create ``DigMontage`` based on template; or ``make_dig_montage`` to create a ``DigMontage`` out of np.arrays.\n",
      "  raw1 = mne.io.read_raw_brainvision(eeg_path,montage,preload=True)\n",
      "<ipython-input-4-54bc8fe59c7b>:9: DeprecationWarning: The `montage` parameter from `read_raw_brainvision` is deprecated and will be removed  in version 0.20. Use  raw.set_montage(montage) instead.\n",
      "  raw1 = mne.io.read_raw_brainvision(eeg_path,montage,preload=True)\n"
     ]
    },
    {
     "name": "stdout",
     "output_type": "stream",
     "text": [
      "Writing /media/hcp4715/USB1/Data/EEGdata/Analysis_Py/Exp1/raw_fif/sub-06_raw.fif\n",
      "Closing /media/hcp4715/USB1/Data/EEGdata/Analysis_Py/Exp1/raw_fif/sub-06_raw.fif [done]\n",
      "Extracting parameters from BIDS/sub-07/eeg/sub-07_task-Moral_run-01_eeg.vhdr...\n",
      "Setting channel info structure...\n",
      "Reading 0 ... 164749  =      0.000 ...   329.498 secs...\n",
      "Extracting parameters from BIDS/sub-07/eeg/sub-07_task-Moral_run-02_eeg.vhdr...\n",
      "Setting channel info structure...\n",
      "Reading 0 ... 166149  =      0.000 ...   332.298 secs...\n"
     ]
    },
    {
     "name": "stderr",
     "output_type": "stream",
     "text": [
      "/media/hcp4715/study/Py_Envs/Py_MNE/lib/python3.6/site-packages/mne/utils/docs.py:824: DeprecationWarning: Function read_montage is deprecated; ``read_montage`` is deprecated and will be removed in v0.20. Please use ``read_dig_fif``, ``read_dig_egi``, ``read_custom_montage``, or ``read_dig_captrack`` to read a digitization based on your needs instead; or ``make_standard_montage`` to create ``DigMontage`` based on template; or ``make_dig_montage`` to create a ``DigMontage`` out of np.arrays\n",
      "  warnings.warn(msg, category=DeprecationWarning)\n",
      "/media/hcp4715/study/Py_Envs/Py_MNE/lib/python3.6/site-packages/mne/utils/docs.py:807: DeprecationWarning: Class Montage is deprecated; Montage class is deprecated and will be removed in v0.20. Please use DigMontage instead.\n",
      "  warnings.warn(msg, category=DeprecationWarning)\n",
      "<ipython-input-4-54bc8fe59c7b>:5: DeprecationWarning: Setting a montage using anything rather than DigMontage is deprecated and will raise an error in v0.20. Please use ``read_dig_fif``, ``read_dig_egi``, ``read_dig_polhemus_isotrak``, or ``read_dig_captrack`` ``read_dig_hpts``, ``read_dig_captrack`` or ``read_custom_montage`` to read a digitization based on your needs instead; or ``make_standard_montage`` to create ``DigMontage`` based on template; or ``make_dig_montage`` to create a ``DigMontage`` out of np.arrays.\n",
      "  raw = mne.io.read_raw_brainvision(block1_fname, montage, preload=True)   # read .vhdr as mne raw instance\n",
      "<ipython-input-4-54bc8fe59c7b>:5: DeprecationWarning: The `montage` parameter from `read_raw_brainvision` is deprecated and will be removed  in version 0.20. Use  raw.set_montage(montage) instead.\n",
      "  raw = mne.io.read_raw_brainvision(block1_fname, montage, preload=True)   # read .vhdr as mne raw instance\n"
     ]
    },
    {
     "name": "stdout",
     "output_type": "stream",
     "text": [
      "Extracting parameters from BIDS/sub-07/eeg/sub-07_task-Moral_run-03_eeg.vhdr...\n",
      "Setting channel info structure...\n",
      "Reading 0 ... 161849  =      0.000 ...   323.698 secs...\n"
     ]
    },
    {
     "name": "stderr",
     "output_type": "stream",
     "text": [
      "<ipython-input-4-54bc8fe59c7b>:9: DeprecationWarning: Setting a montage using anything rather than DigMontage is deprecated and will raise an error in v0.20. Please use ``read_dig_fif``, ``read_dig_egi``, ``read_dig_polhemus_isotrak``, or ``read_dig_captrack`` ``read_dig_hpts``, ``read_dig_captrack`` or ``read_custom_montage`` to read a digitization based on your needs instead; or ``make_standard_montage`` to create ``DigMontage`` based on template; or ``make_dig_montage`` to create a ``DigMontage`` out of np.arrays.\n",
      "  raw1 = mne.io.read_raw_brainvision(eeg_path,montage,preload=True)\n",
      "<ipython-input-4-54bc8fe59c7b>:9: DeprecationWarning: The `montage` parameter from `read_raw_brainvision` is deprecated and will be removed  in version 0.20. Use  raw.set_montage(montage) instead.\n",
      "  raw1 = mne.io.read_raw_brainvision(eeg_path,montage,preload=True)\n"
     ]
    },
    {
     "name": "stdout",
     "output_type": "stream",
     "text": [
      "Extracting parameters from BIDS/sub-07/eeg/sub-07_task-Moral_run-04_eeg.vhdr...\n",
      "Setting channel info structure...\n",
      "Reading 0 ... 163524  =      0.000 ...   327.048 secs...\n"
     ]
    },
    {
     "name": "stderr",
     "output_type": "stream",
     "text": [
      "<ipython-input-4-54bc8fe59c7b>:9: DeprecationWarning: Setting a montage using anything rather than DigMontage is deprecated and will raise an error in v0.20. Please use ``read_dig_fif``, ``read_dig_egi``, ``read_dig_polhemus_isotrak``, or ``read_dig_captrack`` ``read_dig_hpts``, ``read_dig_captrack`` or ``read_custom_montage`` to read a digitization based on your needs instead; or ``make_standard_montage`` to create ``DigMontage`` based on template; or ``make_dig_montage`` to create a ``DigMontage`` out of np.arrays.\n",
      "  raw1 = mne.io.read_raw_brainvision(eeg_path,montage,preload=True)\n",
      "<ipython-input-4-54bc8fe59c7b>:9: DeprecationWarning: The `montage` parameter from `read_raw_brainvision` is deprecated and will be removed  in version 0.20. Use  raw.set_montage(montage) instead.\n",
      "  raw1 = mne.io.read_raw_brainvision(eeg_path,montage,preload=True)\n"
     ]
    },
    {
     "name": "stdout",
     "output_type": "stream",
     "text": [
      "Extracting parameters from BIDS/sub-07/eeg/sub-07_task-Moral_run-05_eeg.vhdr...\n",
      "Setting channel info structure...\n",
      "Reading 0 ... 164424  =      0.000 ...   328.848 secs...\n"
     ]
    },
    {
     "name": "stderr",
     "output_type": "stream",
     "text": [
      "<ipython-input-4-54bc8fe59c7b>:9: DeprecationWarning: Setting a montage using anything rather than DigMontage is deprecated and will raise an error in v0.20. Please use ``read_dig_fif``, ``read_dig_egi``, ``read_dig_polhemus_isotrak``, or ``read_dig_captrack`` ``read_dig_hpts``, ``read_dig_captrack`` or ``read_custom_montage`` to read a digitization based on your needs instead; or ``make_standard_montage`` to create ``DigMontage`` based on template; or ``make_dig_montage`` to create a ``DigMontage`` out of np.arrays.\n",
      "  raw1 = mne.io.read_raw_brainvision(eeg_path,montage,preload=True)\n",
      "<ipython-input-4-54bc8fe59c7b>:9: DeprecationWarning: The `montage` parameter from `read_raw_brainvision` is deprecated and will be removed  in version 0.20. Use  raw.set_montage(montage) instead.\n",
      "  raw1 = mne.io.read_raw_brainvision(eeg_path,montage,preload=True)\n"
     ]
    },
    {
     "name": "stdout",
     "output_type": "stream",
     "text": [
      "Extracting parameters from BIDS/sub-07/eeg/sub-07_task-Moral_run-06_eeg.vhdr...\n",
      "Setting channel info structure...\n",
      "Reading 0 ... 167174  =      0.000 ...   334.348 secs...\n"
     ]
    },
    {
     "name": "stderr",
     "output_type": "stream",
     "text": [
      "<ipython-input-4-54bc8fe59c7b>:9: DeprecationWarning: Setting a montage using anything rather than DigMontage is deprecated and will raise an error in v0.20. Please use ``read_dig_fif``, ``read_dig_egi``, ``read_dig_polhemus_isotrak``, or ``read_dig_captrack`` ``read_dig_hpts``, ``read_dig_captrack`` or ``read_custom_montage`` to read a digitization based on your needs instead; or ``make_standard_montage`` to create ``DigMontage`` based on template; or ``make_dig_montage`` to create a ``DigMontage`` out of np.arrays.\n",
      "  raw1 = mne.io.read_raw_brainvision(eeg_path,montage,preload=True)\n",
      "<ipython-input-4-54bc8fe59c7b>:9: DeprecationWarning: The `montage` parameter from `read_raw_brainvision` is deprecated and will be removed  in version 0.20. Use  raw.set_montage(montage) instead.\n",
      "  raw1 = mne.io.read_raw_brainvision(eeg_path,montage,preload=True)\n",
      "<ipython-input-4-54bc8fe59c7b>:9: DeprecationWarning: Setting a montage using anything rather than DigMontage is deprecated and will raise an error in v0.20. Please use ``read_dig_fif``, ``read_dig_egi``, ``read_dig_polhemus_isotrak``, or ``read_dig_captrack`` ``read_dig_hpts``, ``read_dig_captrack`` or ``read_custom_montage`` to read a digitization based on your needs instead; or ``make_standard_montage`` to create ``DigMontage`` based on template; or ``make_dig_montage`` to create a ``DigMontage`` out of np.arrays.\n",
      "  raw1 = mne.io.read_raw_brainvision(eeg_path,montage,preload=True)\n",
      "<ipython-input-4-54bc8fe59c7b>:9: DeprecationWarning: The `montage` parameter from `read_raw_brainvision` is deprecated and will be removed  in version 0.20. Use  raw.set_montage(montage) instead.\n",
      "  raw1 = mne.io.read_raw_brainvision(eeg_path,montage,preload=True)\n"
     ]
    },
    {
     "name": "stdout",
     "output_type": "stream",
     "text": [
      "Extracting parameters from BIDS/sub-07/eeg/sub-07_task-Moral_run-07_eeg.vhdr...\n",
      "Setting channel info structure...\n",
      "Reading 0 ... 163374  =      0.000 ...   326.748 secs...\n"
     ]
    },
    {
     "name": "stderr",
     "output_type": "stream",
     "text": [
      "<ipython-input-4-54bc8fe59c7b>:9: DeprecationWarning: Setting a montage using anything rather than DigMontage is deprecated and will raise an error in v0.20. Please use ``read_dig_fif``, ``read_dig_egi``, ``read_dig_polhemus_isotrak``, or ``read_dig_captrack`` ``read_dig_hpts``, ``read_dig_captrack`` or ``read_custom_montage`` to read a digitization based on your needs instead; or ``make_standard_montage`` to create ``DigMontage`` based on template; or ``make_dig_montage`` to create a ``DigMontage`` out of np.arrays.\n",
      "  raw1 = mne.io.read_raw_brainvision(eeg_path,montage,preload=True)\n",
      "<ipython-input-4-54bc8fe59c7b>:9: DeprecationWarning: The `montage` parameter from `read_raw_brainvision` is deprecated and will be removed  in version 0.20. Use  raw.set_montage(montage) instead.\n",
      "  raw1 = mne.io.read_raw_brainvision(eeg_path,montage,preload=True)\n"
     ]
    },
    {
     "name": "stdout",
     "output_type": "stream",
     "text": [
      "Extracting parameters from BIDS/sub-07/eeg/sub-07_task-Moral_run-08_eeg.vhdr...\n",
      "Setting channel info structure...\n",
      "Reading 0 ... 161999  =      0.000 ...   323.998 secs...\n"
     ]
    },
    {
     "name": "stderr",
     "output_type": "stream",
     "text": [
      "<ipython-input-4-54bc8fe59c7b>:9: DeprecationWarning: Setting a montage using anything rather than DigMontage is deprecated and will raise an error in v0.20. Please use ``read_dig_fif``, ``read_dig_egi``, ``read_dig_polhemus_isotrak``, or ``read_dig_captrack`` ``read_dig_hpts``, ``read_dig_captrack`` or ``read_custom_montage`` to read a digitization based on your needs instead; or ``make_standard_montage`` to create ``DigMontage`` based on template; or ``make_dig_montage`` to create a ``DigMontage`` out of np.arrays.\n",
      "  raw1 = mne.io.read_raw_brainvision(eeg_path,montage,preload=True)\n",
      "<ipython-input-4-54bc8fe59c7b>:9: DeprecationWarning: The `montage` parameter from `read_raw_brainvision` is deprecated and will be removed  in version 0.20. Use  raw.set_montage(montage) instead.\n",
      "  raw1 = mne.io.read_raw_brainvision(eeg_path,montage,preload=True)\n"
     ]
    },
    {
     "name": "stdout",
     "output_type": "stream",
     "text": [
      "Extracting parameters from BIDS/sub-07/eeg/sub-07_task-Moral_run-09_eeg.vhdr...\n",
      "Setting channel info structure...\n",
      "Reading 0 ... 163374  =      0.000 ...   326.748 secs...\n"
     ]
    },
    {
     "name": "stderr",
     "output_type": "stream",
     "text": [
      "<ipython-input-4-54bc8fe59c7b>:9: DeprecationWarning: Setting a montage using anything rather than DigMontage is deprecated and will raise an error in v0.20. Please use ``read_dig_fif``, ``read_dig_egi``, ``read_dig_polhemus_isotrak``, or ``read_dig_captrack`` ``read_dig_hpts``, ``read_dig_captrack`` or ``read_custom_montage`` to read a digitization based on your needs instead; or ``make_standard_montage`` to create ``DigMontage`` based on template; or ``make_dig_montage`` to create a ``DigMontage`` out of np.arrays.\n",
      "  raw1 = mne.io.read_raw_brainvision(eeg_path,montage,preload=True)\n",
      "<ipython-input-4-54bc8fe59c7b>:9: DeprecationWarning: The `montage` parameter from `read_raw_brainvision` is deprecated and will be removed  in version 0.20. Use  raw.set_montage(montage) instead.\n",
      "  raw1 = mne.io.read_raw_brainvision(eeg_path,montage,preload=True)\n"
     ]
    },
    {
     "name": "stdout",
     "output_type": "stream",
     "text": [
      "Writing /media/hcp4715/USB1/Data/EEGdata/Analysis_Py/Exp1/raw_fif/sub-07_raw.fif\n",
      "Closing /media/hcp4715/USB1/Data/EEGdata/Analysis_Py/Exp1/raw_fif/sub-07_raw.fif [done]\n",
      "Extracting parameters from BIDS/sub-10/eeg/sub-10_task-Moral_run-01_eeg.vhdr...\n",
      "Setting channel info structure...\n",
      "Reading 0 ... 160949  =      0.000 ...   321.898 secs...\n"
     ]
    },
    {
     "name": "stderr",
     "output_type": "stream",
     "text": [
      "/media/hcp4715/study/Py_Envs/Py_MNE/lib/python3.6/site-packages/mne/utils/docs.py:824: DeprecationWarning: Function read_montage is deprecated; ``read_montage`` is deprecated and will be removed in v0.20. Please use ``read_dig_fif``, ``read_dig_egi``, ``read_custom_montage``, or ``read_dig_captrack`` to read a digitization based on your needs instead; or ``make_standard_montage`` to create ``DigMontage`` based on template; or ``make_dig_montage`` to create a ``DigMontage`` out of np.arrays\n",
      "  warnings.warn(msg, category=DeprecationWarning)\n",
      "/media/hcp4715/study/Py_Envs/Py_MNE/lib/python3.6/site-packages/mne/utils/docs.py:807: DeprecationWarning: Class Montage is deprecated; Montage class is deprecated and will be removed in v0.20. Please use DigMontage instead.\n",
      "  warnings.warn(msg, category=DeprecationWarning)\n",
      "<ipython-input-4-54bc8fe59c7b>:5: DeprecationWarning: Setting a montage using anything rather than DigMontage is deprecated and will raise an error in v0.20. Please use ``read_dig_fif``, ``read_dig_egi``, ``read_dig_polhemus_isotrak``, or ``read_dig_captrack`` ``read_dig_hpts``, ``read_dig_captrack`` or ``read_custom_montage`` to read a digitization based on your needs instead; or ``make_standard_montage`` to create ``DigMontage`` based on template; or ``make_dig_montage`` to create a ``DigMontage`` out of np.arrays.\n",
      "  raw = mne.io.read_raw_brainvision(block1_fname, montage, preload=True)   # read .vhdr as mne raw instance\n",
      "<ipython-input-4-54bc8fe59c7b>:5: DeprecationWarning: The `montage` parameter from `read_raw_brainvision` is deprecated and will be removed  in version 0.20. Use  raw.set_montage(montage) instead.\n",
      "  raw = mne.io.read_raw_brainvision(block1_fname, montage, preload=True)   # read .vhdr as mne raw instance\n"
     ]
    },
    {
     "name": "stdout",
     "output_type": "stream",
     "text": [
      "Extracting parameters from BIDS/sub-10/eeg/sub-10_task-Moral_run-02_eeg.vhdr...\n",
      "Setting channel info structure...\n",
      "Reading 0 ... 163574  =      0.000 ...   327.148 secs...\n",
      "Extracting parameters from BIDS/sub-10/eeg/sub-10_task-Moral_run-03_eeg.vhdr...\n",
      "Setting channel info structure...\n",
      "Reading 0 ... 161399  =      0.000 ...   322.798 secs...\n"
     ]
    },
    {
     "name": "stderr",
     "output_type": "stream",
     "text": [
      "<ipython-input-4-54bc8fe59c7b>:9: DeprecationWarning: Setting a montage using anything rather than DigMontage is deprecated and will raise an error in v0.20. Please use ``read_dig_fif``, ``read_dig_egi``, ``read_dig_polhemus_isotrak``, or ``read_dig_captrack`` ``read_dig_hpts``, ``read_dig_captrack`` or ``read_custom_montage`` to read a digitization based on your needs instead; or ``make_standard_montage`` to create ``DigMontage`` based on template; or ``make_dig_montage`` to create a ``DigMontage`` out of np.arrays.\n",
      "  raw1 = mne.io.read_raw_brainvision(eeg_path,montage,preload=True)\n",
      "<ipython-input-4-54bc8fe59c7b>:9: DeprecationWarning: The `montage` parameter from `read_raw_brainvision` is deprecated and will be removed  in version 0.20. Use  raw.set_montage(montage) instead.\n",
      "  raw1 = mne.io.read_raw_brainvision(eeg_path,montage,preload=True)\n"
     ]
    },
    {
     "name": "stdout",
     "output_type": "stream",
     "text": [
      "Extracting parameters from BIDS/sub-10/eeg/sub-10_task-Moral_run-04_eeg.vhdr...\n",
      "Setting channel info structure...\n",
      "Reading 0 ... 179574  =      0.000 ...   359.148 secs...\n"
     ]
    },
    {
     "name": "stderr",
     "output_type": "stream",
     "text": [
      "<ipython-input-4-54bc8fe59c7b>:9: DeprecationWarning: Setting a montage using anything rather than DigMontage is deprecated and will raise an error in v0.20. Please use ``read_dig_fif``, ``read_dig_egi``, ``read_dig_polhemus_isotrak``, or ``read_dig_captrack`` ``read_dig_hpts``, ``read_dig_captrack`` or ``read_custom_montage`` to read a digitization based on your needs instead; or ``make_standard_montage`` to create ``DigMontage`` based on template; or ``make_dig_montage`` to create a ``DigMontage`` out of np.arrays.\n",
      "  raw1 = mne.io.read_raw_brainvision(eeg_path,montage,preload=True)\n",
      "<ipython-input-4-54bc8fe59c7b>:9: DeprecationWarning: The `montage` parameter from `read_raw_brainvision` is deprecated and will be removed  in version 0.20. Use  raw.set_montage(montage) instead.\n",
      "  raw1 = mne.io.read_raw_brainvision(eeg_path,montage,preload=True)\n"
     ]
    },
    {
     "name": "stdout",
     "output_type": "stream",
     "text": [
      "Extracting parameters from BIDS/sub-10/eeg/sub-10_task-Moral_run-05_eeg.vhdr...\n",
      "Setting channel info structure...\n",
      "Reading 0 ... 161624  =      0.000 ...   323.248 secs...\n"
     ]
    },
    {
     "name": "stderr",
     "output_type": "stream",
     "text": [
      "<ipython-input-4-54bc8fe59c7b>:9: DeprecationWarning: Setting a montage using anything rather than DigMontage is deprecated and will raise an error in v0.20. Please use ``read_dig_fif``, ``read_dig_egi``, ``read_dig_polhemus_isotrak``, or ``read_dig_captrack`` ``read_dig_hpts``, ``read_dig_captrack`` or ``read_custom_montage`` to read a digitization based on your needs instead; or ``make_standard_montage`` to create ``DigMontage`` based on template; or ``make_dig_montage`` to create a ``DigMontage`` out of np.arrays.\n",
      "  raw1 = mne.io.read_raw_brainvision(eeg_path,montage,preload=True)\n",
      "<ipython-input-4-54bc8fe59c7b>:9: DeprecationWarning: The `montage` parameter from `read_raw_brainvision` is deprecated and will be removed  in version 0.20. Use  raw.set_montage(montage) instead.\n",
      "  raw1 = mne.io.read_raw_brainvision(eeg_path,montage,preload=True)\n"
     ]
    },
    {
     "name": "stdout",
     "output_type": "stream",
     "text": [
      "Extracting parameters from BIDS/sub-10/eeg/sub-10_task-Moral_run-06_eeg.vhdr...\n",
      "Setting channel info structure...\n",
      "Reading 0 ... 163524  =      0.000 ...   327.048 secs...\n"
     ]
    },
    {
     "name": "stderr",
     "output_type": "stream",
     "text": [
      "<ipython-input-4-54bc8fe59c7b>:9: DeprecationWarning: Setting a montage using anything rather than DigMontage is deprecated and will raise an error in v0.20. Please use ``read_dig_fif``, ``read_dig_egi``, ``read_dig_polhemus_isotrak``, or ``read_dig_captrack`` ``read_dig_hpts``, ``read_dig_captrack`` or ``read_custom_montage`` to read a digitization based on your needs instead; or ``make_standard_montage`` to create ``DigMontage`` based on template; or ``make_dig_montage`` to create a ``DigMontage`` out of np.arrays.\n",
      "  raw1 = mne.io.read_raw_brainvision(eeg_path,montage,preload=True)\n",
      "<ipython-input-4-54bc8fe59c7b>:9: DeprecationWarning: The `montage` parameter from `read_raw_brainvision` is deprecated and will be removed  in version 0.20. Use  raw.set_montage(montage) instead.\n",
      "  raw1 = mne.io.read_raw_brainvision(eeg_path,montage,preload=True)\n",
      "<ipython-input-4-54bc8fe59c7b>:9: DeprecationWarning: Setting a montage using anything rather than DigMontage is deprecated and will raise an error in v0.20. Please use ``read_dig_fif``, ``read_dig_egi``, ``read_dig_polhemus_isotrak``, or ``read_dig_captrack`` ``read_dig_hpts``, ``read_dig_captrack`` or ``read_custom_montage`` to read a digitization based on your needs instead; or ``make_standard_montage`` to create ``DigMontage`` based on template; or ``make_dig_montage`` to create a ``DigMontage`` out of np.arrays.\n",
      "  raw1 = mne.io.read_raw_brainvision(eeg_path,montage,preload=True)\n",
      "<ipython-input-4-54bc8fe59c7b>:9: DeprecationWarning: The `montage` parameter from `read_raw_brainvision` is deprecated and will be removed  in version 0.20. Use  raw.set_montage(montage) instead.\n",
      "  raw1 = mne.io.read_raw_brainvision(eeg_path,montage,preload=True)\n"
     ]
    },
    {
     "name": "stdout",
     "output_type": "stream",
     "text": [
      "Extracting parameters from BIDS/sub-10/eeg/sub-10_task-Moral_run-07_eeg.vhdr...\n",
      "Setting channel info structure...\n",
      "Reading 0 ... 162499  =      0.000 ...   324.998 secs...\n"
     ]
    },
    {
     "name": "stderr",
     "output_type": "stream",
     "text": [
      "<ipython-input-4-54bc8fe59c7b>:9: DeprecationWarning: Setting a montage using anything rather than DigMontage is deprecated and will raise an error in v0.20. Please use ``read_dig_fif``, ``read_dig_egi``, ``read_dig_polhemus_isotrak``, or ``read_dig_captrack`` ``read_dig_hpts``, ``read_dig_captrack`` or ``read_custom_montage`` to read a digitization based on your needs instead; or ``make_standard_montage`` to create ``DigMontage`` based on template; or ``make_dig_montage`` to create a ``DigMontage`` out of np.arrays.\n",
      "  raw1 = mne.io.read_raw_brainvision(eeg_path,montage,preload=True)\n",
      "<ipython-input-4-54bc8fe59c7b>:9: DeprecationWarning: The `montage` parameter from `read_raw_brainvision` is deprecated and will be removed  in version 0.20. Use  raw.set_montage(montage) instead.\n",
      "  raw1 = mne.io.read_raw_brainvision(eeg_path,montage,preload=True)\n"
     ]
    },
    {
     "name": "stdout",
     "output_type": "stream",
     "text": [
      "Extracting parameters from BIDS/sub-10/eeg/sub-10_task-Moral_run-08_eeg.vhdr...\n",
      "Setting channel info structure...\n",
      "Reading 0 ... 160349  =      0.000 ...   320.698 secs...\n"
     ]
    },
    {
     "name": "stderr",
     "output_type": "stream",
     "text": [
      "<ipython-input-4-54bc8fe59c7b>:9: DeprecationWarning: Setting a montage using anything rather than DigMontage is deprecated and will raise an error in v0.20. Please use ``read_dig_fif``, ``read_dig_egi``, ``read_dig_polhemus_isotrak``, or ``read_dig_captrack`` ``read_dig_hpts``, ``read_dig_captrack`` or ``read_custom_montage`` to read a digitization based on your needs instead; or ``make_standard_montage`` to create ``DigMontage`` based on template; or ``make_dig_montage`` to create a ``DigMontage`` out of np.arrays.\n",
      "  raw1 = mne.io.read_raw_brainvision(eeg_path,montage,preload=True)\n",
      "<ipython-input-4-54bc8fe59c7b>:9: DeprecationWarning: The `montage` parameter from `read_raw_brainvision` is deprecated and will be removed  in version 0.20. Use  raw.set_montage(montage) instead.\n",
      "  raw1 = mne.io.read_raw_brainvision(eeg_path,montage,preload=True)\n"
     ]
    },
    {
     "name": "stdout",
     "output_type": "stream",
     "text": [
      "Extracting parameters from BIDS/sub-10/eeg/sub-10_task-Moral_run-09_eeg.vhdr...\n",
      "Setting channel info structure...\n",
      "Reading 0 ... 161874  =      0.000 ...   323.748 secs...\n"
     ]
    },
    {
     "name": "stderr",
     "output_type": "stream",
     "text": [
      "<ipython-input-4-54bc8fe59c7b>:9: DeprecationWarning: Setting a montage using anything rather than DigMontage is deprecated and will raise an error in v0.20. Please use ``read_dig_fif``, ``read_dig_egi``, ``read_dig_polhemus_isotrak``, or ``read_dig_captrack`` ``read_dig_hpts``, ``read_dig_captrack`` or ``read_custom_montage`` to read a digitization based on your needs instead; or ``make_standard_montage`` to create ``DigMontage`` based on template; or ``make_dig_montage`` to create a ``DigMontage`` out of np.arrays.\n",
      "  raw1 = mne.io.read_raw_brainvision(eeg_path,montage,preload=True)\n",
      "<ipython-input-4-54bc8fe59c7b>:9: DeprecationWarning: The `montage` parameter from `read_raw_brainvision` is deprecated and will be removed  in version 0.20. Use  raw.set_montage(montage) instead.\n",
      "  raw1 = mne.io.read_raw_brainvision(eeg_path,montage,preload=True)\n"
     ]
    },
    {
     "name": "stdout",
     "output_type": "stream",
     "text": [
      "Writing /media/hcp4715/USB1/Data/EEGdata/Analysis_Py/Exp1/raw_fif/sub-10_raw.fif\n",
      "Closing /media/hcp4715/USB1/Data/EEGdata/Analysis_Py/Exp1/raw_fif/sub-10_raw.fif [done]\n",
      "Extracting parameters from BIDS/sub-11/eeg/sub-11_task-Moral_run-01_eeg.vhdr...\n",
      "Setting channel info structure...\n",
      "Reading 0 ... 157124  =      0.000 ...   314.248 secs...\n",
      "Extracting parameters from BIDS/sub-11/eeg/sub-11_task-Moral_run-02_eeg.vhdr...\n"
     ]
    },
    {
     "name": "stderr",
     "output_type": "stream",
     "text": [
      "/media/hcp4715/study/Py_Envs/Py_MNE/lib/python3.6/site-packages/mne/utils/docs.py:824: DeprecationWarning: Function read_montage is deprecated; ``read_montage`` is deprecated and will be removed in v0.20. Please use ``read_dig_fif``, ``read_dig_egi``, ``read_custom_montage``, or ``read_dig_captrack`` to read a digitization based on your needs instead; or ``make_standard_montage`` to create ``DigMontage`` based on template; or ``make_dig_montage`` to create a ``DigMontage`` out of np.arrays\n",
      "  warnings.warn(msg, category=DeprecationWarning)\n",
      "/media/hcp4715/study/Py_Envs/Py_MNE/lib/python3.6/site-packages/mne/utils/docs.py:807: DeprecationWarning: Class Montage is deprecated; Montage class is deprecated and will be removed in v0.20. Please use DigMontage instead.\n",
      "  warnings.warn(msg, category=DeprecationWarning)\n",
      "<ipython-input-4-54bc8fe59c7b>:5: DeprecationWarning: Setting a montage using anything rather than DigMontage is deprecated and will raise an error in v0.20. Please use ``read_dig_fif``, ``read_dig_egi``, ``read_dig_polhemus_isotrak``, or ``read_dig_captrack`` ``read_dig_hpts``, ``read_dig_captrack`` or ``read_custom_montage`` to read a digitization based on your needs instead; or ``make_standard_montage`` to create ``DigMontage`` based on template; or ``make_dig_montage`` to create a ``DigMontage`` out of np.arrays.\n",
      "  raw = mne.io.read_raw_brainvision(block1_fname, montage, preload=True)   # read .vhdr as mne raw instance\n",
      "<ipython-input-4-54bc8fe59c7b>:5: DeprecationWarning: The `montage` parameter from `read_raw_brainvision` is deprecated and will be removed  in version 0.20. Use  raw.set_montage(montage) instead.\n",
      "  raw = mne.io.read_raw_brainvision(block1_fname, montage, preload=True)   # read .vhdr as mne raw instance\n"
     ]
    },
    {
     "name": "stdout",
     "output_type": "stream",
     "text": [
      "Setting channel info structure...\n",
      "Reading 0 ... 159049  =      0.000 ...   318.098 secs...\n",
      "Extracting parameters from BIDS/sub-11/eeg/sub-11_task-Moral_run-03_eeg.vhdr...\n",
      "Setting channel info structure...\n",
      "Reading 0 ... 160824  =      0.000 ...   321.648 secs...\n"
     ]
    },
    {
     "name": "stderr",
     "output_type": "stream",
     "text": [
      "<ipython-input-4-54bc8fe59c7b>:9: DeprecationWarning: Setting a montage using anything rather than DigMontage is deprecated and will raise an error in v0.20. Please use ``read_dig_fif``, ``read_dig_egi``, ``read_dig_polhemus_isotrak``, or ``read_dig_captrack`` ``read_dig_hpts``, ``read_dig_captrack`` or ``read_custom_montage`` to read a digitization based on your needs instead; or ``make_standard_montage`` to create ``DigMontage`` based on template; or ``make_dig_montage`` to create a ``DigMontage`` out of np.arrays.\n",
      "  raw1 = mne.io.read_raw_brainvision(eeg_path,montage,preload=True)\n",
      "<ipython-input-4-54bc8fe59c7b>:9: DeprecationWarning: The `montage` parameter from `read_raw_brainvision` is deprecated and will be removed  in version 0.20. Use  raw.set_montage(montage) instead.\n",
      "  raw1 = mne.io.read_raw_brainvision(eeg_path,montage,preload=True)\n"
     ]
    },
    {
     "name": "stdout",
     "output_type": "stream",
     "text": [
      "Extracting parameters from BIDS/sub-11/eeg/sub-11_task-Moral_run-04_eeg.vhdr...\n",
      "Setting channel info structure...\n",
      "Reading 0 ... 157299  =      0.000 ...   314.598 secs...\n"
     ]
    },
    {
     "name": "stderr",
     "output_type": "stream",
     "text": [
      "<ipython-input-4-54bc8fe59c7b>:9: DeprecationWarning: Setting a montage using anything rather than DigMontage is deprecated and will raise an error in v0.20. Please use ``read_dig_fif``, ``read_dig_egi``, ``read_dig_polhemus_isotrak``, or ``read_dig_captrack`` ``read_dig_hpts``, ``read_dig_captrack`` or ``read_custom_montage`` to read a digitization based on your needs instead; or ``make_standard_montage`` to create ``DigMontage`` based on template; or ``make_dig_montage`` to create a ``DigMontage`` out of np.arrays.\n",
      "  raw1 = mne.io.read_raw_brainvision(eeg_path,montage,preload=True)\n",
      "<ipython-input-4-54bc8fe59c7b>:9: DeprecationWarning: The `montage` parameter from `read_raw_brainvision` is deprecated and will be removed  in version 0.20. Use  raw.set_montage(montage) instead.\n",
      "  raw1 = mne.io.read_raw_brainvision(eeg_path,montage,preload=True)\n"
     ]
    },
    {
     "name": "stdout",
     "output_type": "stream",
     "text": [
      "Extracting parameters from BIDS/sub-11/eeg/sub-11_task-Moral_run-05_eeg.vhdr...\n",
      "Setting channel info structure...\n",
      "Reading 0 ... 159599  =      0.000 ...   319.198 secs...\n"
     ]
    },
    {
     "name": "stderr",
     "output_type": "stream",
     "text": [
      "<ipython-input-4-54bc8fe59c7b>:9: DeprecationWarning: Setting a montage using anything rather than DigMontage is deprecated and will raise an error in v0.20. Please use ``read_dig_fif``, ``read_dig_egi``, ``read_dig_polhemus_isotrak``, or ``read_dig_captrack`` ``read_dig_hpts``, ``read_dig_captrack`` or ``read_custom_montage`` to read a digitization based on your needs instead; or ``make_standard_montage`` to create ``DigMontage`` based on template; or ``make_dig_montage`` to create a ``DigMontage`` out of np.arrays.\n",
      "  raw1 = mne.io.read_raw_brainvision(eeg_path,montage,preload=True)\n",
      "<ipython-input-4-54bc8fe59c7b>:9: DeprecationWarning: The `montage` parameter from `read_raw_brainvision` is deprecated and will be removed  in version 0.20. Use  raw.set_montage(montage) instead.\n",
      "  raw1 = mne.io.read_raw_brainvision(eeg_path,montage,preload=True)\n"
     ]
    },
    {
     "name": "stdout",
     "output_type": "stream",
     "text": [
      "Extracting parameters from BIDS/sub-11/eeg/sub-11_task-Moral_run-06_eeg.vhdr...\n",
      "Setting channel info structure...\n",
      "Reading 0 ... 157874  =      0.000 ...   315.748 secs...\n"
     ]
    },
    {
     "name": "stderr",
     "output_type": "stream",
     "text": [
      "<ipython-input-4-54bc8fe59c7b>:9: DeprecationWarning: Setting a montage using anything rather than DigMontage is deprecated and will raise an error in v0.20. Please use ``read_dig_fif``, ``read_dig_egi``, ``read_dig_polhemus_isotrak``, or ``read_dig_captrack`` ``read_dig_hpts``, ``read_dig_captrack`` or ``read_custom_montage`` to read a digitization based on your needs instead; or ``make_standard_montage`` to create ``DigMontage`` based on template; or ``make_dig_montage`` to create a ``DigMontage`` out of np.arrays.\n",
      "  raw1 = mne.io.read_raw_brainvision(eeg_path,montage,preload=True)\n",
      "<ipython-input-4-54bc8fe59c7b>:9: DeprecationWarning: The `montage` parameter from `read_raw_brainvision` is deprecated and will be removed  in version 0.20. Use  raw.set_montage(montage) instead.\n",
      "  raw1 = mne.io.read_raw_brainvision(eeg_path,montage,preload=True)\n",
      "<ipython-input-4-54bc8fe59c7b>:9: DeprecationWarning: Setting a montage using anything rather than DigMontage is deprecated and will raise an error in v0.20. Please use ``read_dig_fif``, ``read_dig_egi``, ``read_dig_polhemus_isotrak``, or ``read_dig_captrack`` ``read_dig_hpts``, ``read_dig_captrack`` or ``read_custom_montage`` to read a digitization based on your needs instead; or ``make_standard_montage`` to create ``DigMontage`` based on template; or ``make_dig_montage`` to create a ``DigMontage`` out of np.arrays.\n",
      "  raw1 = mne.io.read_raw_brainvision(eeg_path,montage,preload=True)\n",
      "<ipython-input-4-54bc8fe59c7b>:9: DeprecationWarning: The `montage` parameter from `read_raw_brainvision` is deprecated and will be removed  in version 0.20. Use  raw.set_montage(montage) instead.\n",
      "  raw1 = mne.io.read_raw_brainvision(eeg_path,montage,preload=True)\n"
     ]
    },
    {
     "name": "stdout",
     "output_type": "stream",
     "text": [
      "Extracting parameters from BIDS/sub-11/eeg/sub-11_task-Moral_run-07_eeg.vhdr...\n",
      "Setting channel info structure...\n",
      "Reading 0 ... 158724  =      0.000 ...   317.448 secs...\n"
     ]
    },
    {
     "name": "stderr",
     "output_type": "stream",
     "text": [
      "<ipython-input-4-54bc8fe59c7b>:9: DeprecationWarning: Setting a montage using anything rather than DigMontage is deprecated and will raise an error in v0.20. Please use ``read_dig_fif``, ``read_dig_egi``, ``read_dig_polhemus_isotrak``, or ``read_dig_captrack`` ``read_dig_hpts``, ``read_dig_captrack`` or ``read_custom_montage`` to read a digitization based on your needs instead; or ``make_standard_montage`` to create ``DigMontage`` based on template; or ``make_dig_montage`` to create a ``DigMontage`` out of np.arrays.\n",
      "  raw1 = mne.io.read_raw_brainvision(eeg_path,montage,preload=True)\n",
      "<ipython-input-4-54bc8fe59c7b>:9: DeprecationWarning: The `montage` parameter from `read_raw_brainvision` is deprecated and will be removed  in version 0.20. Use  raw.set_montage(montage) instead.\n",
      "  raw1 = mne.io.read_raw_brainvision(eeg_path,montage,preload=True)\n"
     ]
    },
    {
     "name": "stdout",
     "output_type": "stream",
     "text": [
      "Extracting parameters from BIDS/sub-11/eeg/sub-11_task-Moral_run-08_eeg.vhdr...\n",
      "Setting channel info structure...\n",
      "Reading 0 ... 160624  =      0.000 ...   321.248 secs...\n"
     ]
    },
    {
     "name": "stderr",
     "output_type": "stream",
     "text": [
      "<ipython-input-4-54bc8fe59c7b>:9: DeprecationWarning: Setting a montage using anything rather than DigMontage is deprecated and will raise an error in v0.20. Please use ``read_dig_fif``, ``read_dig_egi``, ``read_dig_polhemus_isotrak``, or ``read_dig_captrack`` ``read_dig_hpts``, ``read_dig_captrack`` or ``read_custom_montage`` to read a digitization based on your needs instead; or ``make_standard_montage`` to create ``DigMontage`` based on template; or ``make_dig_montage`` to create a ``DigMontage`` out of np.arrays.\n",
      "  raw1 = mne.io.read_raw_brainvision(eeg_path,montage,preload=True)\n",
      "<ipython-input-4-54bc8fe59c7b>:9: DeprecationWarning: The `montage` parameter from `read_raw_brainvision` is deprecated and will be removed  in version 0.20. Use  raw.set_montage(montage) instead.\n",
      "  raw1 = mne.io.read_raw_brainvision(eeg_path,montage,preload=True)\n"
     ]
    },
    {
     "name": "stdout",
     "output_type": "stream",
     "text": [
      "Extracting parameters from BIDS/sub-11/eeg/sub-11_task-Moral_run-09_eeg.vhdr...\n",
      "Setting channel info structure...\n",
      "Reading 0 ... 163849  =      0.000 ...   327.698 secs...\n"
     ]
    },
    {
     "name": "stderr",
     "output_type": "stream",
     "text": [
      "<ipython-input-4-54bc8fe59c7b>:9: DeprecationWarning: Setting a montage using anything rather than DigMontage is deprecated and will raise an error in v0.20. Please use ``read_dig_fif``, ``read_dig_egi``, ``read_dig_polhemus_isotrak``, or ``read_dig_captrack`` ``read_dig_hpts``, ``read_dig_captrack`` or ``read_custom_montage`` to read a digitization based on your needs instead; or ``make_standard_montage`` to create ``DigMontage`` based on template; or ``make_dig_montage`` to create a ``DigMontage`` out of np.arrays.\n",
      "  raw1 = mne.io.read_raw_brainvision(eeg_path,montage,preload=True)\n",
      "<ipython-input-4-54bc8fe59c7b>:9: DeprecationWarning: The `montage` parameter from `read_raw_brainvision` is deprecated and will be removed  in version 0.20. Use  raw.set_montage(montage) instead.\n",
      "  raw1 = mne.io.read_raw_brainvision(eeg_path,montage,preload=True)\n"
     ]
    },
    {
     "name": "stdout",
     "output_type": "stream",
     "text": [
      "Writing /media/hcp4715/USB1/Data/EEGdata/Analysis_Py/Exp1/raw_fif/sub-11_raw.fif\n",
      "Closing /media/hcp4715/USB1/Data/EEGdata/Analysis_Py/Exp1/raw_fif/sub-11_raw.fif [done]\n",
      "Extracting parameters from BIDS/sub-13/eeg/sub-13_task-Moral_run-01_eeg.vhdr...\n",
      "Setting channel info structure...\n",
      "Reading 0 ... 164399  =      0.000 ...   328.798 secs...\n"
     ]
    },
    {
     "name": "stderr",
     "output_type": "stream",
     "text": [
      "/media/hcp4715/study/Py_Envs/Py_MNE/lib/python3.6/site-packages/mne/utils/docs.py:824: DeprecationWarning: Function read_montage is deprecated; ``read_montage`` is deprecated and will be removed in v0.20. Please use ``read_dig_fif``, ``read_dig_egi``, ``read_custom_montage``, or ``read_dig_captrack`` to read a digitization based on your needs instead; or ``make_standard_montage`` to create ``DigMontage`` based on template; or ``make_dig_montage`` to create a ``DigMontage`` out of np.arrays\n",
      "  warnings.warn(msg, category=DeprecationWarning)\n",
      "/media/hcp4715/study/Py_Envs/Py_MNE/lib/python3.6/site-packages/mne/utils/docs.py:807: DeprecationWarning: Class Montage is deprecated; Montage class is deprecated and will be removed in v0.20. Please use DigMontage instead.\n",
      "  warnings.warn(msg, category=DeprecationWarning)\n"
     ]
    },
    {
     "name": "stdout",
     "output_type": "stream",
     "text": [
      "Extracting parameters from BIDS/sub-13/eeg/sub-13_task-Moral_run-02_eeg.vhdr...\n",
      "Setting channel info structure...\n",
      "Reading 0 ... 164174  =      0.000 ...   328.348 secs...\n"
     ]
    },
    {
     "name": "stderr",
     "output_type": "stream",
     "text": [
      "<ipython-input-4-54bc8fe59c7b>:5: DeprecationWarning: Setting a montage using anything rather than DigMontage is deprecated and will raise an error in v0.20. Please use ``read_dig_fif``, ``read_dig_egi``, ``read_dig_polhemus_isotrak``, or ``read_dig_captrack`` ``read_dig_hpts``, ``read_dig_captrack`` or ``read_custom_montage`` to read a digitization based on your needs instead; or ``make_standard_montage`` to create ``DigMontage`` based on template; or ``make_dig_montage`` to create a ``DigMontage`` out of np.arrays.\n",
      "  raw = mne.io.read_raw_brainvision(block1_fname, montage, preload=True)   # read .vhdr as mne raw instance\n",
      "<ipython-input-4-54bc8fe59c7b>:5: DeprecationWarning: The `montage` parameter from `read_raw_brainvision` is deprecated and will be removed  in version 0.20. Use  raw.set_montage(montage) instead.\n",
      "  raw = mne.io.read_raw_brainvision(block1_fname, montage, preload=True)   # read .vhdr as mne raw instance\n"
     ]
    },
    {
     "name": "stdout",
     "output_type": "stream",
     "text": [
      "Extracting parameters from BIDS/sub-13/eeg/sub-13_task-Moral_run-03_eeg.vhdr...\n",
      "Setting channel info structure...\n",
      "Reading 0 ... 162199  =      0.000 ...   324.398 secs...\n"
     ]
    },
    {
     "name": "stderr",
     "output_type": "stream",
     "text": [
      "<ipython-input-4-54bc8fe59c7b>:9: DeprecationWarning: Setting a montage using anything rather than DigMontage is deprecated and will raise an error in v0.20. Please use ``read_dig_fif``, ``read_dig_egi``, ``read_dig_polhemus_isotrak``, or ``read_dig_captrack`` ``read_dig_hpts``, ``read_dig_captrack`` or ``read_custom_montage`` to read a digitization based on your needs instead; or ``make_standard_montage`` to create ``DigMontage`` based on template; or ``make_dig_montage`` to create a ``DigMontage`` out of np.arrays.\n",
      "  raw1 = mne.io.read_raw_brainvision(eeg_path,montage,preload=True)\n",
      "<ipython-input-4-54bc8fe59c7b>:9: DeprecationWarning: The `montage` parameter from `read_raw_brainvision` is deprecated and will be removed  in version 0.20. Use  raw.set_montage(montage) instead.\n",
      "  raw1 = mne.io.read_raw_brainvision(eeg_path,montage,preload=True)\n"
     ]
    },
    {
     "name": "stdout",
     "output_type": "stream",
     "text": [
      "Extracting parameters from BIDS/sub-13/eeg/sub-13_task-Moral_run-04_eeg.vhdr...\n",
      "Setting channel info structure...\n",
      "Reading 0 ... 158074  =      0.000 ...   316.148 secs...\n"
     ]
    },
    {
     "name": "stderr",
     "output_type": "stream",
     "text": [
      "<ipython-input-4-54bc8fe59c7b>:9: DeprecationWarning: Setting a montage using anything rather than DigMontage is deprecated and will raise an error in v0.20. Please use ``read_dig_fif``, ``read_dig_egi``, ``read_dig_polhemus_isotrak``, or ``read_dig_captrack`` ``read_dig_hpts``, ``read_dig_captrack`` or ``read_custom_montage`` to read a digitization based on your needs instead; or ``make_standard_montage`` to create ``DigMontage`` based on template; or ``make_dig_montage`` to create a ``DigMontage`` out of np.arrays.\n",
      "  raw1 = mne.io.read_raw_brainvision(eeg_path,montage,preload=True)\n",
      "<ipython-input-4-54bc8fe59c7b>:9: DeprecationWarning: The `montage` parameter from `read_raw_brainvision` is deprecated and will be removed  in version 0.20. Use  raw.set_montage(montage) instead.\n",
      "  raw1 = mne.io.read_raw_brainvision(eeg_path,montage,preload=True)\n"
     ]
    },
    {
     "name": "stdout",
     "output_type": "stream",
     "text": [
      "Extracting parameters from BIDS/sub-13/eeg/sub-13_task-Moral_run-05_eeg.vhdr...\n",
      "Setting channel info structure...\n",
      "Reading 0 ... 158449  =      0.000 ...   316.898 secs...\n"
     ]
    },
    {
     "name": "stderr",
     "output_type": "stream",
     "text": [
      "<ipython-input-4-54bc8fe59c7b>:9: DeprecationWarning: Setting a montage using anything rather than DigMontage is deprecated and will raise an error in v0.20. Please use ``read_dig_fif``, ``read_dig_egi``, ``read_dig_polhemus_isotrak``, or ``read_dig_captrack`` ``read_dig_hpts``, ``read_dig_captrack`` or ``read_custom_montage`` to read a digitization based on your needs instead; or ``make_standard_montage`` to create ``DigMontage`` based on template; or ``make_dig_montage`` to create a ``DigMontage`` out of np.arrays.\n",
      "  raw1 = mne.io.read_raw_brainvision(eeg_path,montage,preload=True)\n",
      "<ipython-input-4-54bc8fe59c7b>:9: DeprecationWarning: The `montage` parameter from `read_raw_brainvision` is deprecated and will be removed  in version 0.20. Use  raw.set_montage(montage) instead.\n",
      "  raw1 = mne.io.read_raw_brainvision(eeg_path,montage,preload=True)\n",
      "<ipython-input-4-54bc8fe59c7b>:9: DeprecationWarning: Setting a montage using anything rather than DigMontage is deprecated and will raise an error in v0.20. Please use ``read_dig_fif``, ``read_dig_egi``, ``read_dig_polhemus_isotrak``, or ``read_dig_captrack`` ``read_dig_hpts``, ``read_dig_captrack`` or ``read_custom_montage`` to read a digitization based on your needs instead; or ``make_standard_montage`` to create ``DigMontage`` based on template; or ``make_dig_montage`` to create a ``DigMontage`` out of np.arrays.\n",
      "  raw1 = mne.io.read_raw_brainvision(eeg_path,montage,preload=True)\n",
      "<ipython-input-4-54bc8fe59c7b>:9: DeprecationWarning: The `montage` parameter from `read_raw_brainvision` is deprecated and will be removed  in version 0.20. Use  raw.set_montage(montage) instead.\n",
      "  raw1 = mne.io.read_raw_brainvision(eeg_path,montage,preload=True)\n"
     ]
    },
    {
     "name": "stdout",
     "output_type": "stream",
     "text": [
      "Extracting parameters from BIDS/sub-13/eeg/sub-13_task-Moral_run-06_eeg.vhdr...\n",
      "Setting channel info structure...\n",
      "Reading 0 ... 160374  =      0.000 ...   320.748 secs...\n"
     ]
    },
    {
     "name": "stderr",
     "output_type": "stream",
     "text": [
      "<ipython-input-4-54bc8fe59c7b>:9: DeprecationWarning: Setting a montage using anything rather than DigMontage is deprecated and will raise an error in v0.20. Please use ``read_dig_fif``, ``read_dig_egi``, ``read_dig_polhemus_isotrak``, or ``read_dig_captrack`` ``read_dig_hpts``, ``read_dig_captrack`` or ``read_custom_montage`` to read a digitization based on your needs instead; or ``make_standard_montage`` to create ``DigMontage`` based on template; or ``make_dig_montage`` to create a ``DigMontage`` out of np.arrays.\n",
      "  raw1 = mne.io.read_raw_brainvision(eeg_path,montage,preload=True)\n",
      "<ipython-input-4-54bc8fe59c7b>:9: DeprecationWarning: The `montage` parameter from `read_raw_brainvision` is deprecated and will be removed  in version 0.20. Use  raw.set_montage(montage) instead.\n",
      "  raw1 = mne.io.read_raw_brainvision(eeg_path,montage,preload=True)\n"
     ]
    },
    {
     "name": "stdout",
     "output_type": "stream",
     "text": [
      "Extracting parameters from BIDS/sub-13/eeg/sub-13_task-Moral_run-07_eeg.vhdr...\n",
      "Setting channel info structure...\n",
      "Reading 0 ... 162424  =      0.000 ...   324.848 secs...\n"
     ]
    },
    {
     "name": "stderr",
     "output_type": "stream",
     "text": [
      "<ipython-input-4-54bc8fe59c7b>:9: DeprecationWarning: Setting a montage using anything rather than DigMontage is deprecated and will raise an error in v0.20. Please use ``read_dig_fif``, ``read_dig_egi``, ``read_dig_polhemus_isotrak``, or ``read_dig_captrack`` ``read_dig_hpts``, ``read_dig_captrack`` or ``read_custom_montage`` to read a digitization based on your needs instead; or ``make_standard_montage`` to create ``DigMontage`` based on template; or ``make_dig_montage`` to create a ``DigMontage`` out of np.arrays.\n",
      "  raw1 = mne.io.read_raw_brainvision(eeg_path,montage,preload=True)\n",
      "<ipython-input-4-54bc8fe59c7b>:9: DeprecationWarning: The `montage` parameter from `read_raw_brainvision` is deprecated and will be removed  in version 0.20. Use  raw.set_montage(montage) instead.\n",
      "  raw1 = mne.io.read_raw_brainvision(eeg_path,montage,preload=True)\n"
     ]
    },
    {
     "name": "stdout",
     "output_type": "stream",
     "text": [
      "Extracting parameters from BIDS/sub-13/eeg/sub-13_task-Moral_run-08_eeg.vhdr...\n",
      "Setting channel info structure...\n",
      "Reading 0 ... 190224  =      0.000 ...   380.448 secs...\n"
     ]
    },
    {
     "name": "stderr",
     "output_type": "stream",
     "text": [
      "<ipython-input-4-54bc8fe59c7b>:9: DeprecationWarning: Setting a montage using anything rather than DigMontage is deprecated and will raise an error in v0.20. Please use ``read_dig_fif``, ``read_dig_egi``, ``read_dig_polhemus_isotrak``, or ``read_dig_captrack`` ``read_dig_hpts``, ``read_dig_captrack`` or ``read_custom_montage`` to read a digitization based on your needs instead; or ``make_standard_montage`` to create ``DigMontage`` based on template; or ``make_dig_montage`` to create a ``DigMontage`` out of np.arrays.\n",
      "  raw1 = mne.io.read_raw_brainvision(eeg_path,montage,preload=True)\n",
      "<ipython-input-4-54bc8fe59c7b>:9: DeprecationWarning: The `montage` parameter from `read_raw_brainvision` is deprecated and will be removed  in version 0.20. Use  raw.set_montage(montage) instead.\n",
      "  raw1 = mne.io.read_raw_brainvision(eeg_path,montage,preload=True)\n"
     ]
    },
    {
     "name": "stdout",
     "output_type": "stream",
     "text": [
      "Extracting parameters from BIDS/sub-13/eeg/sub-13_task-Moral_run-09_eeg.vhdr...\n",
      "Setting channel info structure...\n",
      "Reading 0 ... 162099  =      0.000 ...   324.198 secs...\n"
     ]
    },
    {
     "name": "stderr",
     "output_type": "stream",
     "text": [
      "<ipython-input-4-54bc8fe59c7b>:9: DeprecationWarning: Setting a montage using anything rather than DigMontage is deprecated and will raise an error in v0.20. Please use ``read_dig_fif``, ``read_dig_egi``, ``read_dig_polhemus_isotrak``, or ``read_dig_captrack`` ``read_dig_hpts``, ``read_dig_captrack`` or ``read_custom_montage`` to read a digitization based on your needs instead; or ``make_standard_montage`` to create ``DigMontage`` based on template; or ``make_dig_montage`` to create a ``DigMontage`` out of np.arrays.\n",
      "  raw1 = mne.io.read_raw_brainvision(eeg_path,montage,preload=True)\n",
      "<ipython-input-4-54bc8fe59c7b>:9: DeprecationWarning: The `montage` parameter from `read_raw_brainvision` is deprecated and will be removed  in version 0.20. Use  raw.set_montage(montage) instead.\n",
      "  raw1 = mne.io.read_raw_brainvision(eeg_path,montage,preload=True)\n"
     ]
    },
    {
     "name": "stdout",
     "output_type": "stream",
     "text": [
      "Writing /media/hcp4715/USB1/Data/EEGdata/Analysis_Py/Exp1/raw_fif/sub-13_raw.fif\n",
      "Closing /media/hcp4715/USB1/Data/EEGdata/Analysis_Py/Exp1/raw_fif/sub-13_raw.fif [done]\n",
      "Extracting parameters from BIDS/sub-14/eeg/sub-14_task-Moral_run-01_eeg.vhdr...\n",
      "Setting channel info structure...\n",
      "Reading 0 ... 169499  =      0.000 ...   338.998 secs...\n"
     ]
    },
    {
     "name": "stderr",
     "output_type": "stream",
     "text": [
      "/media/hcp4715/study/Py_Envs/Py_MNE/lib/python3.6/site-packages/mne/utils/docs.py:824: DeprecationWarning: Function read_montage is deprecated; ``read_montage`` is deprecated and will be removed in v0.20. Please use ``read_dig_fif``, ``read_dig_egi``, ``read_custom_montage``, or ``read_dig_captrack`` to read a digitization based on your needs instead; or ``make_standard_montage`` to create ``DigMontage`` based on template; or ``make_dig_montage`` to create a ``DigMontage`` out of np.arrays\n",
      "  warnings.warn(msg, category=DeprecationWarning)\n",
      "/media/hcp4715/study/Py_Envs/Py_MNE/lib/python3.6/site-packages/mne/utils/docs.py:807: DeprecationWarning: Class Montage is deprecated; Montage class is deprecated and will be removed in v0.20. Please use DigMontage instead.\n",
      "  warnings.warn(msg, category=DeprecationWarning)\n"
     ]
    },
    {
     "name": "stdout",
     "output_type": "stream",
     "text": [
      "Extracting parameters from BIDS/sub-14/eeg/sub-14_task-Moral_run-02_eeg.vhdr...\n",
      "Setting channel info structure...\n",
      "Reading 0 ... 157699  =      0.000 ...   315.398 secs...\n"
     ]
    },
    {
     "name": "stderr",
     "output_type": "stream",
     "text": [
      "<ipython-input-4-54bc8fe59c7b>:5: DeprecationWarning: Setting a montage using anything rather than DigMontage is deprecated and will raise an error in v0.20. Please use ``read_dig_fif``, ``read_dig_egi``, ``read_dig_polhemus_isotrak``, or ``read_dig_captrack`` ``read_dig_hpts``, ``read_dig_captrack`` or ``read_custom_montage`` to read a digitization based on your needs instead; or ``make_standard_montage`` to create ``DigMontage`` based on template; or ``make_dig_montage`` to create a ``DigMontage`` out of np.arrays.\n",
      "  raw = mne.io.read_raw_brainvision(block1_fname, montage, preload=True)   # read .vhdr as mne raw instance\n",
      "<ipython-input-4-54bc8fe59c7b>:5: DeprecationWarning: The `montage` parameter from `read_raw_brainvision` is deprecated and will be removed  in version 0.20. Use  raw.set_montage(montage) instead.\n",
      "  raw = mne.io.read_raw_brainvision(block1_fname, montage, preload=True)   # read .vhdr as mne raw instance\n"
     ]
    },
    {
     "name": "stdout",
     "output_type": "stream",
     "text": [
      "Extracting parameters from BIDS/sub-14/eeg/sub-14_task-Moral_run-03_eeg.vhdr...\n",
      "Setting channel info structure...\n",
      "Reading 0 ... 161724  =      0.000 ...   323.448 secs...\n"
     ]
    },
    {
     "name": "stderr",
     "output_type": "stream",
     "text": [
      "<ipython-input-4-54bc8fe59c7b>:9: DeprecationWarning: Setting a montage using anything rather than DigMontage is deprecated and will raise an error in v0.20. Please use ``read_dig_fif``, ``read_dig_egi``, ``read_dig_polhemus_isotrak``, or ``read_dig_captrack`` ``read_dig_hpts``, ``read_dig_captrack`` or ``read_custom_montage`` to read a digitization based on your needs instead; or ``make_standard_montage`` to create ``DigMontage`` based on template; or ``make_dig_montage`` to create a ``DigMontage`` out of np.arrays.\n",
      "  raw1 = mne.io.read_raw_brainvision(eeg_path,montage,preload=True)\n",
      "<ipython-input-4-54bc8fe59c7b>:9: DeprecationWarning: The `montage` parameter from `read_raw_brainvision` is deprecated and will be removed  in version 0.20. Use  raw.set_montage(montage) instead.\n",
      "  raw1 = mne.io.read_raw_brainvision(eeg_path,montage,preload=True)\n"
     ]
    },
    {
     "name": "stdout",
     "output_type": "stream",
     "text": [
      "Extracting parameters from BIDS/sub-14/eeg/sub-14_task-Moral_run-04_eeg.vhdr...\n",
      "Setting channel info structure...\n",
      "Reading 0 ... 158974  =      0.000 ...   317.948 secs...\n"
     ]
    },
    {
     "name": "stderr",
     "output_type": "stream",
     "text": [
      "<ipython-input-4-54bc8fe59c7b>:9: DeprecationWarning: Setting a montage using anything rather than DigMontage is deprecated and will raise an error in v0.20. Please use ``read_dig_fif``, ``read_dig_egi``, ``read_dig_polhemus_isotrak``, or ``read_dig_captrack`` ``read_dig_hpts``, ``read_dig_captrack`` or ``read_custom_montage`` to read a digitization based on your needs instead; or ``make_standard_montage`` to create ``DigMontage`` based on template; or ``make_dig_montage`` to create a ``DigMontage`` out of np.arrays.\n",
      "  raw1 = mne.io.read_raw_brainvision(eeg_path,montage,preload=True)\n",
      "<ipython-input-4-54bc8fe59c7b>:9: DeprecationWarning: The `montage` parameter from `read_raw_brainvision` is deprecated and will be removed  in version 0.20. Use  raw.set_montage(montage) instead.\n",
      "  raw1 = mne.io.read_raw_brainvision(eeg_path,montage,preload=True)\n"
     ]
    },
    {
     "name": "stdout",
     "output_type": "stream",
     "text": [
      "Extracting parameters from BIDS/sub-14/eeg/sub-14_task-Moral_run-05_eeg.vhdr...\n",
      "Setting channel info structure...\n",
      "Reading 0 ... 161849  =      0.000 ...   323.698 secs...\n"
     ]
    },
    {
     "name": "stderr",
     "output_type": "stream",
     "text": [
      "<ipython-input-4-54bc8fe59c7b>:9: DeprecationWarning: Setting a montage using anything rather than DigMontage is deprecated and will raise an error in v0.20. Please use ``read_dig_fif``, ``read_dig_egi``, ``read_dig_polhemus_isotrak``, or ``read_dig_captrack`` ``read_dig_hpts``, ``read_dig_captrack`` or ``read_custom_montage`` to read a digitization based on your needs instead; or ``make_standard_montage`` to create ``DigMontage`` based on template; or ``make_dig_montage`` to create a ``DigMontage`` out of np.arrays.\n",
      "  raw1 = mne.io.read_raw_brainvision(eeg_path,montage,preload=True)\n",
      "<ipython-input-4-54bc8fe59c7b>:9: DeprecationWarning: The `montage` parameter from `read_raw_brainvision` is deprecated and will be removed  in version 0.20. Use  raw.set_montage(montage) instead.\n",
      "  raw1 = mne.io.read_raw_brainvision(eeg_path,montage,preload=True)\n"
     ]
    },
    {
     "name": "stdout",
     "output_type": "stream",
     "text": [
      "Extracting parameters from BIDS/sub-14/eeg/sub-14_task-Moral_run-06_eeg.vhdr...\n"
     ]
    },
    {
     "name": "stderr",
     "output_type": "stream",
     "text": [
      "<ipython-input-4-54bc8fe59c7b>:9: DeprecationWarning: Setting a montage using anything rather than DigMontage is deprecated and will raise an error in v0.20. Please use ``read_dig_fif``, ``read_dig_egi``, ``read_dig_polhemus_isotrak``, or ``read_dig_captrack`` ``read_dig_hpts``, ``read_dig_captrack`` or ``read_custom_montage`` to read a digitization based on your needs instead; or ``make_standard_montage`` to create ``DigMontage`` based on template; or ``make_dig_montage`` to create a ``DigMontage`` out of np.arrays.\n",
      "  raw1 = mne.io.read_raw_brainvision(eeg_path,montage,preload=True)\n",
      "<ipython-input-4-54bc8fe59c7b>:9: DeprecationWarning: The `montage` parameter from `read_raw_brainvision` is deprecated and will be removed  in version 0.20. Use  raw.set_montage(montage) instead.\n",
      "  raw1 = mne.io.read_raw_brainvision(eeg_path,montage,preload=True)\n"
     ]
    },
    {
     "name": "stdout",
     "output_type": "stream",
     "text": [
      "Setting channel info structure...\n",
      "Reading 0 ... 165399  =      0.000 ...   330.798 secs...\n"
     ]
    },
    {
     "name": "stderr",
     "output_type": "stream",
     "text": [
      "<ipython-input-4-54bc8fe59c7b>:9: DeprecationWarning: Setting a montage using anything rather than DigMontage is deprecated and will raise an error in v0.20. Please use ``read_dig_fif``, ``read_dig_egi``, ``read_dig_polhemus_isotrak``, or ``read_dig_captrack`` ``read_dig_hpts``, ``read_dig_captrack`` or ``read_custom_montage`` to read a digitization based on your needs instead; or ``make_standard_montage`` to create ``DigMontage`` based on template; or ``make_dig_montage`` to create a ``DigMontage`` out of np.arrays.\n",
      "  raw1 = mne.io.read_raw_brainvision(eeg_path,montage,preload=True)\n",
      "<ipython-input-4-54bc8fe59c7b>:9: DeprecationWarning: The `montage` parameter from `read_raw_brainvision` is deprecated and will be removed  in version 0.20. Use  raw.set_montage(montage) instead.\n",
      "  raw1 = mne.io.read_raw_brainvision(eeg_path,montage,preload=True)\n"
     ]
    },
    {
     "name": "stdout",
     "output_type": "stream",
     "text": [
      "Extracting parameters from BIDS/sub-14/eeg/sub-14_task-Moral_run-07_eeg.vhdr...\n",
      "Setting channel info structure...\n",
      "Reading 0 ... 163649  =      0.000 ...   327.298 secs...\n"
     ]
    },
    {
     "name": "stderr",
     "output_type": "stream",
     "text": [
      "<ipython-input-4-54bc8fe59c7b>:9: DeprecationWarning: Setting a montage using anything rather than DigMontage is deprecated and will raise an error in v0.20. Please use ``read_dig_fif``, ``read_dig_egi``, ``read_dig_polhemus_isotrak``, or ``read_dig_captrack`` ``read_dig_hpts``, ``read_dig_captrack`` or ``read_custom_montage`` to read a digitization based on your needs instead; or ``make_standard_montage`` to create ``DigMontage`` based on template; or ``make_dig_montage`` to create a ``DigMontage`` out of np.arrays.\n",
      "  raw1 = mne.io.read_raw_brainvision(eeg_path,montage,preload=True)\n",
      "<ipython-input-4-54bc8fe59c7b>:9: DeprecationWarning: The `montage` parameter from `read_raw_brainvision` is deprecated and will be removed  in version 0.20. Use  raw.set_montage(montage) instead.\n",
      "  raw1 = mne.io.read_raw_brainvision(eeg_path,montage,preload=True)\n"
     ]
    },
    {
     "name": "stdout",
     "output_type": "stream",
     "text": [
      "Extracting parameters from BIDS/sub-14/eeg/sub-14_task-Moral_run-08_eeg.vhdr...\n",
      "Setting channel info structure...\n",
      "Reading 0 ... 161449  =      0.000 ...   322.898 secs...\n"
     ]
    },
    {
     "name": "stderr",
     "output_type": "stream",
     "text": [
      "<ipython-input-4-54bc8fe59c7b>:9: DeprecationWarning: Setting a montage using anything rather than DigMontage is deprecated and will raise an error in v0.20. Please use ``read_dig_fif``, ``read_dig_egi``, ``read_dig_polhemus_isotrak``, or ``read_dig_captrack`` ``read_dig_hpts``, ``read_dig_captrack`` or ``read_custom_montage`` to read a digitization based on your needs instead; or ``make_standard_montage`` to create ``DigMontage`` based on template; or ``make_dig_montage`` to create a ``DigMontage`` out of np.arrays.\n",
      "  raw1 = mne.io.read_raw_brainvision(eeg_path,montage,preload=True)\n",
      "<ipython-input-4-54bc8fe59c7b>:9: DeprecationWarning: The `montage` parameter from `read_raw_brainvision` is deprecated and will be removed  in version 0.20. Use  raw.set_montage(montage) instead.\n",
      "  raw1 = mne.io.read_raw_brainvision(eeg_path,montage,preload=True)\n"
     ]
    },
    {
     "name": "stdout",
     "output_type": "stream",
     "text": [
      "Extracting parameters from BIDS/sub-14/eeg/sub-14_task-Moral_run-09_eeg.vhdr...\n",
      "Setting channel info structure...\n",
      "Reading 0 ... 246099  =      0.000 ...   492.198 secs...\n"
     ]
    },
    {
     "name": "stderr",
     "output_type": "stream",
     "text": [
      "<ipython-input-4-54bc8fe59c7b>:9: DeprecationWarning: Setting a montage using anything rather than DigMontage is deprecated and will raise an error in v0.20. Please use ``read_dig_fif``, ``read_dig_egi``, ``read_dig_polhemus_isotrak``, or ``read_dig_captrack`` ``read_dig_hpts``, ``read_dig_captrack`` or ``read_custom_montage`` to read a digitization based on your needs instead; or ``make_standard_montage`` to create ``DigMontage`` based on template; or ``make_dig_montage`` to create a ``DigMontage`` out of np.arrays.\n",
      "  raw1 = mne.io.read_raw_brainvision(eeg_path,montage,preload=True)\n",
      "<ipython-input-4-54bc8fe59c7b>:9: DeprecationWarning: The `montage` parameter from `read_raw_brainvision` is deprecated and will be removed  in version 0.20. Use  raw.set_montage(montage) instead.\n",
      "  raw1 = mne.io.read_raw_brainvision(eeg_path,montage,preload=True)\n"
     ]
    },
    {
     "name": "stdout",
     "output_type": "stream",
     "text": [
      "Writing /media/hcp4715/USB1/Data/EEGdata/Analysis_Py/Exp1/raw_fif/sub-14_raw.fif\n",
      "Closing /media/hcp4715/USB1/Data/EEGdata/Analysis_Py/Exp1/raw_fif/sub-14_raw.fif [done]\n",
      "Extracting parameters from BIDS/sub-15/eeg/sub-15_task-Moral_run-01_eeg.vhdr...\n",
      "Setting channel info structure...\n",
      "Reading 0 ... 167774  =      0.000 ...   335.548 secs...\n"
     ]
    },
    {
     "name": "stderr",
     "output_type": "stream",
     "text": [
      "/media/hcp4715/study/Py_Envs/Py_MNE/lib/python3.6/site-packages/mne/utils/docs.py:824: DeprecationWarning: Function read_montage is deprecated; ``read_montage`` is deprecated and will be removed in v0.20. Please use ``read_dig_fif``, ``read_dig_egi``, ``read_custom_montage``, or ``read_dig_captrack`` to read a digitization based on your needs instead; or ``make_standard_montage`` to create ``DigMontage`` based on template; or ``make_dig_montage`` to create a ``DigMontage`` out of np.arrays\n",
      "  warnings.warn(msg, category=DeprecationWarning)\n",
      "/media/hcp4715/study/Py_Envs/Py_MNE/lib/python3.6/site-packages/mne/utils/docs.py:807: DeprecationWarning: Class Montage is deprecated; Montage class is deprecated and will be removed in v0.20. Please use DigMontage instead.\n",
      "  warnings.warn(msg, category=DeprecationWarning)\n"
     ]
    },
    {
     "name": "stdout",
     "output_type": "stream",
     "text": [
      "Extracting parameters from BIDS/sub-15/eeg/sub-15_task-Moral_run-02_eeg.vhdr...\n",
      "Setting channel info structure...\n"
     ]
    },
    {
     "name": "stderr",
     "output_type": "stream",
     "text": [
      "<ipython-input-4-54bc8fe59c7b>:5: DeprecationWarning: Setting a montage using anything rather than DigMontage is deprecated and will raise an error in v0.20. Please use ``read_dig_fif``, ``read_dig_egi``, ``read_dig_polhemus_isotrak``, or ``read_dig_captrack`` ``read_dig_hpts``, ``read_dig_captrack`` or ``read_custom_montage`` to read a digitization based on your needs instead; or ``make_standard_montage`` to create ``DigMontage`` based on template; or ``make_dig_montage`` to create a ``DigMontage`` out of np.arrays.\n",
      "  raw = mne.io.read_raw_brainvision(block1_fname, montage, preload=True)   # read .vhdr as mne raw instance\n",
      "<ipython-input-4-54bc8fe59c7b>:5: DeprecationWarning: The `montage` parameter from `read_raw_brainvision` is deprecated and will be removed  in version 0.20. Use  raw.set_montage(montage) instead.\n",
      "  raw = mne.io.read_raw_brainvision(block1_fname, montage, preload=True)   # read .vhdr as mne raw instance\n"
     ]
    },
    {
     "name": "stdout",
     "output_type": "stream",
     "text": [
      "Reading 0 ... 167299  =      0.000 ...   334.598 secs...\n",
      "Extracting parameters from BIDS/sub-15/eeg/sub-15_task-Moral_run-03_eeg.vhdr...\n"
     ]
    },
    {
     "name": "stderr",
     "output_type": "stream",
     "text": [
      "<ipython-input-4-54bc8fe59c7b>:9: DeprecationWarning: Setting a montage using anything rather than DigMontage is deprecated and will raise an error in v0.20. Please use ``read_dig_fif``, ``read_dig_egi``, ``read_dig_polhemus_isotrak``, or ``read_dig_captrack`` ``read_dig_hpts``, ``read_dig_captrack`` or ``read_custom_montage`` to read a digitization based on your needs instead; or ``make_standard_montage`` to create ``DigMontage`` based on template; or ``make_dig_montage`` to create a ``DigMontage`` out of np.arrays.\n",
      "  raw1 = mne.io.read_raw_brainvision(eeg_path,montage,preload=True)\n",
      "<ipython-input-4-54bc8fe59c7b>:9: DeprecationWarning: The `montage` parameter from `read_raw_brainvision` is deprecated and will be removed  in version 0.20. Use  raw.set_montage(montage) instead.\n",
      "  raw1 = mne.io.read_raw_brainvision(eeg_path,montage,preload=True)\n"
     ]
    },
    {
     "name": "stdout",
     "output_type": "stream",
     "text": [
      "Setting channel info structure...\n",
      "Reading 0 ... 161974  =      0.000 ...   323.948 secs...\n",
      "Extracting parameters from BIDS/sub-15/eeg/sub-15_task-Moral_run-04_eeg.vhdr...\n"
     ]
    },
    {
     "name": "stderr",
     "output_type": "stream",
     "text": [
      "<ipython-input-4-54bc8fe59c7b>:9: DeprecationWarning: Setting a montage using anything rather than DigMontage is deprecated and will raise an error in v0.20. Please use ``read_dig_fif``, ``read_dig_egi``, ``read_dig_polhemus_isotrak``, or ``read_dig_captrack`` ``read_dig_hpts``, ``read_dig_captrack`` or ``read_custom_montage`` to read a digitization based on your needs instead; or ``make_standard_montage`` to create ``DigMontage`` based on template; or ``make_dig_montage`` to create a ``DigMontage`` out of np.arrays.\n",
      "  raw1 = mne.io.read_raw_brainvision(eeg_path,montage,preload=True)\n",
      "<ipython-input-4-54bc8fe59c7b>:9: DeprecationWarning: The `montage` parameter from `read_raw_brainvision` is deprecated and will be removed  in version 0.20. Use  raw.set_montage(montage) instead.\n",
      "  raw1 = mne.io.read_raw_brainvision(eeg_path,montage,preload=True)\n"
     ]
    },
    {
     "name": "stdout",
     "output_type": "stream",
     "text": [
      "Setting channel info structure...\n",
      "Reading 0 ... 165424  =      0.000 ...   330.848 secs...\n",
      "Extracting parameters from BIDS/sub-15/eeg/sub-15_task-Moral_run-05_eeg.vhdr...\n"
     ]
    },
    {
     "name": "stderr",
     "output_type": "stream",
     "text": [
      "<ipython-input-4-54bc8fe59c7b>:9: DeprecationWarning: Setting a montage using anything rather than DigMontage is deprecated and will raise an error in v0.20. Please use ``read_dig_fif``, ``read_dig_egi``, ``read_dig_polhemus_isotrak``, or ``read_dig_captrack`` ``read_dig_hpts``, ``read_dig_captrack`` or ``read_custom_montage`` to read a digitization based on your needs instead; or ``make_standard_montage`` to create ``DigMontage`` based on template; or ``make_dig_montage`` to create a ``DigMontage`` out of np.arrays.\n",
      "  raw1 = mne.io.read_raw_brainvision(eeg_path,montage,preload=True)\n",
      "<ipython-input-4-54bc8fe59c7b>:9: DeprecationWarning: The `montage` parameter from `read_raw_brainvision` is deprecated and will be removed  in version 0.20. Use  raw.set_montage(montage) instead.\n",
      "  raw1 = mne.io.read_raw_brainvision(eeg_path,montage,preload=True)\n"
     ]
    },
    {
     "name": "stdout",
     "output_type": "stream",
     "text": [
      "Setting channel info structure...\n",
      "Reading 0 ... 171724  =      0.000 ...   343.448 secs...\n",
      "Extracting parameters from BIDS/sub-15/eeg/sub-15_task-Moral_run-06_eeg.vhdr...\n"
     ]
    },
    {
     "name": "stderr",
     "output_type": "stream",
     "text": [
      "<ipython-input-4-54bc8fe59c7b>:9: DeprecationWarning: Setting a montage using anything rather than DigMontage is deprecated and will raise an error in v0.20. Please use ``read_dig_fif``, ``read_dig_egi``, ``read_dig_polhemus_isotrak``, or ``read_dig_captrack`` ``read_dig_hpts``, ``read_dig_captrack`` or ``read_custom_montage`` to read a digitization based on your needs instead; or ``make_standard_montage`` to create ``DigMontage`` based on template; or ``make_dig_montage`` to create a ``DigMontage`` out of np.arrays.\n",
      "  raw1 = mne.io.read_raw_brainvision(eeg_path,montage,preload=True)\n",
      "<ipython-input-4-54bc8fe59c7b>:9: DeprecationWarning: The `montage` parameter from `read_raw_brainvision` is deprecated and will be removed  in version 0.20. Use  raw.set_montage(montage) instead.\n",
      "  raw1 = mne.io.read_raw_brainvision(eeg_path,montage,preload=True)\n"
     ]
    },
    {
     "name": "stdout",
     "output_type": "stream",
     "text": [
      "Setting channel info structure...\n",
      "Reading 0 ... 169724  =      0.000 ...   339.448 secs...\n"
     ]
    },
    {
     "name": "stderr",
     "output_type": "stream",
     "text": [
      "<ipython-input-4-54bc8fe59c7b>:9: DeprecationWarning: Setting a montage using anything rather than DigMontage is deprecated and will raise an error in v0.20. Please use ``read_dig_fif``, ``read_dig_egi``, ``read_dig_polhemus_isotrak``, or ``read_dig_captrack`` ``read_dig_hpts``, ``read_dig_captrack`` or ``read_custom_montage`` to read a digitization based on your needs instead; or ``make_standard_montage`` to create ``DigMontage`` based on template; or ``make_dig_montage`` to create a ``DigMontage`` out of np.arrays.\n",
      "  raw1 = mne.io.read_raw_brainvision(eeg_path,montage,preload=True)\n",
      "<ipython-input-4-54bc8fe59c7b>:9: DeprecationWarning: The `montage` parameter from `read_raw_brainvision` is deprecated and will be removed  in version 0.20. Use  raw.set_montage(montage) instead.\n",
      "  raw1 = mne.io.read_raw_brainvision(eeg_path,montage,preload=True)\n"
     ]
    },
    {
     "name": "stdout",
     "output_type": "stream",
     "text": [
      "Extracting parameters from BIDS/sub-15/eeg/sub-15_task-Moral_run-07_eeg.vhdr...\n",
      "Setting channel info structure...\n",
      "Reading 0 ... 162849  =      0.000 ...   325.698 secs...\n"
     ]
    },
    {
     "name": "stderr",
     "output_type": "stream",
     "text": [
      "<ipython-input-4-54bc8fe59c7b>:9: DeprecationWarning: Setting a montage using anything rather than DigMontage is deprecated and will raise an error in v0.20. Please use ``read_dig_fif``, ``read_dig_egi``, ``read_dig_polhemus_isotrak``, or ``read_dig_captrack`` ``read_dig_hpts``, ``read_dig_captrack`` or ``read_custom_montage`` to read a digitization based on your needs instead; or ``make_standard_montage`` to create ``DigMontage`` based on template; or ``make_dig_montage`` to create a ``DigMontage`` out of np.arrays.\n",
      "  raw1 = mne.io.read_raw_brainvision(eeg_path,montage,preload=True)\n",
      "<ipython-input-4-54bc8fe59c7b>:9: DeprecationWarning: The `montage` parameter from `read_raw_brainvision` is deprecated and will be removed  in version 0.20. Use  raw.set_montage(montage) instead.\n",
      "  raw1 = mne.io.read_raw_brainvision(eeg_path,montage,preload=True)\n"
     ]
    },
    {
     "name": "stdout",
     "output_type": "stream",
     "text": [
      "Extracting parameters from BIDS/sub-15/eeg/sub-15_task-Moral_run-08_eeg.vhdr...\n",
      "Setting channel info structure...\n",
      "Reading 0 ... 158499  =      0.000 ...   316.998 secs...\n"
     ]
    },
    {
     "name": "stderr",
     "output_type": "stream",
     "text": [
      "<ipython-input-4-54bc8fe59c7b>:9: DeprecationWarning: Setting a montage using anything rather than DigMontage is deprecated and will raise an error in v0.20. Please use ``read_dig_fif``, ``read_dig_egi``, ``read_dig_polhemus_isotrak``, or ``read_dig_captrack`` ``read_dig_hpts``, ``read_dig_captrack`` or ``read_custom_montage`` to read a digitization based on your needs instead; or ``make_standard_montage`` to create ``DigMontage`` based on template; or ``make_dig_montage`` to create a ``DigMontage`` out of np.arrays.\n",
      "  raw1 = mne.io.read_raw_brainvision(eeg_path,montage,preload=True)\n",
      "<ipython-input-4-54bc8fe59c7b>:9: DeprecationWarning: The `montage` parameter from `read_raw_brainvision` is deprecated and will be removed  in version 0.20. Use  raw.set_montage(montage) instead.\n",
      "  raw1 = mne.io.read_raw_brainvision(eeg_path,montage,preload=True)\n"
     ]
    },
    {
     "name": "stdout",
     "output_type": "stream",
     "text": [
      "Extracting parameters from BIDS/sub-15/eeg/sub-15_task-Moral_run-09_eeg.vhdr...\n",
      "Setting channel info structure...\n",
      "Reading 0 ... 168924  =      0.000 ...   337.848 secs...\n"
     ]
    },
    {
     "name": "stderr",
     "output_type": "stream",
     "text": [
      "<ipython-input-4-54bc8fe59c7b>:9: DeprecationWarning: Setting a montage using anything rather than DigMontage is deprecated and will raise an error in v0.20. Please use ``read_dig_fif``, ``read_dig_egi``, ``read_dig_polhemus_isotrak``, or ``read_dig_captrack`` ``read_dig_hpts``, ``read_dig_captrack`` or ``read_custom_montage`` to read a digitization based on your needs instead; or ``make_standard_montage`` to create ``DigMontage`` based on template; or ``make_dig_montage`` to create a ``DigMontage`` out of np.arrays.\n",
      "  raw1 = mne.io.read_raw_brainvision(eeg_path,montage,preload=True)\n",
      "<ipython-input-4-54bc8fe59c7b>:9: DeprecationWarning: The `montage` parameter from `read_raw_brainvision` is deprecated and will be removed  in version 0.20. Use  raw.set_montage(montage) instead.\n",
      "  raw1 = mne.io.read_raw_brainvision(eeg_path,montage,preload=True)\n"
     ]
    },
    {
     "name": "stdout",
     "output_type": "stream",
     "text": [
      "Writing /media/hcp4715/USB1/Data/EEGdata/Analysis_Py/Exp1/raw_fif/sub-15_raw.fif\n",
      "Closing /media/hcp4715/USB1/Data/EEGdata/Analysis_Py/Exp1/raw_fif/sub-15_raw.fif [done]\n",
      "Extracting parameters from BIDS/sub-16/eeg/sub-16_task-Moral_run-01_eeg.vhdr...\n",
      "Setting channel info structure...\n",
      "Reading 0 ... 164949  =      0.000 ...   329.898 secs...\n"
     ]
    },
    {
     "name": "stderr",
     "output_type": "stream",
     "text": [
      "/media/hcp4715/study/Py_Envs/Py_MNE/lib/python3.6/site-packages/mne/utils/docs.py:824: DeprecationWarning: Function read_montage is deprecated; ``read_montage`` is deprecated and will be removed in v0.20. Please use ``read_dig_fif``, ``read_dig_egi``, ``read_custom_montage``, or ``read_dig_captrack`` to read a digitization based on your needs instead; or ``make_standard_montage`` to create ``DigMontage`` based on template; or ``make_dig_montage`` to create a ``DigMontage`` out of np.arrays\n",
      "  warnings.warn(msg, category=DeprecationWarning)\n",
      "/media/hcp4715/study/Py_Envs/Py_MNE/lib/python3.6/site-packages/mne/utils/docs.py:807: DeprecationWarning: Class Montage is deprecated; Montage class is deprecated and will be removed in v0.20. Please use DigMontage instead.\n",
      "  warnings.warn(msg, category=DeprecationWarning)\n"
     ]
    },
    {
     "name": "stdout",
     "output_type": "stream",
     "text": [
      "Extracting parameters from BIDS/sub-16/eeg/sub-16_task-Moral_run-02_eeg.vhdr...\n",
      "Setting channel info structure...\n",
      "Reading 0 ... 160999  =      0.000 ...   321.998 secs...\n"
     ]
    },
    {
     "name": "stderr",
     "output_type": "stream",
     "text": [
      "<ipython-input-4-54bc8fe59c7b>:5: DeprecationWarning: Setting a montage using anything rather than DigMontage is deprecated and will raise an error in v0.20. Please use ``read_dig_fif``, ``read_dig_egi``, ``read_dig_polhemus_isotrak``, or ``read_dig_captrack`` ``read_dig_hpts``, ``read_dig_captrack`` or ``read_custom_montage`` to read a digitization based on your needs instead; or ``make_standard_montage`` to create ``DigMontage`` based on template; or ``make_dig_montage`` to create a ``DigMontage`` out of np.arrays.\n",
      "  raw = mne.io.read_raw_brainvision(block1_fname, montage, preload=True)   # read .vhdr as mne raw instance\n",
      "<ipython-input-4-54bc8fe59c7b>:5: DeprecationWarning: The `montage` parameter from `read_raw_brainvision` is deprecated and will be removed  in version 0.20. Use  raw.set_montage(montage) instead.\n",
      "  raw = mne.io.read_raw_brainvision(block1_fname, montage, preload=True)   # read .vhdr as mne raw instance\n"
     ]
    },
    {
     "name": "stdout",
     "output_type": "stream",
     "text": [
      "Extracting parameters from BIDS/sub-16/eeg/sub-16_task-Moral_run-03_eeg.vhdr...\n",
      "Setting channel info structure...\n",
      "Reading 0 ... 161474  =      0.000 ...   322.948 secs...\n"
     ]
    },
    {
     "name": "stderr",
     "output_type": "stream",
     "text": [
      "<ipython-input-4-54bc8fe59c7b>:9: DeprecationWarning: Setting a montage using anything rather than DigMontage is deprecated and will raise an error in v0.20. Please use ``read_dig_fif``, ``read_dig_egi``, ``read_dig_polhemus_isotrak``, or ``read_dig_captrack`` ``read_dig_hpts``, ``read_dig_captrack`` or ``read_custom_montage`` to read a digitization based on your needs instead; or ``make_standard_montage`` to create ``DigMontage`` based on template; or ``make_dig_montage`` to create a ``DigMontage`` out of np.arrays.\n",
      "  raw1 = mne.io.read_raw_brainvision(eeg_path,montage,preload=True)\n",
      "<ipython-input-4-54bc8fe59c7b>:9: DeprecationWarning: The `montage` parameter from `read_raw_brainvision` is deprecated and will be removed  in version 0.20. Use  raw.set_montage(montage) instead.\n",
      "  raw1 = mne.io.read_raw_brainvision(eeg_path,montage,preload=True)\n"
     ]
    },
    {
     "name": "stdout",
     "output_type": "stream",
     "text": [
      "Extracting parameters from BIDS/sub-16/eeg/sub-16_task-Moral_run-04_eeg.vhdr...\n",
      "Setting channel info structure...\n",
      "Reading 0 ... 160099  =      0.000 ...   320.198 secs...\n"
     ]
    },
    {
     "name": "stderr",
     "output_type": "stream",
     "text": [
      "<ipython-input-4-54bc8fe59c7b>:9: DeprecationWarning: Setting a montage using anything rather than DigMontage is deprecated and will raise an error in v0.20. Please use ``read_dig_fif``, ``read_dig_egi``, ``read_dig_polhemus_isotrak``, or ``read_dig_captrack`` ``read_dig_hpts``, ``read_dig_captrack`` or ``read_custom_montage`` to read a digitization based on your needs instead; or ``make_standard_montage`` to create ``DigMontage`` based on template; or ``make_dig_montage`` to create a ``DigMontage`` out of np.arrays.\n",
      "  raw1 = mne.io.read_raw_brainvision(eeg_path,montage,preload=True)\n",
      "<ipython-input-4-54bc8fe59c7b>:9: DeprecationWarning: The `montage` parameter from `read_raw_brainvision` is deprecated and will be removed  in version 0.20. Use  raw.set_montage(montage) instead.\n",
      "  raw1 = mne.io.read_raw_brainvision(eeg_path,montage,preload=True)\n"
     ]
    },
    {
     "name": "stdout",
     "output_type": "stream",
     "text": [
      "Extracting parameters from BIDS/sub-16/eeg/sub-16_task-Moral_run-05_eeg.vhdr...\n",
      "Setting channel info structure...\n",
      "Reading 0 ... 159399  =      0.000 ...   318.798 secs...\n"
     ]
    },
    {
     "name": "stderr",
     "output_type": "stream",
     "text": [
      "<ipython-input-4-54bc8fe59c7b>:9: DeprecationWarning: Setting a montage using anything rather than DigMontage is deprecated and will raise an error in v0.20. Please use ``read_dig_fif``, ``read_dig_egi``, ``read_dig_polhemus_isotrak``, or ``read_dig_captrack`` ``read_dig_hpts``, ``read_dig_captrack`` or ``read_custom_montage`` to read a digitization based on your needs instead; or ``make_standard_montage`` to create ``DigMontage`` based on template; or ``make_dig_montage`` to create a ``DigMontage`` out of np.arrays.\n",
      "  raw1 = mne.io.read_raw_brainvision(eeg_path,montage,preload=True)\n",
      "<ipython-input-4-54bc8fe59c7b>:9: DeprecationWarning: The `montage` parameter from `read_raw_brainvision` is deprecated and will be removed  in version 0.20. Use  raw.set_montage(montage) instead.\n",
      "  raw1 = mne.io.read_raw_brainvision(eeg_path,montage,preload=True)\n"
     ]
    },
    {
     "name": "stdout",
     "output_type": "stream",
     "text": [
      "Extracting parameters from BIDS/sub-16/eeg/sub-16_task-Moral_run-06_eeg.vhdr...\n"
     ]
    },
    {
     "name": "stderr",
     "output_type": "stream",
     "text": [
      "<ipython-input-4-54bc8fe59c7b>:9: DeprecationWarning: Setting a montage using anything rather than DigMontage is deprecated and will raise an error in v0.20. Please use ``read_dig_fif``, ``read_dig_egi``, ``read_dig_polhemus_isotrak``, or ``read_dig_captrack`` ``read_dig_hpts``, ``read_dig_captrack`` or ``read_custom_montage`` to read a digitization based on your needs instead; or ``make_standard_montage`` to create ``DigMontage`` based on template; or ``make_dig_montage`` to create a ``DigMontage`` out of np.arrays.\n",
      "  raw1 = mne.io.read_raw_brainvision(eeg_path,montage,preload=True)\n",
      "<ipython-input-4-54bc8fe59c7b>:9: DeprecationWarning: The `montage` parameter from `read_raw_brainvision` is deprecated and will be removed  in version 0.20. Use  raw.set_montage(montage) instead.\n",
      "  raw1 = mne.io.read_raw_brainvision(eeg_path,montage,preload=True)\n"
     ]
    },
    {
     "name": "stdout",
     "output_type": "stream",
     "text": [
      "Setting channel info structure...\n",
      "Reading 0 ... 163374  =      0.000 ...   326.748 secs...\n"
     ]
    },
    {
     "name": "stderr",
     "output_type": "stream",
     "text": [
      "<ipython-input-4-54bc8fe59c7b>:9: DeprecationWarning: Setting a montage using anything rather than DigMontage is deprecated and will raise an error in v0.20. Please use ``read_dig_fif``, ``read_dig_egi``, ``read_dig_polhemus_isotrak``, or ``read_dig_captrack`` ``read_dig_hpts``, ``read_dig_captrack`` or ``read_custom_montage`` to read a digitization based on your needs instead; or ``make_standard_montage`` to create ``DigMontage`` based on template; or ``make_dig_montage`` to create a ``DigMontage`` out of np.arrays.\n",
      "  raw1 = mne.io.read_raw_brainvision(eeg_path,montage,preload=True)\n",
      "<ipython-input-4-54bc8fe59c7b>:9: DeprecationWarning: The `montage` parameter from `read_raw_brainvision` is deprecated and will be removed  in version 0.20. Use  raw.set_montage(montage) instead.\n",
      "  raw1 = mne.io.read_raw_brainvision(eeg_path,montage,preload=True)\n"
     ]
    },
    {
     "name": "stdout",
     "output_type": "stream",
     "text": [
      "Extracting parameters from BIDS/sub-16/eeg/sub-16_task-Moral_run-07_eeg.vhdr...\n",
      "Setting channel info structure...\n",
      "Reading 0 ... 159999  =      0.000 ...   319.998 secs...\n"
     ]
    },
    {
     "name": "stderr",
     "output_type": "stream",
     "text": [
      "<ipython-input-4-54bc8fe59c7b>:9: DeprecationWarning: Setting a montage using anything rather than DigMontage is deprecated and will raise an error in v0.20. Please use ``read_dig_fif``, ``read_dig_egi``, ``read_dig_polhemus_isotrak``, or ``read_dig_captrack`` ``read_dig_hpts``, ``read_dig_captrack`` or ``read_custom_montage`` to read a digitization based on your needs instead; or ``make_standard_montage`` to create ``DigMontage`` based on template; or ``make_dig_montage`` to create a ``DigMontage`` out of np.arrays.\n",
      "  raw1 = mne.io.read_raw_brainvision(eeg_path,montage,preload=True)\n",
      "<ipython-input-4-54bc8fe59c7b>:9: DeprecationWarning: The `montage` parameter from `read_raw_brainvision` is deprecated and will be removed  in version 0.20. Use  raw.set_montage(montage) instead.\n",
      "  raw1 = mne.io.read_raw_brainvision(eeg_path,montage,preload=True)\n"
     ]
    },
    {
     "name": "stdout",
     "output_type": "stream",
     "text": [
      "Extracting parameters from BIDS/sub-16/eeg/sub-16_task-Moral_run-08_eeg.vhdr...\n",
      "Setting channel info structure...\n",
      "Reading 0 ... 161049  =      0.000 ...   322.098 secs...\n"
     ]
    },
    {
     "name": "stderr",
     "output_type": "stream",
     "text": [
      "<ipython-input-4-54bc8fe59c7b>:9: DeprecationWarning: Setting a montage using anything rather than DigMontage is deprecated and will raise an error in v0.20. Please use ``read_dig_fif``, ``read_dig_egi``, ``read_dig_polhemus_isotrak``, or ``read_dig_captrack`` ``read_dig_hpts``, ``read_dig_captrack`` or ``read_custom_montage`` to read a digitization based on your needs instead; or ``make_standard_montage`` to create ``DigMontage`` based on template; or ``make_dig_montage`` to create a ``DigMontage`` out of np.arrays.\n",
      "  raw1 = mne.io.read_raw_brainvision(eeg_path,montage,preload=True)\n",
      "<ipython-input-4-54bc8fe59c7b>:9: DeprecationWarning: The `montage` parameter from `read_raw_brainvision` is deprecated and will be removed  in version 0.20. Use  raw.set_montage(montage) instead.\n",
      "  raw1 = mne.io.read_raw_brainvision(eeg_path,montage,preload=True)\n"
     ]
    },
    {
     "name": "stdout",
     "output_type": "stream",
     "text": [
      "Extracting parameters from BIDS/sub-16/eeg/sub-16_task-Moral_run-09_eeg.vhdr...\n",
      "Setting channel info structure...\n",
      "Reading 0 ... 162149  =      0.000 ...   324.298 secs...\n"
     ]
    },
    {
     "name": "stderr",
     "output_type": "stream",
     "text": [
      "<ipython-input-4-54bc8fe59c7b>:9: DeprecationWarning: Setting a montage using anything rather than DigMontage is deprecated and will raise an error in v0.20. Please use ``read_dig_fif``, ``read_dig_egi``, ``read_dig_polhemus_isotrak``, or ``read_dig_captrack`` ``read_dig_hpts``, ``read_dig_captrack`` or ``read_custom_montage`` to read a digitization based on your needs instead; or ``make_standard_montage`` to create ``DigMontage`` based on template; or ``make_dig_montage`` to create a ``DigMontage`` out of np.arrays.\n",
      "  raw1 = mne.io.read_raw_brainvision(eeg_path,montage,preload=True)\n",
      "<ipython-input-4-54bc8fe59c7b>:9: DeprecationWarning: The `montage` parameter from `read_raw_brainvision` is deprecated and will be removed  in version 0.20. Use  raw.set_montage(montage) instead.\n",
      "  raw1 = mne.io.read_raw_brainvision(eeg_path,montage,preload=True)\n"
     ]
    },
    {
     "name": "stdout",
     "output_type": "stream",
     "text": [
      "Writing /media/hcp4715/USB1/Data/EEGdata/Analysis_Py/Exp1/raw_fif/sub-16_raw.fif\n",
      "Closing /media/hcp4715/USB1/Data/EEGdata/Analysis_Py/Exp1/raw_fif/sub-16_raw.fif [done]\n",
      "Extracting parameters from BIDS/sub-17/eeg/sub-17_task-Moral_run-01_eeg.vhdr...\n",
      "Setting channel info structure...\n",
      "Reading 0 ... 164174  =      0.000 ...   328.348 secs...\n"
     ]
    },
    {
     "name": "stderr",
     "output_type": "stream",
     "text": [
      "/media/hcp4715/study/Py_Envs/Py_MNE/lib/python3.6/site-packages/mne/utils/docs.py:824: DeprecationWarning: Function read_montage is deprecated; ``read_montage`` is deprecated and will be removed in v0.20. Please use ``read_dig_fif``, ``read_dig_egi``, ``read_custom_montage``, or ``read_dig_captrack`` to read a digitization based on your needs instead; or ``make_standard_montage`` to create ``DigMontage`` based on template; or ``make_dig_montage`` to create a ``DigMontage`` out of np.arrays\n",
      "  warnings.warn(msg, category=DeprecationWarning)\n",
      "/media/hcp4715/study/Py_Envs/Py_MNE/lib/python3.6/site-packages/mne/utils/docs.py:807: DeprecationWarning: Class Montage is deprecated; Montage class is deprecated and will be removed in v0.20. Please use DigMontage instead.\n",
      "  warnings.warn(msg, category=DeprecationWarning)\n"
     ]
    },
    {
     "name": "stdout",
     "output_type": "stream",
     "text": [
      "Extracting parameters from BIDS/sub-17/eeg/sub-17_task-Moral_run-02_eeg.vhdr...\n",
      "Setting channel info structure...\n",
      "Reading 0 ... 159999  =      0.000 ...   319.998 secs...\n"
     ]
    },
    {
     "name": "stderr",
     "output_type": "stream",
     "text": [
      "<ipython-input-4-54bc8fe59c7b>:5: DeprecationWarning: Setting a montage using anything rather than DigMontage is deprecated and will raise an error in v0.20. Please use ``read_dig_fif``, ``read_dig_egi``, ``read_dig_polhemus_isotrak``, or ``read_dig_captrack`` ``read_dig_hpts``, ``read_dig_captrack`` or ``read_custom_montage`` to read a digitization based on your needs instead; or ``make_standard_montage`` to create ``DigMontage`` based on template; or ``make_dig_montage`` to create a ``DigMontage`` out of np.arrays.\n",
      "  raw = mne.io.read_raw_brainvision(block1_fname, montage, preload=True)   # read .vhdr as mne raw instance\n",
      "<ipython-input-4-54bc8fe59c7b>:5: DeprecationWarning: The `montage` parameter from `read_raw_brainvision` is deprecated and will be removed  in version 0.20. Use  raw.set_montage(montage) instead.\n",
      "  raw = mne.io.read_raw_brainvision(block1_fname, montage, preload=True)   # read .vhdr as mne raw instance\n"
     ]
    },
    {
     "name": "stdout",
     "output_type": "stream",
     "text": [
      "Extracting parameters from BIDS/sub-17/eeg/sub-17_task-Moral_run-03_eeg.vhdr...\n",
      "Setting channel info structure...\n",
      "Reading 0 ... 158149  =      0.000 ...   316.298 secs...\n"
     ]
    },
    {
     "name": "stderr",
     "output_type": "stream",
     "text": [
      "<ipython-input-4-54bc8fe59c7b>:9: DeprecationWarning: Setting a montage using anything rather than DigMontage is deprecated and will raise an error in v0.20. Please use ``read_dig_fif``, ``read_dig_egi``, ``read_dig_polhemus_isotrak``, or ``read_dig_captrack`` ``read_dig_hpts``, ``read_dig_captrack`` or ``read_custom_montage`` to read a digitization based on your needs instead; or ``make_standard_montage`` to create ``DigMontage`` based on template; or ``make_dig_montage`` to create a ``DigMontage`` out of np.arrays.\n",
      "  raw1 = mne.io.read_raw_brainvision(eeg_path,montage,preload=True)\n",
      "<ipython-input-4-54bc8fe59c7b>:9: DeprecationWarning: The `montage` parameter from `read_raw_brainvision` is deprecated and will be removed  in version 0.20. Use  raw.set_montage(montage) instead.\n",
      "  raw1 = mne.io.read_raw_brainvision(eeg_path,montage,preload=True)\n"
     ]
    },
    {
     "name": "stdout",
     "output_type": "stream",
     "text": [
      "Extracting parameters from BIDS/sub-17/eeg/sub-17_task-Moral_run-04_eeg.vhdr...\n",
      "Setting channel info structure...\n",
      "Reading 0 ... 156024  =      0.000 ...   312.048 secs...\n"
     ]
    },
    {
     "name": "stderr",
     "output_type": "stream",
     "text": [
      "<ipython-input-4-54bc8fe59c7b>:9: DeprecationWarning: Setting a montage using anything rather than DigMontage is deprecated and will raise an error in v0.20. Please use ``read_dig_fif``, ``read_dig_egi``, ``read_dig_polhemus_isotrak``, or ``read_dig_captrack`` ``read_dig_hpts``, ``read_dig_captrack`` or ``read_custom_montage`` to read a digitization based on your needs instead; or ``make_standard_montage`` to create ``DigMontage`` based on template; or ``make_dig_montage`` to create a ``DigMontage`` out of np.arrays.\n",
      "  raw1 = mne.io.read_raw_brainvision(eeg_path,montage,preload=True)\n",
      "<ipython-input-4-54bc8fe59c7b>:9: DeprecationWarning: The `montage` parameter from `read_raw_brainvision` is deprecated and will be removed  in version 0.20. Use  raw.set_montage(montage) instead.\n",
      "  raw1 = mne.io.read_raw_brainvision(eeg_path,montage,preload=True)\n"
     ]
    },
    {
     "name": "stdout",
     "output_type": "stream",
     "text": [
      "Extracting parameters from BIDS/sub-17/eeg/sub-17_task-Moral_run-05_eeg.vhdr...\n",
      "Setting channel info structure...\n"
     ]
    },
    {
     "name": "stderr",
     "output_type": "stream",
     "text": [
      "<ipython-input-4-54bc8fe59c7b>:9: DeprecationWarning: Setting a montage using anything rather than DigMontage is deprecated and will raise an error in v0.20. Please use ``read_dig_fif``, ``read_dig_egi``, ``read_dig_polhemus_isotrak``, or ``read_dig_captrack`` ``read_dig_hpts``, ``read_dig_captrack`` or ``read_custom_montage`` to read a digitization based on your needs instead; or ``make_standard_montage`` to create ``DigMontage`` based on template; or ``make_dig_montage`` to create a ``DigMontage`` out of np.arrays.\n",
      "  raw1 = mne.io.read_raw_brainvision(eeg_path,montage,preload=True)\n",
      "<ipython-input-4-54bc8fe59c7b>:9: DeprecationWarning: The `montage` parameter from `read_raw_brainvision` is deprecated and will be removed  in version 0.20. Use  raw.set_montage(montage) instead.\n",
      "  raw1 = mne.io.read_raw_brainvision(eeg_path,montage,preload=True)\n"
     ]
    },
    {
     "name": "stdout",
     "output_type": "stream",
     "text": [
      "Reading 0 ... 160849  =      0.000 ...   321.698 secs...\n",
      "Extracting parameters from BIDS/sub-17/eeg/sub-17_task-Moral_run-06_eeg.vhdr...\n"
     ]
    },
    {
     "name": "stderr",
     "output_type": "stream",
     "text": [
      "<ipython-input-4-54bc8fe59c7b>:9: DeprecationWarning: Setting a montage using anything rather than DigMontage is deprecated and will raise an error in v0.20. Please use ``read_dig_fif``, ``read_dig_egi``, ``read_dig_polhemus_isotrak``, or ``read_dig_captrack`` ``read_dig_hpts``, ``read_dig_captrack`` or ``read_custom_montage`` to read a digitization based on your needs instead; or ``make_standard_montage`` to create ``DigMontage`` based on template; or ``make_dig_montage`` to create a ``DigMontage`` out of np.arrays.\n",
      "  raw1 = mne.io.read_raw_brainvision(eeg_path,montage,preload=True)\n",
      "<ipython-input-4-54bc8fe59c7b>:9: DeprecationWarning: The `montage` parameter from `read_raw_brainvision` is deprecated and will be removed  in version 0.20. Use  raw.set_montage(montage) instead.\n",
      "  raw1 = mne.io.read_raw_brainvision(eeg_path,montage,preload=True)\n"
     ]
    },
    {
     "name": "stdout",
     "output_type": "stream",
     "text": [
      "Setting channel info structure...\n",
      "Reading 0 ... 159674  =      0.000 ...   319.348 secs...\n"
     ]
    },
    {
     "name": "stderr",
     "output_type": "stream",
     "text": [
      "<ipython-input-4-54bc8fe59c7b>:9: DeprecationWarning: Setting a montage using anything rather than DigMontage is deprecated and will raise an error in v0.20. Please use ``read_dig_fif``, ``read_dig_egi``, ``read_dig_polhemus_isotrak``, or ``read_dig_captrack`` ``read_dig_hpts``, ``read_dig_captrack`` or ``read_custom_montage`` to read a digitization based on your needs instead; or ``make_standard_montage`` to create ``DigMontage`` based on template; or ``make_dig_montage`` to create a ``DigMontage`` out of np.arrays.\n",
      "  raw1 = mne.io.read_raw_brainvision(eeg_path,montage,preload=True)\n",
      "<ipython-input-4-54bc8fe59c7b>:9: DeprecationWarning: The `montage` parameter from `read_raw_brainvision` is deprecated and will be removed  in version 0.20. Use  raw.set_montage(montage) instead.\n",
      "  raw1 = mne.io.read_raw_brainvision(eeg_path,montage,preload=True)\n"
     ]
    },
    {
     "name": "stdout",
     "output_type": "stream",
     "text": [
      "Extracting parameters from BIDS/sub-17/eeg/sub-17_task-Moral_run-07_eeg.vhdr...\n",
      "Setting channel info structure...\n",
      "Reading 0 ... 179774  =      0.000 ...   359.548 secs...\n"
     ]
    },
    {
     "name": "stderr",
     "output_type": "stream",
     "text": [
      "<ipython-input-4-54bc8fe59c7b>:9: DeprecationWarning: Setting a montage using anything rather than DigMontage is deprecated and will raise an error in v0.20. Please use ``read_dig_fif``, ``read_dig_egi``, ``read_dig_polhemus_isotrak``, or ``read_dig_captrack`` ``read_dig_hpts``, ``read_dig_captrack`` or ``read_custom_montage`` to read a digitization based on your needs instead; or ``make_standard_montage`` to create ``DigMontage`` based on template; or ``make_dig_montage`` to create a ``DigMontage`` out of np.arrays.\n",
      "  raw1 = mne.io.read_raw_brainvision(eeg_path,montage,preload=True)\n",
      "<ipython-input-4-54bc8fe59c7b>:9: DeprecationWarning: The `montage` parameter from `read_raw_brainvision` is deprecated and will be removed  in version 0.20. Use  raw.set_montage(montage) instead.\n",
      "  raw1 = mne.io.read_raw_brainvision(eeg_path,montage,preload=True)\n"
     ]
    },
    {
     "name": "stdout",
     "output_type": "stream",
     "text": [
      "Extracting parameters from BIDS/sub-17/eeg/sub-17_task-Moral_run-08_eeg.vhdr...\n",
      "Setting channel info structure...\n",
      "Reading 0 ... 158524  =      0.000 ...   317.048 secs...\n"
     ]
    },
    {
     "name": "stderr",
     "output_type": "stream",
     "text": [
      "<ipython-input-4-54bc8fe59c7b>:9: DeprecationWarning: Setting a montage using anything rather than DigMontage is deprecated and will raise an error in v0.20. Please use ``read_dig_fif``, ``read_dig_egi``, ``read_dig_polhemus_isotrak``, or ``read_dig_captrack`` ``read_dig_hpts``, ``read_dig_captrack`` or ``read_custom_montage`` to read a digitization based on your needs instead; or ``make_standard_montage`` to create ``DigMontage`` based on template; or ``make_dig_montage`` to create a ``DigMontage`` out of np.arrays.\n",
      "  raw1 = mne.io.read_raw_brainvision(eeg_path,montage,preload=True)\n",
      "<ipython-input-4-54bc8fe59c7b>:9: DeprecationWarning: The `montage` parameter from `read_raw_brainvision` is deprecated and will be removed  in version 0.20. Use  raw.set_montage(montage) instead.\n",
      "  raw1 = mne.io.read_raw_brainvision(eeg_path,montage,preload=True)\n"
     ]
    },
    {
     "name": "stdout",
     "output_type": "stream",
     "text": [
      "Extracting parameters from BIDS/sub-17/eeg/sub-17_task-Moral_run-09_eeg.vhdr...\n",
      "Setting channel info structure...\n",
      "Reading 0 ... 157324  =      0.000 ...   314.648 secs...\n"
     ]
    },
    {
     "name": "stderr",
     "output_type": "stream",
     "text": [
      "<ipython-input-4-54bc8fe59c7b>:9: DeprecationWarning: Setting a montage using anything rather than DigMontage is deprecated and will raise an error in v0.20. Please use ``read_dig_fif``, ``read_dig_egi``, ``read_dig_polhemus_isotrak``, or ``read_dig_captrack`` ``read_dig_hpts``, ``read_dig_captrack`` or ``read_custom_montage`` to read a digitization based on your needs instead; or ``make_standard_montage`` to create ``DigMontage`` based on template; or ``make_dig_montage`` to create a ``DigMontage`` out of np.arrays.\n",
      "  raw1 = mne.io.read_raw_brainvision(eeg_path,montage,preload=True)\n",
      "<ipython-input-4-54bc8fe59c7b>:9: DeprecationWarning: The `montage` parameter from `read_raw_brainvision` is deprecated and will be removed  in version 0.20. Use  raw.set_montage(montage) instead.\n",
      "  raw1 = mne.io.read_raw_brainvision(eeg_path,montage,preload=True)\n"
     ]
    },
    {
     "name": "stdout",
     "output_type": "stream",
     "text": [
      "Writing /media/hcp4715/USB1/Data/EEGdata/Analysis_Py/Exp1/raw_fif/sub-17_raw.fif\n",
      "Closing /media/hcp4715/USB1/Data/EEGdata/Analysis_Py/Exp1/raw_fif/sub-17_raw.fif [done]\n",
      "Extracting parameters from BIDS/sub-18/eeg/sub-18_task-Moral_run-01_eeg.vhdr...\n",
      "Setting channel info structure...\n",
      "Reading 0 ... 156524  =      0.000 ...   313.048 secs...\n"
     ]
    },
    {
     "name": "stderr",
     "output_type": "stream",
     "text": [
      "/media/hcp4715/study/Py_Envs/Py_MNE/lib/python3.6/site-packages/mne/utils/docs.py:824: DeprecationWarning: Function read_montage is deprecated; ``read_montage`` is deprecated and will be removed in v0.20. Please use ``read_dig_fif``, ``read_dig_egi``, ``read_custom_montage``, or ``read_dig_captrack`` to read a digitization based on your needs instead; or ``make_standard_montage`` to create ``DigMontage`` based on template; or ``make_dig_montage`` to create a ``DigMontage`` out of np.arrays\n",
      "  warnings.warn(msg, category=DeprecationWarning)\n",
      "/media/hcp4715/study/Py_Envs/Py_MNE/lib/python3.6/site-packages/mne/utils/docs.py:807: DeprecationWarning: Class Montage is deprecated; Montage class is deprecated and will be removed in v0.20. Please use DigMontage instead.\n",
      "  warnings.warn(msg, category=DeprecationWarning)\n"
     ]
    },
    {
     "name": "stdout",
     "output_type": "stream",
     "text": [
      "Extracting parameters from BIDS/sub-18/eeg/sub-18_task-Moral_run-02_eeg.vhdr...\n",
      "Setting channel info structure...\n",
      "Reading 0 ... 156774  =      0.000 ...   313.548 secs...\n"
     ]
    },
    {
     "name": "stderr",
     "output_type": "stream",
     "text": [
      "<ipython-input-4-54bc8fe59c7b>:5: DeprecationWarning: Setting a montage using anything rather than DigMontage is deprecated and will raise an error in v0.20. Please use ``read_dig_fif``, ``read_dig_egi``, ``read_dig_polhemus_isotrak``, or ``read_dig_captrack`` ``read_dig_hpts``, ``read_dig_captrack`` or ``read_custom_montage`` to read a digitization based on your needs instead; or ``make_standard_montage`` to create ``DigMontage`` based on template; or ``make_dig_montage`` to create a ``DigMontage`` out of np.arrays.\n",
      "  raw = mne.io.read_raw_brainvision(block1_fname, montage, preload=True)   # read .vhdr as mne raw instance\n",
      "<ipython-input-4-54bc8fe59c7b>:5: DeprecationWarning: The `montage` parameter from `read_raw_brainvision` is deprecated and will be removed  in version 0.20. Use  raw.set_montage(montage) instead.\n",
      "  raw = mne.io.read_raw_brainvision(block1_fname, montage, preload=True)   # read .vhdr as mne raw instance\n"
     ]
    },
    {
     "name": "stdout",
     "output_type": "stream",
     "text": [
      "Extracting parameters from BIDS/sub-18/eeg/sub-18_task-Moral_run-03_eeg.vhdr...\n",
      "Setting channel info structure...\n"
     ]
    },
    {
     "name": "stderr",
     "output_type": "stream",
     "text": [
      "<ipython-input-4-54bc8fe59c7b>:9: DeprecationWarning: Setting a montage using anything rather than DigMontage is deprecated and will raise an error in v0.20. Please use ``read_dig_fif``, ``read_dig_egi``, ``read_dig_polhemus_isotrak``, or ``read_dig_captrack`` ``read_dig_hpts``, ``read_dig_captrack`` or ``read_custom_montage`` to read a digitization based on your needs instead; or ``make_standard_montage`` to create ``DigMontage`` based on template; or ``make_dig_montage`` to create a ``DigMontage`` out of np.arrays.\n",
      "  raw1 = mne.io.read_raw_brainvision(eeg_path,montage,preload=True)\n",
      "<ipython-input-4-54bc8fe59c7b>:9: DeprecationWarning: The `montage` parameter from `read_raw_brainvision` is deprecated and will be removed  in version 0.20. Use  raw.set_montage(montage) instead.\n",
      "  raw1 = mne.io.read_raw_brainvision(eeg_path,montage,preload=True)\n"
     ]
    },
    {
     "name": "stdout",
     "output_type": "stream",
     "text": [
      "Reading 0 ... 158724  =      0.000 ...   317.448 secs...\n",
      "Extracting parameters from BIDS/sub-18/eeg/sub-18_task-Moral_run-04_eeg.vhdr...\n",
      "Setting channel info structure...\n",
      "Reading 0 ... 159024  =      0.000 ...   318.048 secs...\n"
     ]
    },
    {
     "name": "stderr",
     "output_type": "stream",
     "text": [
      "<ipython-input-4-54bc8fe59c7b>:9: DeprecationWarning: Setting a montage using anything rather than DigMontage is deprecated and will raise an error in v0.20. Please use ``read_dig_fif``, ``read_dig_egi``, ``read_dig_polhemus_isotrak``, or ``read_dig_captrack`` ``read_dig_hpts``, ``read_dig_captrack`` or ``read_custom_montage`` to read a digitization based on your needs instead; or ``make_standard_montage`` to create ``DigMontage`` based on template; or ``make_dig_montage`` to create a ``DigMontage`` out of np.arrays.\n",
      "  raw1 = mne.io.read_raw_brainvision(eeg_path,montage,preload=True)\n",
      "<ipython-input-4-54bc8fe59c7b>:9: DeprecationWarning: The `montage` parameter from `read_raw_brainvision` is deprecated and will be removed  in version 0.20. Use  raw.set_montage(montage) instead.\n",
      "  raw1 = mne.io.read_raw_brainvision(eeg_path,montage,preload=True)\n"
     ]
    },
    {
     "name": "stdout",
     "output_type": "stream",
     "text": [
      "Extracting parameters from BIDS/sub-18/eeg/sub-18_task-Moral_run-05_eeg.vhdr...\n",
      "Setting channel info structure...\n",
      "Reading 0 ... 158124  =      0.000 ...   316.248 secs...\n"
     ]
    },
    {
     "name": "stderr",
     "output_type": "stream",
     "text": [
      "<ipython-input-4-54bc8fe59c7b>:9: DeprecationWarning: Setting a montage using anything rather than DigMontage is deprecated and will raise an error in v0.20. Please use ``read_dig_fif``, ``read_dig_egi``, ``read_dig_polhemus_isotrak``, or ``read_dig_captrack`` ``read_dig_hpts``, ``read_dig_captrack`` or ``read_custom_montage`` to read a digitization based on your needs instead; or ``make_standard_montage`` to create ``DigMontage`` based on template; or ``make_dig_montage`` to create a ``DigMontage`` out of np.arrays.\n",
      "  raw1 = mne.io.read_raw_brainvision(eeg_path,montage,preload=True)\n",
      "<ipython-input-4-54bc8fe59c7b>:9: DeprecationWarning: The `montage` parameter from `read_raw_brainvision` is deprecated and will be removed  in version 0.20. Use  raw.set_montage(montage) instead.\n",
      "  raw1 = mne.io.read_raw_brainvision(eeg_path,montage,preload=True)\n"
     ]
    },
    {
     "name": "stdout",
     "output_type": "stream",
     "text": [
      "Extracting parameters from BIDS/sub-18/eeg/sub-18_task-Moral_run-06_eeg.vhdr...\n"
     ]
    },
    {
     "name": "stderr",
     "output_type": "stream",
     "text": [
      "<ipython-input-4-54bc8fe59c7b>:9: DeprecationWarning: Setting a montage using anything rather than DigMontage is deprecated and will raise an error in v0.20. Please use ``read_dig_fif``, ``read_dig_egi``, ``read_dig_polhemus_isotrak``, or ``read_dig_captrack`` ``read_dig_hpts``, ``read_dig_captrack`` or ``read_custom_montage`` to read a digitization based on your needs instead; or ``make_standard_montage`` to create ``DigMontage`` based on template; or ``make_dig_montage`` to create a ``DigMontage`` out of np.arrays.\n",
      "  raw1 = mne.io.read_raw_brainvision(eeg_path,montage,preload=True)\n",
      "<ipython-input-4-54bc8fe59c7b>:9: DeprecationWarning: The `montage` parameter from `read_raw_brainvision` is deprecated and will be removed  in version 0.20. Use  raw.set_montage(montage) instead.\n",
      "  raw1 = mne.io.read_raw_brainvision(eeg_path,montage,preload=True)\n"
     ]
    },
    {
     "name": "stdout",
     "output_type": "stream",
     "text": [
      "Setting channel info structure...\n",
      "Reading 0 ... 156224  =      0.000 ...   312.448 secs...\n"
     ]
    },
    {
     "name": "stderr",
     "output_type": "stream",
     "text": [
      "<ipython-input-4-54bc8fe59c7b>:9: DeprecationWarning: Setting a montage using anything rather than DigMontage is deprecated and will raise an error in v0.20. Please use ``read_dig_fif``, ``read_dig_egi``, ``read_dig_polhemus_isotrak``, or ``read_dig_captrack`` ``read_dig_hpts``, ``read_dig_captrack`` or ``read_custom_montage`` to read a digitization based on your needs instead; or ``make_standard_montage`` to create ``DigMontage`` based on template; or ``make_dig_montage`` to create a ``DigMontage`` out of np.arrays.\n",
      "  raw1 = mne.io.read_raw_brainvision(eeg_path,montage,preload=True)\n",
      "<ipython-input-4-54bc8fe59c7b>:9: DeprecationWarning: The `montage` parameter from `read_raw_brainvision` is deprecated and will be removed  in version 0.20. Use  raw.set_montage(montage) instead.\n",
      "  raw1 = mne.io.read_raw_brainvision(eeg_path,montage,preload=True)\n"
     ]
    },
    {
     "name": "stdout",
     "output_type": "stream",
     "text": [
      "Extracting parameters from BIDS/sub-18/eeg/sub-18_task-Moral_run-07_eeg.vhdr...\n",
      "Setting channel info structure...\n",
      "Reading 0 ... 156649  =      0.000 ...   313.298 secs...\n"
     ]
    },
    {
     "name": "stderr",
     "output_type": "stream",
     "text": [
      "<ipython-input-4-54bc8fe59c7b>:9: DeprecationWarning: Setting a montage using anything rather than DigMontage is deprecated and will raise an error in v0.20. Please use ``read_dig_fif``, ``read_dig_egi``, ``read_dig_polhemus_isotrak``, or ``read_dig_captrack`` ``read_dig_hpts``, ``read_dig_captrack`` or ``read_custom_montage`` to read a digitization based on your needs instead; or ``make_standard_montage`` to create ``DigMontage`` based on template; or ``make_dig_montage`` to create a ``DigMontage`` out of np.arrays.\n",
      "  raw1 = mne.io.read_raw_brainvision(eeg_path,montage,preload=True)\n",
      "<ipython-input-4-54bc8fe59c7b>:9: DeprecationWarning: The `montage` parameter from `read_raw_brainvision` is deprecated and will be removed  in version 0.20. Use  raw.set_montage(montage) instead.\n",
      "  raw1 = mne.io.read_raw_brainvision(eeg_path,montage,preload=True)\n"
     ]
    },
    {
     "name": "stdout",
     "output_type": "stream",
     "text": [
      "Extracting parameters from BIDS/sub-18/eeg/sub-18_task-Moral_run-08_eeg.vhdr...\n",
      "Setting channel info structure...\n",
      "Reading 0 ... 156899  =      0.000 ...   313.798 secs...\n"
     ]
    },
    {
     "name": "stderr",
     "output_type": "stream",
     "text": [
      "<ipython-input-4-54bc8fe59c7b>:9: DeprecationWarning: Setting a montage using anything rather than DigMontage is deprecated and will raise an error in v0.20. Please use ``read_dig_fif``, ``read_dig_egi``, ``read_dig_polhemus_isotrak``, or ``read_dig_captrack`` ``read_dig_hpts``, ``read_dig_captrack`` or ``read_custom_montage`` to read a digitization based on your needs instead; or ``make_standard_montage`` to create ``DigMontage`` based on template; or ``make_dig_montage`` to create a ``DigMontage`` out of np.arrays.\n",
      "  raw1 = mne.io.read_raw_brainvision(eeg_path,montage,preload=True)\n",
      "<ipython-input-4-54bc8fe59c7b>:9: DeprecationWarning: The `montage` parameter from `read_raw_brainvision` is deprecated and will be removed  in version 0.20. Use  raw.set_montage(montage) instead.\n",
      "  raw1 = mne.io.read_raw_brainvision(eeg_path,montage,preload=True)\n"
     ]
    },
    {
     "name": "stdout",
     "output_type": "stream",
     "text": [
      "Extracting parameters from BIDS/sub-18/eeg/sub-18_task-Moral_run-09_eeg.vhdr...\n",
      "Setting channel info structure...\n",
      "Reading 0 ... 158624  =      0.000 ...   317.248 secs...\n"
     ]
    },
    {
     "name": "stderr",
     "output_type": "stream",
     "text": [
      "<ipython-input-4-54bc8fe59c7b>:9: DeprecationWarning: Setting a montage using anything rather than DigMontage is deprecated and will raise an error in v0.20. Please use ``read_dig_fif``, ``read_dig_egi``, ``read_dig_polhemus_isotrak``, or ``read_dig_captrack`` ``read_dig_hpts``, ``read_dig_captrack`` or ``read_custom_montage`` to read a digitization based on your needs instead; or ``make_standard_montage`` to create ``DigMontage`` based on template; or ``make_dig_montage`` to create a ``DigMontage`` out of np.arrays.\n",
      "  raw1 = mne.io.read_raw_brainvision(eeg_path,montage,preload=True)\n",
      "<ipython-input-4-54bc8fe59c7b>:9: DeprecationWarning: The `montage` parameter from `read_raw_brainvision` is deprecated and will be removed  in version 0.20. Use  raw.set_montage(montage) instead.\n",
      "  raw1 = mne.io.read_raw_brainvision(eeg_path,montage,preload=True)\n"
     ]
    },
    {
     "name": "stdout",
     "output_type": "stream",
     "text": [
      "Writing /media/hcp4715/USB1/Data/EEGdata/Analysis_Py/Exp1/raw_fif/sub-18_raw.fif\n",
      "Closing /media/hcp4715/USB1/Data/EEGdata/Analysis_Py/Exp1/raw_fif/sub-18_raw.fif [done]\n",
      "Extracting parameters from BIDS/sub-19/eeg/sub-19_task-Moral_run-01_eeg.vhdr...\n",
      "Setting channel info structure...\n",
      "Reading 0 ... 156899  =      0.000 ...   313.798 secs...\n"
     ]
    },
    {
     "name": "stderr",
     "output_type": "stream",
     "text": [
      "/media/hcp4715/study/Py_Envs/Py_MNE/lib/python3.6/site-packages/mne/utils/docs.py:824: DeprecationWarning: Function read_montage is deprecated; ``read_montage`` is deprecated and will be removed in v0.20. Please use ``read_dig_fif``, ``read_dig_egi``, ``read_custom_montage``, or ``read_dig_captrack`` to read a digitization based on your needs instead; or ``make_standard_montage`` to create ``DigMontage`` based on template; or ``make_dig_montage`` to create a ``DigMontage`` out of np.arrays\n",
      "  warnings.warn(msg, category=DeprecationWarning)\n",
      "/media/hcp4715/study/Py_Envs/Py_MNE/lib/python3.6/site-packages/mne/utils/docs.py:807: DeprecationWarning: Class Montage is deprecated; Montage class is deprecated and will be removed in v0.20. Please use DigMontage instead.\n",
      "  warnings.warn(msg, category=DeprecationWarning)\n"
     ]
    },
    {
     "name": "stdout",
     "output_type": "stream",
     "text": [
      "Extracting parameters from BIDS/sub-19/eeg/sub-19_task-Moral_run-02_eeg.vhdr...\n",
      "Setting channel info structure...\n",
      "Reading 0 ... 150474  =      0.000 ...   300.948 secs...\n"
     ]
    },
    {
     "name": "stderr",
     "output_type": "stream",
     "text": [
      "<ipython-input-4-54bc8fe59c7b>:5: DeprecationWarning: Setting a montage using anything rather than DigMontage is deprecated and will raise an error in v0.20. Please use ``read_dig_fif``, ``read_dig_egi``, ``read_dig_polhemus_isotrak``, or ``read_dig_captrack`` ``read_dig_hpts``, ``read_dig_captrack`` or ``read_custom_montage`` to read a digitization based on your needs instead; or ``make_standard_montage`` to create ``DigMontage`` based on template; or ``make_dig_montage`` to create a ``DigMontage`` out of np.arrays.\n",
      "  raw = mne.io.read_raw_brainvision(block1_fname, montage, preload=True)   # read .vhdr as mne raw instance\n",
      "<ipython-input-4-54bc8fe59c7b>:5: DeprecationWarning: The `montage` parameter from `read_raw_brainvision` is deprecated and will be removed  in version 0.20. Use  raw.set_montage(montage) instead.\n",
      "  raw = mne.io.read_raw_brainvision(block1_fname, montage, preload=True)   # read .vhdr as mne raw instance\n"
     ]
    },
    {
     "name": "stdout",
     "output_type": "stream",
     "text": [
      "Extracting parameters from BIDS/sub-19/eeg/sub-19_task-Moral_run-03_eeg.vhdr...\n",
      "Setting channel info structure...\n",
      "Reading 0 ... 159424  =      0.000 ...   318.848 secs...\n"
     ]
    },
    {
     "name": "stderr",
     "output_type": "stream",
     "text": [
      "<ipython-input-4-54bc8fe59c7b>:9: DeprecationWarning: Setting a montage using anything rather than DigMontage is deprecated and will raise an error in v0.20. Please use ``read_dig_fif``, ``read_dig_egi``, ``read_dig_polhemus_isotrak``, or ``read_dig_captrack`` ``read_dig_hpts``, ``read_dig_captrack`` or ``read_custom_montage`` to read a digitization based on your needs instead; or ``make_standard_montage`` to create ``DigMontage`` based on template; or ``make_dig_montage`` to create a ``DigMontage`` out of np.arrays.\n",
      "  raw1 = mne.io.read_raw_brainvision(eeg_path,montage,preload=True)\n",
      "<ipython-input-4-54bc8fe59c7b>:9: DeprecationWarning: The `montage` parameter from `read_raw_brainvision` is deprecated and will be removed  in version 0.20. Use  raw.set_montage(montage) instead.\n",
      "  raw1 = mne.io.read_raw_brainvision(eeg_path,montage,preload=True)\n"
     ]
    },
    {
     "name": "stdout",
     "output_type": "stream",
     "text": [
      "Extracting parameters from BIDS/sub-19/eeg/sub-19_task-Moral_run-04_eeg.vhdr...\n",
      "Setting channel info structure...\n",
      "Reading 0 ... 157624  =      0.000 ...   315.248 secs...\n"
     ]
    },
    {
     "name": "stderr",
     "output_type": "stream",
     "text": [
      "<ipython-input-4-54bc8fe59c7b>:9: DeprecationWarning: Setting a montage using anything rather than DigMontage is deprecated and will raise an error in v0.20. Please use ``read_dig_fif``, ``read_dig_egi``, ``read_dig_polhemus_isotrak``, or ``read_dig_captrack`` ``read_dig_hpts``, ``read_dig_captrack`` or ``read_custom_montage`` to read a digitization based on your needs instead; or ``make_standard_montage`` to create ``DigMontage`` based on template; or ``make_dig_montage`` to create a ``DigMontage`` out of np.arrays.\n",
      "  raw1 = mne.io.read_raw_brainvision(eeg_path,montage,preload=True)\n",
      "<ipython-input-4-54bc8fe59c7b>:9: DeprecationWarning: The `montage` parameter from `read_raw_brainvision` is deprecated and will be removed  in version 0.20. Use  raw.set_montage(montage) instead.\n",
      "  raw1 = mne.io.read_raw_brainvision(eeg_path,montage,preload=True)\n"
     ]
    },
    {
     "name": "stdout",
     "output_type": "stream",
     "text": [
      "Extracting parameters from BIDS/sub-19/eeg/sub-19_task-Moral_run-05_eeg.vhdr...\n",
      "Setting channel info structure...\n",
      "Reading 0 ... 158649  =      0.000 ...   317.298 secs...\n"
     ]
    },
    {
     "name": "stderr",
     "output_type": "stream",
     "text": [
      "<ipython-input-4-54bc8fe59c7b>:9: DeprecationWarning: Setting a montage using anything rather than DigMontage is deprecated and will raise an error in v0.20. Please use ``read_dig_fif``, ``read_dig_egi``, ``read_dig_polhemus_isotrak``, or ``read_dig_captrack`` ``read_dig_hpts``, ``read_dig_captrack`` or ``read_custom_montage`` to read a digitization based on your needs instead; or ``make_standard_montage`` to create ``DigMontage`` based on template; or ``make_dig_montage`` to create a ``DigMontage`` out of np.arrays.\n",
      "  raw1 = mne.io.read_raw_brainvision(eeg_path,montage,preload=True)\n",
      "<ipython-input-4-54bc8fe59c7b>:9: DeprecationWarning: The `montage` parameter from `read_raw_brainvision` is deprecated and will be removed  in version 0.20. Use  raw.set_montage(montage) instead.\n",
      "  raw1 = mne.io.read_raw_brainvision(eeg_path,montage,preload=True)\n"
     ]
    },
    {
     "name": "stdout",
     "output_type": "stream",
     "text": [
      "Extracting parameters from BIDS/sub-19/eeg/sub-19_task-Moral_run-06_eeg.vhdr...\n"
     ]
    },
    {
     "name": "stderr",
     "output_type": "stream",
     "text": [
      "<ipython-input-4-54bc8fe59c7b>:9: DeprecationWarning: Setting a montage using anything rather than DigMontage is deprecated and will raise an error in v0.20. Please use ``read_dig_fif``, ``read_dig_egi``, ``read_dig_polhemus_isotrak``, or ``read_dig_captrack`` ``read_dig_hpts``, ``read_dig_captrack`` or ``read_custom_montage`` to read a digitization based on your needs instead; or ``make_standard_montage`` to create ``DigMontage`` based on template; or ``make_dig_montage`` to create a ``DigMontage`` out of np.arrays.\n",
      "  raw1 = mne.io.read_raw_brainvision(eeg_path,montage,preload=True)\n",
      "<ipython-input-4-54bc8fe59c7b>:9: DeprecationWarning: The `montage` parameter from `read_raw_brainvision` is deprecated and will be removed  in version 0.20. Use  raw.set_montage(montage) instead.\n",
      "  raw1 = mne.io.read_raw_brainvision(eeg_path,montage,preload=True)\n"
     ]
    },
    {
     "name": "stdout",
     "output_type": "stream",
     "text": [
      "Setting channel info structure...\n",
      "Reading 0 ... 158824  =      0.000 ...   317.648 secs...\n"
     ]
    },
    {
     "name": "stderr",
     "output_type": "stream",
     "text": [
      "<ipython-input-4-54bc8fe59c7b>:9: DeprecationWarning: Setting a montage using anything rather than DigMontage is deprecated and will raise an error in v0.20. Please use ``read_dig_fif``, ``read_dig_egi``, ``read_dig_polhemus_isotrak``, or ``read_dig_captrack`` ``read_dig_hpts``, ``read_dig_captrack`` or ``read_custom_montage`` to read a digitization based on your needs instead; or ``make_standard_montage`` to create ``DigMontage`` based on template; or ``make_dig_montage`` to create a ``DigMontage`` out of np.arrays.\n",
      "  raw1 = mne.io.read_raw_brainvision(eeg_path,montage,preload=True)\n",
      "<ipython-input-4-54bc8fe59c7b>:9: DeprecationWarning: The `montage` parameter from `read_raw_brainvision` is deprecated and will be removed  in version 0.20. Use  raw.set_montage(montage) instead.\n",
      "  raw1 = mne.io.read_raw_brainvision(eeg_path,montage,preload=True)\n"
     ]
    },
    {
     "name": "stdout",
     "output_type": "stream",
     "text": [
      "Extracting parameters from BIDS/sub-19/eeg/sub-19_task-Moral_run-07_eeg.vhdr...\n",
      "Setting channel info structure...\n",
      "Reading 0 ... 157699  =      0.000 ...   315.398 secs...\n"
     ]
    },
    {
     "name": "stderr",
     "output_type": "stream",
     "text": [
      "<ipython-input-4-54bc8fe59c7b>:9: DeprecationWarning: Setting a montage using anything rather than DigMontage is deprecated and will raise an error in v0.20. Please use ``read_dig_fif``, ``read_dig_egi``, ``read_dig_polhemus_isotrak``, or ``read_dig_captrack`` ``read_dig_hpts``, ``read_dig_captrack`` or ``read_custom_montage`` to read a digitization based on your needs instead; or ``make_standard_montage`` to create ``DigMontage`` based on template; or ``make_dig_montage`` to create a ``DigMontage`` out of np.arrays.\n",
      "  raw1 = mne.io.read_raw_brainvision(eeg_path,montage,preload=True)\n",
      "<ipython-input-4-54bc8fe59c7b>:9: DeprecationWarning: The `montage` parameter from `read_raw_brainvision` is deprecated and will be removed  in version 0.20. Use  raw.set_montage(montage) instead.\n",
      "  raw1 = mne.io.read_raw_brainvision(eeg_path,montage,preload=True)\n"
     ]
    },
    {
     "name": "stdout",
     "output_type": "stream",
     "text": [
      "Extracting parameters from BIDS/sub-19/eeg/sub-19_task-Moral_run-08_eeg.vhdr...\n",
      "Setting channel info structure...\n",
      "Reading 0 ... 157299  =      0.000 ...   314.598 secs...\n"
     ]
    },
    {
     "name": "stderr",
     "output_type": "stream",
     "text": [
      "<ipython-input-4-54bc8fe59c7b>:9: DeprecationWarning: Setting a montage using anything rather than DigMontage is deprecated and will raise an error in v0.20. Please use ``read_dig_fif``, ``read_dig_egi``, ``read_dig_polhemus_isotrak``, or ``read_dig_captrack`` ``read_dig_hpts``, ``read_dig_captrack`` or ``read_custom_montage`` to read a digitization based on your needs instead; or ``make_standard_montage`` to create ``DigMontage`` based on template; or ``make_dig_montage`` to create a ``DigMontage`` out of np.arrays.\n",
      "  raw1 = mne.io.read_raw_brainvision(eeg_path,montage,preload=True)\n",
      "<ipython-input-4-54bc8fe59c7b>:9: DeprecationWarning: The `montage` parameter from `read_raw_brainvision` is deprecated and will be removed  in version 0.20. Use  raw.set_montage(montage) instead.\n",
      "  raw1 = mne.io.read_raw_brainvision(eeg_path,montage,preload=True)\n"
     ]
    },
    {
     "name": "stdout",
     "output_type": "stream",
     "text": [
      "Extracting parameters from BIDS/sub-19/eeg/sub-19_task-Moral_run-09_eeg.vhdr...\n",
      "Setting channel info structure...\n",
      "Reading 0 ... 159249  =      0.000 ...   318.498 secs...\n"
     ]
    },
    {
     "name": "stderr",
     "output_type": "stream",
     "text": [
      "<ipython-input-4-54bc8fe59c7b>:9: DeprecationWarning: Setting a montage using anything rather than DigMontage is deprecated and will raise an error in v0.20. Please use ``read_dig_fif``, ``read_dig_egi``, ``read_dig_polhemus_isotrak``, or ``read_dig_captrack`` ``read_dig_hpts``, ``read_dig_captrack`` or ``read_custom_montage`` to read a digitization based on your needs instead; or ``make_standard_montage`` to create ``DigMontage`` based on template; or ``make_dig_montage`` to create a ``DigMontage`` out of np.arrays.\n",
      "  raw1 = mne.io.read_raw_brainvision(eeg_path,montage,preload=True)\n",
      "<ipython-input-4-54bc8fe59c7b>:9: DeprecationWarning: The `montage` parameter from `read_raw_brainvision` is deprecated and will be removed  in version 0.20. Use  raw.set_montage(montage) instead.\n",
      "  raw1 = mne.io.read_raw_brainvision(eeg_path,montage,preload=True)\n"
     ]
    },
    {
     "name": "stdout",
     "output_type": "stream",
     "text": [
      "Writing /media/hcp4715/USB1/Data/EEGdata/Analysis_Py/Exp1/raw_fif/sub-19_raw.fif\n",
      "Closing /media/hcp4715/USB1/Data/EEGdata/Analysis_Py/Exp1/raw_fif/sub-19_raw.fif [done]\n",
      "Extracting parameters from BIDS/sub-20/eeg/sub-20_task-Moral_run-01_eeg.vhdr...\n",
      "Setting channel info structure...\n",
      "Reading 0 ... 186099  =      0.000 ...   372.198 secs...\n"
     ]
    },
    {
     "name": "stderr",
     "output_type": "stream",
     "text": [
      "/media/hcp4715/study/Py_Envs/Py_MNE/lib/python3.6/site-packages/mne/utils/docs.py:824: DeprecationWarning: Function read_montage is deprecated; ``read_montage`` is deprecated and will be removed in v0.20. Please use ``read_dig_fif``, ``read_dig_egi``, ``read_custom_montage``, or ``read_dig_captrack`` to read a digitization based on your needs instead; or ``make_standard_montage`` to create ``DigMontage`` based on template; or ``make_dig_montage`` to create a ``DigMontage`` out of np.arrays\n",
      "  warnings.warn(msg, category=DeprecationWarning)\n",
      "/media/hcp4715/study/Py_Envs/Py_MNE/lib/python3.6/site-packages/mne/utils/docs.py:807: DeprecationWarning: Class Montage is deprecated; Montage class is deprecated and will be removed in v0.20. Please use DigMontage instead.\n",
      "  warnings.warn(msg, category=DeprecationWarning)\n"
     ]
    },
    {
     "name": "stdout",
     "output_type": "stream",
     "text": [
      "Extracting parameters from BIDS/sub-20/eeg/sub-20_task-Moral_run-02_eeg.vhdr...\n",
      "Setting channel info structure...\n",
      "Reading 0 ... 178924  =      0.000 ...   357.848 secs...\n"
     ]
    },
    {
     "name": "stderr",
     "output_type": "stream",
     "text": [
      "<ipython-input-4-54bc8fe59c7b>:5: DeprecationWarning: Setting a montage using anything rather than DigMontage is deprecated and will raise an error in v0.20. Please use ``read_dig_fif``, ``read_dig_egi``, ``read_dig_polhemus_isotrak``, or ``read_dig_captrack`` ``read_dig_hpts``, ``read_dig_captrack`` or ``read_custom_montage`` to read a digitization based on your needs instead; or ``make_standard_montage`` to create ``DigMontage`` based on template; or ``make_dig_montage`` to create a ``DigMontage`` out of np.arrays.\n",
      "  raw = mne.io.read_raw_brainvision(block1_fname, montage, preload=True)   # read .vhdr as mne raw instance\n",
      "<ipython-input-4-54bc8fe59c7b>:5: DeprecationWarning: The `montage` parameter from `read_raw_brainvision` is deprecated and will be removed  in version 0.20. Use  raw.set_montage(montage) instead.\n",
      "  raw = mne.io.read_raw_brainvision(block1_fname, montage, preload=True)   # read .vhdr as mne raw instance\n"
     ]
    },
    {
     "name": "stdout",
     "output_type": "stream",
     "text": [
      "Extracting parameters from BIDS/sub-20/eeg/sub-20_task-Moral_run-03_eeg.vhdr...\n",
      "Setting channel info structure...\n",
      "Reading 0 ... 159774  =      0.000 ...   319.548 secs...\n"
     ]
    },
    {
     "name": "stderr",
     "output_type": "stream",
     "text": [
      "<ipython-input-4-54bc8fe59c7b>:9: DeprecationWarning: Setting a montage using anything rather than DigMontage is deprecated and will raise an error in v0.20. Please use ``read_dig_fif``, ``read_dig_egi``, ``read_dig_polhemus_isotrak``, or ``read_dig_captrack`` ``read_dig_hpts``, ``read_dig_captrack`` or ``read_custom_montage`` to read a digitization based on your needs instead; or ``make_standard_montage`` to create ``DigMontage`` based on template; or ``make_dig_montage`` to create a ``DigMontage`` out of np.arrays.\n",
      "  raw1 = mne.io.read_raw_brainvision(eeg_path,montage,preload=True)\n",
      "<ipython-input-4-54bc8fe59c7b>:9: DeprecationWarning: The `montage` parameter from `read_raw_brainvision` is deprecated and will be removed  in version 0.20. Use  raw.set_montage(montage) instead.\n",
      "  raw1 = mne.io.read_raw_brainvision(eeg_path,montage,preload=True)\n"
     ]
    },
    {
     "name": "stdout",
     "output_type": "stream",
     "text": [
      "Extracting parameters from BIDS/sub-20/eeg/sub-20_task-Moral_run-04_eeg.vhdr...\n",
      "Setting channel info structure...\n",
      "Reading 0 ... 175049  =      0.000 ...   350.098 secs...\n"
     ]
    },
    {
     "name": "stderr",
     "output_type": "stream",
     "text": [
      "<ipython-input-4-54bc8fe59c7b>:9: DeprecationWarning: Setting a montage using anything rather than DigMontage is deprecated and will raise an error in v0.20. Please use ``read_dig_fif``, ``read_dig_egi``, ``read_dig_polhemus_isotrak``, or ``read_dig_captrack`` ``read_dig_hpts``, ``read_dig_captrack`` or ``read_custom_montage`` to read a digitization based on your needs instead; or ``make_standard_montage`` to create ``DigMontage`` based on template; or ``make_dig_montage`` to create a ``DigMontage`` out of np.arrays.\n",
      "  raw1 = mne.io.read_raw_brainvision(eeg_path,montage,preload=True)\n",
      "<ipython-input-4-54bc8fe59c7b>:9: DeprecationWarning: The `montage` parameter from `read_raw_brainvision` is deprecated and will be removed  in version 0.20. Use  raw.set_montage(montage) instead.\n",
      "  raw1 = mne.io.read_raw_brainvision(eeg_path,montage,preload=True)\n"
     ]
    },
    {
     "name": "stdout",
     "output_type": "stream",
     "text": [
      "Extracting parameters from BIDS/sub-20/eeg/sub-20_task-Moral_run-05_eeg.vhdr...\n",
      "Setting channel info structure...\n",
      "Reading 0 ... 162074  =      0.000 ...   324.148 secs...\n"
     ]
    },
    {
     "name": "stderr",
     "output_type": "stream",
     "text": [
      "<ipython-input-4-54bc8fe59c7b>:9: DeprecationWarning: Setting a montage using anything rather than DigMontage is deprecated and will raise an error in v0.20. Please use ``read_dig_fif``, ``read_dig_egi``, ``read_dig_polhemus_isotrak``, or ``read_dig_captrack`` ``read_dig_hpts``, ``read_dig_captrack`` or ``read_custom_montage`` to read a digitization based on your needs instead; or ``make_standard_montage`` to create ``DigMontage`` based on template; or ``make_dig_montage`` to create a ``DigMontage`` out of np.arrays.\n",
      "  raw1 = mne.io.read_raw_brainvision(eeg_path,montage,preload=True)\n",
      "<ipython-input-4-54bc8fe59c7b>:9: DeprecationWarning: The `montage` parameter from `read_raw_brainvision` is deprecated and will be removed  in version 0.20. Use  raw.set_montage(montage) instead.\n",
      "  raw1 = mne.io.read_raw_brainvision(eeg_path,montage,preload=True)\n",
      "<ipython-input-4-54bc8fe59c7b>:9: DeprecationWarning: Setting a montage using anything rather than DigMontage is deprecated and will raise an error in v0.20. Please use ``read_dig_fif``, ``read_dig_egi``, ``read_dig_polhemus_isotrak``, or ``read_dig_captrack`` ``read_dig_hpts``, ``read_dig_captrack`` or ``read_custom_montage`` to read a digitization based on your needs instead; or ``make_standard_montage`` to create ``DigMontage`` based on template; or ``make_dig_montage`` to create a ``DigMontage`` out of np.arrays.\n",
      "  raw1 = mne.io.read_raw_brainvision(eeg_path,montage,preload=True)\n",
      "<ipython-input-4-54bc8fe59c7b>:9: DeprecationWarning: The `montage` parameter from `read_raw_brainvision` is deprecated and will be removed  in version 0.20. Use  raw.set_montage(montage) instead.\n",
      "  raw1 = mne.io.read_raw_brainvision(eeg_path,montage,preload=True)\n"
     ]
    },
    {
     "name": "stdout",
     "output_type": "stream",
     "text": [
      "Extracting parameters from BIDS/sub-20/eeg/sub-20_task-Moral_run-06_eeg.vhdr...\n",
      "Setting channel info structure...\n",
      "Reading 0 ... 155449  =      0.000 ...   310.898 secs...\n"
     ]
    },
    {
     "name": "stderr",
     "output_type": "stream",
     "text": [
      "<ipython-input-4-54bc8fe59c7b>:9: DeprecationWarning: Setting a montage using anything rather than DigMontage is deprecated and will raise an error in v0.20. Please use ``read_dig_fif``, ``read_dig_egi``, ``read_dig_polhemus_isotrak``, or ``read_dig_captrack`` ``read_dig_hpts``, ``read_dig_captrack`` or ``read_custom_montage`` to read a digitization based on your needs instead; or ``make_standard_montage`` to create ``DigMontage`` based on template; or ``make_dig_montage`` to create a ``DigMontage`` out of np.arrays.\n",
      "  raw1 = mne.io.read_raw_brainvision(eeg_path,montage,preload=True)\n",
      "<ipython-input-4-54bc8fe59c7b>:9: DeprecationWarning: The `montage` parameter from `read_raw_brainvision` is deprecated and will be removed  in version 0.20. Use  raw.set_montage(montage) instead.\n",
      "  raw1 = mne.io.read_raw_brainvision(eeg_path,montage,preload=True)\n"
     ]
    },
    {
     "name": "stdout",
     "output_type": "stream",
     "text": [
      "Extracting parameters from BIDS/sub-20/eeg/sub-20_task-Moral_run-07_eeg.vhdr...\n",
      "Setting channel info structure...\n",
      "Reading 0 ... 159949  =      0.000 ...   319.898 secs...\n"
     ]
    },
    {
     "name": "stderr",
     "output_type": "stream",
     "text": [
      "<ipython-input-4-54bc8fe59c7b>:9: DeprecationWarning: Setting a montage using anything rather than DigMontage is deprecated and will raise an error in v0.20. Please use ``read_dig_fif``, ``read_dig_egi``, ``read_dig_polhemus_isotrak``, or ``read_dig_captrack`` ``read_dig_hpts``, ``read_dig_captrack`` or ``read_custom_montage`` to read a digitization based on your needs instead; or ``make_standard_montage`` to create ``DigMontage`` based on template; or ``make_dig_montage`` to create a ``DigMontage`` out of np.arrays.\n",
      "  raw1 = mne.io.read_raw_brainvision(eeg_path,montage,preload=True)\n",
      "<ipython-input-4-54bc8fe59c7b>:9: DeprecationWarning: The `montage` parameter from `read_raw_brainvision` is deprecated and will be removed  in version 0.20. Use  raw.set_montage(montage) instead.\n",
      "  raw1 = mne.io.read_raw_brainvision(eeg_path,montage,preload=True)\n"
     ]
    },
    {
     "name": "stdout",
     "output_type": "stream",
     "text": [
      "Extracting parameters from BIDS/sub-20/eeg/sub-20_task-Moral_run-08_eeg.vhdr...\n",
      "Setting channel info structure...\n",
      "Reading 0 ... 165849  =      0.000 ...   331.698 secs...\n"
     ]
    },
    {
     "name": "stderr",
     "output_type": "stream",
     "text": [
      "<ipython-input-4-54bc8fe59c7b>:9: DeprecationWarning: Setting a montage using anything rather than DigMontage is deprecated and will raise an error in v0.20. Please use ``read_dig_fif``, ``read_dig_egi``, ``read_dig_polhemus_isotrak``, or ``read_dig_captrack`` ``read_dig_hpts``, ``read_dig_captrack`` or ``read_custom_montage`` to read a digitization based on your needs instead; or ``make_standard_montage`` to create ``DigMontage`` based on template; or ``make_dig_montage`` to create a ``DigMontage`` out of np.arrays.\n",
      "  raw1 = mne.io.read_raw_brainvision(eeg_path,montage,preload=True)\n",
      "<ipython-input-4-54bc8fe59c7b>:9: DeprecationWarning: The `montage` parameter from `read_raw_brainvision` is deprecated and will be removed  in version 0.20. Use  raw.set_montage(montage) instead.\n",
      "  raw1 = mne.io.read_raw_brainvision(eeg_path,montage,preload=True)\n"
     ]
    },
    {
     "name": "stdout",
     "output_type": "stream",
     "text": [
      "Extracting parameters from BIDS/sub-20/eeg/sub-20_task-Moral_run-09_eeg.vhdr...\n",
      "Setting channel info structure...\n",
      "Reading 0 ... 158674  =      0.000 ...   317.348 secs...\n"
     ]
    },
    {
     "name": "stderr",
     "output_type": "stream",
     "text": [
      "<ipython-input-4-54bc8fe59c7b>:9: DeprecationWarning: Setting a montage using anything rather than DigMontage is deprecated and will raise an error in v0.20. Please use ``read_dig_fif``, ``read_dig_egi``, ``read_dig_polhemus_isotrak``, or ``read_dig_captrack`` ``read_dig_hpts``, ``read_dig_captrack`` or ``read_custom_montage`` to read a digitization based on your needs instead; or ``make_standard_montage`` to create ``DigMontage`` based on template; or ``make_dig_montage`` to create a ``DigMontage`` out of np.arrays.\n",
      "  raw1 = mne.io.read_raw_brainvision(eeg_path,montage,preload=True)\n",
      "<ipython-input-4-54bc8fe59c7b>:9: DeprecationWarning: The `montage` parameter from `read_raw_brainvision` is deprecated and will be removed  in version 0.20. Use  raw.set_montage(montage) instead.\n",
      "  raw1 = mne.io.read_raw_brainvision(eeg_path,montage,preload=True)\n"
     ]
    },
    {
     "name": "stdout",
     "output_type": "stream",
     "text": [
      "Writing /media/hcp4715/USB1/Data/EEGdata/Analysis_Py/Exp1/raw_fif/sub-20_raw.fif\n",
      "Closing /media/hcp4715/USB1/Data/EEGdata/Analysis_Py/Exp1/raw_fif/sub-20_raw.fif [done]\n",
      "Extracting parameters from BIDS/sub-21/eeg/sub-21_task-Moral_run-01_eeg.vhdr...\n",
      "Setting channel info structure...\n",
      "Reading 0 ... 159074  =      0.000 ...   318.148 secs...\n"
     ]
    },
    {
     "name": "stderr",
     "output_type": "stream",
     "text": [
      "/media/hcp4715/study/Py_Envs/Py_MNE/lib/python3.6/site-packages/mne/utils/docs.py:824: DeprecationWarning: Function read_montage is deprecated; ``read_montage`` is deprecated and will be removed in v0.20. Please use ``read_dig_fif``, ``read_dig_egi``, ``read_custom_montage``, or ``read_dig_captrack`` to read a digitization based on your needs instead; or ``make_standard_montage`` to create ``DigMontage`` based on template; or ``make_dig_montage`` to create a ``DigMontage`` out of np.arrays\n",
      "  warnings.warn(msg, category=DeprecationWarning)\n",
      "/media/hcp4715/study/Py_Envs/Py_MNE/lib/python3.6/site-packages/mne/utils/docs.py:807: DeprecationWarning: Class Montage is deprecated; Montage class is deprecated and will be removed in v0.20. Please use DigMontage instead.\n",
      "  warnings.warn(msg, category=DeprecationWarning)\n"
     ]
    },
    {
     "name": "stdout",
     "output_type": "stream",
     "text": [
      "Extracting parameters from BIDS/sub-21/eeg/sub-21_task-Moral_run-02_eeg.vhdr...\n",
      "Setting channel info structure...\n",
      "Reading 0 ... 161349  =      0.000 ...   322.698 secs...\n"
     ]
    },
    {
     "name": "stderr",
     "output_type": "stream",
     "text": [
      "<ipython-input-4-54bc8fe59c7b>:5: DeprecationWarning: Setting a montage using anything rather than DigMontage is deprecated and will raise an error in v0.20. Please use ``read_dig_fif``, ``read_dig_egi``, ``read_dig_polhemus_isotrak``, or ``read_dig_captrack`` ``read_dig_hpts``, ``read_dig_captrack`` or ``read_custom_montage`` to read a digitization based on your needs instead; or ``make_standard_montage`` to create ``DigMontage`` based on template; or ``make_dig_montage`` to create a ``DigMontage`` out of np.arrays.\n",
      "  raw = mne.io.read_raw_brainvision(block1_fname, montage, preload=True)   # read .vhdr as mne raw instance\n",
      "<ipython-input-4-54bc8fe59c7b>:5: DeprecationWarning: The `montage` parameter from `read_raw_brainvision` is deprecated and will be removed  in version 0.20. Use  raw.set_montage(montage) instead.\n",
      "  raw = mne.io.read_raw_brainvision(block1_fname, montage, preload=True)   # read .vhdr as mne raw instance\n"
     ]
    },
    {
     "name": "stdout",
     "output_type": "stream",
     "text": [
      "Extracting parameters from BIDS/sub-21/eeg/sub-21_task-Moral_run-03_eeg.vhdr...\n",
      "Setting channel info structure...\n",
      "Reading 0 ... 158224  =      0.000 ...   316.448 secs...\n"
     ]
    },
    {
     "name": "stderr",
     "output_type": "stream",
     "text": [
      "<ipython-input-4-54bc8fe59c7b>:9: DeprecationWarning: Setting a montage using anything rather than DigMontage is deprecated and will raise an error in v0.20. Please use ``read_dig_fif``, ``read_dig_egi``, ``read_dig_polhemus_isotrak``, or ``read_dig_captrack`` ``read_dig_hpts``, ``read_dig_captrack`` or ``read_custom_montage`` to read a digitization based on your needs instead; or ``make_standard_montage`` to create ``DigMontage`` based on template; or ``make_dig_montage`` to create a ``DigMontage`` out of np.arrays.\n",
      "  raw1 = mne.io.read_raw_brainvision(eeg_path,montage,preload=True)\n",
      "<ipython-input-4-54bc8fe59c7b>:9: DeprecationWarning: The `montage` parameter from `read_raw_brainvision` is deprecated and will be removed  in version 0.20. Use  raw.set_montage(montage) instead.\n",
      "  raw1 = mne.io.read_raw_brainvision(eeg_path,montage,preload=True)\n"
     ]
    },
    {
     "name": "stdout",
     "output_type": "stream",
     "text": [
      "Extracting parameters from BIDS/sub-21/eeg/sub-21_task-Moral_run-04_eeg.vhdr...\n",
      "Setting channel info structure...\n",
      "Reading 0 ... 159124  =      0.000 ...   318.248 secs...\n"
     ]
    },
    {
     "name": "stderr",
     "output_type": "stream",
     "text": [
      "<ipython-input-4-54bc8fe59c7b>:9: DeprecationWarning: Setting a montage using anything rather than DigMontage is deprecated and will raise an error in v0.20. Please use ``read_dig_fif``, ``read_dig_egi``, ``read_dig_polhemus_isotrak``, or ``read_dig_captrack`` ``read_dig_hpts``, ``read_dig_captrack`` or ``read_custom_montage`` to read a digitization based on your needs instead; or ``make_standard_montage`` to create ``DigMontage`` based on template; or ``make_dig_montage`` to create a ``DigMontage`` out of np.arrays.\n",
      "  raw1 = mne.io.read_raw_brainvision(eeg_path,montage,preload=True)\n",
      "<ipython-input-4-54bc8fe59c7b>:9: DeprecationWarning: The `montage` parameter from `read_raw_brainvision` is deprecated and will be removed  in version 0.20. Use  raw.set_montage(montage) instead.\n",
      "  raw1 = mne.io.read_raw_brainvision(eeg_path,montage,preload=True)\n"
     ]
    },
    {
     "name": "stdout",
     "output_type": "stream",
     "text": [
      "Extracting parameters from BIDS/sub-21/eeg/sub-21_task-Moral_run-05_eeg.vhdr...\n",
      "Setting channel info structure...\n",
      "Reading 0 ... 158449  =      0.000 ...   316.898 secs...\n"
     ]
    },
    {
     "name": "stderr",
     "output_type": "stream",
     "text": [
      "<ipython-input-4-54bc8fe59c7b>:9: DeprecationWarning: Setting a montage using anything rather than DigMontage is deprecated and will raise an error in v0.20. Please use ``read_dig_fif``, ``read_dig_egi``, ``read_dig_polhemus_isotrak``, or ``read_dig_captrack`` ``read_dig_hpts``, ``read_dig_captrack`` or ``read_custom_montage`` to read a digitization based on your needs instead; or ``make_standard_montage`` to create ``DigMontage`` based on template; or ``make_dig_montage`` to create a ``DigMontage`` out of np.arrays.\n",
      "  raw1 = mne.io.read_raw_brainvision(eeg_path,montage,preload=True)\n",
      "<ipython-input-4-54bc8fe59c7b>:9: DeprecationWarning: The `montage` parameter from `read_raw_brainvision` is deprecated and will be removed  in version 0.20. Use  raw.set_montage(montage) instead.\n",
      "  raw1 = mne.io.read_raw_brainvision(eeg_path,montage,preload=True)\n"
     ]
    },
    {
     "name": "stdout",
     "output_type": "stream",
     "text": [
      "Extracting parameters from BIDS/sub-21/eeg/sub-21_task-Moral_run-06_eeg.vhdr...\n"
     ]
    },
    {
     "name": "stderr",
     "output_type": "stream",
     "text": [
      "<ipython-input-4-54bc8fe59c7b>:9: DeprecationWarning: Setting a montage using anything rather than DigMontage is deprecated and will raise an error in v0.20. Please use ``read_dig_fif``, ``read_dig_egi``, ``read_dig_polhemus_isotrak``, or ``read_dig_captrack`` ``read_dig_hpts``, ``read_dig_captrack`` or ``read_custom_montage`` to read a digitization based on your needs instead; or ``make_standard_montage`` to create ``DigMontage`` based on template; or ``make_dig_montage`` to create a ``DigMontage`` out of np.arrays.\n",
      "  raw1 = mne.io.read_raw_brainvision(eeg_path,montage,preload=True)\n",
      "<ipython-input-4-54bc8fe59c7b>:9: DeprecationWarning: The `montage` parameter from `read_raw_brainvision` is deprecated and will be removed  in version 0.20. Use  raw.set_montage(montage) instead.\n",
      "  raw1 = mne.io.read_raw_brainvision(eeg_path,montage,preload=True)\n"
     ]
    },
    {
     "name": "stdout",
     "output_type": "stream",
     "text": [
      "Setting channel info structure...\n",
      "Reading 0 ... 161249  =      0.000 ...   322.498 secs...\n"
     ]
    },
    {
     "name": "stderr",
     "output_type": "stream",
     "text": [
      "<ipython-input-4-54bc8fe59c7b>:9: DeprecationWarning: Setting a montage using anything rather than DigMontage is deprecated and will raise an error in v0.20. Please use ``read_dig_fif``, ``read_dig_egi``, ``read_dig_polhemus_isotrak``, or ``read_dig_captrack`` ``read_dig_hpts``, ``read_dig_captrack`` or ``read_custom_montage`` to read a digitization based on your needs instead; or ``make_standard_montage`` to create ``DigMontage`` based on template; or ``make_dig_montage`` to create a ``DigMontage`` out of np.arrays.\n",
      "  raw1 = mne.io.read_raw_brainvision(eeg_path,montage,preload=True)\n",
      "<ipython-input-4-54bc8fe59c7b>:9: DeprecationWarning: The `montage` parameter from `read_raw_brainvision` is deprecated and will be removed  in version 0.20. Use  raw.set_montage(montage) instead.\n",
      "  raw1 = mne.io.read_raw_brainvision(eeg_path,montage,preload=True)\n"
     ]
    },
    {
     "name": "stdout",
     "output_type": "stream",
     "text": [
      "Extracting parameters from BIDS/sub-21/eeg/sub-21_task-Moral_run-07_eeg.vhdr...\n",
      "Setting channel info structure...\n",
      "Reading 0 ... 158549  =      0.000 ...   317.098 secs...\n"
     ]
    },
    {
     "name": "stderr",
     "output_type": "stream",
     "text": [
      "<ipython-input-4-54bc8fe59c7b>:9: DeprecationWarning: Setting a montage using anything rather than DigMontage is deprecated and will raise an error in v0.20. Please use ``read_dig_fif``, ``read_dig_egi``, ``read_dig_polhemus_isotrak``, or ``read_dig_captrack`` ``read_dig_hpts``, ``read_dig_captrack`` or ``read_custom_montage`` to read a digitization based on your needs instead; or ``make_standard_montage`` to create ``DigMontage`` based on template; or ``make_dig_montage`` to create a ``DigMontage`` out of np.arrays.\n",
      "  raw1 = mne.io.read_raw_brainvision(eeg_path,montage,preload=True)\n",
      "<ipython-input-4-54bc8fe59c7b>:9: DeprecationWarning: The `montage` parameter from `read_raw_brainvision` is deprecated and will be removed  in version 0.20. Use  raw.set_montage(montage) instead.\n",
      "  raw1 = mne.io.read_raw_brainvision(eeg_path,montage,preload=True)\n"
     ]
    },
    {
     "name": "stdout",
     "output_type": "stream",
     "text": [
      "Extracting parameters from BIDS/sub-21/eeg/sub-21_task-Moral_run-08_eeg.vhdr...\n",
      "Setting channel info structure...\n",
      "Reading 0 ... 165574  =      0.000 ...   331.148 secs...\n"
     ]
    },
    {
     "name": "stderr",
     "output_type": "stream",
     "text": [
      "<ipython-input-4-54bc8fe59c7b>:9: DeprecationWarning: Setting a montage using anything rather than DigMontage is deprecated and will raise an error in v0.20. Please use ``read_dig_fif``, ``read_dig_egi``, ``read_dig_polhemus_isotrak``, or ``read_dig_captrack`` ``read_dig_hpts``, ``read_dig_captrack`` or ``read_custom_montage`` to read a digitization based on your needs instead; or ``make_standard_montage`` to create ``DigMontage`` based on template; or ``make_dig_montage`` to create a ``DigMontage`` out of np.arrays.\n",
      "  raw1 = mne.io.read_raw_brainvision(eeg_path,montage,preload=True)\n",
      "<ipython-input-4-54bc8fe59c7b>:9: DeprecationWarning: The `montage` parameter from `read_raw_brainvision` is deprecated and will be removed  in version 0.20. Use  raw.set_montage(montage) instead.\n",
      "  raw1 = mne.io.read_raw_brainvision(eeg_path,montage,preload=True)\n"
     ]
    },
    {
     "name": "stdout",
     "output_type": "stream",
     "text": [
      "Extracting parameters from BIDS/sub-21/eeg/sub-21_task-Moral_run-09_eeg.vhdr...\n",
      "Setting channel info structure...\n",
      "Reading 0 ... 158274  =      0.000 ...   316.548 secs...\n"
     ]
    },
    {
     "name": "stderr",
     "output_type": "stream",
     "text": [
      "<ipython-input-4-54bc8fe59c7b>:9: DeprecationWarning: Setting a montage using anything rather than DigMontage is deprecated and will raise an error in v0.20. Please use ``read_dig_fif``, ``read_dig_egi``, ``read_dig_polhemus_isotrak``, or ``read_dig_captrack`` ``read_dig_hpts``, ``read_dig_captrack`` or ``read_custom_montage`` to read a digitization based on your needs instead; or ``make_standard_montage`` to create ``DigMontage`` based on template; or ``make_dig_montage`` to create a ``DigMontage`` out of np.arrays.\n",
      "  raw1 = mne.io.read_raw_brainvision(eeg_path,montage,preload=True)\n",
      "<ipython-input-4-54bc8fe59c7b>:9: DeprecationWarning: The `montage` parameter from `read_raw_brainvision` is deprecated and will be removed  in version 0.20. Use  raw.set_montage(montage) instead.\n",
      "  raw1 = mne.io.read_raw_brainvision(eeg_path,montage,preload=True)\n"
     ]
    },
    {
     "name": "stdout",
     "output_type": "stream",
     "text": [
      "Writing /media/hcp4715/USB1/Data/EEGdata/Analysis_Py/Exp1/raw_fif/sub-21_raw.fif\n",
      "Closing /media/hcp4715/USB1/Data/EEGdata/Analysis_Py/Exp1/raw_fif/sub-21_raw.fif [done]\n",
      "Extracting parameters from BIDS/sub-22/eeg/sub-22_task-Moral_run-01_eeg.vhdr...\n",
      "Setting channel info structure...\n",
      "Reading 0 ... 158299  =      0.000 ...   316.598 secs...\n"
     ]
    },
    {
     "name": "stderr",
     "output_type": "stream",
     "text": [
      "/media/hcp4715/study/Py_Envs/Py_MNE/lib/python3.6/site-packages/mne/utils/docs.py:824: DeprecationWarning: Function read_montage is deprecated; ``read_montage`` is deprecated and will be removed in v0.20. Please use ``read_dig_fif``, ``read_dig_egi``, ``read_custom_montage``, or ``read_dig_captrack`` to read a digitization based on your needs instead; or ``make_standard_montage`` to create ``DigMontage`` based on template; or ``make_dig_montage`` to create a ``DigMontage`` out of np.arrays\n",
      "  warnings.warn(msg, category=DeprecationWarning)\n",
      "/media/hcp4715/study/Py_Envs/Py_MNE/lib/python3.6/site-packages/mne/utils/docs.py:807: DeprecationWarning: Class Montage is deprecated; Montage class is deprecated and will be removed in v0.20. Please use DigMontage instead.\n",
      "  warnings.warn(msg, category=DeprecationWarning)\n"
     ]
    },
    {
     "name": "stdout",
     "output_type": "stream",
     "text": [
      "Extracting parameters from BIDS/sub-22/eeg/sub-22_task-Moral_run-02_eeg.vhdr...\n",
      "Setting channel info structure...\n",
      "Reading 0 ... 159849  =      0.000 ...   319.698 secs...\n"
     ]
    },
    {
     "name": "stderr",
     "output_type": "stream",
     "text": [
      "<ipython-input-4-54bc8fe59c7b>:5: DeprecationWarning: Setting a montage using anything rather than DigMontage is deprecated and will raise an error in v0.20. Please use ``read_dig_fif``, ``read_dig_egi``, ``read_dig_polhemus_isotrak``, or ``read_dig_captrack`` ``read_dig_hpts``, ``read_dig_captrack`` or ``read_custom_montage`` to read a digitization based on your needs instead; or ``make_standard_montage`` to create ``DigMontage`` based on template; or ``make_dig_montage`` to create a ``DigMontage`` out of np.arrays.\n",
      "  raw = mne.io.read_raw_brainvision(block1_fname, montage, preload=True)   # read .vhdr as mne raw instance\n",
      "<ipython-input-4-54bc8fe59c7b>:5: DeprecationWarning: The `montage` parameter from `read_raw_brainvision` is deprecated and will be removed  in version 0.20. Use  raw.set_montage(montage) instead.\n",
      "  raw = mne.io.read_raw_brainvision(block1_fname, montage, preload=True)   # read .vhdr as mne raw instance\n"
     ]
    },
    {
     "name": "stdout",
     "output_type": "stream",
     "text": [
      "Extracting parameters from BIDS/sub-22/eeg/sub-22_task-Moral_run-03_eeg.vhdr...\n",
      "Setting channel info structure...\n",
      "Reading 0 ... 158999  =      0.000 ...   317.998 secs...\n"
     ]
    },
    {
     "name": "stderr",
     "output_type": "stream",
     "text": [
      "<ipython-input-4-54bc8fe59c7b>:9: DeprecationWarning: Setting a montage using anything rather than DigMontage is deprecated and will raise an error in v0.20. Please use ``read_dig_fif``, ``read_dig_egi``, ``read_dig_polhemus_isotrak``, or ``read_dig_captrack`` ``read_dig_hpts``, ``read_dig_captrack`` or ``read_custom_montage`` to read a digitization based on your needs instead; or ``make_standard_montage`` to create ``DigMontage`` based on template; or ``make_dig_montage`` to create a ``DigMontage`` out of np.arrays.\n",
      "  raw1 = mne.io.read_raw_brainvision(eeg_path,montage,preload=True)\n",
      "<ipython-input-4-54bc8fe59c7b>:9: DeprecationWarning: The `montage` parameter from `read_raw_brainvision` is deprecated and will be removed  in version 0.20. Use  raw.set_montage(montage) instead.\n",
      "  raw1 = mne.io.read_raw_brainvision(eeg_path,montage,preload=True)\n"
     ]
    },
    {
     "name": "stdout",
     "output_type": "stream",
     "text": [
      "Extracting parameters from BIDS/sub-22/eeg/sub-22_task-Moral_run-04_eeg.vhdr...\n",
      "Setting channel info structure...\n",
      "Reading 0 ... 156824  =      0.000 ...   313.648 secs...\n"
     ]
    },
    {
     "name": "stderr",
     "output_type": "stream",
     "text": [
      "<ipython-input-4-54bc8fe59c7b>:9: DeprecationWarning: Setting a montage using anything rather than DigMontage is deprecated and will raise an error in v0.20. Please use ``read_dig_fif``, ``read_dig_egi``, ``read_dig_polhemus_isotrak``, or ``read_dig_captrack`` ``read_dig_hpts``, ``read_dig_captrack`` or ``read_custom_montage`` to read a digitization based on your needs instead; or ``make_standard_montage`` to create ``DigMontage`` based on template; or ``make_dig_montage`` to create a ``DigMontage`` out of np.arrays.\n",
      "  raw1 = mne.io.read_raw_brainvision(eeg_path,montage,preload=True)\n",
      "<ipython-input-4-54bc8fe59c7b>:9: DeprecationWarning: The `montage` parameter from `read_raw_brainvision` is deprecated and will be removed  in version 0.20. Use  raw.set_montage(montage) instead.\n",
      "  raw1 = mne.io.read_raw_brainvision(eeg_path,montage,preload=True)\n"
     ]
    },
    {
     "name": "stdout",
     "output_type": "stream",
     "text": [
      "Extracting parameters from BIDS/sub-22/eeg/sub-22_task-Moral_run-05_eeg.vhdr...\n",
      "Setting channel info structure...\n",
      "Reading 0 ... 156674  =      0.000 ...   313.348 secs...\n"
     ]
    },
    {
     "name": "stderr",
     "output_type": "stream",
     "text": [
      "<ipython-input-4-54bc8fe59c7b>:9: DeprecationWarning: Setting a montage using anything rather than DigMontage is deprecated and will raise an error in v0.20. Please use ``read_dig_fif``, ``read_dig_egi``, ``read_dig_polhemus_isotrak``, or ``read_dig_captrack`` ``read_dig_hpts``, ``read_dig_captrack`` or ``read_custom_montage`` to read a digitization based on your needs instead; or ``make_standard_montage`` to create ``DigMontage`` based on template; or ``make_dig_montage`` to create a ``DigMontage`` out of np.arrays.\n",
      "  raw1 = mne.io.read_raw_brainvision(eeg_path,montage,preload=True)\n",
      "<ipython-input-4-54bc8fe59c7b>:9: DeprecationWarning: The `montage` parameter from `read_raw_brainvision` is deprecated and will be removed  in version 0.20. Use  raw.set_montage(montage) instead.\n",
      "  raw1 = mne.io.read_raw_brainvision(eeg_path,montage,preload=True)\n"
     ]
    },
    {
     "name": "stdout",
     "output_type": "stream",
     "text": [
      "Extracting parameters from BIDS/sub-22/eeg/sub-22_task-Moral_run-06_eeg.vhdr...\n"
     ]
    },
    {
     "name": "stderr",
     "output_type": "stream",
     "text": [
      "<ipython-input-4-54bc8fe59c7b>:9: DeprecationWarning: Setting a montage using anything rather than DigMontage is deprecated and will raise an error in v0.20. Please use ``read_dig_fif``, ``read_dig_egi``, ``read_dig_polhemus_isotrak``, or ``read_dig_captrack`` ``read_dig_hpts``, ``read_dig_captrack`` or ``read_custom_montage`` to read a digitization based on your needs instead; or ``make_standard_montage`` to create ``DigMontage`` based on template; or ``make_dig_montage`` to create a ``DigMontage`` out of np.arrays.\n",
      "  raw1 = mne.io.read_raw_brainvision(eeg_path,montage,preload=True)\n",
      "<ipython-input-4-54bc8fe59c7b>:9: DeprecationWarning: The `montage` parameter from `read_raw_brainvision` is deprecated and will be removed  in version 0.20. Use  raw.set_montage(montage) instead.\n",
      "  raw1 = mne.io.read_raw_brainvision(eeg_path,montage,preload=True)\n"
     ]
    },
    {
     "name": "stdout",
     "output_type": "stream",
     "text": [
      "Setting channel info structure...\n",
      "Reading 0 ... 158424  =      0.000 ...   316.848 secs...\n"
     ]
    },
    {
     "name": "stderr",
     "output_type": "stream",
     "text": [
      "<ipython-input-4-54bc8fe59c7b>:9: DeprecationWarning: Setting a montage using anything rather than DigMontage is deprecated and will raise an error in v0.20. Please use ``read_dig_fif``, ``read_dig_egi``, ``read_dig_polhemus_isotrak``, or ``read_dig_captrack`` ``read_dig_hpts``, ``read_dig_captrack`` or ``read_custom_montage`` to read a digitization based on your needs instead; or ``make_standard_montage`` to create ``DigMontage`` based on template; or ``make_dig_montage`` to create a ``DigMontage`` out of np.arrays.\n",
      "  raw1 = mne.io.read_raw_brainvision(eeg_path,montage,preload=True)\n",
      "<ipython-input-4-54bc8fe59c7b>:9: DeprecationWarning: The `montage` parameter from `read_raw_brainvision` is deprecated and will be removed  in version 0.20. Use  raw.set_montage(montage) instead.\n",
      "  raw1 = mne.io.read_raw_brainvision(eeg_path,montage,preload=True)\n"
     ]
    },
    {
     "name": "stdout",
     "output_type": "stream",
     "text": [
      "Extracting parameters from BIDS/sub-22/eeg/sub-22_task-Moral_run-07_eeg.vhdr...\n",
      "Setting channel info structure...\n",
      "Reading 0 ... 156199  =      0.000 ...   312.398 secs...\n"
     ]
    },
    {
     "name": "stderr",
     "output_type": "stream",
     "text": [
      "<ipython-input-4-54bc8fe59c7b>:9: DeprecationWarning: Setting a montage using anything rather than DigMontage is deprecated and will raise an error in v0.20. Please use ``read_dig_fif``, ``read_dig_egi``, ``read_dig_polhemus_isotrak``, or ``read_dig_captrack`` ``read_dig_hpts``, ``read_dig_captrack`` or ``read_custom_montage`` to read a digitization based on your needs instead; or ``make_standard_montage`` to create ``DigMontage`` based on template; or ``make_dig_montage`` to create a ``DigMontage`` out of np.arrays.\n",
      "  raw1 = mne.io.read_raw_brainvision(eeg_path,montage,preload=True)\n",
      "<ipython-input-4-54bc8fe59c7b>:9: DeprecationWarning: The `montage` parameter from `read_raw_brainvision` is deprecated and will be removed  in version 0.20. Use  raw.set_montage(montage) instead.\n",
      "  raw1 = mne.io.read_raw_brainvision(eeg_path,montage,preload=True)\n"
     ]
    },
    {
     "name": "stdout",
     "output_type": "stream",
     "text": [
      "Extracting parameters from BIDS/sub-22/eeg/sub-22_task-Moral_run-08_eeg.vhdr...\n",
      "Setting channel info structure...\n",
      "Reading 0 ... 158224  =      0.000 ...   316.448 secs...\n"
     ]
    },
    {
     "name": "stderr",
     "output_type": "stream",
     "text": [
      "<ipython-input-4-54bc8fe59c7b>:9: DeprecationWarning: Setting a montage using anything rather than DigMontage is deprecated and will raise an error in v0.20. Please use ``read_dig_fif``, ``read_dig_egi``, ``read_dig_polhemus_isotrak``, or ``read_dig_captrack`` ``read_dig_hpts``, ``read_dig_captrack`` or ``read_custom_montage`` to read a digitization based on your needs instead; or ``make_standard_montage`` to create ``DigMontage`` based on template; or ``make_dig_montage`` to create a ``DigMontage`` out of np.arrays.\n",
      "  raw1 = mne.io.read_raw_brainvision(eeg_path,montage,preload=True)\n",
      "<ipython-input-4-54bc8fe59c7b>:9: DeprecationWarning: The `montage` parameter from `read_raw_brainvision` is deprecated and will be removed  in version 0.20. Use  raw.set_montage(montage) instead.\n",
      "  raw1 = mne.io.read_raw_brainvision(eeg_path,montage,preload=True)\n"
     ]
    },
    {
     "name": "stdout",
     "output_type": "stream",
     "text": [
      "Extracting parameters from BIDS/sub-22/eeg/sub-22_task-Moral_run-09_eeg.vhdr...\n",
      "Setting channel info structure...\n",
      "Reading 0 ... 159974  =      0.000 ...   319.948 secs...\n"
     ]
    },
    {
     "name": "stderr",
     "output_type": "stream",
     "text": [
      "<ipython-input-4-54bc8fe59c7b>:9: DeprecationWarning: Setting a montage using anything rather than DigMontage is deprecated and will raise an error in v0.20. Please use ``read_dig_fif``, ``read_dig_egi``, ``read_dig_polhemus_isotrak``, or ``read_dig_captrack`` ``read_dig_hpts``, ``read_dig_captrack`` or ``read_custom_montage`` to read a digitization based on your needs instead; or ``make_standard_montage`` to create ``DigMontage`` based on template; or ``make_dig_montage`` to create a ``DigMontage`` out of np.arrays.\n",
      "  raw1 = mne.io.read_raw_brainvision(eeg_path,montage,preload=True)\n",
      "<ipython-input-4-54bc8fe59c7b>:9: DeprecationWarning: The `montage` parameter from `read_raw_brainvision` is deprecated and will be removed  in version 0.20. Use  raw.set_montage(montage) instead.\n",
      "  raw1 = mne.io.read_raw_brainvision(eeg_path,montage,preload=True)\n"
     ]
    },
    {
     "name": "stdout",
     "output_type": "stream",
     "text": [
      "Writing /media/hcp4715/USB1/Data/EEGdata/Analysis_Py/Exp1/raw_fif/sub-22_raw.fif\n",
      "Closing /media/hcp4715/USB1/Data/EEGdata/Analysis_Py/Exp1/raw_fif/sub-22_raw.fif [done]\n",
      "Extracting parameters from BIDS/sub-23/eeg/sub-23_task-Moral_run-01_eeg.vhdr...\n",
      "Setting channel info structure...\n",
      "Reading 0 ... 157374  =      0.000 ...   314.748 secs...\n"
     ]
    },
    {
     "name": "stderr",
     "output_type": "stream",
     "text": [
      "/media/hcp4715/study/Py_Envs/Py_MNE/lib/python3.6/site-packages/mne/utils/docs.py:824: DeprecationWarning: Function read_montage is deprecated; ``read_montage`` is deprecated and will be removed in v0.20. Please use ``read_dig_fif``, ``read_dig_egi``, ``read_custom_montage``, or ``read_dig_captrack`` to read a digitization based on your needs instead; or ``make_standard_montage`` to create ``DigMontage`` based on template; or ``make_dig_montage`` to create a ``DigMontage`` out of np.arrays\n",
      "  warnings.warn(msg, category=DeprecationWarning)\n",
      "/media/hcp4715/study/Py_Envs/Py_MNE/lib/python3.6/site-packages/mne/utils/docs.py:807: DeprecationWarning: Class Montage is deprecated; Montage class is deprecated and will be removed in v0.20. Please use DigMontage instead.\n",
      "  warnings.warn(msg, category=DeprecationWarning)\n"
     ]
    },
    {
     "name": "stdout",
     "output_type": "stream",
     "text": [
      "Extracting parameters from BIDS/sub-23/eeg/sub-23_task-Moral_run-02_eeg.vhdr...\n",
      "Setting channel info structure...\n",
      "Reading 0 ... 162874  =      0.000 ...   325.748 secs...\n"
     ]
    },
    {
     "name": "stderr",
     "output_type": "stream",
     "text": [
      "<ipython-input-4-54bc8fe59c7b>:5: DeprecationWarning: Setting a montage using anything rather than DigMontage is deprecated and will raise an error in v0.20. Please use ``read_dig_fif``, ``read_dig_egi``, ``read_dig_polhemus_isotrak``, or ``read_dig_captrack`` ``read_dig_hpts``, ``read_dig_captrack`` or ``read_custom_montage`` to read a digitization based on your needs instead; or ``make_standard_montage`` to create ``DigMontage`` based on template; or ``make_dig_montage`` to create a ``DigMontage`` out of np.arrays.\n",
      "  raw = mne.io.read_raw_brainvision(block1_fname, montage, preload=True)   # read .vhdr as mne raw instance\n",
      "<ipython-input-4-54bc8fe59c7b>:5: DeprecationWarning: The `montage` parameter from `read_raw_brainvision` is deprecated and will be removed  in version 0.20. Use  raw.set_montage(montage) instead.\n",
      "  raw = mne.io.read_raw_brainvision(block1_fname, montage, preload=True)   # read .vhdr as mne raw instance\n"
     ]
    },
    {
     "name": "stdout",
     "output_type": "stream",
     "text": [
      "Extracting parameters from BIDS/sub-23/eeg/sub-23_task-Moral_run-03_eeg.vhdr...\n",
      "Setting channel info structure...\n",
      "Reading 0 ... 157624  =      0.000 ...   315.248 secs...\n"
     ]
    },
    {
     "name": "stderr",
     "output_type": "stream",
     "text": [
      "<ipython-input-4-54bc8fe59c7b>:9: DeprecationWarning: Setting a montage using anything rather than DigMontage is deprecated and will raise an error in v0.20. Please use ``read_dig_fif``, ``read_dig_egi``, ``read_dig_polhemus_isotrak``, or ``read_dig_captrack`` ``read_dig_hpts``, ``read_dig_captrack`` or ``read_custom_montage`` to read a digitization based on your needs instead; or ``make_standard_montage`` to create ``DigMontage`` based on template; or ``make_dig_montage`` to create a ``DigMontage`` out of np.arrays.\n",
      "  raw1 = mne.io.read_raw_brainvision(eeg_path,montage,preload=True)\n",
      "<ipython-input-4-54bc8fe59c7b>:9: DeprecationWarning: The `montage` parameter from `read_raw_brainvision` is deprecated and will be removed  in version 0.20. Use  raw.set_montage(montage) instead.\n",
      "  raw1 = mne.io.read_raw_brainvision(eeg_path,montage,preload=True)\n"
     ]
    },
    {
     "name": "stdout",
     "output_type": "stream",
     "text": [
      "Extracting parameters from BIDS/sub-23/eeg/sub-23_task-Moral_run-04_eeg.vhdr...\n",
      "Setting channel info structure...\n",
      "Reading 0 ... 158124  =      0.000 ...   316.248 secs...\n"
     ]
    },
    {
     "name": "stderr",
     "output_type": "stream",
     "text": [
      "<ipython-input-4-54bc8fe59c7b>:9: DeprecationWarning: Setting a montage using anything rather than DigMontage is deprecated and will raise an error in v0.20. Please use ``read_dig_fif``, ``read_dig_egi``, ``read_dig_polhemus_isotrak``, or ``read_dig_captrack`` ``read_dig_hpts``, ``read_dig_captrack`` or ``read_custom_montage`` to read a digitization based on your needs instead; or ``make_standard_montage`` to create ``DigMontage`` based on template; or ``make_dig_montage`` to create a ``DigMontage`` out of np.arrays.\n",
      "  raw1 = mne.io.read_raw_brainvision(eeg_path,montage,preload=True)\n",
      "<ipython-input-4-54bc8fe59c7b>:9: DeprecationWarning: The `montage` parameter from `read_raw_brainvision` is deprecated and will be removed  in version 0.20. Use  raw.set_montage(montage) instead.\n",
      "  raw1 = mne.io.read_raw_brainvision(eeg_path,montage,preload=True)\n"
     ]
    },
    {
     "name": "stdout",
     "output_type": "stream",
     "text": [
      "Extracting parameters from BIDS/sub-23/eeg/sub-23_task-Moral_run-05_eeg.vhdr...\n",
      "Setting channel info structure...\n",
      "Reading 0 ... 157424  =      0.000 ...   314.848 secs...\n"
     ]
    },
    {
     "name": "stderr",
     "output_type": "stream",
     "text": [
      "<ipython-input-4-54bc8fe59c7b>:9: DeprecationWarning: Setting a montage using anything rather than DigMontage is deprecated and will raise an error in v0.20. Please use ``read_dig_fif``, ``read_dig_egi``, ``read_dig_polhemus_isotrak``, or ``read_dig_captrack`` ``read_dig_hpts``, ``read_dig_captrack`` or ``read_custom_montage`` to read a digitization based on your needs instead; or ``make_standard_montage`` to create ``DigMontage`` based on template; or ``make_dig_montage`` to create a ``DigMontage`` out of np.arrays.\n",
      "  raw1 = mne.io.read_raw_brainvision(eeg_path,montage,preload=True)\n",
      "<ipython-input-4-54bc8fe59c7b>:9: DeprecationWarning: The `montage` parameter from `read_raw_brainvision` is deprecated and will be removed  in version 0.20. Use  raw.set_montage(montage) instead.\n",
      "  raw1 = mne.io.read_raw_brainvision(eeg_path,montage,preload=True)\n"
     ]
    },
    {
     "name": "stdout",
     "output_type": "stream",
     "text": [
      "Extracting parameters from BIDS/sub-23/eeg/sub-23_task-Moral_run-06_eeg.vhdr...\n"
     ]
    },
    {
     "name": "stderr",
     "output_type": "stream",
     "text": [
      "<ipython-input-4-54bc8fe59c7b>:9: DeprecationWarning: Setting a montage using anything rather than DigMontage is deprecated and will raise an error in v0.20. Please use ``read_dig_fif``, ``read_dig_egi``, ``read_dig_polhemus_isotrak``, or ``read_dig_captrack`` ``read_dig_hpts``, ``read_dig_captrack`` or ``read_custom_montage`` to read a digitization based on your needs instead; or ``make_standard_montage`` to create ``DigMontage`` based on template; or ``make_dig_montage`` to create a ``DigMontage`` out of np.arrays.\n",
      "  raw1 = mne.io.read_raw_brainvision(eeg_path,montage,preload=True)\n",
      "<ipython-input-4-54bc8fe59c7b>:9: DeprecationWarning: The `montage` parameter from `read_raw_brainvision` is deprecated and will be removed  in version 0.20. Use  raw.set_montage(montage) instead.\n",
      "  raw1 = mne.io.read_raw_brainvision(eeg_path,montage,preload=True)\n"
     ]
    },
    {
     "name": "stdout",
     "output_type": "stream",
     "text": [
      "Setting channel info structure...\n",
      "Reading 0 ... 158374  =      0.000 ...   316.748 secs...\n"
     ]
    },
    {
     "name": "stderr",
     "output_type": "stream",
     "text": [
      "<ipython-input-4-54bc8fe59c7b>:9: DeprecationWarning: Setting a montage using anything rather than DigMontage is deprecated and will raise an error in v0.20. Please use ``read_dig_fif``, ``read_dig_egi``, ``read_dig_polhemus_isotrak``, or ``read_dig_captrack`` ``read_dig_hpts``, ``read_dig_captrack`` or ``read_custom_montage`` to read a digitization based on your needs instead; or ``make_standard_montage`` to create ``DigMontage`` based on template; or ``make_dig_montage`` to create a ``DigMontage`` out of np.arrays.\n",
      "  raw1 = mne.io.read_raw_brainvision(eeg_path,montage,preload=True)\n",
      "<ipython-input-4-54bc8fe59c7b>:9: DeprecationWarning: The `montage` parameter from `read_raw_brainvision` is deprecated and will be removed  in version 0.20. Use  raw.set_montage(montage) instead.\n",
      "  raw1 = mne.io.read_raw_brainvision(eeg_path,montage,preload=True)\n"
     ]
    },
    {
     "name": "stdout",
     "output_type": "stream",
     "text": [
      "Extracting parameters from BIDS/sub-23/eeg/sub-23_task-Moral_run-07_eeg.vhdr...\n",
      "Setting channel info structure...\n",
      "Reading 0 ... 156874  =      0.000 ...   313.748 secs...\n"
     ]
    },
    {
     "name": "stderr",
     "output_type": "stream",
     "text": [
      "<ipython-input-4-54bc8fe59c7b>:9: DeprecationWarning: Setting a montage using anything rather than DigMontage is deprecated and will raise an error in v0.20. Please use ``read_dig_fif``, ``read_dig_egi``, ``read_dig_polhemus_isotrak``, or ``read_dig_captrack`` ``read_dig_hpts``, ``read_dig_captrack`` or ``read_custom_montage`` to read a digitization based on your needs instead; or ``make_standard_montage`` to create ``DigMontage`` based on template; or ``make_dig_montage`` to create a ``DigMontage`` out of np.arrays.\n",
      "  raw1 = mne.io.read_raw_brainvision(eeg_path,montage,preload=True)\n",
      "<ipython-input-4-54bc8fe59c7b>:9: DeprecationWarning: The `montage` parameter from `read_raw_brainvision` is deprecated and will be removed  in version 0.20. Use  raw.set_montage(montage) instead.\n",
      "  raw1 = mne.io.read_raw_brainvision(eeg_path,montage,preload=True)\n"
     ]
    },
    {
     "name": "stdout",
     "output_type": "stream",
     "text": [
      "Extracting parameters from BIDS/sub-23/eeg/sub-23_task-Moral_run-08_eeg.vhdr...\n",
      "Setting channel info structure...\n",
      "Reading 0 ... 162224  =      0.000 ...   324.448 secs...\n"
     ]
    },
    {
     "name": "stderr",
     "output_type": "stream",
     "text": [
      "<ipython-input-4-54bc8fe59c7b>:9: DeprecationWarning: Setting a montage using anything rather than DigMontage is deprecated and will raise an error in v0.20. Please use ``read_dig_fif``, ``read_dig_egi``, ``read_dig_polhemus_isotrak``, or ``read_dig_captrack`` ``read_dig_hpts``, ``read_dig_captrack`` or ``read_custom_montage`` to read a digitization based on your needs instead; or ``make_standard_montage`` to create ``DigMontage`` based on template; or ``make_dig_montage`` to create a ``DigMontage`` out of np.arrays.\n",
      "  raw1 = mne.io.read_raw_brainvision(eeg_path,montage,preload=True)\n",
      "<ipython-input-4-54bc8fe59c7b>:9: DeprecationWarning: The `montage` parameter from `read_raw_brainvision` is deprecated and will be removed  in version 0.20. Use  raw.set_montage(montage) instead.\n",
      "  raw1 = mne.io.read_raw_brainvision(eeg_path,montage,preload=True)\n"
     ]
    },
    {
     "name": "stdout",
     "output_type": "stream",
     "text": [
      "Extracting parameters from BIDS/sub-23/eeg/sub-23_task-Moral_run-09_eeg.vhdr...\n",
      "Setting channel info structure...\n",
      "Reading 0 ... 158449  =      0.000 ...   316.898 secs...\n"
     ]
    },
    {
     "name": "stderr",
     "output_type": "stream",
     "text": [
      "<ipython-input-4-54bc8fe59c7b>:9: DeprecationWarning: Setting a montage using anything rather than DigMontage is deprecated and will raise an error in v0.20. Please use ``read_dig_fif``, ``read_dig_egi``, ``read_dig_polhemus_isotrak``, or ``read_dig_captrack`` ``read_dig_hpts``, ``read_dig_captrack`` or ``read_custom_montage`` to read a digitization based on your needs instead; or ``make_standard_montage`` to create ``DigMontage`` based on template; or ``make_dig_montage`` to create a ``DigMontage`` out of np.arrays.\n",
      "  raw1 = mne.io.read_raw_brainvision(eeg_path,montage,preload=True)\n",
      "<ipython-input-4-54bc8fe59c7b>:9: DeprecationWarning: The `montage` parameter from `read_raw_brainvision` is deprecated and will be removed  in version 0.20. Use  raw.set_montage(montage) instead.\n",
      "  raw1 = mne.io.read_raw_brainvision(eeg_path,montage,preload=True)\n"
     ]
    },
    {
     "name": "stdout",
     "output_type": "stream",
     "text": [
      "Writing /media/hcp4715/USB1/Data/EEGdata/Analysis_Py/Exp1/raw_fif/sub-23_raw.fif\n",
      "Closing /media/hcp4715/USB1/Data/EEGdata/Analysis_Py/Exp1/raw_fif/sub-23_raw.fif [done]\n",
      "Extracting parameters from BIDS/sub-24/eeg/sub-24_task-Moral_run-01_eeg.vhdr...\n",
      "Setting channel info structure...\n",
      "Reading 0 ... 163024  =      0.000 ...   326.048 secs...\n"
     ]
    },
    {
     "name": "stderr",
     "output_type": "stream",
     "text": [
      "/media/hcp4715/study/Py_Envs/Py_MNE/lib/python3.6/site-packages/mne/utils/docs.py:824: DeprecationWarning: Function read_montage is deprecated; ``read_montage`` is deprecated and will be removed in v0.20. Please use ``read_dig_fif``, ``read_dig_egi``, ``read_custom_montage``, or ``read_dig_captrack`` to read a digitization based on your needs instead; or ``make_standard_montage`` to create ``DigMontage`` based on template; or ``make_dig_montage`` to create a ``DigMontage`` out of np.arrays\n",
      "  warnings.warn(msg, category=DeprecationWarning)\n",
      "/media/hcp4715/study/Py_Envs/Py_MNE/lib/python3.6/site-packages/mne/utils/docs.py:807: DeprecationWarning: Class Montage is deprecated; Montage class is deprecated and will be removed in v0.20. Please use DigMontage instead.\n",
      "  warnings.warn(msg, category=DeprecationWarning)\n"
     ]
    },
    {
     "name": "stdout",
     "output_type": "stream",
     "text": [
      "Extracting parameters from BIDS/sub-24/eeg/sub-24_task-Moral_run-02_eeg.vhdr...\n",
      "Setting channel info structure...\n"
     ]
    },
    {
     "name": "stderr",
     "output_type": "stream",
     "text": [
      "<ipython-input-4-54bc8fe59c7b>:5: DeprecationWarning: Setting a montage using anything rather than DigMontage is deprecated and will raise an error in v0.20. Please use ``read_dig_fif``, ``read_dig_egi``, ``read_dig_polhemus_isotrak``, or ``read_dig_captrack`` ``read_dig_hpts``, ``read_dig_captrack`` or ``read_custom_montage`` to read a digitization based on your needs instead; or ``make_standard_montage`` to create ``DigMontage`` based on template; or ``make_dig_montage`` to create a ``DigMontage`` out of np.arrays.\n",
      "  raw = mne.io.read_raw_brainvision(block1_fname, montage, preload=True)   # read .vhdr as mne raw instance\n",
      "<ipython-input-4-54bc8fe59c7b>:5: DeprecationWarning: The `montage` parameter from `read_raw_brainvision` is deprecated and will be removed  in version 0.20. Use  raw.set_montage(montage) instead.\n",
      "  raw = mne.io.read_raw_brainvision(block1_fname, montage, preload=True)   # read .vhdr as mne raw instance\n"
     ]
    },
    {
     "name": "stdout",
     "output_type": "stream",
     "text": [
      "Reading 0 ... 163624  =      0.000 ...   327.248 secs...\n",
      "Extracting parameters from BIDS/sub-24/eeg/sub-24_task-Moral_run-03_eeg.vhdr...\n"
     ]
    },
    {
     "name": "stderr",
     "output_type": "stream",
     "text": [
      "<ipython-input-4-54bc8fe59c7b>:9: DeprecationWarning: Setting a montage using anything rather than DigMontage is deprecated and will raise an error in v0.20. Please use ``read_dig_fif``, ``read_dig_egi``, ``read_dig_polhemus_isotrak``, or ``read_dig_captrack`` ``read_dig_hpts``, ``read_dig_captrack`` or ``read_custom_montage`` to read a digitization based on your needs instead; or ``make_standard_montage`` to create ``DigMontage`` based on template; or ``make_dig_montage`` to create a ``DigMontage`` out of np.arrays.\n",
      "  raw1 = mne.io.read_raw_brainvision(eeg_path,montage,preload=True)\n",
      "<ipython-input-4-54bc8fe59c7b>:9: DeprecationWarning: The `montage` parameter from `read_raw_brainvision` is deprecated and will be removed  in version 0.20. Use  raw.set_montage(montage) instead.\n",
      "  raw1 = mne.io.read_raw_brainvision(eeg_path,montage,preload=True)\n"
     ]
    },
    {
     "name": "stdout",
     "output_type": "stream",
     "text": [
      "Setting channel info structure...\n",
      "Reading 0 ... 152949  =      0.000 ...   305.898 secs...\n",
      "Extracting parameters from BIDS/sub-24/eeg/sub-24_task-Moral_run-04_eeg.vhdr...\n",
      "Setting channel info structure...\n",
      "Reading 0 ... 165674  =      0.000 ...   331.348 secs...\n"
     ]
    },
    {
     "name": "stderr",
     "output_type": "stream",
     "text": [
      "<ipython-input-4-54bc8fe59c7b>:9: DeprecationWarning: Setting a montage using anything rather than DigMontage is deprecated and will raise an error in v0.20. Please use ``read_dig_fif``, ``read_dig_egi``, ``read_dig_polhemus_isotrak``, or ``read_dig_captrack`` ``read_dig_hpts``, ``read_dig_captrack`` or ``read_custom_montage`` to read a digitization based on your needs instead; or ``make_standard_montage`` to create ``DigMontage`` based on template; or ``make_dig_montage`` to create a ``DigMontage`` out of np.arrays.\n",
      "  raw1 = mne.io.read_raw_brainvision(eeg_path,montage,preload=True)\n",
      "<ipython-input-4-54bc8fe59c7b>:9: DeprecationWarning: The `montage` parameter from `read_raw_brainvision` is deprecated and will be removed  in version 0.20. Use  raw.set_montage(montage) instead.\n",
      "  raw1 = mne.io.read_raw_brainvision(eeg_path,montage,preload=True)\n"
     ]
    },
    {
     "name": "stdout",
     "output_type": "stream",
     "text": [
      "Extracting parameters from BIDS/sub-24/eeg/sub-24_task-Moral_run-05_eeg.vhdr...\n",
      "Setting channel info structure...\n",
      "Reading 0 ... 158949  =      0.000 ...   317.898 secs...\n"
     ]
    },
    {
     "name": "stderr",
     "output_type": "stream",
     "text": [
      "<ipython-input-4-54bc8fe59c7b>:9: DeprecationWarning: Setting a montage using anything rather than DigMontage is deprecated and will raise an error in v0.20. Please use ``read_dig_fif``, ``read_dig_egi``, ``read_dig_polhemus_isotrak``, or ``read_dig_captrack`` ``read_dig_hpts``, ``read_dig_captrack`` or ``read_custom_montage`` to read a digitization based on your needs instead; or ``make_standard_montage`` to create ``DigMontage`` based on template; or ``make_dig_montage`` to create a ``DigMontage`` out of np.arrays.\n",
      "  raw1 = mne.io.read_raw_brainvision(eeg_path,montage,preload=True)\n",
      "<ipython-input-4-54bc8fe59c7b>:9: DeprecationWarning: The `montage` parameter from `read_raw_brainvision` is deprecated and will be removed  in version 0.20. Use  raw.set_montage(montage) instead.\n",
      "  raw1 = mne.io.read_raw_brainvision(eeg_path,montage,preload=True)\n"
     ]
    },
    {
     "name": "stdout",
     "output_type": "stream",
     "text": [
      "Extracting parameters from BIDS/sub-24/eeg/sub-24_task-Moral_run-06_eeg.vhdr...\n"
     ]
    },
    {
     "name": "stderr",
     "output_type": "stream",
     "text": [
      "<ipython-input-4-54bc8fe59c7b>:9: DeprecationWarning: Setting a montage using anything rather than DigMontage is deprecated and will raise an error in v0.20. Please use ``read_dig_fif``, ``read_dig_egi``, ``read_dig_polhemus_isotrak``, or ``read_dig_captrack`` ``read_dig_hpts``, ``read_dig_captrack`` or ``read_custom_montage`` to read a digitization based on your needs instead; or ``make_standard_montage`` to create ``DigMontage`` based on template; or ``make_dig_montage`` to create a ``DigMontage`` out of np.arrays.\n",
      "  raw1 = mne.io.read_raw_brainvision(eeg_path,montage,preload=True)\n",
      "<ipython-input-4-54bc8fe59c7b>:9: DeprecationWarning: The `montage` parameter from `read_raw_brainvision` is deprecated and will be removed  in version 0.20. Use  raw.set_montage(montage) instead.\n",
      "  raw1 = mne.io.read_raw_brainvision(eeg_path,montage,preload=True)\n"
     ]
    },
    {
     "name": "stdout",
     "output_type": "stream",
     "text": [
      "Setting channel info structure...\n",
      "Reading 0 ... 205824  =      0.000 ...   411.648 secs...\n"
     ]
    },
    {
     "name": "stderr",
     "output_type": "stream",
     "text": [
      "<ipython-input-4-54bc8fe59c7b>:9: DeprecationWarning: Setting a montage using anything rather than DigMontage is deprecated and will raise an error in v0.20. Please use ``read_dig_fif``, ``read_dig_egi``, ``read_dig_polhemus_isotrak``, or ``read_dig_captrack`` ``read_dig_hpts``, ``read_dig_captrack`` or ``read_custom_montage`` to read a digitization based on your needs instead; or ``make_standard_montage`` to create ``DigMontage`` based on template; or ``make_dig_montage`` to create a ``DigMontage`` out of np.arrays.\n",
      "  raw1 = mne.io.read_raw_brainvision(eeg_path,montage,preload=True)\n",
      "<ipython-input-4-54bc8fe59c7b>:9: DeprecationWarning: The `montage` parameter from `read_raw_brainvision` is deprecated and will be removed  in version 0.20. Use  raw.set_montage(montage) instead.\n",
      "  raw1 = mne.io.read_raw_brainvision(eeg_path,montage,preload=True)\n"
     ]
    },
    {
     "name": "stdout",
     "output_type": "stream",
     "text": [
      "Extracting parameters from BIDS/sub-24/eeg/sub-24_task-Moral_run-07_eeg.vhdr...\n",
      "Setting channel info structure...\n",
      "Reading 0 ... 162849  =      0.000 ...   325.698 secs...\n"
     ]
    },
    {
     "name": "stderr",
     "output_type": "stream",
     "text": [
      "<ipython-input-4-54bc8fe59c7b>:9: DeprecationWarning: Setting a montage using anything rather than DigMontage is deprecated and will raise an error in v0.20. Please use ``read_dig_fif``, ``read_dig_egi``, ``read_dig_polhemus_isotrak``, or ``read_dig_captrack`` ``read_dig_hpts``, ``read_dig_captrack`` or ``read_custom_montage`` to read a digitization based on your needs instead; or ``make_standard_montage`` to create ``DigMontage`` based on template; or ``make_dig_montage`` to create a ``DigMontage`` out of np.arrays.\n",
      "  raw1 = mne.io.read_raw_brainvision(eeg_path,montage,preload=True)\n",
      "<ipython-input-4-54bc8fe59c7b>:9: DeprecationWarning: The `montage` parameter from `read_raw_brainvision` is deprecated and will be removed  in version 0.20. Use  raw.set_montage(montage) instead.\n",
      "  raw1 = mne.io.read_raw_brainvision(eeg_path,montage,preload=True)\n"
     ]
    },
    {
     "name": "stdout",
     "output_type": "stream",
     "text": [
      "Extracting parameters from BIDS/sub-24/eeg/sub-24_task-Moral_run-08_eeg.vhdr...\n",
      "Setting channel info structure...\n",
      "Reading 0 ... 177249  =      0.000 ...   354.498 secs...\n"
     ]
    },
    {
     "name": "stderr",
     "output_type": "stream",
     "text": [
      "<ipython-input-4-54bc8fe59c7b>:9: DeprecationWarning: Setting a montage using anything rather than DigMontage is deprecated and will raise an error in v0.20. Please use ``read_dig_fif``, ``read_dig_egi``, ``read_dig_polhemus_isotrak``, or ``read_dig_captrack`` ``read_dig_hpts``, ``read_dig_captrack`` or ``read_custom_montage`` to read a digitization based on your needs instead; or ``make_standard_montage`` to create ``DigMontage`` based on template; or ``make_dig_montage`` to create a ``DigMontage`` out of np.arrays.\n",
      "  raw1 = mne.io.read_raw_brainvision(eeg_path,montage,preload=True)\n",
      "<ipython-input-4-54bc8fe59c7b>:9: DeprecationWarning: The `montage` parameter from `read_raw_brainvision` is deprecated and will be removed  in version 0.20. Use  raw.set_montage(montage) instead.\n",
      "  raw1 = mne.io.read_raw_brainvision(eeg_path,montage,preload=True)\n"
     ]
    },
    {
     "name": "stdout",
     "output_type": "stream",
     "text": [
      "Extracting parameters from BIDS/sub-24/eeg/sub-24_task-Moral_run-09_eeg.vhdr...\n",
      "Setting channel info structure...\n",
      "Reading 0 ... 158974  =      0.000 ...   317.948 secs...\n"
     ]
    },
    {
     "name": "stderr",
     "output_type": "stream",
     "text": [
      "<ipython-input-4-54bc8fe59c7b>:9: DeprecationWarning: Setting a montage using anything rather than DigMontage is deprecated and will raise an error in v0.20. Please use ``read_dig_fif``, ``read_dig_egi``, ``read_dig_polhemus_isotrak``, or ``read_dig_captrack`` ``read_dig_hpts``, ``read_dig_captrack`` or ``read_custom_montage`` to read a digitization based on your needs instead; or ``make_standard_montage`` to create ``DigMontage`` based on template; or ``make_dig_montage`` to create a ``DigMontage`` out of np.arrays.\n",
      "  raw1 = mne.io.read_raw_brainvision(eeg_path,montage,preload=True)\n",
      "<ipython-input-4-54bc8fe59c7b>:9: DeprecationWarning: The `montage` parameter from `read_raw_brainvision` is deprecated and will be removed  in version 0.20. Use  raw.set_montage(montage) instead.\n",
      "  raw1 = mne.io.read_raw_brainvision(eeg_path,montage,preload=True)\n"
     ]
    },
    {
     "name": "stdout",
     "output_type": "stream",
     "text": [
      "Writing /media/hcp4715/USB1/Data/EEGdata/Analysis_Py/Exp1/raw_fif/sub-24_raw.fif\n",
      "Closing /media/hcp4715/USB1/Data/EEGdata/Analysis_Py/Exp1/raw_fif/sub-24_raw.fif [done]\n",
      "Extracting parameters from BIDS/sub-25/eeg/sub-25_task-Moral_run-01_eeg.vhdr...\n",
      "Setting channel info structure...\n",
      "Reading 0 ... 157349  =      0.000 ...   314.698 secs...\n"
     ]
    },
    {
     "name": "stderr",
     "output_type": "stream",
     "text": [
      "/media/hcp4715/study/Py_Envs/Py_MNE/lib/python3.6/site-packages/mne/utils/docs.py:824: DeprecationWarning: Function read_montage is deprecated; ``read_montage`` is deprecated and will be removed in v0.20. Please use ``read_dig_fif``, ``read_dig_egi``, ``read_custom_montage``, or ``read_dig_captrack`` to read a digitization based on your needs instead; or ``make_standard_montage`` to create ``DigMontage`` based on template; or ``make_dig_montage`` to create a ``DigMontage`` out of np.arrays\n",
      "  warnings.warn(msg, category=DeprecationWarning)\n",
      "/media/hcp4715/study/Py_Envs/Py_MNE/lib/python3.6/site-packages/mne/utils/docs.py:807: DeprecationWarning: Class Montage is deprecated; Montage class is deprecated and will be removed in v0.20. Please use DigMontage instead.\n",
      "  warnings.warn(msg, category=DeprecationWarning)\n"
     ]
    },
    {
     "name": "stdout",
     "output_type": "stream",
     "text": [
      "Extracting parameters from BIDS/sub-25/eeg/sub-25_task-Moral_run-02_eeg.vhdr...\n",
      "Setting channel info structure...\n",
      "Reading 0 ... 159074  =      0.000 ...   318.148 secs...\n"
     ]
    },
    {
     "name": "stderr",
     "output_type": "stream",
     "text": [
      "<ipython-input-4-54bc8fe59c7b>:5: DeprecationWarning: Setting a montage using anything rather than DigMontage is deprecated and will raise an error in v0.20. Please use ``read_dig_fif``, ``read_dig_egi``, ``read_dig_polhemus_isotrak``, or ``read_dig_captrack`` ``read_dig_hpts``, ``read_dig_captrack`` or ``read_custom_montage`` to read a digitization based on your needs instead; or ``make_standard_montage`` to create ``DigMontage`` based on template; or ``make_dig_montage`` to create a ``DigMontage`` out of np.arrays.\n",
      "  raw = mne.io.read_raw_brainvision(block1_fname, montage, preload=True)   # read .vhdr as mne raw instance\n",
      "<ipython-input-4-54bc8fe59c7b>:5: DeprecationWarning: The `montage` parameter from `read_raw_brainvision` is deprecated and will be removed  in version 0.20. Use  raw.set_montage(montage) instead.\n",
      "  raw = mne.io.read_raw_brainvision(block1_fname, montage, preload=True)   # read .vhdr as mne raw instance\n"
     ]
    },
    {
     "name": "stdout",
     "output_type": "stream",
     "text": [
      "Extracting parameters from BIDS/sub-25/eeg/sub-25_task-Moral_run-03_eeg.vhdr...\n",
      "Setting channel info structure...\n",
      "Reading 0 ... 159949  =      0.000 ...   319.898 secs...\n"
     ]
    },
    {
     "name": "stderr",
     "output_type": "stream",
     "text": [
      "<ipython-input-4-54bc8fe59c7b>:9: DeprecationWarning: Setting a montage using anything rather than DigMontage is deprecated and will raise an error in v0.20. Please use ``read_dig_fif``, ``read_dig_egi``, ``read_dig_polhemus_isotrak``, or ``read_dig_captrack`` ``read_dig_hpts``, ``read_dig_captrack`` or ``read_custom_montage`` to read a digitization based on your needs instead; or ``make_standard_montage`` to create ``DigMontage`` based on template; or ``make_dig_montage`` to create a ``DigMontage`` out of np.arrays.\n",
      "  raw1 = mne.io.read_raw_brainvision(eeg_path,montage,preload=True)\n",
      "<ipython-input-4-54bc8fe59c7b>:9: DeprecationWarning: The `montage` parameter from `read_raw_brainvision` is deprecated and will be removed  in version 0.20. Use  raw.set_montage(montage) instead.\n",
      "  raw1 = mne.io.read_raw_brainvision(eeg_path,montage,preload=True)\n"
     ]
    },
    {
     "name": "stdout",
     "output_type": "stream",
     "text": [
      "Extracting parameters from BIDS/sub-25/eeg/sub-25_task-Moral_run-04_eeg.vhdr...\n",
      "Setting channel info structure...\n",
      "Reading 0 ... 160674  =      0.000 ...   321.348 secs...\n"
     ]
    },
    {
     "name": "stderr",
     "output_type": "stream",
     "text": [
      "<ipython-input-4-54bc8fe59c7b>:9: DeprecationWarning: Setting a montage using anything rather than DigMontage is deprecated and will raise an error in v0.20. Please use ``read_dig_fif``, ``read_dig_egi``, ``read_dig_polhemus_isotrak``, or ``read_dig_captrack`` ``read_dig_hpts``, ``read_dig_captrack`` or ``read_custom_montage`` to read a digitization based on your needs instead; or ``make_standard_montage`` to create ``DigMontage`` based on template; or ``make_dig_montage`` to create a ``DigMontage`` out of np.arrays.\n",
      "  raw1 = mne.io.read_raw_brainvision(eeg_path,montage,preload=True)\n",
      "<ipython-input-4-54bc8fe59c7b>:9: DeprecationWarning: The `montage` parameter from `read_raw_brainvision` is deprecated and will be removed  in version 0.20. Use  raw.set_montage(montage) instead.\n",
      "  raw1 = mne.io.read_raw_brainvision(eeg_path,montage,preload=True)\n"
     ]
    },
    {
     "name": "stdout",
     "output_type": "stream",
     "text": [
      "Extracting parameters from BIDS/sub-25/eeg/sub-25_task-Moral_run-05_eeg.vhdr...\n",
      "Setting channel info structure...\n",
      "Reading 0 ... 155549  =      0.000 ...   311.098 secs...\n"
     ]
    },
    {
     "name": "stderr",
     "output_type": "stream",
     "text": [
      "<ipython-input-4-54bc8fe59c7b>:9: DeprecationWarning: Setting a montage using anything rather than DigMontage is deprecated and will raise an error in v0.20. Please use ``read_dig_fif``, ``read_dig_egi``, ``read_dig_polhemus_isotrak``, or ``read_dig_captrack`` ``read_dig_hpts``, ``read_dig_captrack`` or ``read_custom_montage`` to read a digitization based on your needs instead; or ``make_standard_montage`` to create ``DigMontage`` based on template; or ``make_dig_montage`` to create a ``DigMontage`` out of np.arrays.\n",
      "  raw1 = mne.io.read_raw_brainvision(eeg_path,montage,preload=True)\n",
      "<ipython-input-4-54bc8fe59c7b>:9: DeprecationWarning: The `montage` parameter from `read_raw_brainvision` is deprecated and will be removed  in version 0.20. Use  raw.set_montage(montage) instead.\n",
      "  raw1 = mne.io.read_raw_brainvision(eeg_path,montage,preload=True)\n"
     ]
    },
    {
     "name": "stdout",
     "output_type": "stream",
     "text": [
      "Extracting parameters from BIDS/sub-25/eeg/sub-25_task-Moral_run-06_eeg.vhdr...\n"
     ]
    },
    {
     "name": "stderr",
     "output_type": "stream",
     "text": [
      "<ipython-input-4-54bc8fe59c7b>:9: DeprecationWarning: Setting a montage using anything rather than DigMontage is deprecated and will raise an error in v0.20. Please use ``read_dig_fif``, ``read_dig_egi``, ``read_dig_polhemus_isotrak``, or ``read_dig_captrack`` ``read_dig_hpts``, ``read_dig_captrack`` or ``read_custom_montage`` to read a digitization based on your needs instead; or ``make_standard_montage`` to create ``DigMontage`` based on template; or ``make_dig_montage`` to create a ``DigMontage`` out of np.arrays.\n",
      "  raw1 = mne.io.read_raw_brainvision(eeg_path,montage,preload=True)\n",
      "<ipython-input-4-54bc8fe59c7b>:9: DeprecationWarning: The `montage` parameter from `read_raw_brainvision` is deprecated and will be removed  in version 0.20. Use  raw.set_montage(montage) instead.\n",
      "  raw1 = mne.io.read_raw_brainvision(eeg_path,montage,preload=True)\n"
     ]
    },
    {
     "name": "stdout",
     "output_type": "stream",
     "text": [
      "Setting channel info structure...\n",
      "Reading 0 ... 157399  =      0.000 ...   314.798 secs...\n"
     ]
    },
    {
     "name": "stderr",
     "output_type": "stream",
     "text": [
      "<ipython-input-4-54bc8fe59c7b>:9: DeprecationWarning: Setting a montage using anything rather than DigMontage is deprecated and will raise an error in v0.20. Please use ``read_dig_fif``, ``read_dig_egi``, ``read_dig_polhemus_isotrak``, or ``read_dig_captrack`` ``read_dig_hpts``, ``read_dig_captrack`` or ``read_custom_montage`` to read a digitization based on your needs instead; or ``make_standard_montage`` to create ``DigMontage`` based on template; or ``make_dig_montage`` to create a ``DigMontage`` out of np.arrays.\n",
      "  raw1 = mne.io.read_raw_brainvision(eeg_path,montage,preload=True)\n",
      "<ipython-input-4-54bc8fe59c7b>:9: DeprecationWarning: The `montage` parameter from `read_raw_brainvision` is deprecated and will be removed  in version 0.20. Use  raw.set_montage(montage) instead.\n",
      "  raw1 = mne.io.read_raw_brainvision(eeg_path,montage,preload=True)\n"
     ]
    },
    {
     "name": "stdout",
     "output_type": "stream",
     "text": [
      "Extracting parameters from BIDS/sub-25/eeg/sub-25_task-Moral_run-07_eeg.vhdr...\n",
      "Setting channel info structure...\n",
      "Reading 0 ... 157274  =      0.000 ...   314.548 secs...\n"
     ]
    },
    {
     "name": "stderr",
     "output_type": "stream",
     "text": [
      "<ipython-input-4-54bc8fe59c7b>:9: DeprecationWarning: Setting a montage using anything rather than DigMontage is deprecated and will raise an error in v0.20. Please use ``read_dig_fif``, ``read_dig_egi``, ``read_dig_polhemus_isotrak``, or ``read_dig_captrack`` ``read_dig_hpts``, ``read_dig_captrack`` or ``read_custom_montage`` to read a digitization based on your needs instead; or ``make_standard_montage`` to create ``DigMontage`` based on template; or ``make_dig_montage`` to create a ``DigMontage`` out of np.arrays.\n",
      "  raw1 = mne.io.read_raw_brainvision(eeg_path,montage,preload=True)\n",
      "<ipython-input-4-54bc8fe59c7b>:9: DeprecationWarning: The `montage` parameter from `read_raw_brainvision` is deprecated and will be removed  in version 0.20. Use  raw.set_montage(montage) instead.\n",
      "  raw1 = mne.io.read_raw_brainvision(eeg_path,montage,preload=True)\n"
     ]
    },
    {
     "name": "stdout",
     "output_type": "stream",
     "text": [
      "Extracting parameters from BIDS/sub-25/eeg/sub-25_task-Moral_run-08_eeg.vhdr...\n",
      "Setting channel info structure...\n",
      "Reading 0 ... 157249  =      0.000 ...   314.498 secs...\n"
     ]
    },
    {
     "name": "stderr",
     "output_type": "stream",
     "text": [
      "<ipython-input-4-54bc8fe59c7b>:9: DeprecationWarning: Setting a montage using anything rather than DigMontage is deprecated and will raise an error in v0.20. Please use ``read_dig_fif``, ``read_dig_egi``, ``read_dig_polhemus_isotrak``, or ``read_dig_captrack`` ``read_dig_hpts``, ``read_dig_captrack`` or ``read_custom_montage`` to read a digitization based on your needs instead; or ``make_standard_montage`` to create ``DigMontage`` based on template; or ``make_dig_montage`` to create a ``DigMontage`` out of np.arrays.\n",
      "  raw1 = mne.io.read_raw_brainvision(eeg_path,montage,preload=True)\n",
      "<ipython-input-4-54bc8fe59c7b>:9: DeprecationWarning: The `montage` parameter from `read_raw_brainvision` is deprecated and will be removed  in version 0.20. Use  raw.set_montage(montage) instead.\n",
      "  raw1 = mne.io.read_raw_brainvision(eeg_path,montage,preload=True)\n"
     ]
    },
    {
     "name": "stdout",
     "output_type": "stream",
     "text": [
      "Extracting parameters from BIDS/sub-25/eeg/sub-25_task-Moral_run-09_eeg.vhdr...\n",
      "Setting channel info structure...\n",
      "Reading 0 ... 158449  =      0.000 ...   316.898 secs...\n"
     ]
    },
    {
     "name": "stderr",
     "output_type": "stream",
     "text": [
      "<ipython-input-4-54bc8fe59c7b>:9: DeprecationWarning: Setting a montage using anything rather than DigMontage is deprecated and will raise an error in v0.20. Please use ``read_dig_fif``, ``read_dig_egi``, ``read_dig_polhemus_isotrak``, or ``read_dig_captrack`` ``read_dig_hpts``, ``read_dig_captrack`` or ``read_custom_montage`` to read a digitization based on your needs instead; or ``make_standard_montage`` to create ``DigMontage`` based on template; or ``make_dig_montage`` to create a ``DigMontage`` out of np.arrays.\n",
      "  raw1 = mne.io.read_raw_brainvision(eeg_path,montage,preload=True)\n",
      "<ipython-input-4-54bc8fe59c7b>:9: DeprecationWarning: The `montage` parameter from `read_raw_brainvision` is deprecated and will be removed  in version 0.20. Use  raw.set_montage(montage) instead.\n",
      "  raw1 = mne.io.read_raw_brainvision(eeg_path,montage,preload=True)\n"
     ]
    },
    {
     "name": "stdout",
     "output_type": "stream",
     "text": [
      "Writing /media/hcp4715/USB1/Data/EEGdata/Analysis_Py/Exp1/raw_fif/sub-25_raw.fif\n",
      "Closing /media/hcp4715/USB1/Data/EEGdata/Analysis_Py/Exp1/raw_fif/sub-25_raw.fif [done]\n",
      "Extracting parameters from BIDS/sub-26/eeg/sub-26_task-Moral_run-01_eeg.vhdr...\n",
      "Setting channel info structure...\n",
      "Reading 0 ... 159124  =      0.000 ...   318.248 secs...\n"
     ]
    },
    {
     "name": "stderr",
     "output_type": "stream",
     "text": [
      "/media/hcp4715/study/Py_Envs/Py_MNE/lib/python3.6/site-packages/mne/utils/docs.py:824: DeprecationWarning: Function read_montage is deprecated; ``read_montage`` is deprecated and will be removed in v0.20. Please use ``read_dig_fif``, ``read_dig_egi``, ``read_custom_montage``, or ``read_dig_captrack`` to read a digitization based on your needs instead; or ``make_standard_montage`` to create ``DigMontage`` based on template; or ``make_dig_montage`` to create a ``DigMontage`` out of np.arrays\n",
      "  warnings.warn(msg, category=DeprecationWarning)\n",
      "/media/hcp4715/study/Py_Envs/Py_MNE/lib/python3.6/site-packages/mne/utils/docs.py:807: DeprecationWarning: Class Montage is deprecated; Montage class is deprecated and will be removed in v0.20. Please use DigMontage instead.\n",
      "  warnings.warn(msg, category=DeprecationWarning)\n"
     ]
    },
    {
     "name": "stdout",
     "output_type": "stream",
     "text": [
      "Extracting parameters from BIDS/sub-26/eeg/sub-26_task-Moral_run-02_eeg.vhdr...\n",
      "Setting channel info structure...\n",
      "Reading 0 ... 158449  =      0.000 ...   316.898 secs...\n"
     ]
    },
    {
     "name": "stderr",
     "output_type": "stream",
     "text": [
      "<ipython-input-4-54bc8fe59c7b>:5: DeprecationWarning: Setting a montage using anything rather than DigMontage is deprecated and will raise an error in v0.20. Please use ``read_dig_fif``, ``read_dig_egi``, ``read_dig_polhemus_isotrak``, or ``read_dig_captrack`` ``read_dig_hpts``, ``read_dig_captrack`` or ``read_custom_montage`` to read a digitization based on your needs instead; or ``make_standard_montage`` to create ``DigMontage`` based on template; or ``make_dig_montage`` to create a ``DigMontage`` out of np.arrays.\n",
      "  raw = mne.io.read_raw_brainvision(block1_fname, montage, preload=True)   # read .vhdr as mne raw instance\n",
      "<ipython-input-4-54bc8fe59c7b>:5: DeprecationWarning: The `montage` parameter from `read_raw_brainvision` is deprecated and will be removed  in version 0.20. Use  raw.set_montage(montage) instead.\n",
      "  raw = mne.io.read_raw_brainvision(block1_fname, montage, preload=True)   # read .vhdr as mne raw instance\n"
     ]
    },
    {
     "name": "stdout",
     "output_type": "stream",
     "text": [
      "Extracting parameters from BIDS/sub-26/eeg/sub-26_task-Moral_run-03_eeg.vhdr...\n",
      "Setting channel info structure...\n",
      "Reading 0 ... 158049  =      0.000 ...   316.098 secs...\n"
     ]
    },
    {
     "name": "stderr",
     "output_type": "stream",
     "text": [
      "<ipython-input-4-54bc8fe59c7b>:9: DeprecationWarning: Setting a montage using anything rather than DigMontage is deprecated and will raise an error in v0.20. Please use ``read_dig_fif``, ``read_dig_egi``, ``read_dig_polhemus_isotrak``, or ``read_dig_captrack`` ``read_dig_hpts``, ``read_dig_captrack`` or ``read_custom_montage`` to read a digitization based on your needs instead; or ``make_standard_montage`` to create ``DigMontage`` based on template; or ``make_dig_montage`` to create a ``DigMontage`` out of np.arrays.\n",
      "  raw1 = mne.io.read_raw_brainvision(eeg_path,montage,preload=True)\n",
      "<ipython-input-4-54bc8fe59c7b>:9: DeprecationWarning: The `montage` parameter from `read_raw_brainvision` is deprecated and will be removed  in version 0.20. Use  raw.set_montage(montage) instead.\n",
      "  raw1 = mne.io.read_raw_brainvision(eeg_path,montage,preload=True)\n"
     ]
    },
    {
     "name": "stdout",
     "output_type": "stream",
     "text": [
      "Extracting parameters from BIDS/sub-26/eeg/sub-26_task-Moral_run-04_eeg.vhdr...\n",
      "Setting channel info structure...\n",
      "Reading 0 ... 157374  =      0.000 ...   314.748 secs...\n"
     ]
    },
    {
     "name": "stderr",
     "output_type": "stream",
     "text": [
      "<ipython-input-4-54bc8fe59c7b>:9: DeprecationWarning: Setting a montage using anything rather than DigMontage is deprecated and will raise an error in v0.20. Please use ``read_dig_fif``, ``read_dig_egi``, ``read_dig_polhemus_isotrak``, or ``read_dig_captrack`` ``read_dig_hpts``, ``read_dig_captrack`` or ``read_custom_montage`` to read a digitization based on your needs instead; or ``make_standard_montage`` to create ``DigMontage`` based on template; or ``make_dig_montage`` to create a ``DigMontage`` out of np.arrays.\n",
      "  raw1 = mne.io.read_raw_brainvision(eeg_path,montage,preload=True)\n",
      "<ipython-input-4-54bc8fe59c7b>:9: DeprecationWarning: The `montage` parameter from `read_raw_brainvision` is deprecated and will be removed  in version 0.20. Use  raw.set_montage(montage) instead.\n",
      "  raw1 = mne.io.read_raw_brainvision(eeg_path,montage,preload=True)\n"
     ]
    },
    {
     "name": "stdout",
     "output_type": "stream",
     "text": [
      "Extracting parameters from BIDS/sub-26/eeg/sub-26_task-Moral_run-05_eeg.vhdr...\n",
      "Setting channel info structure...\n",
      "Reading 0 ... 158549  =      0.000 ...   317.098 secs...\n"
     ]
    },
    {
     "name": "stderr",
     "output_type": "stream",
     "text": [
      "<ipython-input-4-54bc8fe59c7b>:9: DeprecationWarning: Setting a montage using anything rather than DigMontage is deprecated and will raise an error in v0.20. Please use ``read_dig_fif``, ``read_dig_egi``, ``read_dig_polhemus_isotrak``, or ``read_dig_captrack`` ``read_dig_hpts``, ``read_dig_captrack`` or ``read_custom_montage`` to read a digitization based on your needs instead; or ``make_standard_montage`` to create ``DigMontage`` based on template; or ``make_dig_montage`` to create a ``DigMontage`` out of np.arrays.\n",
      "  raw1 = mne.io.read_raw_brainvision(eeg_path,montage,preload=True)\n",
      "<ipython-input-4-54bc8fe59c7b>:9: DeprecationWarning: The `montage` parameter from `read_raw_brainvision` is deprecated and will be removed  in version 0.20. Use  raw.set_montage(montage) instead.\n",
      "  raw1 = mne.io.read_raw_brainvision(eeg_path,montage,preload=True)\n"
     ]
    },
    {
     "name": "stdout",
     "output_type": "stream",
     "text": [
      "Extracting parameters from BIDS/sub-26/eeg/sub-26_task-Moral_run-06_eeg.vhdr...\n"
     ]
    },
    {
     "name": "stderr",
     "output_type": "stream",
     "text": [
      "<ipython-input-4-54bc8fe59c7b>:9: DeprecationWarning: Setting a montage using anything rather than DigMontage is deprecated and will raise an error in v0.20. Please use ``read_dig_fif``, ``read_dig_egi``, ``read_dig_polhemus_isotrak``, or ``read_dig_captrack`` ``read_dig_hpts``, ``read_dig_captrack`` or ``read_custom_montage`` to read a digitization based on your needs instead; or ``make_standard_montage`` to create ``DigMontage`` based on template; or ``make_dig_montage`` to create a ``DigMontage`` out of np.arrays.\n",
      "  raw1 = mne.io.read_raw_brainvision(eeg_path,montage,preload=True)\n",
      "<ipython-input-4-54bc8fe59c7b>:9: DeprecationWarning: The `montage` parameter from `read_raw_brainvision` is deprecated and will be removed  in version 0.20. Use  raw.set_montage(montage) instead.\n",
      "  raw1 = mne.io.read_raw_brainvision(eeg_path,montage,preload=True)\n"
     ]
    },
    {
     "name": "stdout",
     "output_type": "stream",
     "text": [
      "Setting channel info structure...\n",
      "Reading 0 ... 155449  =      0.000 ...   310.898 secs...\n"
     ]
    },
    {
     "name": "stderr",
     "output_type": "stream",
     "text": [
      "<ipython-input-4-54bc8fe59c7b>:9: DeprecationWarning: Setting a montage using anything rather than DigMontage is deprecated and will raise an error in v0.20. Please use ``read_dig_fif``, ``read_dig_egi``, ``read_dig_polhemus_isotrak``, or ``read_dig_captrack`` ``read_dig_hpts``, ``read_dig_captrack`` or ``read_custom_montage`` to read a digitization based on your needs instead; or ``make_standard_montage`` to create ``DigMontage`` based on template; or ``make_dig_montage`` to create a ``DigMontage`` out of np.arrays.\n",
      "  raw1 = mne.io.read_raw_brainvision(eeg_path,montage,preload=True)\n",
      "<ipython-input-4-54bc8fe59c7b>:9: DeprecationWarning: The `montage` parameter from `read_raw_brainvision` is deprecated and will be removed  in version 0.20. Use  raw.set_montage(montage) instead.\n",
      "  raw1 = mne.io.read_raw_brainvision(eeg_path,montage,preload=True)\n"
     ]
    },
    {
     "name": "stdout",
     "output_type": "stream",
     "text": [
      "Extracting parameters from BIDS/sub-26/eeg/sub-26_task-Moral_run-07_eeg.vhdr...\n",
      "Setting channel info structure...\n",
      "Reading 0 ... 157999  =      0.000 ...   315.998 secs...\n"
     ]
    },
    {
     "name": "stderr",
     "output_type": "stream",
     "text": [
      "<ipython-input-4-54bc8fe59c7b>:9: DeprecationWarning: Setting a montage using anything rather than DigMontage is deprecated and will raise an error in v0.20. Please use ``read_dig_fif``, ``read_dig_egi``, ``read_dig_polhemus_isotrak``, or ``read_dig_captrack`` ``read_dig_hpts``, ``read_dig_captrack`` or ``read_custom_montage`` to read a digitization based on your needs instead; or ``make_standard_montage`` to create ``DigMontage`` based on template; or ``make_dig_montage`` to create a ``DigMontage`` out of np.arrays.\n",
      "  raw1 = mne.io.read_raw_brainvision(eeg_path,montage,preload=True)\n",
      "<ipython-input-4-54bc8fe59c7b>:9: DeprecationWarning: The `montage` parameter from `read_raw_brainvision` is deprecated and will be removed  in version 0.20. Use  raw.set_montage(montage) instead.\n",
      "  raw1 = mne.io.read_raw_brainvision(eeg_path,montage,preload=True)\n"
     ]
    },
    {
     "name": "stdout",
     "output_type": "stream",
     "text": [
      "Extracting parameters from BIDS/sub-26/eeg/sub-26_task-Moral_run-08_eeg.vhdr...\n",
      "Setting channel info structure...\n",
      "Reading 0 ... 155349  =      0.000 ...   310.698 secs...\n"
     ]
    },
    {
     "name": "stderr",
     "output_type": "stream",
     "text": [
      "<ipython-input-4-54bc8fe59c7b>:9: DeprecationWarning: Setting a montage using anything rather than DigMontage is deprecated and will raise an error in v0.20. Please use ``read_dig_fif``, ``read_dig_egi``, ``read_dig_polhemus_isotrak``, or ``read_dig_captrack`` ``read_dig_hpts``, ``read_dig_captrack`` or ``read_custom_montage`` to read a digitization based on your needs instead; or ``make_standard_montage`` to create ``DigMontage`` based on template; or ``make_dig_montage`` to create a ``DigMontage`` out of np.arrays.\n",
      "  raw1 = mne.io.read_raw_brainvision(eeg_path,montage,preload=True)\n",
      "<ipython-input-4-54bc8fe59c7b>:9: DeprecationWarning: The `montage` parameter from `read_raw_brainvision` is deprecated and will be removed  in version 0.20. Use  raw.set_montage(montage) instead.\n",
      "  raw1 = mne.io.read_raw_brainvision(eeg_path,montage,preload=True)\n"
     ]
    },
    {
     "name": "stdout",
     "output_type": "stream",
     "text": [
      "Extracting parameters from BIDS/sub-26/eeg/sub-26_task-Moral_run-09_eeg.vhdr...\n",
      "Setting channel info structure...\n",
      "Reading 0 ... 154874  =      0.000 ...   309.748 secs...\n"
     ]
    },
    {
     "name": "stderr",
     "output_type": "stream",
     "text": [
      "<ipython-input-4-54bc8fe59c7b>:9: DeprecationWarning: Setting a montage using anything rather than DigMontage is deprecated and will raise an error in v0.20. Please use ``read_dig_fif``, ``read_dig_egi``, ``read_dig_polhemus_isotrak``, or ``read_dig_captrack`` ``read_dig_hpts``, ``read_dig_captrack`` or ``read_custom_montage`` to read a digitization based on your needs instead; or ``make_standard_montage`` to create ``DigMontage`` based on template; or ``make_dig_montage`` to create a ``DigMontage`` out of np.arrays.\n",
      "  raw1 = mne.io.read_raw_brainvision(eeg_path,montage,preload=True)\n",
      "<ipython-input-4-54bc8fe59c7b>:9: DeprecationWarning: The `montage` parameter from `read_raw_brainvision` is deprecated and will be removed  in version 0.20. Use  raw.set_montage(montage) instead.\n",
      "  raw1 = mne.io.read_raw_brainvision(eeg_path,montage,preload=True)\n"
     ]
    },
    {
     "name": "stdout",
     "output_type": "stream",
     "text": [
      "Writing /media/hcp4715/USB1/Data/EEGdata/Analysis_Py/Exp1/raw_fif/sub-26_raw.fif\n",
      "Closing /media/hcp4715/USB1/Data/EEGdata/Analysis_Py/Exp1/raw_fif/sub-26_raw.fif [done]\n",
      "Extracting parameters from BIDS/sub-27/eeg/sub-27_task-Moral_run-01_eeg.vhdr...\n",
      "Setting channel info structure...\n",
      "Reading 0 ... 158174  =      0.000 ...   316.348 secs...\n"
     ]
    },
    {
     "name": "stderr",
     "output_type": "stream",
     "text": [
      "/media/hcp4715/study/Py_Envs/Py_MNE/lib/python3.6/site-packages/mne/utils/docs.py:824: DeprecationWarning: Function read_montage is deprecated; ``read_montage`` is deprecated and will be removed in v0.20. Please use ``read_dig_fif``, ``read_dig_egi``, ``read_custom_montage``, or ``read_dig_captrack`` to read a digitization based on your needs instead; or ``make_standard_montage`` to create ``DigMontage`` based on template; or ``make_dig_montage`` to create a ``DigMontage`` out of np.arrays\n",
      "  warnings.warn(msg, category=DeprecationWarning)\n",
      "/media/hcp4715/study/Py_Envs/Py_MNE/lib/python3.6/site-packages/mne/utils/docs.py:807: DeprecationWarning: Class Montage is deprecated; Montage class is deprecated and will be removed in v0.20. Please use DigMontage instead.\n",
      "  warnings.warn(msg, category=DeprecationWarning)\n"
     ]
    },
    {
     "name": "stdout",
     "output_type": "stream",
     "text": [
      "Extracting parameters from BIDS/sub-27/eeg/sub-27_task-Moral_run-02_eeg.vhdr...\n",
      "Setting channel info structure...\n",
      "Reading 0 ... 158049  =      0.000 ...   316.098 secs...\n"
     ]
    },
    {
     "name": "stderr",
     "output_type": "stream",
     "text": [
      "<ipython-input-4-54bc8fe59c7b>:5: DeprecationWarning: Setting a montage using anything rather than DigMontage is deprecated and will raise an error in v0.20. Please use ``read_dig_fif``, ``read_dig_egi``, ``read_dig_polhemus_isotrak``, or ``read_dig_captrack`` ``read_dig_hpts``, ``read_dig_captrack`` or ``read_custom_montage`` to read a digitization based on your needs instead; or ``make_standard_montage`` to create ``DigMontage`` based on template; or ``make_dig_montage`` to create a ``DigMontage`` out of np.arrays.\n",
      "  raw = mne.io.read_raw_brainvision(block1_fname, montage, preload=True)   # read .vhdr as mne raw instance\n",
      "<ipython-input-4-54bc8fe59c7b>:5: DeprecationWarning: The `montage` parameter from `read_raw_brainvision` is deprecated and will be removed  in version 0.20. Use  raw.set_montage(montage) instead.\n",
      "  raw = mne.io.read_raw_brainvision(block1_fname, montage, preload=True)   # read .vhdr as mne raw instance\n"
     ]
    },
    {
     "name": "stdout",
     "output_type": "stream",
     "text": [
      "Extracting parameters from BIDS/sub-27/eeg/sub-27_task-Moral_run-03_eeg.vhdr...\n",
      "Setting channel info structure...\n",
      "Reading 0 ... 156599  =      0.000 ...   313.198 secs...\n"
     ]
    },
    {
     "name": "stderr",
     "output_type": "stream",
     "text": [
      "<ipython-input-4-54bc8fe59c7b>:9: DeprecationWarning: Setting a montage using anything rather than DigMontage is deprecated and will raise an error in v0.20. Please use ``read_dig_fif``, ``read_dig_egi``, ``read_dig_polhemus_isotrak``, or ``read_dig_captrack`` ``read_dig_hpts``, ``read_dig_captrack`` or ``read_custom_montage`` to read a digitization based on your needs instead; or ``make_standard_montage`` to create ``DigMontage`` based on template; or ``make_dig_montage`` to create a ``DigMontage`` out of np.arrays.\n",
      "  raw1 = mne.io.read_raw_brainvision(eeg_path,montage,preload=True)\n",
      "<ipython-input-4-54bc8fe59c7b>:9: DeprecationWarning: The `montage` parameter from `read_raw_brainvision` is deprecated and will be removed  in version 0.20. Use  raw.set_montage(montage) instead.\n",
      "  raw1 = mne.io.read_raw_brainvision(eeg_path,montage,preload=True)\n"
     ]
    },
    {
     "name": "stdout",
     "output_type": "stream",
     "text": [
      "Extracting parameters from BIDS/sub-27/eeg/sub-27_task-Moral_run-04_eeg.vhdr...\n",
      "Setting channel info structure...\n",
      "Reading 0 ... 158574  =      0.000 ...   317.148 secs...\n"
     ]
    },
    {
     "name": "stderr",
     "output_type": "stream",
     "text": [
      "<ipython-input-4-54bc8fe59c7b>:9: DeprecationWarning: Setting a montage using anything rather than DigMontage is deprecated and will raise an error in v0.20. Please use ``read_dig_fif``, ``read_dig_egi``, ``read_dig_polhemus_isotrak``, or ``read_dig_captrack`` ``read_dig_hpts``, ``read_dig_captrack`` or ``read_custom_montage`` to read a digitization based on your needs instead; or ``make_standard_montage`` to create ``DigMontage`` based on template; or ``make_dig_montage`` to create a ``DigMontage`` out of np.arrays.\n",
      "  raw1 = mne.io.read_raw_brainvision(eeg_path,montage,preload=True)\n",
      "<ipython-input-4-54bc8fe59c7b>:9: DeprecationWarning: The `montage` parameter from `read_raw_brainvision` is deprecated and will be removed  in version 0.20. Use  raw.set_montage(montage) instead.\n",
      "  raw1 = mne.io.read_raw_brainvision(eeg_path,montage,preload=True)\n"
     ]
    },
    {
     "name": "stdout",
     "output_type": "stream",
     "text": [
      "Extracting parameters from BIDS/sub-27/eeg/sub-27_task-Moral_run-05_eeg.vhdr...\n"
     ]
    },
    {
     "name": "stderr",
     "output_type": "stream",
     "text": [
      "<ipython-input-4-54bc8fe59c7b>:9: DeprecationWarning: Setting a montage using anything rather than DigMontage is deprecated and will raise an error in v0.20. Please use ``read_dig_fif``, ``read_dig_egi``, ``read_dig_polhemus_isotrak``, or ``read_dig_captrack`` ``read_dig_hpts``, ``read_dig_captrack`` or ``read_custom_montage`` to read a digitization based on your needs instead; or ``make_standard_montage`` to create ``DigMontage`` based on template; or ``make_dig_montage`` to create a ``DigMontage`` out of np.arrays.\n",
      "  raw1 = mne.io.read_raw_brainvision(eeg_path,montage,preload=True)\n",
      "<ipython-input-4-54bc8fe59c7b>:9: DeprecationWarning: The `montage` parameter from `read_raw_brainvision` is deprecated and will be removed  in version 0.20. Use  raw.set_montage(montage) instead.\n",
      "  raw1 = mne.io.read_raw_brainvision(eeg_path,montage,preload=True)\n"
     ]
    },
    {
     "name": "stdout",
     "output_type": "stream",
     "text": [
      "Setting channel info structure...\n",
      "Reading 0 ... 158524  =      0.000 ...   317.048 secs...\n",
      "Extracting parameters from BIDS/sub-27/eeg/sub-27_task-Moral_run-06_eeg.vhdr...\n"
     ]
    },
    {
     "name": "stderr",
     "output_type": "stream",
     "text": [
      "<ipython-input-4-54bc8fe59c7b>:9: DeprecationWarning: Setting a montage using anything rather than DigMontage is deprecated and will raise an error in v0.20. Please use ``read_dig_fif``, ``read_dig_egi``, ``read_dig_polhemus_isotrak``, or ``read_dig_captrack`` ``read_dig_hpts``, ``read_dig_captrack`` or ``read_custom_montage`` to read a digitization based on your needs instead; or ``make_standard_montage`` to create ``DigMontage`` based on template; or ``make_dig_montage`` to create a ``DigMontage`` out of np.arrays.\n",
      "  raw1 = mne.io.read_raw_brainvision(eeg_path,montage,preload=True)\n",
      "<ipython-input-4-54bc8fe59c7b>:9: DeprecationWarning: The `montage` parameter from `read_raw_brainvision` is deprecated and will be removed  in version 0.20. Use  raw.set_montage(montage) instead.\n",
      "  raw1 = mne.io.read_raw_brainvision(eeg_path,montage,preload=True)\n"
     ]
    },
    {
     "name": "stdout",
     "output_type": "stream",
     "text": [
      "Setting channel info structure...\n",
      "Reading 0 ... 156874  =      0.000 ...   313.748 secs...\n"
     ]
    },
    {
     "name": "stderr",
     "output_type": "stream",
     "text": [
      "<ipython-input-4-54bc8fe59c7b>:9: DeprecationWarning: Setting a montage using anything rather than DigMontage is deprecated and will raise an error in v0.20. Please use ``read_dig_fif``, ``read_dig_egi``, ``read_dig_polhemus_isotrak``, or ``read_dig_captrack`` ``read_dig_hpts``, ``read_dig_captrack`` or ``read_custom_montage`` to read a digitization based on your needs instead; or ``make_standard_montage`` to create ``DigMontage`` based on template; or ``make_dig_montage`` to create a ``DigMontage`` out of np.arrays.\n",
      "  raw1 = mne.io.read_raw_brainvision(eeg_path,montage,preload=True)\n",
      "<ipython-input-4-54bc8fe59c7b>:9: DeprecationWarning: The `montage` parameter from `read_raw_brainvision` is deprecated and will be removed  in version 0.20. Use  raw.set_montage(montage) instead.\n",
      "  raw1 = mne.io.read_raw_brainvision(eeg_path,montage,preload=True)\n"
     ]
    },
    {
     "name": "stdout",
     "output_type": "stream",
     "text": [
      "Extracting parameters from BIDS/sub-27/eeg/sub-27_task-Moral_run-07_eeg.vhdr...\n",
      "Setting channel info structure...\n",
      "Reading 0 ... 157149  =      0.000 ...   314.298 secs...\n"
     ]
    },
    {
     "name": "stderr",
     "output_type": "stream",
     "text": [
      "<ipython-input-4-54bc8fe59c7b>:9: DeprecationWarning: Setting a montage using anything rather than DigMontage is deprecated and will raise an error in v0.20. Please use ``read_dig_fif``, ``read_dig_egi``, ``read_dig_polhemus_isotrak``, or ``read_dig_captrack`` ``read_dig_hpts``, ``read_dig_captrack`` or ``read_custom_montage`` to read a digitization based on your needs instead; or ``make_standard_montage`` to create ``DigMontage`` based on template; or ``make_dig_montage`` to create a ``DigMontage`` out of np.arrays.\n",
      "  raw1 = mne.io.read_raw_brainvision(eeg_path,montage,preload=True)\n",
      "<ipython-input-4-54bc8fe59c7b>:9: DeprecationWarning: The `montage` parameter from `read_raw_brainvision` is deprecated and will be removed  in version 0.20. Use  raw.set_montage(montage) instead.\n",
      "  raw1 = mne.io.read_raw_brainvision(eeg_path,montage,preload=True)\n"
     ]
    },
    {
     "name": "stdout",
     "output_type": "stream",
     "text": [
      "Extracting parameters from BIDS/sub-27/eeg/sub-27_task-Moral_run-08_eeg.vhdr...\n",
      "Setting channel info structure...\n",
      "Reading 0 ... 160574  =      0.000 ...   321.148 secs...\n"
     ]
    },
    {
     "name": "stderr",
     "output_type": "stream",
     "text": [
      "<ipython-input-4-54bc8fe59c7b>:9: DeprecationWarning: Setting a montage using anything rather than DigMontage is deprecated and will raise an error in v0.20. Please use ``read_dig_fif``, ``read_dig_egi``, ``read_dig_polhemus_isotrak``, or ``read_dig_captrack`` ``read_dig_hpts``, ``read_dig_captrack`` or ``read_custom_montage`` to read a digitization based on your needs instead; or ``make_standard_montage`` to create ``DigMontage`` based on template; or ``make_dig_montage`` to create a ``DigMontage`` out of np.arrays.\n",
      "  raw1 = mne.io.read_raw_brainvision(eeg_path,montage,preload=True)\n",
      "<ipython-input-4-54bc8fe59c7b>:9: DeprecationWarning: The `montage` parameter from `read_raw_brainvision` is deprecated and will be removed  in version 0.20. Use  raw.set_montage(montage) instead.\n",
      "  raw1 = mne.io.read_raw_brainvision(eeg_path,montage,preload=True)\n"
     ]
    },
    {
     "name": "stdout",
     "output_type": "stream",
     "text": [
      "Extracting parameters from BIDS/sub-27/eeg/sub-27_task-Moral_run-09_eeg.vhdr...\n",
      "Setting channel info structure...\n",
      "Reading 0 ... 166174  =      0.000 ...   332.348 secs...\n"
     ]
    },
    {
     "name": "stderr",
     "output_type": "stream",
     "text": [
      "<ipython-input-4-54bc8fe59c7b>:9: DeprecationWarning: Setting a montage using anything rather than DigMontage is deprecated and will raise an error in v0.20. Please use ``read_dig_fif``, ``read_dig_egi``, ``read_dig_polhemus_isotrak``, or ``read_dig_captrack`` ``read_dig_hpts``, ``read_dig_captrack`` or ``read_custom_montage`` to read a digitization based on your needs instead; or ``make_standard_montage`` to create ``DigMontage`` based on template; or ``make_dig_montage`` to create a ``DigMontage`` out of np.arrays.\n",
      "  raw1 = mne.io.read_raw_brainvision(eeg_path,montage,preload=True)\n",
      "<ipython-input-4-54bc8fe59c7b>:9: DeprecationWarning: The `montage` parameter from `read_raw_brainvision` is deprecated and will be removed  in version 0.20. Use  raw.set_montage(montage) instead.\n",
      "  raw1 = mne.io.read_raw_brainvision(eeg_path,montage,preload=True)\n"
     ]
    },
    {
     "name": "stdout",
     "output_type": "stream",
     "text": [
      "Writing /media/hcp4715/USB1/Data/EEGdata/Analysis_Py/Exp1/raw_fif/sub-27_raw.fif\n",
      "Closing /media/hcp4715/USB1/Data/EEGdata/Analysis_Py/Exp1/raw_fif/sub-27_raw.fif [done]\n",
      "Extracting parameters from BIDS/sub-28/eeg/sub-28_task-Moral_run-01_eeg.vhdr...\n",
      "Setting channel info structure...\n",
      "Reading 0 ... 161024  =      0.000 ...   322.048 secs...\n"
     ]
    },
    {
     "name": "stderr",
     "output_type": "stream",
     "text": [
      "/media/hcp4715/study/Py_Envs/Py_MNE/lib/python3.6/site-packages/mne/utils/docs.py:824: DeprecationWarning: Function read_montage is deprecated; ``read_montage`` is deprecated and will be removed in v0.20. Please use ``read_dig_fif``, ``read_dig_egi``, ``read_custom_montage``, or ``read_dig_captrack`` to read a digitization based on your needs instead; or ``make_standard_montage`` to create ``DigMontage`` based on template; or ``make_dig_montage`` to create a ``DigMontage`` out of np.arrays\n",
      "  warnings.warn(msg, category=DeprecationWarning)\n",
      "/media/hcp4715/study/Py_Envs/Py_MNE/lib/python3.6/site-packages/mne/utils/docs.py:807: DeprecationWarning: Class Montage is deprecated; Montage class is deprecated and will be removed in v0.20. Please use DigMontage instead.\n",
      "  warnings.warn(msg, category=DeprecationWarning)\n"
     ]
    },
    {
     "name": "stdout",
     "output_type": "stream",
     "text": [
      "Extracting parameters from BIDS/sub-28/eeg/sub-28_task-Moral_run-02_eeg.vhdr...\n",
      "Setting channel info structure...\n",
      "Reading 0 ... 156824  =      0.000 ...   313.648 secs...\n"
     ]
    },
    {
     "name": "stderr",
     "output_type": "stream",
     "text": [
      "<ipython-input-4-54bc8fe59c7b>:5: DeprecationWarning: Setting a montage using anything rather than DigMontage is deprecated and will raise an error in v0.20. Please use ``read_dig_fif``, ``read_dig_egi``, ``read_dig_polhemus_isotrak``, or ``read_dig_captrack`` ``read_dig_hpts``, ``read_dig_captrack`` or ``read_custom_montage`` to read a digitization based on your needs instead; or ``make_standard_montage`` to create ``DigMontage`` based on template; or ``make_dig_montage`` to create a ``DigMontage`` out of np.arrays.\n",
      "  raw = mne.io.read_raw_brainvision(block1_fname, montage, preload=True)   # read .vhdr as mne raw instance\n",
      "<ipython-input-4-54bc8fe59c7b>:5: DeprecationWarning: The `montage` parameter from `read_raw_brainvision` is deprecated and will be removed  in version 0.20. Use  raw.set_montage(montage) instead.\n",
      "  raw = mne.io.read_raw_brainvision(block1_fname, montage, preload=True)   # read .vhdr as mne raw instance\n"
     ]
    },
    {
     "name": "stdout",
     "output_type": "stream",
     "text": [
      "Extracting parameters from BIDS/sub-28/eeg/sub-28_task-Moral_run-03_eeg.vhdr...\n",
      "Setting channel info structure...\n",
      "Reading 0 ... 159799  =      0.000 ...   319.598 secs...\n"
     ]
    },
    {
     "name": "stderr",
     "output_type": "stream",
     "text": [
      "<ipython-input-4-54bc8fe59c7b>:9: DeprecationWarning: Setting a montage using anything rather than DigMontage is deprecated and will raise an error in v0.20. Please use ``read_dig_fif``, ``read_dig_egi``, ``read_dig_polhemus_isotrak``, or ``read_dig_captrack`` ``read_dig_hpts``, ``read_dig_captrack`` or ``read_custom_montage`` to read a digitization based on your needs instead; or ``make_standard_montage`` to create ``DigMontage`` based on template; or ``make_dig_montage`` to create a ``DigMontage`` out of np.arrays.\n",
      "  raw1 = mne.io.read_raw_brainvision(eeg_path,montage,preload=True)\n",
      "<ipython-input-4-54bc8fe59c7b>:9: DeprecationWarning: The `montage` parameter from `read_raw_brainvision` is deprecated and will be removed  in version 0.20. Use  raw.set_montage(montage) instead.\n",
      "  raw1 = mne.io.read_raw_brainvision(eeg_path,montage,preload=True)\n"
     ]
    },
    {
     "name": "stdout",
     "output_type": "stream",
     "text": [
      "Extracting parameters from BIDS/sub-28/eeg/sub-28_task-Moral_run-04_eeg.vhdr...\n",
      "Setting channel info structure...\n",
      "Reading 0 ... 175924  =      0.000 ...   351.848 secs...\n"
     ]
    },
    {
     "name": "stderr",
     "output_type": "stream",
     "text": [
      "<ipython-input-4-54bc8fe59c7b>:9: DeprecationWarning: Setting a montage using anything rather than DigMontage is deprecated and will raise an error in v0.20. Please use ``read_dig_fif``, ``read_dig_egi``, ``read_dig_polhemus_isotrak``, or ``read_dig_captrack`` ``read_dig_hpts``, ``read_dig_captrack`` or ``read_custom_montage`` to read a digitization based on your needs instead; or ``make_standard_montage`` to create ``DigMontage`` based on template; or ``make_dig_montage`` to create a ``DigMontage`` out of np.arrays.\n",
      "  raw1 = mne.io.read_raw_brainvision(eeg_path,montage,preload=True)\n",
      "<ipython-input-4-54bc8fe59c7b>:9: DeprecationWarning: The `montage` parameter from `read_raw_brainvision` is deprecated and will be removed  in version 0.20. Use  raw.set_montage(montage) instead.\n",
      "  raw1 = mne.io.read_raw_brainvision(eeg_path,montage,preload=True)\n"
     ]
    },
    {
     "name": "stdout",
     "output_type": "stream",
     "text": [
      "Extracting parameters from BIDS/sub-28/eeg/sub-28_task-Moral_run-05_eeg.vhdr...\n",
      "Setting channel info structure...\n",
      "Reading 0 ... 163324  =      0.000 ...   326.648 secs...\n"
     ]
    },
    {
     "name": "stderr",
     "output_type": "stream",
     "text": [
      "<ipython-input-4-54bc8fe59c7b>:9: DeprecationWarning: Setting a montage using anything rather than DigMontage is deprecated and will raise an error in v0.20. Please use ``read_dig_fif``, ``read_dig_egi``, ``read_dig_polhemus_isotrak``, or ``read_dig_captrack`` ``read_dig_hpts``, ``read_dig_captrack`` or ``read_custom_montage`` to read a digitization based on your needs instead; or ``make_standard_montage`` to create ``DigMontage`` based on template; or ``make_dig_montage`` to create a ``DigMontage`` out of np.arrays.\n",
      "  raw1 = mne.io.read_raw_brainvision(eeg_path,montage,preload=True)\n",
      "<ipython-input-4-54bc8fe59c7b>:9: DeprecationWarning: The `montage` parameter from `read_raw_brainvision` is deprecated and will be removed  in version 0.20. Use  raw.set_montage(montage) instead.\n",
      "  raw1 = mne.io.read_raw_brainvision(eeg_path,montage,preload=True)\n"
     ]
    },
    {
     "name": "stdout",
     "output_type": "stream",
     "text": [
      "Extracting parameters from BIDS/sub-28/eeg/sub-28_task-Moral_run-06_eeg.vhdr...\n"
     ]
    },
    {
     "name": "stderr",
     "output_type": "stream",
     "text": [
      "<ipython-input-4-54bc8fe59c7b>:9: DeprecationWarning: Setting a montage using anything rather than DigMontage is deprecated and will raise an error in v0.20. Please use ``read_dig_fif``, ``read_dig_egi``, ``read_dig_polhemus_isotrak``, or ``read_dig_captrack`` ``read_dig_hpts``, ``read_dig_captrack`` or ``read_custom_montage`` to read a digitization based on your needs instead; or ``make_standard_montage`` to create ``DigMontage`` based on template; or ``make_dig_montage`` to create a ``DigMontage`` out of np.arrays.\n",
      "  raw1 = mne.io.read_raw_brainvision(eeg_path,montage,preload=True)\n",
      "<ipython-input-4-54bc8fe59c7b>:9: DeprecationWarning: The `montage` parameter from `read_raw_brainvision` is deprecated and will be removed  in version 0.20. Use  raw.set_montage(montage) instead.\n",
      "  raw1 = mne.io.read_raw_brainvision(eeg_path,montage,preload=True)\n"
     ]
    },
    {
     "name": "stdout",
     "output_type": "stream",
     "text": [
      "Setting channel info structure...\n",
      "Reading 0 ... 160549  =      0.000 ...   321.098 secs...\n"
     ]
    },
    {
     "name": "stderr",
     "output_type": "stream",
     "text": [
      "<ipython-input-4-54bc8fe59c7b>:9: DeprecationWarning: Setting a montage using anything rather than DigMontage is deprecated and will raise an error in v0.20. Please use ``read_dig_fif``, ``read_dig_egi``, ``read_dig_polhemus_isotrak``, or ``read_dig_captrack`` ``read_dig_hpts``, ``read_dig_captrack`` or ``read_custom_montage`` to read a digitization based on your needs instead; or ``make_standard_montage`` to create ``DigMontage`` based on template; or ``make_dig_montage`` to create a ``DigMontage`` out of np.arrays.\n",
      "  raw1 = mne.io.read_raw_brainvision(eeg_path,montage,preload=True)\n",
      "<ipython-input-4-54bc8fe59c7b>:9: DeprecationWarning: The `montage` parameter from `read_raw_brainvision` is deprecated and will be removed  in version 0.20. Use  raw.set_montage(montage) instead.\n",
      "  raw1 = mne.io.read_raw_brainvision(eeg_path,montage,preload=True)\n"
     ]
    },
    {
     "name": "stdout",
     "output_type": "stream",
     "text": [
      "Extracting parameters from BIDS/sub-28/eeg/sub-28_task-Moral_run-07_eeg.vhdr...\n",
      "Setting channel info structure...\n",
      "Reading 0 ... 161024  =      0.000 ...   322.048 secs...\n"
     ]
    },
    {
     "name": "stderr",
     "output_type": "stream",
     "text": [
      "<ipython-input-4-54bc8fe59c7b>:9: DeprecationWarning: Setting a montage using anything rather than DigMontage is deprecated and will raise an error in v0.20. Please use ``read_dig_fif``, ``read_dig_egi``, ``read_dig_polhemus_isotrak``, or ``read_dig_captrack`` ``read_dig_hpts``, ``read_dig_captrack`` or ``read_custom_montage`` to read a digitization based on your needs instead; or ``make_standard_montage`` to create ``DigMontage`` based on template; or ``make_dig_montage`` to create a ``DigMontage`` out of np.arrays.\n",
      "  raw1 = mne.io.read_raw_brainvision(eeg_path,montage,preload=True)\n",
      "<ipython-input-4-54bc8fe59c7b>:9: DeprecationWarning: The `montage` parameter from `read_raw_brainvision` is deprecated and will be removed  in version 0.20. Use  raw.set_montage(montage) instead.\n",
      "  raw1 = mne.io.read_raw_brainvision(eeg_path,montage,preload=True)\n"
     ]
    },
    {
     "name": "stdout",
     "output_type": "stream",
     "text": [
      "Extracting parameters from BIDS/sub-28/eeg/sub-28_task-Moral_run-08_eeg.vhdr...\n",
      "Setting channel info structure...\n",
      "Reading 0 ... 195449  =      0.000 ...   390.898 secs...\n"
     ]
    },
    {
     "name": "stderr",
     "output_type": "stream",
     "text": [
      "<ipython-input-4-54bc8fe59c7b>:9: DeprecationWarning: Setting a montage using anything rather than DigMontage is deprecated and will raise an error in v0.20. Please use ``read_dig_fif``, ``read_dig_egi``, ``read_dig_polhemus_isotrak``, or ``read_dig_captrack`` ``read_dig_hpts``, ``read_dig_captrack`` or ``read_custom_montage`` to read a digitization based on your needs instead; or ``make_standard_montage`` to create ``DigMontage`` based on template; or ``make_dig_montage`` to create a ``DigMontage`` out of np.arrays.\n",
      "  raw1 = mne.io.read_raw_brainvision(eeg_path,montage,preload=True)\n",
      "<ipython-input-4-54bc8fe59c7b>:9: DeprecationWarning: The `montage` parameter from `read_raw_brainvision` is deprecated and will be removed  in version 0.20. Use  raw.set_montage(montage) instead.\n",
      "  raw1 = mne.io.read_raw_brainvision(eeg_path,montage,preload=True)\n"
     ]
    },
    {
     "name": "stdout",
     "output_type": "stream",
     "text": [
      "Extracting parameters from BIDS/sub-28/eeg/sub-28_task-Moral_run-09_eeg.vhdr...\n",
      "Setting channel info structure...\n",
      "Reading 0 ... 158099  =      0.000 ...   316.198 secs...\n"
     ]
    },
    {
     "name": "stderr",
     "output_type": "stream",
     "text": [
      "<ipython-input-4-54bc8fe59c7b>:9: DeprecationWarning: Setting a montage using anything rather than DigMontage is deprecated and will raise an error in v0.20. Please use ``read_dig_fif``, ``read_dig_egi``, ``read_dig_polhemus_isotrak``, or ``read_dig_captrack`` ``read_dig_hpts``, ``read_dig_captrack`` or ``read_custom_montage`` to read a digitization based on your needs instead; or ``make_standard_montage`` to create ``DigMontage`` based on template; or ``make_dig_montage`` to create a ``DigMontage`` out of np.arrays.\n",
      "  raw1 = mne.io.read_raw_brainvision(eeg_path,montage,preload=True)\n",
      "<ipython-input-4-54bc8fe59c7b>:9: DeprecationWarning: The `montage` parameter from `read_raw_brainvision` is deprecated and will be removed  in version 0.20. Use  raw.set_montage(montage) instead.\n",
      "  raw1 = mne.io.read_raw_brainvision(eeg_path,montage,preload=True)\n"
     ]
    },
    {
     "name": "stdout",
     "output_type": "stream",
     "text": [
      "Writing /media/hcp4715/USB1/Data/EEGdata/Analysis_Py/Exp1/raw_fif/sub-28_raw.fif\n",
      "Closing /media/hcp4715/USB1/Data/EEGdata/Analysis_Py/Exp1/raw_fif/sub-28_raw.fif [done]\n",
      "Extracting parameters from BIDS/sub-29/eeg/sub-29_task-Moral_run-01_eeg.vhdr...\n",
      "Setting channel info structure...\n",
      "Reading 0 ... 160949  =      0.000 ...   321.898 secs...\n"
     ]
    },
    {
     "name": "stderr",
     "output_type": "stream",
     "text": [
      "/media/hcp4715/study/Py_Envs/Py_MNE/lib/python3.6/site-packages/mne/utils/docs.py:824: DeprecationWarning: Function read_montage is deprecated; ``read_montage`` is deprecated and will be removed in v0.20. Please use ``read_dig_fif``, ``read_dig_egi``, ``read_custom_montage``, or ``read_dig_captrack`` to read a digitization based on your needs instead; or ``make_standard_montage`` to create ``DigMontage`` based on template; or ``make_dig_montage`` to create a ``DigMontage`` out of np.arrays\n",
      "  warnings.warn(msg, category=DeprecationWarning)\n",
      "/media/hcp4715/study/Py_Envs/Py_MNE/lib/python3.6/site-packages/mne/utils/docs.py:807: DeprecationWarning: Class Montage is deprecated; Montage class is deprecated and will be removed in v0.20. Please use DigMontage instead.\n",
      "  warnings.warn(msg, category=DeprecationWarning)\n"
     ]
    },
    {
     "name": "stdout",
     "output_type": "stream",
     "text": [
      "Extracting parameters from BIDS/sub-29/eeg/sub-29_task-Moral_run-02_eeg.vhdr...\n",
      "Setting channel info structure...\n",
      "Reading 0 ... 155899  =      0.000 ...   311.798 secs...\n"
     ]
    },
    {
     "name": "stderr",
     "output_type": "stream",
     "text": [
      "<ipython-input-4-54bc8fe59c7b>:5: DeprecationWarning: Setting a montage using anything rather than DigMontage is deprecated and will raise an error in v0.20. Please use ``read_dig_fif``, ``read_dig_egi``, ``read_dig_polhemus_isotrak``, or ``read_dig_captrack`` ``read_dig_hpts``, ``read_dig_captrack`` or ``read_custom_montage`` to read a digitization based on your needs instead; or ``make_standard_montage`` to create ``DigMontage`` based on template; or ``make_dig_montage`` to create a ``DigMontage`` out of np.arrays.\n",
      "  raw = mne.io.read_raw_brainvision(block1_fname, montage, preload=True)   # read .vhdr as mne raw instance\n",
      "<ipython-input-4-54bc8fe59c7b>:5: DeprecationWarning: The `montage` parameter from `read_raw_brainvision` is deprecated and will be removed  in version 0.20. Use  raw.set_montage(montage) instead.\n",
      "  raw = mne.io.read_raw_brainvision(block1_fname, montage, preload=True)   # read .vhdr as mne raw instance\n"
     ]
    },
    {
     "name": "stdout",
     "output_type": "stream",
     "text": [
      "Extracting parameters from BIDS/sub-29/eeg/sub-29_task-Moral_run-03_eeg.vhdr...\n",
      "Setting channel info structure...\n",
      "Reading 0 ... 159724  =      0.000 ...   319.448 secs...\n"
     ]
    },
    {
     "name": "stderr",
     "output_type": "stream",
     "text": [
      "<ipython-input-4-54bc8fe59c7b>:9: DeprecationWarning: Setting a montage using anything rather than DigMontage is deprecated and will raise an error in v0.20. Please use ``read_dig_fif``, ``read_dig_egi``, ``read_dig_polhemus_isotrak``, or ``read_dig_captrack`` ``read_dig_hpts``, ``read_dig_captrack`` or ``read_custom_montage`` to read a digitization based on your needs instead; or ``make_standard_montage`` to create ``DigMontage`` based on template; or ``make_dig_montage`` to create a ``DigMontage`` out of np.arrays.\n",
      "  raw1 = mne.io.read_raw_brainvision(eeg_path,montage,preload=True)\n",
      "<ipython-input-4-54bc8fe59c7b>:9: DeprecationWarning: The `montage` parameter from `read_raw_brainvision` is deprecated and will be removed  in version 0.20. Use  raw.set_montage(montage) instead.\n",
      "  raw1 = mne.io.read_raw_brainvision(eeg_path,montage,preload=True)\n"
     ]
    },
    {
     "name": "stdout",
     "output_type": "stream",
     "text": [
      "Extracting parameters from BIDS/sub-29/eeg/sub-29_task-Moral_run-04_eeg.vhdr...\n",
      "Setting channel info structure...\n",
      "Reading 0 ... 157349  =      0.000 ...   314.698 secs...\n"
     ]
    },
    {
     "name": "stderr",
     "output_type": "stream",
     "text": [
      "<ipython-input-4-54bc8fe59c7b>:9: DeprecationWarning: Setting a montage using anything rather than DigMontage is deprecated and will raise an error in v0.20. Please use ``read_dig_fif``, ``read_dig_egi``, ``read_dig_polhemus_isotrak``, or ``read_dig_captrack`` ``read_dig_hpts``, ``read_dig_captrack`` or ``read_custom_montage`` to read a digitization based on your needs instead; or ``make_standard_montage`` to create ``DigMontage`` based on template; or ``make_dig_montage`` to create a ``DigMontage`` out of np.arrays.\n",
      "  raw1 = mne.io.read_raw_brainvision(eeg_path,montage,preload=True)\n",
      "<ipython-input-4-54bc8fe59c7b>:9: DeprecationWarning: The `montage` parameter from `read_raw_brainvision` is deprecated and will be removed  in version 0.20. Use  raw.set_montage(montage) instead.\n",
      "  raw1 = mne.io.read_raw_brainvision(eeg_path,montage,preload=True)\n"
     ]
    },
    {
     "name": "stdout",
     "output_type": "stream",
     "text": [
      "Extracting parameters from BIDS/sub-29/eeg/sub-29_task-Moral_run-05_eeg.vhdr...\n",
      "Setting channel info structure...\n",
      "Reading 0 ... 156799  =      0.000 ...   313.598 secs...\n"
     ]
    },
    {
     "name": "stderr",
     "output_type": "stream",
     "text": [
      "<ipython-input-4-54bc8fe59c7b>:9: DeprecationWarning: Setting a montage using anything rather than DigMontage is deprecated and will raise an error in v0.20. Please use ``read_dig_fif``, ``read_dig_egi``, ``read_dig_polhemus_isotrak``, or ``read_dig_captrack`` ``read_dig_hpts``, ``read_dig_captrack`` or ``read_custom_montage`` to read a digitization based on your needs instead; or ``make_standard_montage`` to create ``DigMontage`` based on template; or ``make_dig_montage`` to create a ``DigMontage`` out of np.arrays.\n",
      "  raw1 = mne.io.read_raw_brainvision(eeg_path,montage,preload=True)\n",
      "<ipython-input-4-54bc8fe59c7b>:9: DeprecationWarning: The `montage` parameter from `read_raw_brainvision` is deprecated and will be removed  in version 0.20. Use  raw.set_montage(montage) instead.\n",
      "  raw1 = mne.io.read_raw_brainvision(eeg_path,montage,preload=True)\n"
     ]
    },
    {
     "name": "stdout",
     "output_type": "stream",
     "text": [
      "Extracting parameters from BIDS/sub-29/eeg/sub-29_task-Moral_run-06_eeg.vhdr...\n",
      "Setting channel info structure...\n",
      "Reading 0 ... 162149  =      0.000 ...   324.298 secs...\n"
     ]
    },
    {
     "name": "stderr",
     "output_type": "stream",
     "text": [
      "<ipython-input-4-54bc8fe59c7b>:9: DeprecationWarning: Setting a montage using anything rather than DigMontage is deprecated and will raise an error in v0.20. Please use ``read_dig_fif``, ``read_dig_egi``, ``read_dig_polhemus_isotrak``, or ``read_dig_captrack`` ``read_dig_hpts``, ``read_dig_captrack`` or ``read_custom_montage`` to read a digitization based on your needs instead; or ``make_standard_montage`` to create ``DigMontage`` based on template; or ``make_dig_montage`` to create a ``DigMontage`` out of np.arrays.\n",
      "  raw1 = mne.io.read_raw_brainvision(eeg_path,montage,preload=True)\n",
      "<ipython-input-4-54bc8fe59c7b>:9: DeprecationWarning: The `montage` parameter from `read_raw_brainvision` is deprecated and will be removed  in version 0.20. Use  raw.set_montage(montage) instead.\n",
      "  raw1 = mne.io.read_raw_brainvision(eeg_path,montage,preload=True)\n",
      "<ipython-input-4-54bc8fe59c7b>:9: DeprecationWarning: Setting a montage using anything rather than DigMontage is deprecated and will raise an error in v0.20. Please use ``read_dig_fif``, ``read_dig_egi``, ``read_dig_polhemus_isotrak``, or ``read_dig_captrack`` ``read_dig_hpts``, ``read_dig_captrack`` or ``read_custom_montage`` to read a digitization based on your needs instead; or ``make_standard_montage`` to create ``DigMontage`` based on template; or ``make_dig_montage`` to create a ``DigMontage`` out of np.arrays.\n",
      "  raw1 = mne.io.read_raw_brainvision(eeg_path,montage,preload=True)\n",
      "<ipython-input-4-54bc8fe59c7b>:9: DeprecationWarning: The `montage` parameter from `read_raw_brainvision` is deprecated and will be removed  in version 0.20. Use  raw.set_montage(montage) instead.\n",
      "  raw1 = mne.io.read_raw_brainvision(eeg_path,montage,preload=True)\n"
     ]
    },
    {
     "name": "stdout",
     "output_type": "stream",
     "text": [
      "Extracting parameters from BIDS/sub-29/eeg/sub-29_task-Moral_run-07_eeg.vhdr...\n",
      "Setting channel info structure...\n",
      "Reading 0 ... 160549  =      0.000 ...   321.098 secs...\n"
     ]
    },
    {
     "name": "stderr",
     "output_type": "stream",
     "text": [
      "<ipython-input-4-54bc8fe59c7b>:9: DeprecationWarning: Setting a montage using anything rather than DigMontage is deprecated and will raise an error in v0.20. Please use ``read_dig_fif``, ``read_dig_egi``, ``read_dig_polhemus_isotrak``, or ``read_dig_captrack`` ``read_dig_hpts``, ``read_dig_captrack`` or ``read_custom_montage`` to read a digitization based on your needs instead; or ``make_standard_montage`` to create ``DigMontage`` based on template; or ``make_dig_montage`` to create a ``DigMontage`` out of np.arrays.\n",
      "  raw1 = mne.io.read_raw_brainvision(eeg_path,montage,preload=True)\n",
      "<ipython-input-4-54bc8fe59c7b>:9: DeprecationWarning: The `montage` parameter from `read_raw_brainvision` is deprecated and will be removed  in version 0.20. Use  raw.set_montage(montage) instead.\n",
      "  raw1 = mne.io.read_raw_brainvision(eeg_path,montage,preload=True)\n"
     ]
    },
    {
     "name": "stdout",
     "output_type": "stream",
     "text": [
      "Extracting parameters from BIDS/sub-29/eeg/sub-29_task-Moral_run-08_eeg.vhdr...\n",
      "Setting channel info structure...\n",
      "Reading 0 ... 157849  =      0.000 ...   315.698 secs...\n"
     ]
    },
    {
     "name": "stderr",
     "output_type": "stream",
     "text": [
      "<ipython-input-4-54bc8fe59c7b>:9: DeprecationWarning: Setting a montage using anything rather than DigMontage is deprecated and will raise an error in v0.20. Please use ``read_dig_fif``, ``read_dig_egi``, ``read_dig_polhemus_isotrak``, or ``read_dig_captrack`` ``read_dig_hpts``, ``read_dig_captrack`` or ``read_custom_montage`` to read a digitization based on your needs instead; or ``make_standard_montage`` to create ``DigMontage`` based on template; or ``make_dig_montage`` to create a ``DigMontage`` out of np.arrays.\n",
      "  raw1 = mne.io.read_raw_brainvision(eeg_path,montage,preload=True)\n",
      "<ipython-input-4-54bc8fe59c7b>:9: DeprecationWarning: The `montage` parameter from `read_raw_brainvision` is deprecated and will be removed  in version 0.20. Use  raw.set_montage(montage) instead.\n",
      "  raw1 = mne.io.read_raw_brainvision(eeg_path,montage,preload=True)\n"
     ]
    },
    {
     "name": "stdout",
     "output_type": "stream",
     "text": [
      "Extracting parameters from BIDS/sub-29/eeg/sub-29_task-Moral_run-09_eeg.vhdr...\n",
      "Setting channel info structure...\n",
      "Reading 0 ... 162199  =      0.000 ...   324.398 secs...\n"
     ]
    },
    {
     "name": "stderr",
     "output_type": "stream",
     "text": [
      "<ipython-input-4-54bc8fe59c7b>:9: DeprecationWarning: Setting a montage using anything rather than DigMontage is deprecated and will raise an error in v0.20. Please use ``read_dig_fif``, ``read_dig_egi``, ``read_dig_polhemus_isotrak``, or ``read_dig_captrack`` ``read_dig_hpts``, ``read_dig_captrack`` or ``read_custom_montage`` to read a digitization based on your needs instead; or ``make_standard_montage`` to create ``DigMontage`` based on template; or ``make_dig_montage`` to create a ``DigMontage`` out of np.arrays.\n",
      "  raw1 = mne.io.read_raw_brainvision(eeg_path,montage,preload=True)\n",
      "<ipython-input-4-54bc8fe59c7b>:9: DeprecationWarning: The `montage` parameter from `read_raw_brainvision` is deprecated and will be removed  in version 0.20. Use  raw.set_montage(montage) instead.\n",
      "  raw1 = mne.io.read_raw_brainvision(eeg_path,montage,preload=True)\n"
     ]
    },
    {
     "name": "stdout",
     "output_type": "stream",
     "text": [
      "Writing /media/hcp4715/USB1/Data/EEGdata/Analysis_Py/Exp1/raw_fif/sub-29_raw.fif\n",
      "Closing /media/hcp4715/USB1/Data/EEGdata/Analysis_Py/Exp1/raw_fif/sub-29_raw.fif [done]\n",
      "Extracting parameters from BIDS/sub-30/eeg/sub-30_task-Moral_run-01_eeg.vhdr...\n",
      "Setting channel info structure...\n",
      "Reading 0 ... 158599  =      0.000 ...   317.198 secs...\n"
     ]
    },
    {
     "name": "stderr",
     "output_type": "stream",
     "text": [
      "/media/hcp4715/study/Py_Envs/Py_MNE/lib/python3.6/site-packages/mne/utils/docs.py:824: DeprecationWarning: Function read_montage is deprecated; ``read_montage`` is deprecated and will be removed in v0.20. Please use ``read_dig_fif``, ``read_dig_egi``, ``read_custom_montage``, or ``read_dig_captrack`` to read a digitization based on your needs instead; or ``make_standard_montage`` to create ``DigMontage`` based on template; or ``make_dig_montage`` to create a ``DigMontage`` out of np.arrays\n",
      "  warnings.warn(msg, category=DeprecationWarning)\n",
      "/media/hcp4715/study/Py_Envs/Py_MNE/lib/python3.6/site-packages/mne/utils/docs.py:807: DeprecationWarning: Class Montage is deprecated; Montage class is deprecated and will be removed in v0.20. Please use DigMontage instead.\n",
      "  warnings.warn(msg, category=DeprecationWarning)\n"
     ]
    },
    {
     "name": "stdout",
     "output_type": "stream",
     "text": [
      "Extracting parameters from BIDS/sub-30/eeg/sub-30_task-Moral_run-02_eeg.vhdr...\n",
      "Setting channel info structure...\n",
      "Reading 0 ... 156549  =      0.000 ...   313.098 secs...\n"
     ]
    },
    {
     "name": "stderr",
     "output_type": "stream",
     "text": [
      "<ipython-input-4-54bc8fe59c7b>:5: DeprecationWarning: Setting a montage using anything rather than DigMontage is deprecated and will raise an error in v0.20. Please use ``read_dig_fif``, ``read_dig_egi``, ``read_dig_polhemus_isotrak``, or ``read_dig_captrack`` ``read_dig_hpts``, ``read_dig_captrack`` or ``read_custom_montage`` to read a digitization based on your needs instead; or ``make_standard_montage`` to create ``DigMontage`` based on template; or ``make_dig_montage`` to create a ``DigMontage`` out of np.arrays.\n",
      "  raw = mne.io.read_raw_brainvision(block1_fname, montage, preload=True)   # read .vhdr as mne raw instance\n",
      "<ipython-input-4-54bc8fe59c7b>:5: DeprecationWarning: The `montage` parameter from `read_raw_brainvision` is deprecated and will be removed  in version 0.20. Use  raw.set_montage(montage) instead.\n",
      "  raw = mne.io.read_raw_brainvision(block1_fname, montage, preload=True)   # read .vhdr as mne raw instance\n"
     ]
    },
    {
     "name": "stdout",
     "output_type": "stream",
     "text": [
      "Extracting parameters from BIDS/sub-30/eeg/sub-30_task-Moral_run-03_eeg.vhdr...\n",
      "Setting channel info structure...\n",
      "Reading 0 ... 167124  =      0.000 ...   334.248 secs...\n"
     ]
    },
    {
     "name": "stderr",
     "output_type": "stream",
     "text": [
      "<ipython-input-4-54bc8fe59c7b>:9: DeprecationWarning: Setting a montage using anything rather than DigMontage is deprecated and will raise an error in v0.20. Please use ``read_dig_fif``, ``read_dig_egi``, ``read_dig_polhemus_isotrak``, or ``read_dig_captrack`` ``read_dig_hpts``, ``read_dig_captrack`` or ``read_custom_montage`` to read a digitization based on your needs instead; or ``make_standard_montage`` to create ``DigMontage`` based on template; or ``make_dig_montage`` to create a ``DigMontage`` out of np.arrays.\n",
      "  raw1 = mne.io.read_raw_brainvision(eeg_path,montage,preload=True)\n",
      "<ipython-input-4-54bc8fe59c7b>:9: DeprecationWarning: The `montage` parameter from `read_raw_brainvision` is deprecated and will be removed  in version 0.20. Use  raw.set_montage(montage) instead.\n",
      "  raw1 = mne.io.read_raw_brainvision(eeg_path,montage,preload=True)\n"
     ]
    },
    {
     "name": "stdout",
     "output_type": "stream",
     "text": [
      "Extracting parameters from BIDS/sub-30/eeg/sub-30_task-Moral_run-04_eeg.vhdr...\n"
     ]
    },
    {
     "name": "stderr",
     "output_type": "stream",
     "text": [
      "<ipython-input-4-54bc8fe59c7b>:9: DeprecationWarning: Setting a montage using anything rather than DigMontage is deprecated and will raise an error in v0.20. Please use ``read_dig_fif``, ``read_dig_egi``, ``read_dig_polhemus_isotrak``, or ``read_dig_captrack`` ``read_dig_hpts``, ``read_dig_captrack`` or ``read_custom_montage`` to read a digitization based on your needs instead; or ``make_standard_montage`` to create ``DigMontage`` based on template; or ``make_dig_montage`` to create a ``DigMontage`` out of np.arrays.\n",
      "  raw1 = mne.io.read_raw_brainvision(eeg_path,montage,preload=True)\n",
      "<ipython-input-4-54bc8fe59c7b>:9: DeprecationWarning: The `montage` parameter from `read_raw_brainvision` is deprecated and will be removed  in version 0.20. Use  raw.set_montage(montage) instead.\n",
      "  raw1 = mne.io.read_raw_brainvision(eeg_path,montage,preload=True)\n"
     ]
    },
    {
     "name": "stdout",
     "output_type": "stream",
     "text": [
      "Setting channel info structure...\n",
      "Reading 0 ... 158524  =      0.000 ...   317.048 secs...\n",
      "Extracting parameters from BIDS/sub-30/eeg/sub-30_task-Moral_run-05_eeg.vhdr...\n"
     ]
    },
    {
     "name": "stderr",
     "output_type": "stream",
     "text": [
      "<ipython-input-4-54bc8fe59c7b>:9: DeprecationWarning: Setting a montage using anything rather than DigMontage is deprecated and will raise an error in v0.20. Please use ``read_dig_fif``, ``read_dig_egi``, ``read_dig_polhemus_isotrak``, or ``read_dig_captrack`` ``read_dig_hpts``, ``read_dig_captrack`` or ``read_custom_montage`` to read a digitization based on your needs instead; or ``make_standard_montage`` to create ``DigMontage`` based on template; or ``make_dig_montage`` to create a ``DigMontage`` out of np.arrays.\n",
      "  raw1 = mne.io.read_raw_brainvision(eeg_path,montage,preload=True)\n",
      "<ipython-input-4-54bc8fe59c7b>:9: DeprecationWarning: The `montage` parameter from `read_raw_brainvision` is deprecated and will be removed  in version 0.20. Use  raw.set_montage(montage) instead.\n",
      "  raw1 = mne.io.read_raw_brainvision(eeg_path,montage,preload=True)\n"
     ]
    },
    {
     "name": "stdout",
     "output_type": "stream",
     "text": [
      "Setting channel info structure...\n",
      "Reading 0 ... 157349  =      0.000 ...   314.698 secs...\n",
      "Extracting parameters from BIDS/sub-30/eeg/sub-30_task-Moral_run-06_eeg.vhdr...\n"
     ]
    },
    {
     "name": "stderr",
     "output_type": "stream",
     "text": [
      "<ipython-input-4-54bc8fe59c7b>:9: DeprecationWarning: Setting a montage using anything rather than DigMontage is deprecated and will raise an error in v0.20. Please use ``read_dig_fif``, ``read_dig_egi``, ``read_dig_polhemus_isotrak``, or ``read_dig_captrack`` ``read_dig_hpts``, ``read_dig_captrack`` or ``read_custom_montage`` to read a digitization based on your needs instead; or ``make_standard_montage`` to create ``DigMontage`` based on template; or ``make_dig_montage`` to create a ``DigMontage`` out of np.arrays.\n",
      "  raw1 = mne.io.read_raw_brainvision(eeg_path,montage,preload=True)\n",
      "<ipython-input-4-54bc8fe59c7b>:9: DeprecationWarning: The `montage` parameter from `read_raw_brainvision` is deprecated and will be removed  in version 0.20. Use  raw.set_montage(montage) instead.\n",
      "  raw1 = mne.io.read_raw_brainvision(eeg_path,montage,preload=True)\n"
     ]
    },
    {
     "name": "stdout",
     "output_type": "stream",
     "text": [
      "Setting channel info structure...\n",
      "Reading 0 ... 155299  =      0.000 ...   310.598 secs...\n"
     ]
    },
    {
     "name": "stderr",
     "output_type": "stream",
     "text": [
      "<ipython-input-4-54bc8fe59c7b>:9: DeprecationWarning: Setting a montage using anything rather than DigMontage is deprecated and will raise an error in v0.20. Please use ``read_dig_fif``, ``read_dig_egi``, ``read_dig_polhemus_isotrak``, or ``read_dig_captrack`` ``read_dig_hpts``, ``read_dig_captrack`` or ``read_custom_montage`` to read a digitization based on your needs instead; or ``make_standard_montage`` to create ``DigMontage`` based on template; or ``make_dig_montage`` to create a ``DigMontage`` out of np.arrays.\n",
      "  raw1 = mne.io.read_raw_brainvision(eeg_path,montage,preload=True)\n",
      "<ipython-input-4-54bc8fe59c7b>:9: DeprecationWarning: The `montage` parameter from `read_raw_brainvision` is deprecated and will be removed  in version 0.20. Use  raw.set_montage(montage) instead.\n",
      "  raw1 = mne.io.read_raw_brainvision(eeg_path,montage,preload=True)\n"
     ]
    },
    {
     "name": "stdout",
     "output_type": "stream",
     "text": [
      "Extracting parameters from BIDS/sub-30/eeg/sub-30_task-Moral_run-07_eeg.vhdr...\n",
      "Setting channel info structure...\n",
      "Reading 0 ... 157299  =      0.000 ...   314.598 secs...\n"
     ]
    },
    {
     "name": "stderr",
     "output_type": "stream",
     "text": [
      "<ipython-input-4-54bc8fe59c7b>:9: DeprecationWarning: Setting a montage using anything rather than DigMontage is deprecated and will raise an error in v0.20. Please use ``read_dig_fif``, ``read_dig_egi``, ``read_dig_polhemus_isotrak``, or ``read_dig_captrack`` ``read_dig_hpts``, ``read_dig_captrack`` or ``read_custom_montage`` to read a digitization based on your needs instead; or ``make_standard_montage`` to create ``DigMontage`` based on template; or ``make_dig_montage`` to create a ``DigMontage`` out of np.arrays.\n",
      "  raw1 = mne.io.read_raw_brainvision(eeg_path,montage,preload=True)\n",
      "<ipython-input-4-54bc8fe59c7b>:9: DeprecationWarning: The `montage` parameter from `read_raw_brainvision` is deprecated and will be removed  in version 0.20. Use  raw.set_montage(montage) instead.\n",
      "  raw1 = mne.io.read_raw_brainvision(eeg_path,montage,preload=True)\n"
     ]
    },
    {
     "name": "stdout",
     "output_type": "stream",
     "text": [
      "Extracting parameters from BIDS/sub-30/eeg/sub-30_task-Moral_run-08_eeg.vhdr...\n",
      "Setting channel info structure...\n",
      "Reading 0 ... 156024  =      0.000 ...   312.048 secs...\n"
     ]
    },
    {
     "name": "stderr",
     "output_type": "stream",
     "text": [
      "<ipython-input-4-54bc8fe59c7b>:9: DeprecationWarning: Setting a montage using anything rather than DigMontage is deprecated and will raise an error in v0.20. Please use ``read_dig_fif``, ``read_dig_egi``, ``read_dig_polhemus_isotrak``, or ``read_dig_captrack`` ``read_dig_hpts``, ``read_dig_captrack`` or ``read_custom_montage`` to read a digitization based on your needs instead; or ``make_standard_montage`` to create ``DigMontage`` based on template; or ``make_dig_montage`` to create a ``DigMontage`` out of np.arrays.\n",
      "  raw1 = mne.io.read_raw_brainvision(eeg_path,montage,preload=True)\n",
      "<ipython-input-4-54bc8fe59c7b>:9: DeprecationWarning: The `montage` parameter from `read_raw_brainvision` is deprecated and will be removed  in version 0.20. Use  raw.set_montage(montage) instead.\n",
      "  raw1 = mne.io.read_raw_brainvision(eeg_path,montage,preload=True)\n"
     ]
    },
    {
     "name": "stdout",
     "output_type": "stream",
     "text": [
      "Extracting parameters from BIDS/sub-30/eeg/sub-30_task-Moral_run-09_eeg.vhdr...\n",
      "Setting channel info structure...\n",
      "Reading 0 ... 158299  =      0.000 ...   316.598 secs...\n"
     ]
    },
    {
     "name": "stderr",
     "output_type": "stream",
     "text": [
      "<ipython-input-4-54bc8fe59c7b>:9: DeprecationWarning: Setting a montage using anything rather than DigMontage is deprecated and will raise an error in v0.20. Please use ``read_dig_fif``, ``read_dig_egi``, ``read_dig_polhemus_isotrak``, or ``read_dig_captrack`` ``read_dig_hpts``, ``read_dig_captrack`` or ``read_custom_montage`` to read a digitization based on your needs instead; or ``make_standard_montage`` to create ``DigMontage`` based on template; or ``make_dig_montage`` to create a ``DigMontage`` out of np.arrays.\n",
      "  raw1 = mne.io.read_raw_brainvision(eeg_path,montage,preload=True)\n",
      "<ipython-input-4-54bc8fe59c7b>:9: DeprecationWarning: The `montage` parameter from `read_raw_brainvision` is deprecated and will be removed  in version 0.20. Use  raw.set_montage(montage) instead.\n",
      "  raw1 = mne.io.read_raw_brainvision(eeg_path,montage,preload=True)\n"
     ]
    },
    {
     "name": "stdout",
     "output_type": "stream",
     "text": [
      "Writing /media/hcp4715/USB1/Data/EEGdata/Analysis_Py/Exp1/raw_fif/sub-30_raw.fif\n",
      "Closing /media/hcp4715/USB1/Data/EEGdata/Analysis_Py/Exp1/raw_fif/sub-30_raw.fif [done]\n",
      "Extracting parameters from BIDS/sub-31/eeg/sub-31_task-Moral_run-01_eeg.vhdr...\n",
      "Setting channel info structure...\n",
      "Reading 0 ... 157224  =      0.000 ...   314.448 secs...\n"
     ]
    },
    {
     "name": "stderr",
     "output_type": "stream",
     "text": [
      "/media/hcp4715/study/Py_Envs/Py_MNE/lib/python3.6/site-packages/mne/utils/docs.py:824: DeprecationWarning: Function read_montage is deprecated; ``read_montage`` is deprecated and will be removed in v0.20. Please use ``read_dig_fif``, ``read_dig_egi``, ``read_custom_montage``, or ``read_dig_captrack`` to read a digitization based on your needs instead; or ``make_standard_montage`` to create ``DigMontage`` based on template; or ``make_dig_montage`` to create a ``DigMontage`` out of np.arrays\n",
      "  warnings.warn(msg, category=DeprecationWarning)\n",
      "/media/hcp4715/study/Py_Envs/Py_MNE/lib/python3.6/site-packages/mne/utils/docs.py:807: DeprecationWarning: Class Montage is deprecated; Montage class is deprecated and will be removed in v0.20. Please use DigMontage instead.\n",
      "  warnings.warn(msg, category=DeprecationWarning)\n"
     ]
    },
    {
     "name": "stdout",
     "output_type": "stream",
     "text": [
      "Extracting parameters from BIDS/sub-31/eeg/sub-31_task-Moral_run-02_eeg.vhdr...\n",
      "Setting channel info structure...\n",
      "Reading 0 ... 157874  =      0.000 ...   315.748 secs...\n"
     ]
    },
    {
     "name": "stderr",
     "output_type": "stream",
     "text": [
      "<ipython-input-4-54bc8fe59c7b>:5: DeprecationWarning: Setting a montage using anything rather than DigMontage is deprecated and will raise an error in v0.20. Please use ``read_dig_fif``, ``read_dig_egi``, ``read_dig_polhemus_isotrak``, or ``read_dig_captrack`` ``read_dig_hpts``, ``read_dig_captrack`` or ``read_custom_montage`` to read a digitization based on your needs instead; or ``make_standard_montage`` to create ``DigMontage`` based on template; or ``make_dig_montage`` to create a ``DigMontage`` out of np.arrays.\n",
      "  raw = mne.io.read_raw_brainvision(block1_fname, montage, preload=True)   # read .vhdr as mne raw instance\n",
      "<ipython-input-4-54bc8fe59c7b>:5: DeprecationWarning: The `montage` parameter from `read_raw_brainvision` is deprecated and will be removed  in version 0.20. Use  raw.set_montage(montage) instead.\n",
      "  raw = mne.io.read_raw_brainvision(block1_fname, montage, preload=True)   # read .vhdr as mne raw instance\n"
     ]
    },
    {
     "name": "stdout",
     "output_type": "stream",
     "text": [
      "Extracting parameters from BIDS/sub-31/eeg/sub-31_task-Moral_run-03_eeg.vhdr...\n",
      "Setting channel info structure...\n",
      "Reading 0 ... 156849  =      0.000 ...   313.698 secs...\n"
     ]
    },
    {
     "name": "stderr",
     "output_type": "stream",
     "text": [
      "<ipython-input-4-54bc8fe59c7b>:9: DeprecationWarning: Setting a montage using anything rather than DigMontage is deprecated and will raise an error in v0.20. Please use ``read_dig_fif``, ``read_dig_egi``, ``read_dig_polhemus_isotrak``, or ``read_dig_captrack`` ``read_dig_hpts``, ``read_dig_captrack`` or ``read_custom_montage`` to read a digitization based on your needs instead; or ``make_standard_montage`` to create ``DigMontage`` based on template; or ``make_dig_montage`` to create a ``DigMontage`` out of np.arrays.\n",
      "  raw1 = mne.io.read_raw_brainvision(eeg_path,montage,preload=True)\n",
      "<ipython-input-4-54bc8fe59c7b>:9: DeprecationWarning: The `montage` parameter from `read_raw_brainvision` is deprecated and will be removed  in version 0.20. Use  raw.set_montage(montage) instead.\n",
      "  raw1 = mne.io.read_raw_brainvision(eeg_path,montage,preload=True)\n"
     ]
    },
    {
     "name": "stdout",
     "output_type": "stream",
     "text": [
      "Extracting parameters from BIDS/sub-31/eeg/sub-31_task-Moral_run-04_eeg.vhdr...\n",
      "Setting channel info structure...\n",
      "Reading 0 ... 161499  =      0.000 ...   322.998 secs...\n"
     ]
    },
    {
     "name": "stderr",
     "output_type": "stream",
     "text": [
      "<ipython-input-4-54bc8fe59c7b>:9: DeprecationWarning: Setting a montage using anything rather than DigMontage is deprecated and will raise an error in v0.20. Please use ``read_dig_fif``, ``read_dig_egi``, ``read_dig_polhemus_isotrak``, or ``read_dig_captrack`` ``read_dig_hpts``, ``read_dig_captrack`` or ``read_custom_montage`` to read a digitization based on your needs instead; or ``make_standard_montage`` to create ``DigMontage`` based on template; or ``make_dig_montage`` to create a ``DigMontage`` out of np.arrays.\n",
      "  raw1 = mne.io.read_raw_brainvision(eeg_path,montage,preload=True)\n",
      "<ipython-input-4-54bc8fe59c7b>:9: DeprecationWarning: The `montage` parameter from `read_raw_brainvision` is deprecated and will be removed  in version 0.20. Use  raw.set_montage(montage) instead.\n",
      "  raw1 = mne.io.read_raw_brainvision(eeg_path,montage,preload=True)\n"
     ]
    },
    {
     "name": "stdout",
     "output_type": "stream",
     "text": [
      "Extracting parameters from BIDS/sub-31/eeg/sub-31_task-Moral_run-05_eeg.vhdr...\n",
      "Setting channel info structure...\n",
      "Reading 0 ... 166849  =      0.000 ...   333.698 secs...\n"
     ]
    },
    {
     "name": "stderr",
     "output_type": "stream",
     "text": [
      "<ipython-input-4-54bc8fe59c7b>:9: DeprecationWarning: Setting a montage using anything rather than DigMontage is deprecated and will raise an error in v0.20. Please use ``read_dig_fif``, ``read_dig_egi``, ``read_dig_polhemus_isotrak``, or ``read_dig_captrack`` ``read_dig_hpts``, ``read_dig_captrack`` or ``read_custom_montage`` to read a digitization based on your needs instead; or ``make_standard_montage`` to create ``DigMontage`` based on template; or ``make_dig_montage`` to create a ``DigMontage`` out of np.arrays.\n",
      "  raw1 = mne.io.read_raw_brainvision(eeg_path,montage,preload=True)\n",
      "<ipython-input-4-54bc8fe59c7b>:9: DeprecationWarning: The `montage` parameter from `read_raw_brainvision` is deprecated and will be removed  in version 0.20. Use  raw.set_montage(montage) instead.\n",
      "  raw1 = mne.io.read_raw_brainvision(eeg_path,montage,preload=True)\n"
     ]
    },
    {
     "name": "stdout",
     "output_type": "stream",
     "text": [
      "Extracting parameters from BIDS/sub-31/eeg/sub-31_task-Moral_run-06_eeg.vhdr...\n"
     ]
    },
    {
     "name": "stderr",
     "output_type": "stream",
     "text": [
      "<ipython-input-4-54bc8fe59c7b>:9: DeprecationWarning: Setting a montage using anything rather than DigMontage is deprecated and will raise an error in v0.20. Please use ``read_dig_fif``, ``read_dig_egi``, ``read_dig_polhemus_isotrak``, or ``read_dig_captrack`` ``read_dig_hpts``, ``read_dig_captrack`` or ``read_custom_montage`` to read a digitization based on your needs instead; or ``make_standard_montage`` to create ``DigMontage`` based on template; or ``make_dig_montage`` to create a ``DigMontage`` out of np.arrays.\n",
      "  raw1 = mne.io.read_raw_brainvision(eeg_path,montage,preload=True)\n",
      "<ipython-input-4-54bc8fe59c7b>:9: DeprecationWarning: The `montage` parameter from `read_raw_brainvision` is deprecated and will be removed  in version 0.20. Use  raw.set_montage(montage) instead.\n",
      "  raw1 = mne.io.read_raw_brainvision(eeg_path,montage,preload=True)\n"
     ]
    },
    {
     "name": "stdout",
     "output_type": "stream",
     "text": [
      "Setting channel info structure...\n",
      "Reading 0 ... 163899  =      0.000 ...   327.798 secs...\n"
     ]
    },
    {
     "name": "stderr",
     "output_type": "stream",
     "text": [
      "<ipython-input-4-54bc8fe59c7b>:9: DeprecationWarning: Setting a montage using anything rather than DigMontage is deprecated and will raise an error in v0.20. Please use ``read_dig_fif``, ``read_dig_egi``, ``read_dig_polhemus_isotrak``, or ``read_dig_captrack`` ``read_dig_hpts``, ``read_dig_captrack`` or ``read_custom_montage`` to read a digitization based on your needs instead; or ``make_standard_montage`` to create ``DigMontage`` based on template; or ``make_dig_montage`` to create a ``DigMontage`` out of np.arrays.\n",
      "  raw1 = mne.io.read_raw_brainvision(eeg_path,montage,preload=True)\n",
      "<ipython-input-4-54bc8fe59c7b>:9: DeprecationWarning: The `montage` parameter from `read_raw_brainvision` is deprecated and will be removed  in version 0.20. Use  raw.set_montage(montage) instead.\n",
      "  raw1 = mne.io.read_raw_brainvision(eeg_path,montage,preload=True)\n"
     ]
    },
    {
     "name": "stdout",
     "output_type": "stream",
     "text": [
      "Extracting parameters from BIDS/sub-31/eeg/sub-31_task-Moral_run-07_eeg.vhdr...\n",
      "Setting channel info structure...\n",
      "Reading 0 ... 165999  =      0.000 ...   331.998 secs...\n"
     ]
    },
    {
     "name": "stderr",
     "output_type": "stream",
     "text": [
      "<ipython-input-4-54bc8fe59c7b>:9: DeprecationWarning: Setting a montage using anything rather than DigMontage is deprecated and will raise an error in v0.20. Please use ``read_dig_fif``, ``read_dig_egi``, ``read_dig_polhemus_isotrak``, or ``read_dig_captrack`` ``read_dig_hpts``, ``read_dig_captrack`` or ``read_custom_montage`` to read a digitization based on your needs instead; or ``make_standard_montage`` to create ``DigMontage`` based on template; or ``make_dig_montage`` to create a ``DigMontage`` out of np.arrays.\n",
      "  raw1 = mne.io.read_raw_brainvision(eeg_path,montage,preload=True)\n",
      "<ipython-input-4-54bc8fe59c7b>:9: DeprecationWarning: The `montage` parameter from `read_raw_brainvision` is deprecated and will be removed  in version 0.20. Use  raw.set_montage(montage) instead.\n",
      "  raw1 = mne.io.read_raw_brainvision(eeg_path,montage,preload=True)\n"
     ]
    },
    {
     "name": "stdout",
     "output_type": "stream",
     "text": [
      "Extracting parameters from BIDS/sub-31/eeg/sub-31_task-Moral_run-08_eeg.vhdr...\n",
      "Setting channel info structure...\n",
      "Reading 0 ... 164824  =      0.000 ...   329.648 secs...\n"
     ]
    },
    {
     "name": "stderr",
     "output_type": "stream",
     "text": [
      "<ipython-input-4-54bc8fe59c7b>:9: DeprecationWarning: Setting a montage using anything rather than DigMontage is deprecated and will raise an error in v0.20. Please use ``read_dig_fif``, ``read_dig_egi``, ``read_dig_polhemus_isotrak``, or ``read_dig_captrack`` ``read_dig_hpts``, ``read_dig_captrack`` or ``read_custom_montage`` to read a digitization based on your needs instead; or ``make_standard_montage`` to create ``DigMontage`` based on template; or ``make_dig_montage`` to create a ``DigMontage`` out of np.arrays.\n",
      "  raw1 = mne.io.read_raw_brainvision(eeg_path,montage,preload=True)\n",
      "<ipython-input-4-54bc8fe59c7b>:9: DeprecationWarning: The `montage` parameter from `read_raw_brainvision` is deprecated and will be removed  in version 0.20. Use  raw.set_montage(montage) instead.\n",
      "  raw1 = mne.io.read_raw_brainvision(eeg_path,montage,preload=True)\n"
     ]
    },
    {
     "name": "stdout",
     "output_type": "stream",
     "text": [
      "Extracting parameters from BIDS/sub-31/eeg/sub-31_task-Moral_run-09_eeg.vhdr...\n",
      "Setting channel info structure...\n",
      "Reading 0 ... 164174  =      0.000 ...   328.348 secs...\n"
     ]
    },
    {
     "name": "stderr",
     "output_type": "stream",
     "text": [
      "<ipython-input-4-54bc8fe59c7b>:9: DeprecationWarning: Setting a montage using anything rather than DigMontage is deprecated and will raise an error in v0.20. Please use ``read_dig_fif``, ``read_dig_egi``, ``read_dig_polhemus_isotrak``, or ``read_dig_captrack`` ``read_dig_hpts``, ``read_dig_captrack`` or ``read_custom_montage`` to read a digitization based on your needs instead; or ``make_standard_montage`` to create ``DigMontage`` based on template; or ``make_dig_montage`` to create a ``DigMontage`` out of np.arrays.\n",
      "  raw1 = mne.io.read_raw_brainvision(eeg_path,montage,preload=True)\n",
      "<ipython-input-4-54bc8fe59c7b>:9: DeprecationWarning: The `montage` parameter from `read_raw_brainvision` is deprecated and will be removed  in version 0.20. Use  raw.set_montage(montage) instead.\n",
      "  raw1 = mne.io.read_raw_brainvision(eeg_path,montage,preload=True)\n"
     ]
    },
    {
     "name": "stdout",
     "output_type": "stream",
     "text": [
      "Writing /media/hcp4715/USB1/Data/EEGdata/Analysis_Py/Exp1/raw_fif/sub-31_raw.fif\n",
      "Closing /media/hcp4715/USB1/Data/EEGdata/Analysis_Py/Exp1/raw_fif/sub-31_raw.fif [done]\n"
     ]
    }
   ],
   "source": [
    "for subject in subjectlist:\n",
    "    montage = mne.channels.read_montage('standard_1020')     #read montage\n",
    "    raw_name_path = os.path.join(raw_fname,subject + '/eeg/')\n",
    "    block1_fname = (raw_name_path + subject + '_task-Moral_run-01_eeg.vhdr') #define path of block 1\n",
    "    raw = mne.io.read_raw_brainvision(block1_fname, montage, preload=True)   # read .vhdr as mne raw instance\n",
    "    for i in range(2,10):    #read block 2 to block9 and append them to block1\n",
    "        block_path = (subject +'_task-Moral_run-0'+str(i)+'_eeg.vhdr')\n",
    "        eeg_path = os.path.join(raw_name_path,block_path)\n",
    "        raw1 = mne.io.read_raw_brainvision(eeg_path,montage,preload=True)\n",
    "        mne.io.Raw.append(self=raw, raws=raw1)\n",
    "    raw.save('raw_fif/' + subject +'_raw.fif',overwrite=True)"
   ]
  }
 ],
 "metadata": {
  "kernelspec": {
   "display_name": "Python 3",
   "language": "python",
   "name": "python3"
  },
  "language_info": {
   "codemirror_mode": {
    "name": "ipython",
    "version": 3
   },
   "file_extension": ".py",
   "mimetype": "text/x-python",
   "name": "python",
   "nbconvert_exporter": "python",
   "pygments_lexer": "ipython3",
   "version": "3.6.8"
  }
 },
 "nbformat": 4,
 "nbformat_minor": 2
}
