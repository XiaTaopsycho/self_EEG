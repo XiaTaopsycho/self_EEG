{
 "cells": [
  {
   "cell_type": "markdown",
   "metadata": {},
   "source": [
    "<div class=\"alert alert-block alert-success\">\n",
    "<h1>Step 1: modify events in EEG data</h1>\n",
    "</div>\n",
    "\n",
    "Author: Hu Chuan-Peng\n",
    "\n",
    "Affiliation: School of Pyschology, Nanjing Normal Univeristy\n",
    "\n",
    "Email: hcp4715@hotmail.com"
   ]
  },
  {
   "cell_type": "markdown",
   "metadata": {},
   "source": [
    "In this notebook, I modified the events data in the EEG data so that the time points when keys are pressed is recorded as events."
   ]
  },
  {
   "cell_type": "code",
   "execution_count": 1,
   "metadata": {},
   "outputs": [],
   "source": [
    "%matplotlib inline\n",
    "import os\n",
    "import os.path as op\n",
    "import glob\n",
    "import mne\n",
    "import numpy as np\n",
    "import pandas as pd\n",
    "\n",
    "import re\n",
    "\n",
    "from mne.datasets import sample\n",
    "from mne_bids import BIDSPath, read_raw_bids, print_dir_tree, make_report"
   ]
  },
  {
   "cell_type": "code",
   "execution_count": 14,
   "metadata": {},
   "outputs": [
    {
     "name": "stdout",
     "output_type": "stream",
     "text": [
      "/media/hcp4715/RAID32T/Data_own/eegData/moralSelfEEG2015\n"
     ]
    }
   ],
   "source": [
    "root_dir = os.getcwd().split('2015')[0] + '2015' # make sure that the root dir is `moralSelfEEG2015`\n",
    "print(root_dir)"
   ]
  },
  {
   "cell_type": "markdown",
   "metadata": {},
   "source": [
    "## Load cmobine events file from R-studio and check with one subject's data"
   ]
  },
  {
   "cell_type": "markdown",
   "metadata": {},
   "source": [
    "We added the RT data in R. which will return a csv file with an additional trigger \"resp\". Note that we deleted trials without response."
   ]
  },
  {
   "cell_type": "code",
   "execution_count": 3,
   "metadata": {},
   "outputs": [
    {
     "data": {
      "text/html": [
       "<div>\n",
       "<style scoped>\n",
       "    .dataframe tbody tr th:only-of-type {\n",
       "        vertical-align: middle;\n",
       "    }\n",
       "\n",
       "    .dataframe tbody tr th {\n",
       "        vertical-align: top;\n",
       "    }\n",
       "\n",
       "    .dataframe thead th {\n",
       "        text-align: right;\n",
       "    }\n",
       "</style>\n",
       "<table border=\"1\" class=\"dataframe\">\n",
       "  <thead>\n",
       "    <tr style=\"text-align: right;\">\n",
       "      <th></th>\n",
       "      <th>subj_idx</th>\n",
       "      <th>block_id</th>\n",
       "      <th>trial_id</th>\n",
       "      <th>triggers</th>\n",
       "      <th>time</th>\n",
       "      <th>Code</th>\n",
       "    </tr>\n",
       "  </thead>\n",
       "  <tbody>\n",
       "    <tr>\n",
       "      <th>0</th>\n",
       "      <td>6106</td>\n",
       "      <td>1</td>\n",
       "      <td>1</td>\n",
       "      <td>prime_bad_match</td>\n",
       "      <td>8990</td>\n",
       "      <td>32</td>\n",
       "    </tr>\n",
       "    <tr>\n",
       "      <th>1</th>\n",
       "      <td>6106</td>\n",
       "      <td>1</td>\n",
       "      <td>1</td>\n",
       "      <td>target_bad_match</td>\n",
       "      <td>10100</td>\n",
       "      <td>5</td>\n",
       "    </tr>\n",
       "    <tr>\n",
       "      <th>2</th>\n",
       "      <td>6106</td>\n",
       "      <td>1</td>\n",
       "      <td>1</td>\n",
       "      <td>resp_bad_match</td>\n",
       "      <td>10612</td>\n",
       "      <td>1013</td>\n",
       "    </tr>\n",
       "    <tr>\n",
       "      <th>3</th>\n",
       "      <td>6106</td>\n",
       "      <td>1</td>\n",
       "      <td>1</td>\n",
       "      <td>blank_bad_match</td>\n",
       "      <td>11516</td>\n",
       "      <td>999</td>\n",
       "    </tr>\n",
       "    <tr>\n",
       "      <th>4</th>\n",
       "      <td>6106</td>\n",
       "      <td>1</td>\n",
       "      <td>2</td>\n",
       "      <td>prime_good_mismatch</td>\n",
       "      <td>11580</td>\n",
       "      <td>48</td>\n",
       "    </tr>\n",
       "  </tbody>\n",
       "</table>\n",
       "</div>"
      ],
      "text/plain": [
       "   subj_idx  block_id  trial_id             triggers   time  Code\n",
       "0      6106         1         1      prime_bad_match   8990    32\n",
       "1      6106         1         1     target_bad_match  10100     5\n",
       "2      6106         1         1       resp_bad_match  10612  1013\n",
       "3      6106         1         1      blank_bad_match  11516   999\n",
       "4      6106         1         2  prime_good_mismatch  11580    48"
      ]
     },
     "execution_count": 3,
     "metadata": {},
     "output_type": "execute_result"
    }
   ],
   "source": [
    "df_ev_new = pd.read_csv('df_events_add_RT.csv')\n",
    "df_ev_new.head()"
   ]
  },
  {
   "cell_type": "markdown",
   "metadata": {},
   "source": [
    "Again, we started from a single participant's data"
   ]
  },
  {
   "cell_type": "code",
   "execution_count": 4,
   "metadata": {},
   "outputs": [],
   "source": [
    "events_sub6 = df_ev_new[((df_ev_new['subj_idx'] == 6106) & (df_ev_new['block_id'] == 1)) ]"
   ]
  },
  {
   "cell_type": "code",
   "execution_count": 9,
   "metadata": {},
   "outputs": [
    {
     "name": "stdout",
     "output_type": "stream",
     "text": [
      "['/media/hcp4715/RAID32T/Data_own/eegData/moralSelfEEG2015/Analysis_Py/Exp1/RawData/eeg/sub6/sub6_Moral_asso_1.vhdr']\n",
      "Extracting parameters from /media/hcp4715/RAID32T/Data_own/eegData/moralSelfEEG2015/Analysis_Py/Exp1/RawData/eeg/sub6/sub6_Moral_asso_1.vhdr...\n",
      "Setting channel info structure...\n"
     ]
    },
    {
     "data": {
      "text/html": [
       "\n",
       "\n",
       "<table class=\"table table-hover\">\n",
       "    <tr>\n",
       "        <th>Measurement date</th>\n",
       "        <td>December 04, 2014  10:05:12 GMT</td>\n",
       "        \n",
       "    </tr>\n",
       "    <tr>\n",
       "        <th>Experimenter</th>\n",
       "<td>Unknown</td>\n",
       "    </tr>\n",
       "        <th>Participant</th>\n",
       "<td>Unknown</td>\n",
       "    </tr>\n",
       "    <tr>\n",
       "        <th>Digitized points</th>\n",
       "        <td>Not available</td>\n",
       "    </tr>\n",
       "    <tr>\n",
       "        <th>Good channels</th>\n",
       "        <td>0 magnetometer, 0 gradiometer,\n",
       "            and 63 EEG channels</td>\n",
       "    </tr>\n",
       "    <tr>\n",
       "        <th>Bad channels</th>\n",
       "        <td></td>\n",
       "        \n",
       "    </tr>\n",
       "    <tr>\n",
       "        <th>EOG channels</th>\n",
       "        <td>Not available</td>\n",
       "    </tr>\n",
       "    <tr>\n",
       "        <th>ECG channels</th>\n",
       "        <td>Not available</td>\n",
       "    <tr>\n",
       "        <th>Sampling frequency</th>\n",
       "        <td>500.00 Hz</td>\n",
       "    </tr>\n",
       "    <tr>\n",
       "        <th>Highpass</th>\n",
       "        <td>0.00 Hz</td>\n",
       "    </tr>\n",
       "     <tr>\n",
       "        <th>Lowpass</th>\n",
       "        <td>250.00 Hz</td>\n",
       "    </tr>\n",
       "\n",
       "    <tr>\n",
       "        <th>Filenames</th>\n",
       "        <td>sub6_Moral_asso_1.eeg</td>\n",
       "    </tr>\n",
       "    <tr>\n",
       "        <th>Duration</th>\n",
       "        <td>00:05:24 (HH:MM:SS)</td>\n",
       "    </tr>\n",
       "</table>\n"
      ],
      "text/plain": [
       "<RawBrainVision | sub6_Moral_asso_1.eeg, 63 x 162150 (324.3 s), ~67 kB, data not loaded>"
      ]
     },
     "execution_count": 9,
     "metadata": {},
     "output_type": "execute_result"
    }
   ],
   "source": [
    "subj = 'sub6'\n",
    "cur_raw_dir = op.join(root_dir, \"Analysis_Py\", \"Exp1\", 'RawData' , 'eeg' , subj)\n",
    "cur_file = glob.glob(op.join(cur_raw_dir, 'sub*_1.vhdr'))\n",
    "print(cur_file)\n",
    "cur_raw = mne.io.read_raw(cur_file[0])\n",
    "cur_raw"
   ]
  },
  {
   "cell_type": "code",
   "execution_count": 5,
   "metadata": {},
   "outputs": [
    {
     "data": {
      "text/html": [
       "<div>\n",
       "<style scoped>\n",
       "    .dataframe tbody tr th:only-of-type {\n",
       "        vertical-align: middle;\n",
       "    }\n",
       "\n",
       "    .dataframe tbody tr th {\n",
       "        vertical-align: top;\n",
       "    }\n",
       "\n",
       "    .dataframe thead th {\n",
       "        text-align: right;\n",
       "    }\n",
       "</style>\n",
       "<table border=\"1\" class=\"dataframe\">\n",
       "  <thead>\n",
       "    <tr style=\"text-align: right;\">\n",
       "      <th></th>\n",
       "      <th>subj_idx</th>\n",
       "      <th>block_id</th>\n",
       "      <th>trial_id</th>\n",
       "      <th>triggers</th>\n",
       "      <th>time</th>\n",
       "      <th>Code</th>\n",
       "    </tr>\n",
       "  </thead>\n",
       "  <tbody>\n",
       "    <tr>\n",
       "      <th>0</th>\n",
       "      <td>6106</td>\n",
       "      <td>1</td>\n",
       "      <td>1</td>\n",
       "      <td>prime_bad_match</td>\n",
       "      <td>8990</td>\n",
       "      <td>32</td>\n",
       "    </tr>\n",
       "    <tr>\n",
       "      <th>1</th>\n",
       "      <td>6106</td>\n",
       "      <td>1</td>\n",
       "      <td>1</td>\n",
       "      <td>target_bad_match</td>\n",
       "      <td>10100</td>\n",
       "      <td>5</td>\n",
       "    </tr>\n",
       "    <tr>\n",
       "      <th>2</th>\n",
       "      <td>6106</td>\n",
       "      <td>1</td>\n",
       "      <td>1</td>\n",
       "      <td>resp_bad_match</td>\n",
       "      <td>10612</td>\n",
       "      <td>1013</td>\n",
       "    </tr>\n",
       "    <tr>\n",
       "      <th>3</th>\n",
       "      <td>6106</td>\n",
       "      <td>1</td>\n",
       "      <td>1</td>\n",
       "      <td>blank_bad_match</td>\n",
       "      <td>11516</td>\n",
       "      <td>999</td>\n",
       "    </tr>\n",
       "    <tr>\n",
       "      <th>4</th>\n",
       "      <td>6106</td>\n",
       "      <td>1</td>\n",
       "      <td>2</td>\n",
       "      <td>prime_good_mismatch</td>\n",
       "      <td>11580</td>\n",
       "      <td>48</td>\n",
       "    </tr>\n",
       "    <tr>\n",
       "      <th>...</th>\n",
       "      <td>...</td>\n",
       "      <td>...</td>\n",
       "      <td>...</td>\n",
       "      <td>...</td>\n",
       "      <td>...</td>\n",
       "      <td>...</td>\n",
       "    </tr>\n",
       "    <tr>\n",
       "      <th>451</th>\n",
       "      <td>6106</td>\n",
       "      <td>1</td>\n",
       "      <td>119</td>\n",
       "      <td>blank_neut_mismatch</td>\n",
       "      <td>308286</td>\n",
       "      <td>999</td>\n",
       "    </tr>\n",
       "    <tr>\n",
       "      <th>452</th>\n",
       "      <td>6106</td>\n",
       "      <td>1</td>\n",
       "      <td>120</td>\n",
       "      <td>prime_good_mismatch</td>\n",
       "      <td>308350</td>\n",
       "      <td>48</td>\n",
       "    </tr>\n",
       "    <tr>\n",
       "      <th>453</th>\n",
       "      <td>6106</td>\n",
       "      <td>1</td>\n",
       "      <td>120</td>\n",
       "      <td>target_good_mismatch</td>\n",
       "      <td>309450</td>\n",
       "      <td>7</td>\n",
       "    </tr>\n",
       "    <tr>\n",
       "      <th>454</th>\n",
       "      <td>6106</td>\n",
       "      <td>1</td>\n",
       "      <td>120</td>\n",
       "      <td>resp_good_mismatch</td>\n",
       "      <td>310422</td>\n",
       "      <td>1013</td>\n",
       "    </tr>\n",
       "    <tr>\n",
       "      <th>455</th>\n",
       "      <td>6106</td>\n",
       "      <td>1</td>\n",
       "      <td>120</td>\n",
       "      <td>blank_good_mismatch</td>\n",
       "      <td>310568</td>\n",
       "      <td>999</td>\n",
       "    </tr>\n",
       "  </tbody>\n",
       "</table>\n",
       "<p>456 rows × 6 columns</p>\n",
       "</div>"
      ],
      "text/plain": [
       "     subj_idx  block_id  trial_id              triggers    time  Code\n",
       "0        6106         1         1       prime_bad_match    8990    32\n",
       "1        6106         1         1      target_bad_match   10100     5\n",
       "2        6106         1         1        resp_bad_match   10612  1013\n",
       "3        6106         1         1       blank_bad_match   11516   999\n",
       "4        6106         1         2   prime_good_mismatch   11580    48\n",
       "..        ...       ...       ...                   ...     ...   ...\n",
       "451      6106         1       119   blank_neut_mismatch  308286   999\n",
       "452      6106         1       120   prime_good_mismatch  308350    48\n",
       "453      6106         1       120  target_good_mismatch  309450     7\n",
       "454      6106         1       120    resp_good_mismatch  310422  1013\n",
       "455      6106         1       120   blank_good_mismatch  310568   999\n",
       "\n",
       "[456 rows x 6 columns]"
      ]
     },
     "execution_count": 5,
     "metadata": {},
     "output_type": "execute_result"
    }
   ],
   "source": [
    "events_sub6"
   ]
  },
  {
   "cell_type": "code",
   "execution_count": 15,
   "metadata": {},
   "outputs": [],
   "source": [
    "events_new = events_sub6[['time', 'Code', 'triggers']].copy().dropna()\n",
    "events_new['duration'] = 0\n",
    "# events_new.rename(columns={\"time\":\"0\",\n",
    "#                            \"Code\":\"2\"}, inplace=True) \n",
    "\n",
    "# events_new = events_new[[\"0\", \"1\", \"2\"]]\n",
    "\n",
    "events_new.loc[events_new['triggers'].str.contains('prime'), 'duration'] = 50\n",
    "events_new.loc[events_new['triggers'].str.contains('target'), 'duration'] = 60\n",
    "events_new.loc[events_new['triggers'].str.contains('blank'), 'duration'] = 50"
   ]
  },
  {
   "cell_type": "code",
   "execution_count": 16,
   "metadata": {},
   "outputs": [
    {
     "data": {
      "text/html": [
       "<div>\n",
       "<style scoped>\n",
       "    .dataframe tbody tr th:only-of-type {\n",
       "        vertical-align: middle;\n",
       "    }\n",
       "\n",
       "    .dataframe tbody tr th {\n",
       "        vertical-align: top;\n",
       "    }\n",
       "\n",
       "    .dataframe thead th {\n",
       "        text-align: right;\n",
       "    }\n",
       "</style>\n",
       "<table border=\"1\" class=\"dataframe\">\n",
       "  <thead>\n",
       "    <tr style=\"text-align: right;\">\n",
       "      <th></th>\n",
       "      <th>time</th>\n",
       "      <th>Code</th>\n",
       "      <th>triggers</th>\n",
       "      <th>duration</th>\n",
       "    </tr>\n",
       "  </thead>\n",
       "  <tbody>\n",
       "    <tr>\n",
       "      <th>0</th>\n",
       "      <td>8990</td>\n",
       "      <td>32</td>\n",
       "      <td>prime_bad_match</td>\n",
       "      <td>50</td>\n",
       "    </tr>\n",
       "    <tr>\n",
       "      <th>1</th>\n",
       "      <td>10100</td>\n",
       "      <td>5</td>\n",
       "      <td>target_bad_match</td>\n",
       "      <td>60</td>\n",
       "    </tr>\n",
       "    <tr>\n",
       "      <th>2</th>\n",
       "      <td>10612</td>\n",
       "      <td>1013</td>\n",
       "      <td>resp_bad_match</td>\n",
       "      <td>0</td>\n",
       "    </tr>\n",
       "    <tr>\n",
       "      <th>3</th>\n",
       "      <td>11516</td>\n",
       "      <td>999</td>\n",
       "      <td>blank_bad_match</td>\n",
       "      <td>50</td>\n",
       "    </tr>\n",
       "    <tr>\n",
       "      <th>4</th>\n",
       "      <td>11580</td>\n",
       "      <td>48</td>\n",
       "      <td>prime_good_mismatch</td>\n",
       "      <td>50</td>\n",
       "    </tr>\n",
       "  </tbody>\n",
       "</table>\n",
       "</div>"
      ],
      "text/plain": [
       "    time  Code             triggers  duration\n",
       "0   8990    32      prime_bad_match        50\n",
       "1  10100     5     target_bad_match        60\n",
       "2  10612  1013       resp_bad_match         0\n",
       "3  11516   999      blank_bad_match        50\n",
       "4  11580    48  prime_good_mismatch        50"
      ]
     },
     "execution_count": 16,
     "metadata": {},
     "output_type": "execute_result"
    }
   ],
   "source": [
    "events_new.head()"
   ]
  },
  {
   "cell_type": "code",
   "execution_count": 22,
   "metadata": {},
   "outputs": [],
   "source": [
    "onset = events_new['time'].to_numpy() \n",
    "onset = onset/1000.0 # onset should be in seconds.\n",
    "\n",
    "duration = events_new['duration'].to_numpy()    \n",
    "duration = duration/1000.0\n",
    "\n",
    "description = events_new['triggers'].to_numpy()\n",
    "\n",
    "annotations_new = mne.Annotations(onset, duration, description)  \n",
    "\n",
    "# cur_raw.set_annotations(annotations_new) "
   ]
  },
  {
   "cell_type": "code",
   "execution_count": 23,
   "metadata": {},
   "outputs": [],
   "source": [
    "raw_tmp = cur_raw.copy() # create a temp file\n",
    "raw_tmp"
   ]
  },
  {
   "cell_type": "code",
   "execution_count": 24,
   "metadata": {},
   "outputs": [
    {
     "data": {
      "text/html": [
       "\n",
       "\n",
       "<table class=\"table table-hover\">\n",
       "    <tr>\n",
       "        <th>Measurement date</th>\n",
       "        <td>十二月 04, 2014  10:05:12 GMT</td>\n",
       "        \n",
       "    </tr>\n",
       "    <tr>\n",
       "        <th>Experimenter</th>\n",
       "<td>Unknown</td>\n",
       "    </tr>\n",
       "        <th>Participant</th>\n",
       "<td>Unknown</td>\n",
       "    </tr>\n",
       "    <tr>\n",
       "        <th>Digitized points</th>\n",
       "        <td>Not available</td>\n",
       "    </tr>\n",
       "    <tr>\n",
       "        <th>Good channels</th>\n",
       "        <td>0 magnetometer, 0 gradiometer,\n",
       "            and 63 EEG channels</td>\n",
       "    </tr>\n",
       "    <tr>\n",
       "        <th>Bad channels</th>\n",
       "        <td></td>\n",
       "        \n",
       "    </tr>\n",
       "    <tr>\n",
       "        <th>EOG channels</th>\n",
       "        <td>Not available</td>\n",
       "    </tr>\n",
       "    <tr>\n",
       "        <th>ECG channels</th>\n",
       "        <td>Not available</td>\n",
       "    <tr>\n",
       "        <th>Sampling frequency</th>\n",
       "        <td>500.00 Hz</td>\n",
       "    </tr>\n",
       "    <tr>\n",
       "        <th>Highpass</th>\n",
       "        <td>0.00 Hz</td>\n",
       "    </tr>\n",
       "     <tr>\n",
       "        <th>Lowpass</th>\n",
       "        <td>250.00 Hz</td>\n",
       "    </tr>\n",
       "\n",
       "    <tr>\n",
       "        <th>Filenames</th>\n",
       "        <td>sub6_Moral_asso_1.eeg</td>\n",
       "    </tr>\n",
       "    <tr>\n",
       "        <th>Duration</th>\n",
       "        <td>00:05:24 (HH:MM:SS)</td>\n",
       "    </tr>\n",
       "</table>\n"
      ],
      "text/plain": [
       "<RawBrainVision | sub6_Moral_asso_1.eeg, 63 x 162150 (324.3 s), ~67 kB, data not loaded>"
      ]
     },
     "execution_count": 24,
     "metadata": {},
     "output_type": "execute_result"
    }
   ],
   "source": [
    "raw_tmp.set_annotations(annotations_new)"
   ]
  },
  {
   "cell_type": "code",
   "execution_count": 25,
   "metadata": {},
   "outputs": [
    {
     "name": "stdout",
     "output_type": "stream",
     "text": [
      "Channels marked as bad: none\n"
     ]
    }
   ],
   "source": [
    "%matplotlib qt\n",
    "fig = raw_tmp.plot(start=8, duration=5)  # plot the raw data, it works"
   ]
  },
  {
   "cell_type": "code",
   "execution_count": 116,
   "metadata": {},
   "outputs": [
    {
     "name": "stdout",
     "output_type": "stream",
     "text": [
      "Used Annotations descriptions: ['blank_bad_match', 'blank_bad_mismatch', 'blank_good_match', 'blank_good_mismatch', 'blank_neut_match', 'blank_neut_mismatch', 'prime_bad_match', 'prime_bad_mismatch', 'prime_good_match', 'prime_good_mismatch', 'prime_neut_match', 'prime_neut_mismatch', 'resp_bad_match', 'resp_bad_mismatch', 'resp_good_match', 'resp_good_mismatch', 'resp_neut_match', 'resp_neut_mismatch', 'target_bad_match', 'target_bad_mismatch', 'target_good_match', 'target_good_mismatch', 'target_neut_match', 'target_neut_mismatch']\n"
     ]
    }
   ],
   "source": [
    "events_tmp, events_id_tmp =mne.events_from_annotations(raw_tmp,event_id='auto') # we can further check the events get from the annotations.\n",
    "events_id_tmp"
   ]
  },
  {
   "cell_type": "markdown",
   "metadata": {},
   "source": [
    "## Add RT triggers to the EEG dataset"
   ]
  },
  {
   "cell_type": "code",
   "execution_count": 26,
   "metadata": {},
   "outputs": [],
   "source": [
    "cur_raw_dir = op.join(root_dir, \"Analysis_Py\", \"Exp1\", 'RawData' , 'eeg' , \"sub*\")\n",
    "cur_raw_dir = glob.glob(cur_raw_dir)\n",
    "df_list = []"
   ]
  },
  {
   "cell_type": "code",
   "execution_count": 29,
   "metadata": {},
   "outputs": [
    {
     "data": {
      "text/html": [
       "<div>\n",
       "<style scoped>\n",
       "    .dataframe tbody tr th:only-of-type {\n",
       "        vertical-align: middle;\n",
       "    }\n",
       "\n",
       "    .dataframe tbody tr th {\n",
       "        vertical-align: top;\n",
       "    }\n",
       "\n",
       "    .dataframe thead th {\n",
       "        text-align: right;\n",
       "    }\n",
       "</style>\n",
       "<table border=\"1\" class=\"dataframe\">\n",
       "  <thead>\n",
       "    <tr style=\"text-align: right;\">\n",
       "      <th></th>\n",
       "      <th>subj_idx</th>\n",
       "      <th>block_id</th>\n",
       "      <th>count</th>\n",
       "    </tr>\n",
       "  </thead>\n",
       "  <tbody>\n",
       "    <tr>\n",
       "      <th>0</th>\n",
       "      <td>6106</td>\n",
       "      <td>1</td>\n",
       "      <td>456</td>\n",
       "    </tr>\n",
       "    <tr>\n",
       "      <th>1</th>\n",
       "      <td>6106</td>\n",
       "      <td>2</td>\n",
       "      <td>472</td>\n",
       "    </tr>\n",
       "    <tr>\n",
       "      <th>2</th>\n",
       "      <td>6106</td>\n",
       "      <td>3</td>\n",
       "      <td>460</td>\n",
       "    </tr>\n",
       "    <tr>\n",
       "      <th>3</th>\n",
       "      <td>6106</td>\n",
       "      <td>4</td>\n",
       "      <td>452</td>\n",
       "    </tr>\n",
       "    <tr>\n",
       "      <th>4</th>\n",
       "      <td>6106</td>\n",
       "      <td>5</td>\n",
       "      <td>472</td>\n",
       "    </tr>\n",
       "    <tr>\n",
       "      <th>...</th>\n",
       "      <td>...</td>\n",
       "      <td>...</td>\n",
       "      <td>...</td>\n",
       "    </tr>\n",
       "    <tr>\n",
       "      <th>202</th>\n",
       "      <td>6131</td>\n",
       "      <td>6</td>\n",
       "      <td>476</td>\n",
       "    </tr>\n",
       "    <tr>\n",
       "      <th>203</th>\n",
       "      <td>6131</td>\n",
       "      <td>7</td>\n",
       "      <td>468</td>\n",
       "    </tr>\n",
       "    <tr>\n",
       "      <th>204</th>\n",
       "      <td>6131</td>\n",
       "      <td>8</td>\n",
       "      <td>440</td>\n",
       "    </tr>\n",
       "    <tr>\n",
       "      <th>205</th>\n",
       "      <td>6131</td>\n",
       "      <td>9</td>\n",
       "      <td>448</td>\n",
       "    </tr>\n",
       "    <tr>\n",
       "      <th>206</th>\n",
       "      <td>6131</td>\n",
       "      <td>10</td>\n",
       "      <td>444</td>\n",
       "    </tr>\n",
       "  </tbody>\n",
       "</table>\n",
       "<p>207 rows × 3 columns</p>\n",
       "</div>"
      ],
      "text/plain": [
       "     subj_idx  block_id  count\n",
       "0        6106         1    456\n",
       "1        6106         2    472\n",
       "2        6106         3    460\n",
       "3        6106         4    452\n",
       "4        6106         5    472\n",
       "..        ...       ...    ...\n",
       "202      6131         6    476\n",
       "203      6131         7    468\n",
       "204      6131         8    440\n",
       "205      6131         9    448\n",
       "206      6131        10    444\n",
       "\n",
       "[207 rows x 3 columns]"
      ]
     },
     "execution_count": 29,
     "metadata": {},
     "output_type": "execute_result"
    }
   ],
   "source": [
    "# get the unique block id for each participant who has data in E-Prime\n",
    "df_ev_new.groupby(['subj_idx','block_id']).size().reset_index().rename(columns={0:'count'})"
   ]
  },
  {
   "cell_type": "code",
   "execution_count": 78,
   "metadata": {},
   "outputs": [
    {
     "data": {
      "text/plain": [
       "'/media/hcp4715/RAID32T/Data_own/eegData/moralSelfEEG2015/Analysis_Py/Exp1/RawData/eeg'"
      ]
     },
     "execution_count": 78,
     "metadata": {},
     "output_type": "execute_result"
    }
   ],
   "source": [
    "raw_dir = op.join(root_dir, \"Analysis_Py\", \"Exp1\", 'RawData' , 'eeg')\n",
    "fif_dir = op.join(root_dir, \"Analysis_Py\", \"Exp1\", 'raw_fif_new')\n",
    "raw_dir"
   ]
  },
  {
   "cell_type": "code",
   "execution_count": 81,
   "metadata": {},
   "outputs": [
    {
     "name": "stdout",
     "output_type": "stream",
     "text": [
      "working on subj:  6110 block_id:  1\n",
      "Extracting parameters from /media/hcp4715/RAID32T/Data_own/eegData/moralSelfEEG2015/Analysis_Py/Exp1/RawData/eeg/sub10/sub10_Moral_asso_1.vhdr...\n",
      "Setting channel info structure...\n",
      "working on subj:  6110 block_id:  2\n",
      "Extracting parameters from /media/hcp4715/RAID32T/Data_own/eegData/moralSelfEEG2015/Analysis_Py/Exp1/RawData/eeg/sub10/sub10_Moral_asso_2.vhdr...\n",
      "Setting channel info structure...\n",
      "working on subj:  6110 block_id:  3\n",
      "Extracting parameters from /media/hcp4715/RAID32T/Data_own/eegData/moralSelfEEG2015/Analysis_Py/Exp1/RawData/eeg/sub10/sub10_Moral_asso_3.vhdr...\n",
      "Setting channel info structure...\n"
     ]
    },
    {
     "name": "stderr",
     "output_type": "stream",
     "text": [
      "/tmp/ipykernel_929370/15992950.py:38: RuntimeWarning: Omitted 45 annotation(s) that were outside data range.\n",
      "  cur_raw.set_annotations(annotations_new)\n",
      "/tmp/ipykernel_929370/15992950.py:38: RuntimeWarning: Omitted 37 annotation(s) that were outside data range.\n",
      "  cur_raw.set_annotations(annotations_new)\n",
      "/tmp/ipykernel_929370/15992950.py:38: RuntimeWarning: Omitted 43 annotation(s) that were outside data range.\n",
      "  cur_raw.set_annotations(annotations_new)\n"
     ]
    },
    {
     "name": "stdout",
     "output_type": "stream",
     "text": [
      "working on subj:  6110 block_id:  4\n",
      "Extracting parameters from /media/hcp4715/RAID32T/Data_own/eegData/moralSelfEEG2015/Analysis_Py/Exp1/RawData/eeg/sub10/sub10_Moral_asso_4.vhdr...\n",
      "Setting channel info structure...\n",
      "working on subj:  6110 block_id:  5\n",
      "Extracting parameters from /media/hcp4715/RAID32T/Data_own/eegData/moralSelfEEG2015/Analysis_Py/Exp1/RawData/eeg/sub10/sub10_Moral_asso_5.vhdr...\n",
      "Setting channel info structure...\n",
      "working on subj:  6110 block_id:  6\n",
      "Extracting parameters from /media/hcp4715/RAID32T/Data_own/eegData/moralSelfEEG2015/Analysis_Py/Exp1/RawData/eeg/sub10/sub10_Moral_asso_6.vhdr...\n",
      "Setting channel info structure...\n"
     ]
    },
    {
     "name": "stderr",
     "output_type": "stream",
     "text": [
      "/tmp/ipykernel_929370/15992950.py:38: RuntimeWarning: Omitted 43 annotation(s) that were outside data range.\n",
      "  cur_raw.set_annotations(annotations_new)\n",
      "/tmp/ipykernel_929370/15992950.py:38: RuntimeWarning: Omitted 37 annotation(s) that were outside data range.\n",
      "  cur_raw.set_annotations(annotations_new)\n"
     ]
    },
    {
     "name": "stdout",
     "output_type": "stream",
     "text": [
      "working on subj:  6110 block_id:  7\n",
      "Extracting parameters from /media/hcp4715/RAID32T/Data_own/eegData/moralSelfEEG2015/Analysis_Py/Exp1/RawData/eeg/sub10/sub10_Moral_asso_7.vhdr...\n",
      "Setting channel info structure...\n"
     ]
    },
    {
     "name": "stderr",
     "output_type": "stream",
     "text": [
      "/tmp/ipykernel_929370/15992950.py:38: RuntimeWarning: Omitted 39 annotation(s) that were outside data range.\n",
      "  cur_raw.set_annotations(annotations_new)\n"
     ]
    },
    {
     "name": "stdout",
     "output_type": "stream",
     "text": [
      "working on subj:  6110 block_id:  8\n",
      "Extracting parameters from /media/hcp4715/RAID32T/Data_own/eegData/moralSelfEEG2015/Analysis_Py/Exp1/RawData/eeg/sub10/sub10_Moral_asso_8.vhdr...\n",
      "Setting channel info structure...\n"
     ]
    },
    {
     "name": "stderr",
     "output_type": "stream",
     "text": [
      "/tmp/ipykernel_929370/15992950.py:38: RuntimeWarning: Omitted 47 annotation(s) that were outside data range.\n",
      "  cur_raw.set_annotations(annotations_new)\n"
     ]
    },
    {
     "name": "stdout",
     "output_type": "stream",
     "text": [
      "working on subj:  6110 block_id:  9\n",
      "Extracting parameters from /media/hcp4715/RAID32T/Data_own/eegData/moralSelfEEG2015/Analysis_Py/Exp1/RawData/eeg/sub10/sub10_Moral_asso_9.vhdr...\n",
      "Setting channel info structure...\n"
     ]
    },
    {
     "name": "stderr",
     "output_type": "stream",
     "text": [
      "/tmp/ipykernel_929370/15992950.py:38: RuntimeWarning: Omitted 42 annotation(s) that were outside data range.\n",
      "  cur_raw.set_annotations(annotations_new)\n",
      "/tmp/ipykernel_929370/15992950.py:38: RuntimeWarning: Limited 1 annotation(s) that were expanding outside the data range.\n",
      "  cur_raw.set_annotations(annotations_new)\n"
     ]
    },
    {
     "name": "stdout",
     "output_type": "stream",
     "text": [
      "Writing /media/hcp4715/RAID32T/Data_own/eegData/moralSelfEEG2015/Analysis_Py/Exp1/raw_fif_new/6110_raw.fif\n",
      "Closing /media/hcp4715/RAID32T/Data_own/eegData/moralSelfEEG2015/Analysis_Py/Exp1/raw_fif_new/6110_raw.fif\n",
      "[done]\n",
      "working on subj:  6111 block_id:  1\n",
      "Extracting parameters from /media/hcp4715/RAID32T/Data_own/eegData/moralSelfEEG2015/Analysis_Py/Exp1/RawData/eeg/sub11/sub11_Moral_asso_1.vhdr...\n",
      "Setting channel info structure...\n",
      "working on subj:  6111 block_id:  2\n",
      "Extracting parameters from /media/hcp4715/RAID32T/Data_own/eegData/moralSelfEEG2015/Analysis_Py/Exp1/RawData/eeg/sub11/sub11_Moral_asso_2.vhdr...\n",
      "Setting channel info structure...\n",
      "working on subj:  6111 block_id:  3\n",
      "Extracting parameters from /media/hcp4715/RAID32T/Data_own/eegData/moralSelfEEG2015/Analysis_Py/Exp1/RawData/eeg/sub11/sub11_Moral_asso_3.vhdr...\n",
      "Setting channel info structure...\n",
      "working on subj:  6111 block_id:  4\n",
      "Extracting parameters from /media/hcp4715/RAID32T/Data_own/eegData/moralSelfEEG2015/Analysis_Py/Exp1/RawData/eeg/sub11/sub11_Moral_asso_4.vhdr...\n",
      "Setting channel info structure...\n",
      "working on subj:  6111 block_id:  5\n",
      "Extracting parameters from /media/hcp4715/RAID32T/Data_own/eegData/moralSelfEEG2015/Analysis_Py/Exp1/RawData/eeg/sub11/sub11_Moral_asso_5.vhdr...\n",
      "Setting channel info structure...\n",
      "working on subj:  6111 block_id:  6\n",
      "Extracting parameters from /media/hcp4715/RAID32T/Data_own/eegData/moralSelfEEG2015/Analysis_Py/Exp1/RawData/eeg/sub11/sub11_Moral_asso_6.vhdr...\n",
      "Setting channel info structure...\n",
      "working on subj:  6111 block_id:  7\n",
      "Extracting parameters from /media/hcp4715/RAID32T/Data_own/eegData/moralSelfEEG2015/Analysis_Py/Exp1/RawData/eeg/sub11/sub11_Moral_asso_7.vhdr...\n",
      "Setting channel info structure...\n",
      "working on subj:  6111 block_id:  8\n",
      "Extracting parameters from /media/hcp4715/RAID32T/Data_own/eegData/moralSelfEEG2015/Analysis_Py/Exp1/RawData/eeg/sub11/sub11_Moral_asso_8.vhdr...\n",
      "Setting channel info structure...\n",
      "working on subj:  6111 block_id:  9\n",
      "Extracting parameters from /media/hcp4715/RAID32T/Data_own/eegData/moralSelfEEG2015/Analysis_Py/Exp1/RawData/eeg/sub11/sub11_Moral_asso_9.vhdr...\n",
      "Setting channel info structure...\n",
      "Writing /media/hcp4715/RAID32T/Data_own/eegData/moralSelfEEG2015/Analysis_Py/Exp1/raw_fif_new/6111_raw.fif\n",
      "Closing /media/hcp4715/RAID32T/Data_own/eegData/moralSelfEEG2015/Analysis_Py/Exp1/raw_fif_new/6111_raw.fif\n",
      "[done]\n",
      "working on subj:  6113 block_id:  1\n",
      "Extracting parameters from /media/hcp4715/RAID32T/Data_own/eegData/moralSelfEEG2015/Analysis_Py/Exp1/RawData/eeg/sub13/sub13_Moral_asso_1.vhdr...\n",
      "Setting channel info structure...\n",
      "working on subj:  6113 block_id:  10\n",
      "Extracting parameters from /media/hcp4715/RAID32T/Data_own/eegData/moralSelfEEG2015/Analysis_Py/Exp1/RawData/eeg/sub13/sub13_Moral_asso_10.vhdr...\n",
      "Setting channel info structure...\n",
      "working on subj:  6113 block_id:  2\n",
      "Extracting parameters from /media/hcp4715/RAID32T/Data_own/eegData/moralSelfEEG2015/Analysis_Py/Exp1/RawData/eeg/sub13/sub13_Moral_asso_2.vhdr...\n",
      "Setting channel info structure...\n"
     ]
    },
    {
     "name": "stderr",
     "output_type": "stream",
     "text": [
      "/tmp/ipykernel_929370/15992950.py:38: RuntimeWarning: Omitted 65 annotation(s) that were outside data range.\n",
      "  cur_raw.set_annotations(annotations_new)\n",
      "/tmp/ipykernel_929370/15992950.py:38: RuntimeWarning: Omitted 73 annotation(s) that were outside data range.\n",
      "  cur_raw.set_annotations(annotations_new)\n",
      "/tmp/ipykernel_929370/15992950.py:38: RuntimeWarning: Omitted 66 annotation(s) that were outside data range.\n",
      "  cur_raw.set_annotations(annotations_new)\n"
     ]
    },
    {
     "name": "stdout",
     "output_type": "stream",
     "text": [
      "working on subj:  6113 block_id:  3\n",
      "Extracting parameters from /media/hcp4715/RAID32T/Data_own/eegData/moralSelfEEG2015/Analysis_Py/Exp1/RawData/eeg/sub13/sub13_Moral_asso_3.vhdr...\n",
      "Setting channel info structure...\n",
      "working on subj:  6113 block_id:  4\n",
      "Extracting parameters from /media/hcp4715/RAID32T/Data_own/eegData/moralSelfEEG2015/Analysis_Py/Exp1/RawData/eeg/sub13/sub13_Moral_asso_4.vhdr...\n",
      "Setting channel info structure...\n"
     ]
    },
    {
     "name": "stderr",
     "output_type": "stream",
     "text": [
      "/tmp/ipykernel_929370/15992950.py:38: RuntimeWarning: Omitted 73 annotation(s) that were outside data range.\n",
      "  cur_raw.set_annotations(annotations_new)\n",
      "/tmp/ipykernel_929370/15992950.py:38: RuntimeWarning: Omitted 49 annotation(s) that were outside data range.\n",
      "  cur_raw.set_annotations(annotations_new)\n"
     ]
    },
    {
     "name": "stdout",
     "output_type": "stream",
     "text": [
      "working on subj:  6113 block_id:  5\n",
      "Extracting parameters from /media/hcp4715/RAID32T/Data_own/eegData/moralSelfEEG2015/Analysis_Py/Exp1/RawData/eeg/sub13/sub13_Moral_asso_5.vhdr...\n",
      "Setting channel info structure...\n"
     ]
    },
    {
     "name": "stderr",
     "output_type": "stream",
     "text": [
      "/tmp/ipykernel_929370/15992950.py:38: RuntimeWarning: Omitted 87 annotation(s) that were outside data range.\n",
      "  cur_raw.set_annotations(annotations_new)\n"
     ]
    },
    {
     "name": "stdout",
     "output_type": "stream",
     "text": [
      "working on subj:  6113 block_id:  6\n",
      "Extracting parameters from /media/hcp4715/RAID32T/Data_own/eegData/moralSelfEEG2015/Analysis_Py/Exp1/RawData/eeg/sub13/sub13_Moral_asso_6.vhdr...\n",
      "Setting channel info structure...\n"
     ]
    },
    {
     "name": "stderr",
     "output_type": "stream",
     "text": [
      "/tmp/ipykernel_929370/15992950.py:38: RuntimeWarning: Omitted 83 annotation(s) that were outside data range.\n",
      "  cur_raw.set_annotations(annotations_new)\n",
      "/tmp/ipykernel_929370/15992950.py:38: RuntimeWarning: Limited 1 annotation(s) that were expanding outside the data range.\n",
      "  cur_raw.set_annotations(annotations_new)\n"
     ]
    },
    {
     "name": "stdout",
     "output_type": "stream",
     "text": [
      "working on subj:  6113 block_id:  7\n",
      "Extracting parameters from /media/hcp4715/RAID32T/Data_own/eegData/moralSelfEEG2015/Analysis_Py/Exp1/RawData/eeg/sub13/sub13_Moral_asso_7.vhdr...\n",
      "Setting channel info structure...\n"
     ]
    },
    {
     "name": "stderr",
     "output_type": "stream",
     "text": [
      "/tmp/ipykernel_929370/15992950.py:38: RuntimeWarning: Omitted 78 annotation(s) that were outside data range.\n",
      "  cur_raw.set_annotations(annotations_new)\n"
     ]
    },
    {
     "name": "stdout",
     "output_type": "stream",
     "text": [
      "working on subj:  6113 block_id:  8\n",
      "Extracting parameters from /media/hcp4715/RAID32T/Data_own/eegData/moralSelfEEG2015/Analysis_Py/Exp1/RawData/eeg/sub13/sub13_Moral_asso_8.vhdr...\n",
      "Setting channel info structure...\n"
     ]
    },
    {
     "name": "stderr",
     "output_type": "stream",
     "text": [
      "/tmp/ipykernel_929370/15992950.py:38: RuntimeWarning: Omitted 71 annotation(s) that were outside data range.\n",
      "  cur_raw.set_annotations(annotations_new)\n"
     ]
    },
    {
     "name": "stdout",
     "output_type": "stream",
     "text": [
      "working on subj:  6113 block_id:  9\n",
      "Extracting parameters from /media/hcp4715/RAID32T/Data_own/eegData/moralSelfEEG2015/Analysis_Py/Exp1/RawData/eeg/sub13/sub13_Moral_asso_9.vhdr...\n",
      "Setting channel info structure...\n",
      "Writing /media/hcp4715/RAID32T/Data_own/eegData/moralSelfEEG2015/Analysis_Py/Exp1/raw_fif_new/6113_raw.fif\n",
      "Closing /media/hcp4715/RAID32T/Data_own/eegData/moralSelfEEG2015/Analysis_Py/Exp1/raw_fif_new/6113_raw.fif\n",
      "[done]\n",
      "working on subj:  6114 block_id:  1\n",
      "Extracting parameters from /media/hcp4715/RAID32T/Data_own/eegData/moralSelfEEG2015/Analysis_Py/Exp1/RawData/eeg/sub14/sub14_Moral_asso_1.vhdr...\n",
      "Setting channel info structure...\n",
      "working on subj:  6114 block_id:  2\n",
      "Extracting parameters from /media/hcp4715/RAID32T/Data_own/eegData/moralSelfEEG2015/Analysis_Py/Exp1/RawData/eeg/sub14/sub14_Moral_asso_2.vhdr...\n",
      "Setting channel info structure...\n",
      "working on subj:  6114 block_id:  3\n",
      "Extracting parameters from /media/hcp4715/RAID32T/Data_own/eegData/moralSelfEEG2015/Analysis_Py/Exp1/RawData/eeg/sub14/sub14_Moral_asso_3.vhdr...\n",
      "Setting channel info structure...\n"
     ]
    },
    {
     "name": "stderr",
     "output_type": "stream",
     "text": [
      "/tmp/ipykernel_929370/15992950.py:38: RuntimeWarning: Omitted 230 annotation(s) that were outside data range.\n",
      "  cur_raw.set_annotations(annotations_new)\n",
      "/tmp/ipykernel_929370/15992950.py:38: RuntimeWarning: Omitted 309 annotation(s) that were outside data range.\n",
      "  cur_raw.set_annotations(annotations_new)\n",
      "/tmp/ipykernel_929370/15992950.py:38: RuntimeWarning: Omitted 251 annotation(s) that were outside data range.\n",
      "  cur_raw.set_annotations(annotations_new)\n"
     ]
    },
    {
     "name": "stdout",
     "output_type": "stream",
     "text": [
      "working on subj:  6114 block_id:  4\n",
      "Extracting parameters from /media/hcp4715/RAID32T/Data_own/eegData/moralSelfEEG2015/Analysis_Py/Exp1/RawData/eeg/sub14/sub14_Moral_asso_4.vhdr...\n",
      "Setting channel info structure...\n",
      "working on subj:  6114 block_id:  5\n",
      "Extracting parameters from /media/hcp4715/RAID32T/Data_own/eegData/moralSelfEEG2015/Analysis_Py/Exp1/RawData/eeg/sub14/sub14_Moral_asso_5.vhdr...\n",
      "Setting channel info structure...\n"
     ]
    },
    {
     "name": "stderr",
     "output_type": "stream",
     "text": [
      "/tmp/ipykernel_929370/15992950.py:38: RuntimeWarning: Omitted 289 annotation(s) that were outside data range.\n",
      "  cur_raw.set_annotations(annotations_new)\n",
      "/tmp/ipykernel_929370/15992950.py:38: RuntimeWarning: Limited 1 annotation(s) that were expanding outside the data range.\n",
      "  cur_raw.set_annotations(annotations_new)\n",
      "/tmp/ipykernel_929370/15992950.py:38: RuntimeWarning: Omitted 249 annotation(s) that were outside data range.\n",
      "  cur_raw.set_annotations(annotations_new)\n",
      "/tmp/ipykernel_929370/15992950.py:38: RuntimeWarning: Limited 1 annotation(s) that were expanding outside the data range.\n",
      "  cur_raw.set_annotations(annotations_new)\n"
     ]
    },
    {
     "name": "stdout",
     "output_type": "stream",
     "text": [
      "working on subj:  6114 block_id:  6\n",
      "Extracting parameters from /media/hcp4715/RAID32T/Data_own/eegData/moralSelfEEG2015/Analysis_Py/Exp1/RawData/eeg/sub14/sub14_Moral_asso_6.vhdr...\n",
      "Setting channel info structure...\n",
      "working on subj:  6114 block_id:  7\n",
      "Extracting parameters from /media/hcp4715/RAID32T/Data_own/eegData/moralSelfEEG2015/Analysis_Py/Exp1/RawData/eeg/sub14/sub14_Moral_asso_7.vhdr...\n",
      "Setting channel info structure...\n"
     ]
    },
    {
     "name": "stderr",
     "output_type": "stream",
     "text": [
      "/tmp/ipykernel_929370/15992950.py:38: RuntimeWarning: Omitted 240 annotation(s) that were outside data range.\n",
      "  cur_raw.set_annotations(annotations_new)\n",
      "/tmp/ipykernel_929370/15992950.py:38: RuntimeWarning: Omitted 240 annotation(s) that were outside data range.\n",
      "  cur_raw.set_annotations(annotations_new)\n"
     ]
    },
    {
     "name": "stdout",
     "output_type": "stream",
     "text": [
      "working on subj:  6114 block_id:  8\n",
      "Extracting parameters from /media/hcp4715/RAID32T/Data_own/eegData/moralSelfEEG2015/Analysis_Py/Exp1/RawData/eeg/sub14/sub14_Moral_asso_8.vhdr...\n",
      "Setting channel info structure...\n"
     ]
    },
    {
     "name": "stderr",
     "output_type": "stream",
     "text": [
      "/tmp/ipykernel_929370/15992950.py:38: RuntimeWarning: Omitted 252 annotation(s) that were outside data range.\n",
      "  cur_raw.set_annotations(annotations_new)\n"
     ]
    },
    {
     "name": "stdout",
     "output_type": "stream",
     "text": [
      "working on subj:  6114 block_id:  9\n",
      "Extracting parameters from /media/hcp4715/RAID32T/Data_own/eegData/moralSelfEEG2015/Analysis_Py/Exp1/RawData/eeg/sub14/sub14_Moral_asso_9.vhdr...\n",
      "Setting channel info structure...\n",
      "Writing /media/hcp4715/RAID32T/Data_own/eegData/moralSelfEEG2015/Analysis_Py/Exp1/raw_fif_new/6114_raw.fif\n",
      "Closing /media/hcp4715/RAID32T/Data_own/eegData/moralSelfEEG2015/Analysis_Py/Exp1/raw_fif_new/6114_raw.fif\n",
      "[done]\n",
      "working on subj:  6115 block_id:  1\n",
      "Extracting parameters from /media/hcp4715/RAID32T/Data_own/eegData/moralSelfEEG2015/Analysis_Py/Exp1/RawData/eeg/sub15/sub15_Moral_asso_1.vhdr...\n",
      "Setting channel info structure...\n",
      "working on subj:  6115 block_id:  2\n",
      "Extracting parameters from /media/hcp4715/RAID32T/Data_own/eegData/moralSelfEEG2015/Analysis_Py/Exp1/RawData/eeg/sub15/sub15_Moral_asso_2.vhdr...\n",
      "Setting channel info structure...\n",
      "working on subj:  6115 block_id:  3\n",
      "Extracting parameters from /media/hcp4715/RAID32T/Data_own/eegData/moralSelfEEG2015/Analysis_Py/Exp1/RawData/eeg/sub15/sub15_Moral_asso_3.vhdr...\n",
      "Setting channel info structure...\n"
     ]
    },
    {
     "name": "stderr",
     "output_type": "stream",
     "text": [
      "/tmp/ipykernel_929370/15992950.py:38: RuntimeWarning: Omitted 5 annotation(s) that were outside data range.\n",
      "  cur_raw.set_annotations(annotations_new)\n",
      "/tmp/ipykernel_929370/15992950.py:38: RuntimeWarning: Omitted 6 annotation(s) that were outside data range.\n",
      "  cur_raw.set_annotations(annotations_new)\n",
      "/tmp/ipykernel_929370/15992950.py:38: RuntimeWarning: Omitted 41 annotation(s) that were outside data range.\n",
      "  cur_raw.set_annotations(annotations_new)\n",
      "/tmp/ipykernel_929370/15992950.py:38: RuntimeWarning: Limited 1 annotation(s) that were expanding outside the data range.\n",
      "  cur_raw.set_annotations(annotations_new)\n"
     ]
    },
    {
     "name": "stdout",
     "output_type": "stream",
     "text": [
      "working on subj:  6115 block_id:  4\n",
      "Extracting parameters from /media/hcp4715/RAID32T/Data_own/eegData/moralSelfEEG2015/Analysis_Py/Exp1/RawData/eeg/sub15/sub15_Moral_asso_4.vhdr...\n",
      "Setting channel info structure...\n",
      "working on subj:  6115 block_id:  5\n",
      "Extracting parameters from /media/hcp4715/RAID32T/Data_own/eegData/moralSelfEEG2015/Analysis_Py/Exp1/RawData/eeg/sub15/sub15_Moral_asso_5.vhdr...\n",
      "Setting channel info structure...\n"
     ]
    },
    {
     "name": "stderr",
     "output_type": "stream",
     "text": [
      "/tmp/ipykernel_929370/15992950.py:38: RuntimeWarning: Omitted 14 annotation(s) that were outside data range.\n",
      "  cur_raw.set_annotations(annotations_new)\n"
     ]
    },
    {
     "name": "stdout",
     "output_type": "stream",
     "text": [
      "working on subj:  6115 block_id:  6\n",
      "Extracting parameters from /media/hcp4715/RAID32T/Data_own/eegData/moralSelfEEG2015/Analysis_Py/Exp1/RawData/eeg/sub15/sub15_Moral_asso_6.vhdr...\n",
      "Setting channel info structure...\n",
      "working on subj:  6115 block_id:  7\n",
      "Extracting parameters from /media/hcp4715/RAID32T/Data_own/eegData/moralSelfEEG2015/Analysis_Py/Exp1/RawData/eeg/sub15/sub15_Moral_asso_7.vhdr...\n",
      "Setting channel info structure...\n"
     ]
    },
    {
     "name": "stderr",
     "output_type": "stream",
     "text": [
      "/tmp/ipykernel_929370/15992950.py:38: RuntimeWarning: Omitted 32 annotation(s) that were outside data range.\n",
      "  cur_raw.set_annotations(annotations_new)\n"
     ]
    },
    {
     "name": "stdout",
     "output_type": "stream",
     "text": [
      "working on subj:  6115 block_id:  8\n",
      "Extracting parameters from /media/hcp4715/RAID32T/Data_own/eegData/moralSelfEEG2015/Analysis_Py/Exp1/RawData/eeg/sub15/sub15_Moral_asso_8.vhdr...\n",
      "Setting channel info structure...\n"
     ]
    },
    {
     "name": "stderr",
     "output_type": "stream",
     "text": [
      "/tmp/ipykernel_929370/15992950.py:38: RuntimeWarning: Omitted 107 annotation(s) that were outside data range.\n",
      "  cur_raw.set_annotations(annotations_new)\n"
     ]
    },
    {
     "name": "stdout",
     "output_type": "stream",
     "text": [
      "working on subj:  6115 block_id:  9\n",
      "Extracting parameters from /media/hcp4715/RAID32T/Data_own/eegData/moralSelfEEG2015/Analysis_Py/Exp1/RawData/eeg/sub15/sub15_Moral_asso_9.vhdr...\n",
      "Setting channel info structure...\n"
     ]
    },
    {
     "name": "stderr",
     "output_type": "stream",
     "text": [
      "/tmp/ipykernel_929370/15992950.py:38: RuntimeWarning: Omitted 1 annotation(s) that were outside data range.\n",
      "  cur_raw.set_annotations(annotations_new)\n"
     ]
    },
    {
     "name": "stdout",
     "output_type": "stream",
     "text": [
      "Writing /media/hcp4715/RAID32T/Data_own/eegData/moralSelfEEG2015/Analysis_Py/Exp1/raw_fif_new/6115_raw.fif\n",
      "Closing /media/hcp4715/RAID32T/Data_own/eegData/moralSelfEEG2015/Analysis_Py/Exp1/raw_fif_new/6115_raw.fif\n",
      "[done]\n",
      "working on subj:  6116 block_id:  1\n",
      "Extracting parameters from /media/hcp4715/RAID32T/Data_own/eegData/moralSelfEEG2015/Analysis_Py/Exp1/RawData/eeg/sub16/sub16_Moral_asso_1.vhdr...\n",
      "Setting channel info structure...\n",
      "working on subj:  6116 block_id:  2\n",
      "Extracting parameters from /media/hcp4715/RAID32T/Data_own/eegData/moralSelfEEG2015/Analysis_Py/Exp1/RawData/eeg/sub16/sub16_Moral_asso_2.vhdr...\n",
      "Setting channel info structure...\n",
      "working on subj:  6116 block_id:  3\n",
      "Extracting parameters from /media/hcp4715/RAID32T/Data_own/eegData/moralSelfEEG2015/Analysis_Py/Exp1/RawData/eeg/sub16/sub16_Moral_asso_3.vhdr...\n",
      "Setting channel info structure...\n",
      "working on subj:  6116 block_id:  4\n",
      "Extracting parameters from /media/hcp4715/RAID32T/Data_own/eegData/moralSelfEEG2015/Analysis_Py/Exp1/RawData/eeg/sub16/sub16_Moral_asso_4.vhdr...\n",
      "Setting channel info structure...\n",
      "working on subj:  6116 block_id:  5\n",
      "Extracting parameters from /media/hcp4715/RAID32T/Data_own/eegData/moralSelfEEG2015/Analysis_Py/Exp1/RawData/eeg/sub16/sub16_Moral_asso_5.vhdr...\n",
      "Setting channel info structure...\n",
      "working on subj:  6116 block_id:  6\n",
      "Extracting parameters from /media/hcp4715/RAID32T/Data_own/eegData/moralSelfEEG2015/Analysis_Py/Exp1/RawData/eeg/sub16/sub16_Moral_asso_6.vhdr...\n",
      "Setting channel info structure...\n"
     ]
    },
    {
     "name": "stderr",
     "output_type": "stream",
     "text": [
      "/tmp/ipykernel_929370/15992950.py:38: RuntimeWarning: Omitted 1 annotation(s) that were outside data range.\n",
      "  cur_raw.set_annotations(annotations_new)\n"
     ]
    },
    {
     "name": "stdout",
     "output_type": "stream",
     "text": [
      "working on subj:  6116 block_id:  7\n",
      "Extracting parameters from /media/hcp4715/RAID32T/Data_own/eegData/moralSelfEEG2015/Analysis_Py/Exp1/RawData/eeg/sub16/sub16_Moral_asso_7.vhdr...\n",
      "Setting channel info structure...\n",
      "working on subj:  6116 block_id:  8\n",
      "Extracting parameters from /media/hcp4715/RAID32T/Data_own/eegData/moralSelfEEG2015/Analysis_Py/Exp1/RawData/eeg/sub16/sub16_Moral_asso_8.vhdr...\n",
      "Setting channel info structure...\n",
      "working on subj:  6116 block_id:  9\n",
      "Extracting parameters from /media/hcp4715/RAID32T/Data_own/eegData/moralSelfEEG2015/Analysis_Py/Exp1/RawData/eeg/sub16/sub16_Moral_asso_9.vhdr...\n",
      "Setting channel info structure...\n",
      "Writing /media/hcp4715/RAID32T/Data_own/eegData/moralSelfEEG2015/Analysis_Py/Exp1/raw_fif_new/6116_raw.fif\n",
      "Closing /media/hcp4715/RAID32T/Data_own/eegData/moralSelfEEG2015/Analysis_Py/Exp1/raw_fif_new/6116_raw.fif\n",
      "[done]\n",
      "working on subj:  6117 block_id:  1\n",
      "Extracting parameters from /media/hcp4715/RAID32T/Data_own/eegData/moralSelfEEG2015/Analysis_Py/Exp1/RawData/eeg/sub17/sub17_Moral_asso_1.vhdr...\n",
      "Setting channel info structure...\n",
      "working on subj:  6117 block_id:  2\n",
      "Extracting parameters from /media/hcp4715/RAID32T/Data_own/eegData/moralSelfEEG2015/Analysis_Py/Exp1/RawData/eeg/sub17/sub17_Moral_asso_2.vhdr...\n",
      "Setting channel info structure...\n",
      "working on subj:  6117 block_id:  3\n",
      "Extracting parameters from /media/hcp4715/RAID32T/Data_own/eegData/moralSelfEEG2015/Analysis_Py/Exp1/RawData/eeg/sub17/sub17_Moral_asso_3.vhdr...\n",
      "Setting channel info structure...\n"
     ]
    },
    {
     "name": "stderr",
     "output_type": "stream",
     "text": [
      "/tmp/ipykernel_929370/15992950.py:38: RuntimeWarning: Omitted 39 annotation(s) that were outside data range.\n",
      "  cur_raw.set_annotations(annotations_new)\n",
      "/tmp/ipykernel_929370/15992950.py:38: RuntimeWarning: Omitted 58 annotation(s) that were outside data range.\n",
      "  cur_raw.set_annotations(annotations_new)\n",
      "/tmp/ipykernel_929370/15992950.py:38: RuntimeWarning: Omitted 71 annotation(s) that were outside data range.\n",
      "  cur_raw.set_annotations(annotations_new)\n"
     ]
    },
    {
     "name": "stdout",
     "output_type": "stream",
     "text": [
      "working on subj:  6117 block_id:  4\n",
      "Extracting parameters from /media/hcp4715/RAID32T/Data_own/eegData/moralSelfEEG2015/Analysis_Py/Exp1/RawData/eeg/sub17/sub17_Moral_asso_4.vhdr...\n",
      "Setting channel info structure...\n",
      "working on subj:  6117 block_id:  5\n",
      "Extracting parameters from /media/hcp4715/RAID32T/Data_own/eegData/moralSelfEEG2015/Analysis_Py/Exp1/RawData/eeg/sub17/sub17_Moral_asso_5.vhdr...\n",
      "Setting channel info structure...\n"
     ]
    },
    {
     "name": "stderr",
     "output_type": "stream",
     "text": [
      "/tmp/ipykernel_929370/15992950.py:38: RuntimeWarning: Omitted 94 annotation(s) that were outside data range.\n",
      "  cur_raw.set_annotations(annotations_new)\n",
      "/tmp/ipykernel_929370/15992950.py:38: RuntimeWarning: Omitted 53 annotation(s) that were outside data range.\n",
      "  cur_raw.set_annotations(annotations_new)\n"
     ]
    },
    {
     "name": "stdout",
     "output_type": "stream",
     "text": [
      "working on subj:  6117 block_id:  6\n",
      "Extracting parameters from /media/hcp4715/RAID32T/Data_own/eegData/moralSelfEEG2015/Analysis_Py/Exp1/RawData/eeg/sub17/sub17_Moral_asso_6.vhdr...\n",
      "Setting channel info structure...\n"
     ]
    },
    {
     "name": "stderr",
     "output_type": "stream",
     "text": [
      "/tmp/ipykernel_929370/15992950.py:38: RuntimeWarning: Omitted 60 annotation(s) that were outside data range.\n",
      "  cur_raw.set_annotations(annotations_new)\n",
      "/tmp/ipykernel_929370/15992950.py:38: RuntimeWarning: Limited 1 annotation(s) that were expanding outside the data range.\n",
      "  cur_raw.set_annotations(annotations_new)\n"
     ]
    },
    {
     "name": "stdout",
     "output_type": "stream",
     "text": [
      "working on subj:  6117 block_id:  7\n",
      "Extracting parameters from /media/hcp4715/RAID32T/Data_own/eegData/moralSelfEEG2015/Analysis_Py/Exp1/RawData/eeg/sub17/sub17_Moral_asso_7.vhdr...\n",
      "Setting channel info structure...\n",
      "working on subj:  6117 block_id:  8\n",
      "Extracting parameters from /media/hcp4715/RAID32T/Data_own/eegData/moralSelfEEG2015/Analysis_Py/Exp1/RawData/eeg/sub17/sub17_Moral_asso_8.vhdr...\n",
      "Setting channel info structure...\n"
     ]
    },
    {
     "name": "stderr",
     "output_type": "stream",
     "text": [
      "/tmp/ipykernel_929370/15992950.py:38: RuntimeWarning: Omitted 68 annotation(s) that were outside data range.\n",
      "  cur_raw.set_annotations(annotations_new)\n"
     ]
    },
    {
     "name": "stdout",
     "output_type": "stream",
     "text": [
      "working on subj:  6117 block_id:  9\n",
      "Extracting parameters from /media/hcp4715/RAID32T/Data_own/eegData/moralSelfEEG2015/Analysis_Py/Exp1/RawData/eeg/sub17/sub17_Moral_asso_9.vhdr...\n",
      "Setting channel info structure...\n"
     ]
    },
    {
     "name": "stderr",
     "output_type": "stream",
     "text": [
      "/tmp/ipykernel_929370/15992950.py:38: RuntimeWarning: Omitted 78 annotation(s) that were outside data range.\n",
      "  cur_raw.set_annotations(annotations_new)\n"
     ]
    },
    {
     "name": "stdout",
     "output_type": "stream",
     "text": [
      "Writing /media/hcp4715/RAID32T/Data_own/eegData/moralSelfEEG2015/Analysis_Py/Exp1/raw_fif_new/6117_raw.fif\n",
      "Closing /media/hcp4715/RAID32T/Data_own/eegData/moralSelfEEG2015/Analysis_Py/Exp1/raw_fif_new/6117_raw.fif\n",
      "[done]\n",
      "working on subj:  6118 block_id:  1\n",
      "Extracting parameters from /media/hcp4715/RAID32T/Data_own/eegData/moralSelfEEG2015/Analysis_Py/Exp1/RawData/eeg/sub18/sub18_Moral_asso_1.vhdr...\n",
      "Setting channel info structure...\n",
      "working on subj:  6118 block_id:  2\n",
      "Extracting parameters from /media/hcp4715/RAID32T/Data_own/eegData/moralSelfEEG2015/Analysis_Py/Exp1/RawData/eeg/sub18/sub18_Moral_asso_2.vhdr...\n",
      "Setting channel info structure...\n",
      "working on subj:  6118 block_id:  3\n",
      "Extracting parameters from /media/hcp4715/RAID32T/Data_own/eegData/moralSelfEEG2015/Analysis_Py/Exp1/RawData/eeg/sub18/sub18_Moral_asso_3.vhdr...\n",
      "Setting channel info structure...\n",
      "working on subj:  6118 block_id:  4\n",
      "Extracting parameters from /media/hcp4715/RAID32T/Data_own/eegData/moralSelfEEG2015/Analysis_Py/Exp1/RawData/eeg/sub18/sub18_Moral_asso_4.vhdr...\n",
      "Setting channel info structure...\n",
      "working on subj:  6118 block_id:  5\n",
      "Extracting parameters from /media/hcp4715/RAID32T/Data_own/eegData/moralSelfEEG2015/Analysis_Py/Exp1/RawData/eeg/sub18/sub18_Moral_asso_5.vhdr...\n",
      "Setting channel info structure...\n",
      "working on subj:  6118 block_id:  6\n",
      "Extracting parameters from /media/hcp4715/RAID32T/Data_own/eegData/moralSelfEEG2015/Analysis_Py/Exp1/RawData/eeg/sub18/sub18_Moral_asso_6.vhdr...\n",
      "Setting channel info structure...\n",
      "working on subj:  6118 block_id:  7\n",
      "Extracting parameters from /media/hcp4715/RAID32T/Data_own/eegData/moralSelfEEG2015/Analysis_Py/Exp1/RawData/eeg/sub18/sub18_Moral_asso_7.vhdr...\n",
      "Setting channel info structure...\n",
      "working on subj:  6118 block_id:  8\n",
      "Extracting parameters from /media/hcp4715/RAID32T/Data_own/eegData/moralSelfEEG2015/Analysis_Py/Exp1/RawData/eeg/sub18/sub18_Moral_asso_8.vhdr...\n",
      "Setting channel info structure...\n",
      "working on subj:  6118 block_id:  9\n",
      "Extracting parameters from /media/hcp4715/RAID32T/Data_own/eegData/moralSelfEEG2015/Analysis_Py/Exp1/RawData/eeg/sub18/sub18_Moral_asso_9.vhdr...\n",
      "Setting channel info structure...\n",
      "Writing /media/hcp4715/RAID32T/Data_own/eegData/moralSelfEEG2015/Analysis_Py/Exp1/raw_fif_new/6118_raw.fif\n",
      "Closing /media/hcp4715/RAID32T/Data_own/eegData/moralSelfEEG2015/Analysis_Py/Exp1/raw_fif_new/6118_raw.fif\n",
      "[done]\n",
      "working on subj:  6120 block_id:  1\n",
      "Extracting parameters from /media/hcp4715/RAID32T/Data_own/eegData/moralSelfEEG2015/Analysis_Py/Exp1/RawData/eeg/sub20/sub20_Moral_asso_1.vhdr...\n",
      "Setting channel info structure...\n",
      "working on subj:  6120 block_id:  2\n",
      "Extracting parameters from /media/hcp4715/RAID32T/Data_own/eegData/moralSelfEEG2015/Analysis_Py/Exp1/RawData/eeg/sub20/sub20_Moral_asso_2.vhdr...\n",
      "Setting channel info structure...\n",
      "working on subj:  6120 block_id:  3\n",
      "Extracting parameters from /media/hcp4715/RAID32T/Data_own/eegData/moralSelfEEG2015/Analysis_Py/Exp1/RawData/eeg/sub20/sub20_Moral_asso_3.vhdr...\n",
      "Setting channel info structure...\n",
      "working on subj:  6120 block_id:  4\n",
      "Extracting parameters from /media/hcp4715/RAID32T/Data_own/eegData/moralSelfEEG2015/Analysis_Py/Exp1/RawData/eeg/sub20/sub20_Moral_asso_4.vhdr...\n",
      "Setting channel info structure...\n"
     ]
    },
    {
     "name": "stderr",
     "output_type": "stream",
     "text": [
      "/tmp/ipykernel_929370/15992950.py:38: RuntimeWarning: Omitted 14 annotation(s) that were outside data range.\n",
      "  cur_raw.set_annotations(annotations_new)\n"
     ]
    },
    {
     "name": "stdout",
     "output_type": "stream",
     "text": [
      "working on subj:  6120 block_id:  5\n",
      "Extracting parameters from /media/hcp4715/RAID32T/Data_own/eegData/moralSelfEEG2015/Analysis_Py/Exp1/RawData/eeg/sub20/sub20_Moral_asso_5.vhdr...\n",
      "Setting channel info structure...\n",
      "working on subj:  6120 block_id:  6\n",
      "Extracting parameters from /media/hcp4715/RAID32T/Data_own/eegData/moralSelfEEG2015/Analysis_Py/Exp1/RawData/eeg/sub20/sub20_Moral_asso_6.vhdr...\n",
      "Setting channel info structure...\n"
     ]
    },
    {
     "name": "stderr",
     "output_type": "stream",
     "text": [
      "/tmp/ipykernel_929370/15992950.py:38: RuntimeWarning: Omitted 66 annotation(s) that were outside data range.\n",
      "  cur_raw.set_annotations(annotations_new)\n",
      "/tmp/ipykernel_929370/15992950.py:38: RuntimeWarning: Limited 1 annotation(s) that were expanding outside the data range.\n",
      "  cur_raw.set_annotations(annotations_new)\n"
     ]
    },
    {
     "name": "stdout",
     "output_type": "stream",
     "text": [
      "working on subj:  6120 block_id:  7\n",
      "Extracting parameters from /media/hcp4715/RAID32T/Data_own/eegData/moralSelfEEG2015/Analysis_Py/Exp1/RawData/eeg/sub20/sub20_Moral_asso_7.vhdr...\n",
      "Setting channel info structure...\n"
     ]
    },
    {
     "name": "stderr",
     "output_type": "stream",
     "text": [
      "/tmp/ipykernel_929370/15992950.py:38: RuntimeWarning: Omitted 13 annotation(s) that were outside data range.\n",
      "  cur_raw.set_annotations(annotations_new)\n"
     ]
    },
    {
     "name": "stdout",
     "output_type": "stream",
     "text": [
      "working on subj:  6120 block_id:  8\n",
      "Extracting parameters from /media/hcp4715/RAID32T/Data_own/eegData/moralSelfEEG2015/Analysis_Py/Exp1/RawData/eeg/sub20/sub20_Moral_asso_8.vhdr...\n",
      "Setting channel info structure...\n",
      "working on subj:  6120 block_id:  9\n",
      "Extracting parameters from /media/hcp4715/RAID32T/Data_own/eegData/moralSelfEEG2015/Analysis_Py/Exp1/RawData/eeg/sub20/sub20_Moral_asso_9.vhdr...\n",
      "Setting channel info structure...\n"
     ]
    },
    {
     "name": "stderr",
     "output_type": "stream",
     "text": [
      "/tmp/ipykernel_929370/15992950.py:38: RuntimeWarning: Omitted 24 annotation(s) that were outside data range.\n",
      "  cur_raw.set_annotations(annotations_new)\n"
     ]
    },
    {
     "name": "stdout",
     "output_type": "stream",
     "text": [
      "Writing /media/hcp4715/RAID32T/Data_own/eegData/moralSelfEEG2015/Analysis_Py/Exp1/raw_fif_new/6120_raw.fif\n",
      "Closing /media/hcp4715/RAID32T/Data_own/eegData/moralSelfEEG2015/Analysis_Py/Exp1/raw_fif_new/6120_raw.fif\n",
      "[done]\n",
      "working on subj:  6121 block_id:  1\n",
      "Extracting parameters from /media/hcp4715/RAID32T/Data_own/eegData/moralSelfEEG2015/Analysis_Py/Exp1/RawData/eeg/sub21/sub21_Moral_asso_1.vhdr...\n",
      "Setting channel info structure...\n",
      "working on subj:  6121 block_id:  2\n",
      "Extracting parameters from /media/hcp4715/RAID32T/Data_own/eegData/moralSelfEEG2015/Analysis_Py/Exp1/RawData/eeg/sub21/sub21_Moral_asso_2.vhdr...\n",
      "Setting channel info structure...\n",
      "working on subj:  6121 block_id:  3\n",
      "Extracting parameters from /media/hcp4715/RAID32T/Data_own/eegData/moralSelfEEG2015/Analysis_Py/Exp1/RawData/eeg/sub21/sub21_Moral_asso_3.vhdr...\n",
      "Setting channel info structure...\n"
     ]
    },
    {
     "name": "stderr",
     "output_type": "stream",
     "text": [
      "/tmp/ipykernel_929370/15992950.py:38: RuntimeWarning: Omitted 6 annotation(s) that were outside data range.\n",
      "  cur_raw.set_annotations(annotations_new)\n",
      "/tmp/ipykernel_929370/15992950.py:38: RuntimeWarning: Omitted 9 annotation(s) that were outside data range.\n",
      "  cur_raw.set_annotations(annotations_new)\n"
     ]
    },
    {
     "name": "stdout",
     "output_type": "stream",
     "text": [
      "working on subj:  6121 block_id:  4\n",
      "Extracting parameters from /media/hcp4715/RAID32T/Data_own/eegData/moralSelfEEG2015/Analysis_Py/Exp1/RawData/eeg/sub21/sub21_Moral_asso_4.vhdr...\n",
      "Setting channel info structure...\n",
      "working on subj:  6121 block_id:  5\n",
      "Extracting parameters from /media/hcp4715/RAID32T/Data_own/eegData/moralSelfEEG2015/Analysis_Py/Exp1/RawData/eeg/sub21/sub21_Moral_asso_5.vhdr...\n",
      "Setting channel info structure...\n"
     ]
    },
    {
     "name": "stderr",
     "output_type": "stream",
     "text": [
      "/tmp/ipykernel_929370/15992950.py:38: RuntimeWarning: Omitted 6 annotation(s) that were outside data range.\n",
      "  cur_raw.set_annotations(annotations_new)\n",
      "/tmp/ipykernel_929370/15992950.py:38: RuntimeWarning: Omitted 7 annotation(s) that were outside data range.\n",
      "  cur_raw.set_annotations(annotations_new)\n"
     ]
    },
    {
     "name": "stdout",
     "output_type": "stream",
     "text": [
      "working on subj:  6121 block_id:  6\n",
      "Extracting parameters from /media/hcp4715/RAID32T/Data_own/eegData/moralSelfEEG2015/Analysis_Py/Exp1/RawData/eeg/sub21/sub21_Moral_asso_6.vhdr...\n",
      "Setting channel info structure...\n",
      "working on subj:  6121 block_id:  7\n",
      "Extracting parameters from /media/hcp4715/RAID32T/Data_own/eegData/moralSelfEEG2015/Analysis_Py/Exp1/RawData/eeg/sub21/sub21_Moral_asso_7.vhdr...\n",
      "Setting channel info structure...\n"
     ]
    },
    {
     "name": "stderr",
     "output_type": "stream",
     "text": [
      "/tmp/ipykernel_929370/15992950.py:38: RuntimeWarning: Omitted 7 annotation(s) that were outside data range.\n",
      "  cur_raw.set_annotations(annotations_new)\n"
     ]
    },
    {
     "name": "stdout",
     "output_type": "stream",
     "text": [
      "working on subj:  6121 block_id:  8\n",
      "Extracting parameters from /media/hcp4715/RAID32T/Data_own/eegData/moralSelfEEG2015/Analysis_Py/Exp1/RawData/eeg/sub21/sub21_Moral_asso_8.vhdr...\n",
      "Setting channel info structure...\n",
      "working on subj:  6121 block_id:  9\n",
      "Extracting parameters from /media/hcp4715/RAID32T/Data_own/eegData/moralSelfEEG2015/Analysis_Py/Exp1/RawData/eeg/sub21/sub21_Moral_asso_9.vhdr...\n",
      "Setting channel info structure...\n"
     ]
    },
    {
     "name": "stderr",
     "output_type": "stream",
     "text": [
      "/tmp/ipykernel_929370/15992950.py:38: RuntimeWarning: Omitted 9 annotation(s) that were outside data range.\n",
      "  cur_raw.set_annotations(annotations_new)\n"
     ]
    },
    {
     "name": "stdout",
     "output_type": "stream",
     "text": [
      "Writing /media/hcp4715/RAID32T/Data_own/eegData/moralSelfEEG2015/Analysis_Py/Exp1/raw_fif_new/6121_raw.fif\n",
      "Closing /media/hcp4715/RAID32T/Data_own/eegData/moralSelfEEG2015/Analysis_Py/Exp1/raw_fif_new/6121_raw.fif\n",
      "[done]\n",
      "working on subj:  6122 block_id:  1\n",
      "Extracting parameters from /media/hcp4715/RAID32T/Data_own/eegData/moralSelfEEG2015/Analysis_Py/Exp1/RawData/eeg/sub22/sub22_Moral_asso_1.vhdr...\n",
      "Setting channel info structure...\n",
      "working on subj:  6122 block_id:  2\n",
      "Extracting parameters from /media/hcp4715/RAID32T/Data_own/eegData/moralSelfEEG2015/Analysis_Py/Exp1/RawData/eeg/sub22/sub22_Moral_asso_2.vhdr...\n",
      "Setting channel info structure...\n",
      "working on subj:  6122 block_id:  3\n",
      "Extracting parameters from /media/hcp4715/RAID32T/Data_own/eegData/moralSelfEEG2015/Analysis_Py/Exp1/RawData/eeg/sub22/sub22_Moral_asso_3.vhdr...\n",
      "Setting channel info structure...\n",
      "working on subj:  6122 block_id:  4\n",
      "Extracting parameters from /media/hcp4715/RAID32T/Data_own/eegData/moralSelfEEG2015/Analysis_Py/Exp1/RawData/eeg/sub22/sub22_Moral_asso_4.vhdr...\n",
      "Setting channel info structure...\n",
      "working on subj:  6122 block_id:  5\n",
      "Extracting parameters from /media/hcp4715/RAID32T/Data_own/eegData/moralSelfEEG2015/Analysis_Py/Exp1/RawData/eeg/sub22/sub22_Moral_asso_5.vhdr...\n",
      "Setting channel info structure...\n",
      "working on subj:  6122 block_id:  6\n",
      "Extracting parameters from /media/hcp4715/RAID32T/Data_own/eegData/moralSelfEEG2015/Analysis_Py/Exp1/RawData/eeg/sub22/sub22_Moral_asso_6.vhdr...\n",
      "Setting channel info structure...\n",
      "working on subj:  6122 block_id:  7\n",
      "Extracting parameters from /media/hcp4715/RAID32T/Data_own/eegData/moralSelfEEG2015/Analysis_Py/Exp1/RawData/eeg/sub22/sub22_Moral_asso_7.vhdr...\n",
      "Setting channel info structure...\n",
      "working on subj:  6122 block_id:  8\n",
      "Extracting parameters from /media/hcp4715/RAID32T/Data_own/eegData/moralSelfEEG2015/Analysis_Py/Exp1/RawData/eeg/sub22/sub22_Moral_asso_8.vhdr...\n",
      "Setting channel info structure...\n",
      "working on subj:  6122 block_id:  9\n",
      "Extracting parameters from /media/hcp4715/RAID32T/Data_own/eegData/moralSelfEEG2015/Analysis_Py/Exp1/RawData/eeg/sub22/sub22_Moral_asso_9.vhdr...\n",
      "Setting channel info structure...\n",
      "Writing /media/hcp4715/RAID32T/Data_own/eegData/moralSelfEEG2015/Analysis_Py/Exp1/raw_fif_new/6122_raw.fif\n",
      "Closing /media/hcp4715/RAID32T/Data_own/eegData/moralSelfEEG2015/Analysis_Py/Exp1/raw_fif_new/6122_raw.fif\n",
      "[done]\n",
      "working on subj:  6123 block_id:  1\n",
      "Extracting parameters from /media/hcp4715/RAID32T/Data_own/eegData/moralSelfEEG2015/Analysis_Py/Exp1/RawData/eeg/sub23/sub23_Moral_asso_1.vhdr...\n",
      "Setting channel info structure...\n",
      "working on subj:  6123 block_id:  10\n",
      "Extracting parameters from /media/hcp4715/RAID32T/Data_own/eegData/moralSelfEEG2015/Analysis_Py/Exp1/RawData/eeg/sub23/sub23_Moral_asso_10.vhdr...\n",
      "Setting channel info structure...\n",
      "working on subj:  6123 block_id:  2\n",
      "Extracting parameters from /media/hcp4715/RAID32T/Data_own/eegData/moralSelfEEG2015/Analysis_Py/Exp1/RawData/eeg/sub23/sub23_Moral_asso_2.vhdr...\n",
      "Setting channel info structure...\n"
     ]
    },
    {
     "name": "stderr",
     "output_type": "stream",
     "text": [
      "/tmp/ipykernel_929370/15992950.py:38: RuntimeWarning: Omitted 7 annotation(s) that were outside data range.\n",
      "  cur_raw.set_annotations(annotations_new)\n",
      "/tmp/ipykernel_929370/15992950.py:38: RuntimeWarning: Omitted 3 annotation(s) that were outside data range.\n",
      "  cur_raw.set_annotations(annotations_new)\n",
      "/tmp/ipykernel_929370/15992950.py:38: RuntimeWarning: Omitted 7 annotation(s) that were outside data range.\n",
      "  cur_raw.set_annotations(annotations_new)\n",
      "/tmp/ipykernel_929370/15992950.py:38: RuntimeWarning: Limited 1 annotation(s) that were expanding outside the data range.\n",
      "  cur_raw.set_annotations(annotations_new)\n"
     ]
    },
    {
     "name": "stdout",
     "output_type": "stream",
     "text": [
      "working on subj:  6123 block_id:  3\n",
      "Extracting parameters from /media/hcp4715/RAID32T/Data_own/eegData/moralSelfEEG2015/Analysis_Py/Exp1/RawData/eeg/sub23/sub23_Moral_asso_3.vhdr...\n",
      "Setting channel info structure...\n",
      "working on subj:  6123 block_id:  4\n",
      "Extracting parameters from /media/hcp4715/RAID32T/Data_own/eegData/moralSelfEEG2015/Analysis_Py/Exp1/RawData/eeg/sub23/sub23_Moral_asso_4.vhdr...\n",
      "Setting channel info structure...\n",
      "working on subj:  6123 block_id:  5\n",
      "Extracting parameters from /media/hcp4715/RAID32T/Data_own/eegData/moralSelfEEG2015/Analysis_Py/Exp1/RawData/eeg/sub23/sub23_Moral_asso_5.vhdr...\n",
      "Setting channel info structure...\n"
     ]
    },
    {
     "name": "stderr",
     "output_type": "stream",
     "text": [
      "/tmp/ipykernel_929370/15992950.py:38: RuntimeWarning: Omitted 7 annotation(s) that were outside data range.\n",
      "  cur_raw.set_annotations(annotations_new)\n",
      "/tmp/ipykernel_929370/15992950.py:38: RuntimeWarning: Omitted 5 annotation(s) that were outside data range.\n",
      "  cur_raw.set_annotations(annotations_new)\n"
     ]
    },
    {
     "name": "stdout",
     "output_type": "stream",
     "text": [
      "working on subj:  6123 block_id:  6\n",
      "Extracting parameters from /media/hcp4715/RAID32T/Data_own/eegData/moralSelfEEG2015/Analysis_Py/Exp1/RawData/eeg/sub23/sub23_Moral_asso_6.vhdr...\n",
      "Setting channel info structure...\n"
     ]
    },
    {
     "name": "stderr",
     "output_type": "stream",
     "text": [
      "/tmp/ipykernel_929370/15992950.py:38: RuntimeWarning: Omitted 7 annotation(s) that were outside data range.\n",
      "  cur_raw.set_annotations(annotations_new)\n"
     ]
    },
    {
     "name": "stdout",
     "output_type": "stream",
     "text": [
      "working on subj:  6123 block_id:  7\n",
      "Extracting parameters from /media/hcp4715/RAID32T/Data_own/eegData/moralSelfEEG2015/Analysis_Py/Exp1/RawData/eeg/sub23/sub23_Moral_asso_7.vhdr...\n",
      "Setting channel info structure...\n"
     ]
    },
    {
     "name": "stderr",
     "output_type": "stream",
     "text": [
      "/tmp/ipykernel_929370/15992950.py:38: RuntimeWarning: Omitted 3 annotation(s) that were outside data range.\n",
      "  cur_raw.set_annotations(annotations_new)\n",
      "/tmp/ipykernel_929370/15992950.py:38: RuntimeWarning: Limited 1 annotation(s) that were expanding outside the data range.\n",
      "  cur_raw.set_annotations(annotations_new)\n"
     ]
    },
    {
     "name": "stdout",
     "output_type": "stream",
     "text": [
      "working on subj:  6123 block_id:  8\n",
      "Extracting parameters from /media/hcp4715/RAID32T/Data_own/eegData/moralSelfEEG2015/Analysis_Py/Exp1/RawData/eeg/sub23/sub23_Moral_asso_8.vhdr...\n",
      "Setting channel info structure...\n"
     ]
    },
    {
     "name": "stderr",
     "output_type": "stream",
     "text": [
      "/tmp/ipykernel_929370/15992950.py:38: RuntimeWarning: Omitted 10 annotation(s) that were outside data range.\n",
      "  cur_raw.set_annotations(annotations_new)\n"
     ]
    },
    {
     "name": "stdout",
     "output_type": "stream",
     "text": [
      "working on subj:  6123 block_id:  9\n",
      "Extracting parameters from /media/hcp4715/RAID32T/Data_own/eegData/moralSelfEEG2015/Analysis_Py/Exp1/RawData/eeg/sub23/sub23_Moral_asso_9.vhdr...\n",
      "Setting channel info structure...\n",
      "Writing /media/hcp4715/RAID32T/Data_own/eegData/moralSelfEEG2015/Analysis_Py/Exp1/raw_fif_new/6123_raw.fif\n",
      "Closing /media/hcp4715/RAID32T/Data_own/eegData/moralSelfEEG2015/Analysis_Py/Exp1/raw_fif_new/6123_raw.fif\n",
      "[done]\n",
      "working on subj:  6125 block_id:  1\n",
      "Extracting parameters from /media/hcp4715/RAID32T/Data_own/eegData/moralSelfEEG2015/Analysis_Py/Exp1/RawData/eeg/sub25/sub25_Moral_asso_1.vhdr...\n",
      "Setting channel info structure...\n",
      "working on subj:  6125 block_id:  2\n",
      "Extracting parameters from /media/hcp4715/RAID32T/Data_own/eegData/moralSelfEEG2015/Analysis_Py/Exp1/RawData/eeg/sub25/sub25_Moral_asso_2.vhdr...\n",
      "Setting channel info structure...\n",
      "working on subj:  6125 block_id:  3\n",
      "Extracting parameters from /media/hcp4715/RAID32T/Data_own/eegData/moralSelfEEG2015/Analysis_Py/Exp1/RawData/eeg/sub25/sub25_Moral_asso_3.vhdr...\n",
      "Setting channel info structure...\n"
     ]
    },
    {
     "name": "stderr",
     "output_type": "stream",
     "text": [
      "/tmp/ipykernel_929370/15992950.py:38: RuntimeWarning: Omitted 2 annotation(s) that were outside data range.\n",
      "  cur_raw.set_annotations(annotations_new)\n",
      "/tmp/ipykernel_929370/15992950.py:38: RuntimeWarning: Limited 1 annotation(s) that were expanding outside the data range.\n",
      "  cur_raw.set_annotations(annotations_new)\n"
     ]
    },
    {
     "name": "stdout",
     "output_type": "stream",
     "text": [
      "working on subj:  6125 block_id:  4\n",
      "Extracting parameters from /media/hcp4715/RAID32T/Data_own/eegData/moralSelfEEG2015/Analysis_Py/Exp1/RawData/eeg/sub25/sub25_Moral_asso_4.vhdr...\n",
      "Setting channel info structure...\n",
      "working on subj:  6125 block_id:  5\n",
      "Extracting parameters from /media/hcp4715/RAID32T/Data_own/eegData/moralSelfEEG2015/Analysis_Py/Exp1/RawData/eeg/sub25/sub25_Moral_asso_5.vhdr...\n",
      "Setting channel info structure...\n",
      "working on subj:  6125 block_id:  6\n",
      "Extracting parameters from /media/hcp4715/RAID32T/Data_own/eegData/moralSelfEEG2015/Analysis_Py/Exp1/RawData/eeg/sub25/sub25_Moral_asso_6.vhdr...\n",
      "Setting channel info structure...\n"
     ]
    },
    {
     "name": "stderr",
     "output_type": "stream",
     "text": [
      "/tmp/ipykernel_929370/15992950.py:38: RuntimeWarning: Omitted 7 annotation(s) that were outside data range.\n",
      "  cur_raw.set_annotations(annotations_new)\n"
     ]
    },
    {
     "name": "stdout",
     "output_type": "stream",
     "text": [
      "working on subj:  6125 block_id:  7\n",
      "Extracting parameters from /media/hcp4715/RAID32T/Data_own/eegData/moralSelfEEG2015/Analysis_Py/Exp1/RawData/eeg/sub25/sub25_Moral_asso_7.vhdr...\n",
      "Setting channel info structure...\n"
     ]
    },
    {
     "name": "stderr",
     "output_type": "stream",
     "text": [
      "/tmp/ipykernel_929370/15992950.py:38: RuntimeWarning: Omitted 2 annotation(s) that were outside data range.\n",
      "  cur_raw.set_annotations(annotations_new)\n",
      "/tmp/ipykernel_929370/15992950.py:38: RuntimeWarning: Omitted 3 annotation(s) that were outside data range.\n",
      "  cur_raw.set_annotations(annotations_new)\n"
     ]
    },
    {
     "name": "stdout",
     "output_type": "stream",
     "text": [
      "working on subj:  6125 block_id:  8\n",
      "Extracting parameters from /media/hcp4715/RAID32T/Data_own/eegData/moralSelfEEG2015/Analysis_Py/Exp1/RawData/eeg/sub25/sub25_Moral_asso_8.vhdr...\n",
      "Setting channel info structure...\n"
     ]
    },
    {
     "name": "stderr",
     "output_type": "stream",
     "text": [
      "/tmp/ipykernel_929370/15992950.py:38: RuntimeWarning: Omitted 3 annotation(s) that were outside data range.\n",
      "  cur_raw.set_annotations(annotations_new)\n"
     ]
    },
    {
     "name": "stdout",
     "output_type": "stream",
     "text": [
      "working on subj:  6125 block_id:  9\n",
      "Extracting parameters from /media/hcp4715/RAID32T/Data_own/eegData/moralSelfEEG2015/Analysis_Py/Exp1/RawData/eeg/sub25/sub25_Moral_asso_9.vhdr...\n",
      "Setting channel info structure...\n",
      "Writing /media/hcp4715/RAID32T/Data_own/eegData/moralSelfEEG2015/Analysis_Py/Exp1/raw_fif_new/6125_raw.fif\n",
      "Closing /media/hcp4715/RAID32T/Data_own/eegData/moralSelfEEG2015/Analysis_Py/Exp1/raw_fif_new/6125_raw.fif\n",
      "[done]\n",
      "working on subj:  6126 block_id:  1\n",
      "Extracting parameters from /media/hcp4715/RAID32T/Data_own/eegData/moralSelfEEG2015/Analysis_Py/Exp1/RawData/eeg/sub26/sub26_Moral_asso_1.vhdr...\n",
      "Setting channel info structure...\n",
      "working on subj:  6126 block_id:  2\n",
      "Extracting parameters from /media/hcp4715/RAID32T/Data_own/eegData/moralSelfEEG2015/Analysis_Py/Exp1/RawData/eeg/sub26/sub26_Moral_asso_2.vhdr...\n",
      "Setting channel info structure...\n",
      "working on subj:  6126 block_id:  3\n",
      "Extracting parameters from /media/hcp4715/RAID32T/Data_own/eegData/moralSelfEEG2015/Analysis_Py/Exp1/RawData/eeg/sub26/sub26_Moral_asso_3.vhdr...\n",
      "Setting channel info structure...\n",
      "working on subj:  6126 block_id:  4\n",
      "Extracting parameters from /media/hcp4715/RAID32T/Data_own/eegData/moralSelfEEG2015/Analysis_Py/Exp1/RawData/eeg/sub26/sub26_Moral_asso_4.vhdr...\n",
      "Setting channel info structure...\n",
      "working on subj:  6126 block_id:  5\n",
      "Extracting parameters from /media/hcp4715/RAID32T/Data_own/eegData/moralSelfEEG2015/Analysis_Py/Exp1/RawData/eeg/sub26/sub26_Moral_asso_5.vhdr...\n",
      "Setting channel info structure...\n",
      "working on subj:  6126 block_id:  6\n",
      "Extracting parameters from /media/hcp4715/RAID32T/Data_own/eegData/moralSelfEEG2015/Analysis_Py/Exp1/RawData/eeg/sub26/sub26_Moral_asso_6.vhdr...\n",
      "Setting channel info structure...\n",
      "working on subj:  6126 block_id:  7\n",
      "Extracting parameters from /media/hcp4715/RAID32T/Data_own/eegData/moralSelfEEG2015/Analysis_Py/Exp1/RawData/eeg/sub26/sub26_Moral_asso_7.vhdr...\n",
      "Setting channel info structure...\n"
     ]
    },
    {
     "name": "stderr",
     "output_type": "stream",
     "text": [
      "/tmp/ipykernel_929370/15992950.py:38: RuntimeWarning: Omitted 2 annotation(s) that were outside data range.\n",
      "  cur_raw.set_annotations(annotations_new)\n"
     ]
    },
    {
     "name": "stdout",
     "output_type": "stream",
     "text": [
      "working on subj:  6126 block_id:  8\n",
      "Extracting parameters from /media/hcp4715/RAID32T/Data_own/eegData/moralSelfEEG2015/Analysis_Py/Exp1/RawData/eeg/sub26/sub26_Moral_asso_8.vhdr...\n",
      "Setting channel info structure...\n"
     ]
    },
    {
     "name": "stderr",
     "output_type": "stream",
     "text": [
      "/tmp/ipykernel_929370/15992950.py:38: RuntimeWarning: Omitted 2 annotation(s) that were outside data range.\n",
      "  cur_raw.set_annotations(annotations_new)\n"
     ]
    },
    {
     "name": "stdout",
     "output_type": "stream",
     "text": [
      "working on subj:  6126 block_id:  9\n",
      "Extracting parameters from /media/hcp4715/RAID32T/Data_own/eegData/moralSelfEEG2015/Analysis_Py/Exp1/RawData/eeg/sub26/sub26_Moral_asso_9.vhdr...\n",
      "Setting channel info structure...\n"
     ]
    },
    {
     "name": "stderr",
     "output_type": "stream",
     "text": [
      "/tmp/ipykernel_929370/15992950.py:38: RuntimeWarning: Omitted 5 annotation(s) that were outside data range.\n",
      "  cur_raw.set_annotations(annotations_new)\n"
     ]
    },
    {
     "name": "stdout",
     "output_type": "stream",
     "text": [
      "Writing /media/hcp4715/RAID32T/Data_own/eegData/moralSelfEEG2015/Analysis_Py/Exp1/raw_fif_new/6126_raw.fif\n",
      "Closing /media/hcp4715/RAID32T/Data_own/eegData/moralSelfEEG2015/Analysis_Py/Exp1/raw_fif_new/6126_raw.fif\n",
      "[done]\n",
      "working on subj:  6127 block_id:  1\n",
      "Extracting parameters from /media/hcp4715/RAID32T/Data_own/eegData/moralSelfEEG2015/Analysis_Py/Exp1/RawData/eeg/sub27/sub27_Moral_asso_1.vhdr...\n",
      "Setting channel info structure...\n",
      "working on subj:  6127 block_id:  2\n",
      "Extracting parameters from /media/hcp4715/RAID32T/Data_own/eegData/moralSelfEEG2015/Analysis_Py/Exp1/RawData/eeg/sub27/sub27_Moral_asso_2.vhdr...\n",
      "Setting channel info structure...\n",
      "working on subj:  6127 block_id:  3\n",
      "Extracting parameters from /media/hcp4715/RAID32T/Data_own/eegData/moralSelfEEG2015/Analysis_Py/Exp1/RawData/eeg/sub27/sub27_Moral_asso_3.vhdr...\n",
      "Setting channel info structure...\n",
      "working on subj:  6127 block_id:  4\n",
      "Extracting parameters from /media/hcp4715/RAID32T/Data_own/eegData/moralSelfEEG2015/Analysis_Py/Exp1/RawData/eeg/sub27/sub27_Moral_asso_4.vhdr...\n",
      "Setting channel info structure...\n",
      "working on subj:  6127 block_id:  5\n",
      "Extracting parameters from /media/hcp4715/RAID32T/Data_own/eegData/moralSelfEEG2015/Analysis_Py/Exp1/RawData/eeg/sub27/sub27_Moral_asso_5.vhdr...\n",
      "Setting channel info structure...\n",
      "working on subj:  6127 block_id:  6\n",
      "Extracting parameters from /media/hcp4715/RAID32T/Data_own/eegData/moralSelfEEG2015/Analysis_Py/Exp1/RawData/eeg/sub27/sub27_Moral_asso_6.vhdr...\n",
      "Setting channel info structure...\n",
      "working on subj:  6127 block_id:  7\n",
      "Extracting parameters from /media/hcp4715/RAID32T/Data_own/eegData/moralSelfEEG2015/Analysis_Py/Exp1/RawData/eeg/sub27/sub27_Moral_asso_7.vhdr...\n",
      "Setting channel info structure...\n",
      "working on subj:  6127 block_id:  8\n",
      "Extracting parameters from /media/hcp4715/RAID32T/Data_own/eegData/moralSelfEEG2015/Analysis_Py/Exp1/RawData/eeg/sub27/sub27_Moral_asso_8.vhdr...\n",
      "Setting channel info structure...\n",
      "working on subj:  6127 block_id:  9\n",
      "Extracting parameters from /media/hcp4715/RAID32T/Data_own/eegData/moralSelfEEG2015/Analysis_Py/Exp1/RawData/eeg/sub27/sub27_Moral_asso_9.vhdr...\n",
      "Setting channel info structure...\n",
      "Writing /media/hcp4715/RAID32T/Data_own/eegData/moralSelfEEG2015/Analysis_Py/Exp1/raw_fif_new/6127_raw.fif\n",
      "Closing /media/hcp4715/RAID32T/Data_own/eegData/moralSelfEEG2015/Analysis_Py/Exp1/raw_fif_new/6127_raw.fif\n",
      "[done]\n",
      "working on subj:  6128 block_id:  1\n",
      "Extracting parameters from /media/hcp4715/RAID32T/Data_own/eegData/moralSelfEEG2015/Analysis_Py/Exp1/RawData/eeg/sub28/sub28_Moral_asso_1.vhdr...\n",
      "Setting channel info structure...\n",
      "working on subj:  6128 block_id:  2\n",
      "Extracting parameters from /media/hcp4715/RAID32T/Data_own/eegData/moralSelfEEG2015/Analysis_Py/Exp1/RawData/eeg/sub28/sub28_Moral_asso_2.vhdr...\n",
      "Setting channel info structure...\n",
      "working on subj:  6128 block_id:  3\n",
      "Extracting parameters from /media/hcp4715/RAID32T/Data_own/eegData/moralSelfEEG2015/Analysis_Py/Exp1/RawData/eeg/sub28/sub28_Moral_asso_3.vhdr...\n",
      "Setting channel info structure...\n",
      "working on subj:  6128 block_id:  4\n",
      "Extracting parameters from /media/hcp4715/RAID32T/Data_own/eegData/moralSelfEEG2015/Analysis_Py/Exp1/RawData/eeg/sub28/sub28_Moral_asso_4.vhdr...\n",
      "Setting channel info structure...\n"
     ]
    },
    {
     "name": "stderr",
     "output_type": "stream",
     "text": [
      "/tmp/ipykernel_929370/15992950.py:38: RuntimeWarning: Omitted 17 annotation(s) that were outside data range.\n",
      "  cur_raw.set_annotations(annotations_new)\n",
      "/tmp/ipykernel_929370/15992950.py:38: RuntimeWarning: Limited 1 annotation(s) that were expanding outside the data range.\n",
      "  cur_raw.set_annotations(annotations_new)\n",
      "/tmp/ipykernel_929370/15992950.py:38: RuntimeWarning: Omitted 1 annotation(s) that were outside data range.\n",
      "  cur_raw.set_annotations(annotations_new)\n"
     ]
    },
    {
     "name": "stdout",
     "output_type": "stream",
     "text": [
      "working on subj:  6128 block_id:  5\n",
      "Extracting parameters from /media/hcp4715/RAID32T/Data_own/eegData/moralSelfEEG2015/Analysis_Py/Exp1/RawData/eeg/sub28/sub28_Moral_asso_5.vhdr...\n",
      "Setting channel info structure...\n",
      "working on subj:  6128 block_id:  6\n",
      "Extracting parameters from /media/hcp4715/RAID32T/Data_own/eegData/moralSelfEEG2015/Analysis_Py/Exp1/RawData/eeg/sub28/sub28_Moral_asso_6.vhdr...\n",
      "Setting channel info structure...\n",
      "working on subj:  6128 block_id:  7\n",
      "Extracting parameters from /media/hcp4715/RAID32T/Data_own/eegData/moralSelfEEG2015/Analysis_Py/Exp1/RawData/eeg/sub28/sub28_Moral_asso_7.vhdr...\n",
      "Setting channel info structure...\n",
      "working on subj:  6128 block_id:  8\n",
      "Extracting parameters from /media/hcp4715/RAID32T/Data_own/eegData/moralSelfEEG2015/Analysis_Py/Exp1/RawData/eeg/sub28/sub28_Moral_asso_8.vhdr...\n",
      "Setting channel info structure...\n",
      "working on subj:  6128 block_id:  9\n",
      "Extracting parameters from /media/hcp4715/RAID32T/Data_own/eegData/moralSelfEEG2015/Analysis_Py/Exp1/RawData/eeg/sub28/sub28_Moral_asso_9.vhdr...\n",
      "Setting channel info structure...\n"
     ]
    },
    {
     "name": "stderr",
     "output_type": "stream",
     "text": [
      "/tmp/ipykernel_929370/15992950.py:38: RuntimeWarning: Omitted 6 annotation(s) that were outside data range.\n",
      "  cur_raw.set_annotations(annotations_new)\n"
     ]
    },
    {
     "name": "stdout",
     "output_type": "stream",
     "text": [
      "Writing /media/hcp4715/RAID32T/Data_own/eegData/moralSelfEEG2015/Analysis_Py/Exp1/raw_fif_new/6128_raw.fif\n",
      "Closing /media/hcp4715/RAID32T/Data_own/eegData/moralSelfEEG2015/Analysis_Py/Exp1/raw_fif_new/6128_raw.fif\n",
      "[done]\n",
      "working on subj:  6106 block_id:  1\n",
      "Extracting parameters from /media/hcp4715/RAID32T/Data_own/eegData/moralSelfEEG2015/Analysis_Py/Exp1/RawData/eeg/sub6/sub6_Moral_asso_1.vhdr...\n",
      "Setting channel info structure...\n",
      "working on subj:  6106 block_id:  2\n",
      "Extracting parameters from /media/hcp4715/RAID32T/Data_own/eegData/moralSelfEEG2015/Analysis_Py/Exp1/RawData/eeg/sub6/sub6_Moral_asso_2.vhdr...\n",
      "Setting channel info structure...\n",
      "working on subj:  6106 block_id:  3\n",
      "Extracting parameters from /media/hcp4715/RAID32T/Data_own/eegData/moralSelfEEG2015/Analysis_Py/Exp1/RawData/eeg/sub6/sub6_Moral_asso_3.vhdr...\n",
      "Setting channel info structure...\n"
     ]
    },
    {
     "name": "stderr",
     "output_type": "stream",
     "text": [
      "/tmp/ipykernel_929370/15992950.py:38: RuntimeWarning: Omitted 250 annotation(s) that were outside data range.\n",
      "  cur_raw.set_annotations(annotations_new)\n",
      "/tmp/ipykernel_929370/15992950.py:38: RuntimeWarning: Limited 1 annotation(s) that were expanding outside the data range.\n",
      "  cur_raw.set_annotations(annotations_new)\n",
      "/tmp/ipykernel_929370/15992950.py:38: RuntimeWarning: Omitted 10 annotation(s) that were outside data range.\n",
      "  cur_raw.set_annotations(annotations_new)\n",
      "/tmp/ipykernel_929370/15992950.py:38: RuntimeWarning: Omitted 239 annotation(s) that were outside data range.\n",
      "  cur_raw.set_annotations(annotations_new)\n"
     ]
    },
    {
     "name": "stdout",
     "output_type": "stream",
     "text": [
      "working on subj:  6106 block_id:  4\n",
      "Extracting parameters from /media/hcp4715/RAID32T/Data_own/eegData/moralSelfEEG2015/Analysis_Py/Exp1/RawData/eeg/sub6/sub6_Moral_asso_4.vhdr...\n",
      "Setting channel info structure...\n",
      "working on subj:  6106 block_id:  5\n",
      "Extracting parameters from /media/hcp4715/RAID32T/Data_own/eegData/moralSelfEEG2015/Analysis_Py/Exp1/RawData/eeg/sub6/sub6_Moral_asso_5.vhdr...\n",
      "Setting channel info structure...\n"
     ]
    },
    {
     "name": "stderr",
     "output_type": "stream",
     "text": [
      "/tmp/ipykernel_929370/15992950.py:38: RuntimeWarning: Omitted 212 annotation(s) that were outside data range.\n",
      "  cur_raw.set_annotations(annotations_new)\n",
      "/tmp/ipykernel_929370/15992950.py:38: RuntimeWarning: Limited 1 annotation(s) that were expanding outside the data range.\n",
      "  cur_raw.set_annotations(annotations_new)\n"
     ]
    },
    {
     "name": "stdout",
     "output_type": "stream",
     "text": [
      "working on subj:  6106 block_id:  6\n",
      "Extracting parameters from /media/hcp4715/RAID32T/Data_own/eegData/moralSelfEEG2015/Analysis_Py/Exp1/RawData/eeg/sub6/sub6_Moral_asso_6.vhdr...\n",
      "Setting channel info structure...\n"
     ]
    },
    {
     "name": "stderr",
     "output_type": "stream",
     "text": [
      "/tmp/ipykernel_929370/15992950.py:38: RuntimeWarning: Omitted 58 annotation(s) that were outside data range.\n",
      "  cur_raw.set_annotations(annotations_new)\n"
     ]
    },
    {
     "name": "stdout",
     "output_type": "stream",
     "text": [
      "working on subj:  6106 block_id:  7\n",
      "Extracting parameters from /media/hcp4715/RAID32T/Data_own/eegData/moralSelfEEG2015/Analysis_Py/Exp1/RawData/eeg/sub6/sub6_Moral_asso_7.vhdr...\n",
      "Setting channel info structure...\n"
     ]
    },
    {
     "name": "stderr",
     "output_type": "stream",
     "text": [
      "/tmp/ipykernel_929370/15992950.py:38: RuntimeWarning: Omitted 216 annotation(s) that were outside data range.\n",
      "  cur_raw.set_annotations(annotations_new)\n"
     ]
    },
    {
     "name": "stdout",
     "output_type": "stream",
     "text": [
      "working on subj:  6106 block_id:  8\n",
      "Extracting parameters from /media/hcp4715/RAID32T/Data_own/eegData/moralSelfEEG2015/Analysis_Py/Exp1/RawData/eeg/sub6/sub6_Moral_asso_8.vhdr...\n",
      "Setting channel info structure...\n"
     ]
    },
    {
     "name": "stderr",
     "output_type": "stream",
     "text": [
      "/tmp/ipykernel_929370/15992950.py:38: RuntimeWarning: Omitted 70 annotation(s) that were outside data range.\n",
      "  cur_raw.set_annotations(annotations_new)\n"
     ]
    },
    {
     "name": "stdout",
     "output_type": "stream",
     "text": [
      "working on subj:  6106 block_id:  9\n",
      "Extracting parameters from /media/hcp4715/RAID32T/Data_own/eegData/moralSelfEEG2015/Analysis_Py/Exp1/RawData/eeg/sub6/sub6_Moral_asso_9.vhdr...\n",
      "Setting channel info structure...\n"
     ]
    },
    {
     "name": "stderr",
     "output_type": "stream",
     "text": [
      "/tmp/ipykernel_929370/15992950.py:38: RuntimeWarning: Omitted 197 annotation(s) that were outside data range.\n",
      "  cur_raw.set_annotations(annotations_new)\n",
      "/tmp/ipykernel_929370/15992950.py:38: RuntimeWarning: Limited 1 annotation(s) that were expanding outside the data range.\n",
      "  cur_raw.set_annotations(annotations_new)\n"
     ]
    },
    {
     "name": "stdout",
     "output_type": "stream",
     "text": [
      "Writing /media/hcp4715/RAID32T/Data_own/eegData/moralSelfEEG2015/Analysis_Py/Exp1/raw_fif_new/6106_raw.fif\n",
      "Closing /media/hcp4715/RAID32T/Data_own/eegData/moralSelfEEG2015/Analysis_Py/Exp1/raw_fif_new/6106_raw.fif\n",
      "[done]\n",
      "working on subj:  6107 block_id:  1\n",
      "Extracting parameters from /media/hcp4715/RAID32T/Data_own/eegData/moralSelfEEG2015/Analysis_Py/Exp1/RawData/eeg/sub7/sub7_Moral_asso_1.vhdr...\n",
      "Setting channel info structure...\n",
      "working on subj:  6107 block_id:  2\n",
      "Extracting parameters from /media/hcp4715/RAID32T/Data_own/eegData/moralSelfEEG2015/Analysis_Py/Exp1/RawData/eeg/sub7/sub7_Moral_asso_2.vhdr...\n",
      "Setting channel info structure...\n",
      "working on subj:  6107 block_id:  3\n",
      "Extracting parameters from /media/hcp4715/RAID32T/Data_own/eegData/moralSelfEEG2015/Analysis_Py/Exp1/RawData/eeg/sub7/sub7_Moral_asso_3.vhdr...\n",
      "Setting channel info structure...\n",
      "working on subj:  6107 block_id:  4\n",
      "Extracting parameters from /media/hcp4715/RAID32T/Data_own/eegData/moralSelfEEG2015/Analysis_Py/Exp1/RawData/eeg/sub7/sub7_Moral_asso_4.vhdr...\n",
      "Setting channel info structure...\n",
      "working on subj:  6107 block_id:  5\n",
      "Extracting parameters from /media/hcp4715/RAID32T/Data_own/eegData/moralSelfEEG2015/Analysis_Py/Exp1/RawData/eeg/sub7/sub7_Moral_asso_5.vhdr...\n",
      "Setting channel info structure...\n",
      "working on subj:  6107 block_id:  6\n",
      "Extracting parameters from /media/hcp4715/RAID32T/Data_own/eegData/moralSelfEEG2015/Analysis_Py/Exp1/RawData/eeg/sub7/sub7_Moral_asso_6.vhdr...\n",
      "Setting channel info structure...\n",
      "working on subj:  6107 block_id:  7\n",
      "Extracting parameters from /media/hcp4715/RAID32T/Data_own/eegData/moralSelfEEG2015/Analysis_Py/Exp1/RawData/eeg/sub7/sub7_Moral_asso_7.vhdr...\n",
      "Setting channel info structure...\n",
      "working on subj:  6107 block_id:  8\n",
      "Extracting parameters from /media/hcp4715/RAID32T/Data_own/eegData/moralSelfEEG2015/Analysis_Py/Exp1/RawData/eeg/sub7/sub7_Moral_asso_8.vhdr...\n",
      "Setting channel info structure...\n",
      "working on subj:  6107 block_id:  9\n",
      "Extracting parameters from /media/hcp4715/RAID32T/Data_own/eegData/moralSelfEEG2015/Analysis_Py/Exp1/RawData/eeg/sub7/sub7_Moral_asso_9.vhdr...\n",
      "Setting channel info structure...\n",
      "Writing /media/hcp4715/RAID32T/Data_own/eegData/moralSelfEEG2015/Analysis_Py/Exp1/raw_fif_new/6107_raw.fif\n",
      "Closing /media/hcp4715/RAID32T/Data_own/eegData/moralSelfEEG2015/Analysis_Py/Exp1/raw_fif_new/6107_raw.fif\n",
      "[done]\n",
      "working on subj:  6108 block_id:  1\n",
      "Extracting parameters from /media/hcp4715/RAID32T/Data_own/eegData/moralSelfEEG2015/Analysis_Py/Exp1/RawData/eeg/sub8/sub8_Moral_asso_1.vhdr...\n",
      "Setting channel info structure...\n",
      "working on subj:  6108 block_id:  2\n",
      "Extracting parameters from /media/hcp4715/RAID32T/Data_own/eegData/moralSelfEEG2015/Analysis_Py/Exp1/RawData/eeg/sub8/sub8_Moral_asso_2.vhdr...\n",
      "Setting channel info structure...\n",
      "working on subj:  6108 block_id:  3\n",
      "Extracting parameters from /media/hcp4715/RAID32T/Data_own/eegData/moralSelfEEG2015/Analysis_Py/Exp1/RawData/eeg/sub8/sub8_Moral_asso_3.vhdr...\n",
      "Setting channel info structure...\n",
      "working on subj:  6108 block_id:  4\n",
      "Extracting parameters from /media/hcp4715/RAID32T/Data_own/eegData/moralSelfEEG2015/Analysis_Py/Exp1/RawData/eeg/sub8/sub8_Moral_asso_4.vhdr...\n",
      "Setting channel info structure...\n",
      "working on subj:  6108 block_id:  5\n",
      "Extracting parameters from /media/hcp4715/RAID32T/Data_own/eegData/moralSelfEEG2015/Analysis_Py/Exp1/RawData/eeg/sub8/sub8_Moral_asso_5.vhdr...\n",
      "Setting channel info structure...\n"
     ]
    },
    {
     "name": "stderr",
     "output_type": "stream",
     "text": [
      "/tmp/ipykernel_929370/15992950.py:38: RuntimeWarning: Omitted 9 annotation(s) that were outside data range.\n",
      "  cur_raw.set_annotations(annotations_new)\n"
     ]
    },
    {
     "name": "stdout",
     "output_type": "stream",
     "text": [
      "working on subj:  6108 block_id:  6\n",
      "Extracting parameters from /media/hcp4715/RAID32T/Data_own/eegData/moralSelfEEG2015/Analysis_Py/Exp1/RawData/eeg/sub8/sub8_Moral_asso_6.vhdr...\n",
      "Setting channel info structure...\n",
      "working on subj:  6108 block_id:  7\n",
      "Extracting parameters from /media/hcp4715/RAID32T/Data_own/eegData/moralSelfEEG2015/Analysis_Py/Exp1/RawData/eeg/sub8/sub8_Moral_asso_7.vhdr...\n",
      "Setting channel info structure...\n",
      "working on subj:  6108 block_id:  8\n",
      "Extracting parameters from /media/hcp4715/RAID32T/Data_own/eegData/moralSelfEEG2015/Analysis_Py/Exp1/RawData/eeg/sub8/sub8_Moral_asso_8.vhdr...\n",
      "Setting channel info structure...\n",
      "working on subj:  6108 block_id:  9\n",
      "Extracting parameters from /media/hcp4715/RAID32T/Data_own/eegData/moralSelfEEG2015/Analysis_Py/Exp1/RawData/eeg/sub8/sub8_Moral_asso_9.vhdr...\n",
      "Setting channel info structure...\n",
      "Writing /media/hcp4715/RAID32T/Data_own/eegData/moralSelfEEG2015/Analysis_Py/Exp1/raw_fif_new/6108_raw.fif\n",
      "Closing /media/hcp4715/RAID32T/Data_own/eegData/moralSelfEEG2015/Analysis_Py/Exp1/raw_fif_new/6108_raw.fif\n",
      "[done]\n",
      "working on subj:  6109 block_id:  1\n",
      "Extracting parameters from /media/hcp4715/RAID32T/Data_own/eegData/moralSelfEEG2015/Analysis_Py/Exp1/RawData/eeg/sub9/sub9_Moral_asso_1.vhdr...\n",
      "Setting channel info structure...\n",
      "working on subj:  6109 block_id:  2\n",
      "Extracting parameters from /media/hcp4715/RAID32T/Data_own/eegData/moralSelfEEG2015/Analysis_Py/Exp1/RawData/eeg/sub9/sub9_Moral_asso_2.vhdr...\n",
      "Setting channel info structure...\n",
      "working on subj:  6109 block_id:  3\n",
      "Extracting parameters from /media/hcp4715/RAID32T/Data_own/eegData/moralSelfEEG2015/Analysis_Py/Exp1/RawData/eeg/sub9/sub9_Moral_asso_3.vhdr...\n",
      "Setting channel info structure...\n"
     ]
    },
    {
     "name": "stderr",
     "output_type": "stream",
     "text": [
      "/tmp/ipykernel_929370/15992950.py:38: RuntimeWarning: Omitted 3 annotation(s) that were outside data range.\n",
      "  cur_raw.set_annotations(annotations_new)\n",
      "/tmp/ipykernel_929370/15992950.py:38: RuntimeWarning: Omitted 5 annotation(s) that were outside data range.\n",
      "  cur_raw.set_annotations(annotations_new)\n"
     ]
    },
    {
     "name": "stdout",
     "output_type": "stream",
     "text": [
      "working on subj:  6109 block_id:  4\n",
      "Extracting parameters from /media/hcp4715/RAID32T/Data_own/eegData/moralSelfEEG2015/Analysis_Py/Exp1/RawData/eeg/sub9/sub9_Moral_asso_4.vhdr...\n",
      "Setting channel info structure...\n",
      "working on subj:  6109 block_id:  5\n",
      "Extracting parameters from /media/hcp4715/RAID32T/Data_own/eegData/moralSelfEEG2015/Analysis_Py/Exp1/RawData/eeg/sub9/sub9_Moral_asso_5.vhdr...\n",
      "Setting channel info structure...\n"
     ]
    },
    {
     "name": "stderr",
     "output_type": "stream",
     "text": [
      "/tmp/ipykernel_929370/15992950.py:38: RuntimeWarning: Omitted 5 annotation(s) that were outside data range.\n",
      "  cur_raw.set_annotations(annotations_new)\n"
     ]
    },
    {
     "name": "stdout",
     "output_type": "stream",
     "text": [
      "working on subj:  6109 block_id:  6\n",
      "Extracting parameters from /media/hcp4715/RAID32T/Data_own/eegData/moralSelfEEG2015/Analysis_Py/Exp1/RawData/eeg/sub9/sub9_Moral_asso_6.vhdr...\n",
      "Setting channel info structure...\n",
      "working on subj:  6109 block_id:  7\n",
      "Extracting parameters from /media/hcp4715/RAID32T/Data_own/eegData/moralSelfEEG2015/Analysis_Py/Exp1/RawData/eeg/sub9/sub9_Moral_asso_7.vhdr...\n",
      "Setting channel info structure...\n",
      "working on subj:  6109 block_id:  8\n",
      "Extracting parameters from /media/hcp4715/RAID32T/Data_own/eegData/moralSelfEEG2015/Analysis_Py/Exp1/RawData/eeg/sub9/sub9_Moral_asso_8.vhdr...\n",
      "Setting channel info structure...\n",
      "working on subj:  6109 block_id:  9\n",
      "Extracting parameters from /media/hcp4715/RAID32T/Data_own/eegData/moralSelfEEG2015/Analysis_Py/Exp1/RawData/eeg/sub9/sub9_Moral_asso_9.vhdr...\n",
      "Setting channel info structure...\n",
      "Writing /media/hcp4715/RAID32T/Data_own/eegData/moralSelfEEG2015/Analysis_Py/Exp1/raw_fif_new/6109_raw.fif\n",
      "Closing /media/hcp4715/RAID32T/Data_own/eegData/moralSelfEEG2015/Analysis_Py/Exp1/raw_fif_new/6109_raw.fif\n",
      "[done]\n"
     ]
    }
   ],
   "source": [
    "sub_folders = [name for name in os.listdir(raw_dir) if os.path.isdir(os.path.join(raw_dir, name))]\n",
    "# sub_folders\n",
    "for dir in sub_folders:\n",
    "#     print(dir)\n",
    "    subj_idx = int(dir.partition(\"sub\")[2]) + 6100\n",
    "#     print(subj_idx)\n",
    "    cur_files = glob.glob(op.join(raw_dir, dir, 'sub*.vhdr'))\n",
    "#     print(len(cur_files))\n",
    "    if subj_idx in df_ev_new.subj_idx.unique():\n",
    "        # print(\"yes\")\n",
    "        cur_df_ev = df_ev_new.loc[df_ev_new['subj_idx'] == subj_idx]\n",
    "        \n",
    "        # make sure that all participants has all block, exlcude participant 6119 and 6124\n",
    "        if len(cur_df_ev.block_id.unique()) == len(cur_files):\n",
    "            # print(\"subj: \", subj_idx,len(cur_files))\n",
    "            for cur_file in cur_files:\n",
    "                # print(cur_file)\n",
    "                block_id = int(re.findall(r'asso_(.*?)\\.vhdr', cur_file)[0])\n",
    "                print(\"working on subj: \", subj_idx, \"block_id: \", block_id)\n",
    "\n",
    "                cur_raw = mne.io.read_raw(cur_file)\n",
    "\n",
    "                events_new = cur_df_ev[['time', 'Code', 'triggers']].copy().dropna()\n",
    "                events_new['duration'] = 0\n",
    "                events_new.loc[events_new['triggers'].str.contains('prime'), 'duration']  = 50\n",
    "                events_new.loc[events_new['triggers'].str.contains('target'), 'duration'] = 60\n",
    "                events_new.loc[events_new['triggers'].str.contains('blank'), 'duration']  = 50\n",
    "\n",
    "                onset = events_new['time'].to_numpy() \n",
    "                onset = onset/1000.0 # onset should be in seconds.\n",
    "\n",
    "                duration = events_new['duration'].to_numpy()    \n",
    "                duration = duration/1000.0\n",
    "\n",
    "                description = events_new['triggers'].to_numpy()\n",
    "                annotations_new = mne.Annotations(onset, duration, description) \n",
    "\n",
    "                cur_raw.set_annotations(annotations_new)\n",
    "                \n",
    "                if (block_id == 1):\n",
    "                    raw = cur_raw.copy()\n",
    "                else:\n",
    "                    mne.io.Raw.append(self=raw, raws=cur_raw)\n",
    "                    \n",
    "            raw.save(fif_dir + \"/\" + str(subj_idx) +'_raw.fif',overwrite=True)\n",
    "\n",
    "        else:\n",
    "            continue\n",
    "        # print(cur_files)\n",
    "\n",
    "    else:\n",
    "        # print(subj_idx)\n",
    "        continue\n",
    "\n",
    "#     for file in cur_files:\n",
    "#         print(file)\n",
    "#         subj_idx = int(re.findall(r'sub(.*?)\\/sub', file)[0]) + 6100\n",
    "#         block_id = int(re.findall(r'asso_(.*?)\\.vhdr', file)[0])\n",
    "#         # print(\"subj_idx is: \", subj_idx, \"; block_id is: \", block_id, \".\")\n",
    "#         # if (subj_idx in df_ev_new.subj_idx.unique()): \n",
    "#         cur_df_ev = df_ev_new.loc[df_ev_new['subj_idx'] == subj_idx]\n",
    "#         # if (block_id in cur_df_ev.block_id.unique()):\n",
    "#         #     print(\"yes\")\n",
    "\n",
    "\n",
    "        # else:\n",
    "        #     print(\"block\", block_id, \"of subj\", subj_idx, \"is skipped for now\") # three participants are skipped\n",
    "        #     continue\n"
   ]
  },
  {
   "cell_type": "code",
   "execution_count": null,
   "metadata": {},
   "outputs": [],
   "source": [
    "raw = mne.io.read_raw_brainvision(block1_fname, montage, preload=True)# read .vhdr as mne raw instance\n",
    "for i in range(2,10):#read block 2 to block9  and append them to block1\n",
    "    block_path = (subject +'_Moral_asso_'+str(i)+'.vhdr')\n",
    "    print(block_path)\n",
    "    \n",
    "    eeg_path = os.path.join(raw_name_path, block_path)\n",
    "    \n",
    "    raw1 = mne.io.read_raw_brainvision(eeg_path, montage, preload=True)\n",
    "    \n",
    "    mne.io.Raw.append(self=raw, raws=raw1)\n",
    "\n",
    "if len(subject) == 4:  #change the subject name from sub6 to sub06 and save them as fif\n",
    "    d = list(subject)\n",
    "    d.insert(3,'0')\n",
    "    subject1 = \"\".join(d)\n",
    "    raw.save('raw_fif/'+subject1+'_raw.fif',overwrite=True)\n",
    "elif len(subject) == 5:\n",
    "    raw.save('raw_fif/'+subject1+'_raw.fif',overwrite=True)"
   ]
  },
  {
   "cell_type": "code",
   "execution_count": 19,
   "metadata": {},
   "outputs": [
    {
     "data": {
      "text/plain": [
       "2"
      ]
     },
     "execution_count": 19,
     "metadata": {},
     "output_type": "execute_result"
    }
   ],
   "source": [
    "int(re.findall(r'asso_(.*?)\\.vhdr', file)[0])"
   ]
  },
  {
   "cell_type": "code",
   "execution_count": 17,
   "metadata": {},
   "outputs": [
    {
     "data": {
      "text/plain": [
       "'21'"
      ]
     },
     "execution_count": 17,
     "metadata": {},
     "output_type": "execute_result"
    }
   ],
   "source": [
    "re.search('sub(.+?)\\/sub', file).group(1)"
   ]
  }
 ],
 "metadata": {
  "interpreter": {
   "hash": "50534094142a161c0bf985bff2d674943cac62109eb59f0f59dc6159fa1ad162"
  },
  "kernelspec": {
   "display_name": "Python 3.9.7 64-bit ('mne': conda)",
   "name": "python3"
  },
  "language_info": {
   "codemirror_mode": {
    "name": "ipython",
    "version": 3
   },
   "file_extension": ".py",
   "mimetype": "text/x-python",
   "name": "python",
   "nbconvert_exporter": "python",
   "pygments_lexer": "ipython3",
   "version": "3.9.7"
  }
 },
 "nbformat": 4,
 "nbformat_minor": 2
}
