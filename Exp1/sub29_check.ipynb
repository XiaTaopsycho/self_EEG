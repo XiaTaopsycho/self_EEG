{
 "cells": [
  {
   "cell_type": "code",
   "execution_count": 1,
   "metadata": {},
   "outputs": [],
   "source": [
    "import mne\n",
    "import os\n",
    "%matplotlib qt"
   ]
  },
  {
   "cell_type": "code",
   "execution_count": 2,
   "metadata": {},
   "outputs": [],
   "source": [
    "#define raw path name\n",
    "raw_fname1=('RawData/eeg/sub29/sub29_Moral_asso_1.vhdr')\n",
    "raw_fname2=('RawData/eeg/sub29/sub29_Moral_asso_10.vhdr')\n",
    "raw_fname3=('RawData/eeg/sub29/sub29_Moral_asso_9.1.vhdr')\n",
    "raw_fname4=('RawData/eeg/sub29/sub29_Moral_asso_9.vhdr')\n",
    "raw_fname5=('RawData/eeg/sub29/sub29_Moral_asso_2.vhdr')"
   ]
  },
  {
   "cell_type": "code",
   "execution_count": 3,
   "metadata": {},
   "outputs": [
    {
     "name": "stderr",
     "output_type": "stream",
     "text": [
      "/media/hcp4715/study/Py_Envs/Py_MNE/lib/python3.6/site-packages/mne/utils/docs.py:824: DeprecationWarning: Function read_montage is deprecated; ``read_montage`` is deprecated and will be removed in v0.20. Please use ``read_dig_fif``, ``read_dig_egi``, ``read_custom_montage``, or ``read_dig_captrack`` to read a digitization based on your needs instead; or ``make_standard_montage`` to create ``DigMontage`` based on template; or ``make_dig_montage`` to create a ``DigMontage`` out of np.arrays\n",
      "  warnings.warn(msg, category=DeprecationWarning)\n",
      "/media/hcp4715/study/Py_Envs/Py_MNE/lib/python3.6/site-packages/mne/utils/docs.py:807: DeprecationWarning: Class Montage is deprecated; Montage class is deprecated and will be removed in v0.20. Please use DigMontage instead.\n",
      "  warnings.warn(msg, category=DeprecationWarning)\n"
     ]
    }
   ],
   "source": [
    "#define montage\n",
    "montage=mne.channels.read_montage('standard_1020')\n"
   ]
  },
  {
   "cell_type": "code",
   "execution_count": 4,
   "metadata": {},
   "outputs": [
    {
     "name": "stdout",
     "output_type": "stream",
     "text": [
      "Extracting parameters from RawData/eeg/sub29/sub29_Moral_asso_1.vhdr...\n"
     ]
    },
    {
     "ename": "ValueError",
     "evalue": "Currently only support versions 1.0 and 2.0, not 'Brain Vision Data Exchange Header File Version 1.0\\r\\r; Data created by the actiCHamp PyCorder\\r\\r\\r\\r[Common Infos]\\r\\rCodepage=UTF-8\\r\\rDataFile=sub29_Moral_asso_1.eeg\\r\\rMarkerFile=sub29_Moral_asso_1.vmrk\\r\\rDataFormat=BINARY\\r\\r; Data orientation: MULTIPLEXED=ch1,pt1, ch2,pt1 ...\\r\\rDataOrientation=MULTIPLEXED\\r\\rNumberOfChannels=63\\r\\r; Sampling interval in microseconds\\r\\rSamplingInterval=2000\\r\\r\\r\\r[Binary Infos]\\r\\rBinaryFormat=IEEE_FLOAT_32\\r\\r\\r\\r[Channel Infos]\\r\\r; Each entry: Ch<Channel number>=<Name>,<Reference channel name>,\\r\\r; <Scaling factor in \"Unit\">,<Unit>, Future extensions..\\r\\r; Fields are delimited by commas, some fields might be omitted (empty).\\r\\r; Commas in channel names are coded as \"\\\\1\".\\r\\rCh1=FP1,REF,1.0,V\\r\\rCh2=FZ,REF,1.0,V\\r\\rCh3=F3,REF,1.0,V\\r\\rCh4=F7,REF,1.0,V\\r\\rCh5=FT9,REF,1.0,V\\r\\rCh6=FC5,REF,1.0,V\\r\\rCh7=FC1,REF,1.0,V\\r\\rCh8=C3,REF,1.0,V\\r\\rCh9=T7,REF,1.0,V\\r\\rCh10=CP5,REF,1.0,V\\r\\rCh11=CP1,REF,1.0,V\\r\\rCh12=Pz,REF,1.0,V\\r\\rCh13=P3,REF,1.0,V\\r\\rCh14=P7,REF,1.0,V\\r\\rCh15=O1,REF,1.0,V\\r\\rCh16=Oz,REF,1.0,V\\r\\rCh17=O2,REF,1.0,V\\r\\rCh18=P4,REF,1.0,V\\r\\rCh19=P8,REF,1.0,V\\r\\rCh20=TP10,REF,1.0,V\\r\\rCh21=CP6,REF,1.0,V\\r\\rCh22=CP2,REF,1.0,V\\r\\rCh23=Cz,REF,1.0,V\\r\\rCh24=C4,REF,1.0,V\\r\\rCh25=T8,REF,1.0,V\\r\\rCh26=FT10,REF,1.0,V\\r\\rCh27=FC6,REF,1.0,V\\r\\rCh28=FC2,REF,1.0,V\\r\\rCh29=F4,REF,1.0,V\\r\\rCh30=F8,REF,1.0,V\\r\\rCh31=FP2,REF,1.0,V\\r\\rCh32=AF7,REF,1.0,V\\r\\rCh33=AF3,REF,1.0,V\\r\\rCh34=AFz,REF,1.0,V\\r\\rCh35=F1,REF,1.0,V\\r\\rCh36=F5,REF,1.0,V\\r\\rCh37=FT7,REF,1.0,V\\r\\rCh38=FC3,REF,1.0,V\\r\\rCh39=FCz,REF,1.0,V\\r\\rCh40=C1,REF,1.0,V\\r\\rCh41=C5,REF,1.0,V\\r\\rCh42=TP7,REF,1.0,V\\r\\rCh43=CP3,REF,1.0,V\\r\\rCh44=P1,REF,1.0,V\\r\\rCh45=P5,REF,1.0,V\\r\\rCh46=PO7,REF,1.0,V\\r\\rCh47=PO3,REF,1.0,V\\r\\rCh48=POz,REF,1.0,V\\r\\rCh49=PO4,REF,1.0,V\\r\\rCh50=PO8,REF,1.0,V\\r\\rCh51=P6,REF,1.0,V\\r\\rCh52=P2,REF,1.0,V\\r\\rCh53=CPz,REF,1.0,V\\r\\rCh54=CP4,REF,1.0,V\\r\\rCh55=TP8,REF,1.0,V\\r\\rCh56=C6,REF,1.0,V\\r\\rCh57=C2,REF,1.0,V\\r\\rCh58=FC4,REF,1.0,V\\r\\rCh59=FT8,REF,1.0,V\\r\\rCh60=F6,REF,1.0,V\\r\\rCh61=F2,REF,1.0,V\\r\\rCh62=AF4,REF,1.0,V\\r\\rCh63=AF8,REF,1.0,V\\r\\r\\r\\r[Comment]\\r\\rPyCorder V1.0.4\\r\\rAmplifier\\ractiCHamp (5001) SN: 12110121\\rModule 1  (5010) SN: 12110238\\rModule 2  (5010) SN: 13040342\\rModule 3  (5010) SN: 12110298\\rModule 4  (5010) SN: 13050351\\rModule 5  n.a.\\rVersion: DLL_17.12.11.16, DRV_03.04.01.146, CTRL_04.11.04.28, FPGA_44.00.00.00, DSP_06.11.05.25\\r\\r\\r\\r\\rReference channel: TP9\\r\\r\\r\\rImpedance [KOhm] at 14:47:43\\r\\r  1 FP1: 1\\r\\r  2 FZ: 2\\r\\r  3 F3: 2\\r\\r  4 F7: 4\\r\\r  5 FT9: 4\\r\\r  6 FC5: 3\\r\\r  7 FC1: 1\\r\\r  8 C3: 1\\r\\r  9 T7: 3\\r\\r 10 REF_TP9: 0\\r\\r 11 CP5: 2\\r\\r 12 CP1: 4\\r\\r 13 Pz: 2\\r\\r 14 P3: 2\\r\\r 15 P7: 2\\r\\r 16 O1: 3\\r\\r 17 Oz: 4\\r\\r 18 O2: 6\\r\\r 19 P4: 3\\r\\r 20 P8: 2\\r\\r 21 TP10: 3\\r\\r 22 CP6: 5\\r\\r 23 CP2: 4\\r\\r 24 Cz: 1\\r\\r 25 C4: 5\\r\\r 26 T8: 4\\r\\r 27 FT10: 1\\r\\r 28 FC6: 3\\r\\r 29 FC2: 2\\r\\r 30 F4: 0\\r\\r 31 F8: 4\\r\\r 32 FP2: 3\\r\\r 33 AF7: 2\\r\\r 34 AF3: 1\\r\\r 35 AFz: 4\\r\\r 36 F1: 0\\r\\r 37 F5: 5\\r\\r 38 FT7: 8\\r\\r 39 FC3: 2\\r\\r 40 FCz: 1\\r\\r 41 C1: 5\\r\\r 42 C5: 1\\r\\r 43 TP7: 3\\r\\r 44 CP3: 3\\r\\r 45 P1: 1\\r\\r 46 P5: 0\\r\\r 47 PO7: 1\\r\\r 48 PO3: 4\\r\\r 49 POz: 4\\r\\r 50 PO4: 3\\r\\r 51 PO8: 1\\r\\r 52 P6: 4\\r\\r 53 P2: 2\\r\\r 54 CPz: 1\\r\\r 55 CP4: 1\\r\\r 56 TP8: 1\\r\\r 57 C6: 1\\r\\r 58 C2: 0\\r\\r 59 FC4: 1\\r\\r 60 FT8: 3\\r\\r 61 F6: 5\\r\\r 62 F2: 2\\r\\r 63 AF4: 7\\r\\r 64 AF8: 2\\r\\rGND: 1' Contact MNE-Developers for support.",
     "output_type": "error",
     "traceback": [
      "\u001b[0;31m---------------------------------------------------------------------------\u001b[0m",
      "\u001b[0;31mValueError\u001b[0m                                Traceback (most recent call last)",
      "\u001b[0;32m<ipython-input-4-4a73cb570cbc>\u001b[0m in \u001b[0;36m<module>\u001b[0;34m\u001b[0m\n\u001b[1;32m      1\u001b[0m \u001b[0;31m#read each bolck data\u001b[0m\u001b[0;34m\u001b[0m\u001b[0;34m\u001b[0m\u001b[0;34m\u001b[0m\u001b[0m\n\u001b[0;32m----> 2\u001b[0;31m \u001b[0mraw1\u001b[0m\u001b[0;34m=\u001b[0m\u001b[0mmne\u001b[0m\u001b[0;34m.\u001b[0m\u001b[0mio\u001b[0m\u001b[0;34m.\u001b[0m\u001b[0mread_raw_brainvision\u001b[0m\u001b[0;34m(\u001b[0m\u001b[0mraw_fname1\u001b[0m\u001b[0;34m,\u001b[0m\u001b[0mmontage\u001b[0m\u001b[0;34m,\u001b[0m\u001b[0mpreload\u001b[0m\u001b[0;34m=\u001b[0m\u001b[0;32mTrue\u001b[0m\u001b[0;34m)\u001b[0m\u001b[0;34m\u001b[0m\u001b[0;34m\u001b[0m\u001b[0m\n\u001b[0m\u001b[1;32m      3\u001b[0m \u001b[0mraw2\u001b[0m\u001b[0;34m=\u001b[0m\u001b[0mmne\u001b[0m\u001b[0;34m.\u001b[0m\u001b[0mio\u001b[0m\u001b[0;34m.\u001b[0m\u001b[0mread_raw_brainvision\u001b[0m\u001b[0;34m(\u001b[0m\u001b[0mraw_fname2\u001b[0m\u001b[0;34m,\u001b[0m\u001b[0mmontage\u001b[0m\u001b[0;34m,\u001b[0m\u001b[0mpreload\u001b[0m\u001b[0;34m=\u001b[0m\u001b[0;32mTrue\u001b[0m\u001b[0;34m)\u001b[0m\u001b[0;34m\u001b[0m\u001b[0;34m\u001b[0m\u001b[0m\n\u001b[1;32m      4\u001b[0m \u001b[0mraw3\u001b[0m\u001b[0;34m=\u001b[0m\u001b[0mmne\u001b[0m\u001b[0;34m.\u001b[0m\u001b[0mio\u001b[0m\u001b[0;34m.\u001b[0m\u001b[0mread_raw_brainvision\u001b[0m\u001b[0;34m(\u001b[0m\u001b[0mraw_fname3\u001b[0m\u001b[0;34m,\u001b[0m\u001b[0mmontage\u001b[0m\u001b[0;34m,\u001b[0m\u001b[0mpreload\u001b[0m\u001b[0;34m=\u001b[0m\u001b[0;32mTrue\u001b[0m\u001b[0;34m)\u001b[0m\u001b[0;34m\u001b[0m\u001b[0;34m\u001b[0m\u001b[0m\n\u001b[1;32m      5\u001b[0m \u001b[0mraw4\u001b[0m\u001b[0;34m=\u001b[0m\u001b[0mmne\u001b[0m\u001b[0;34m.\u001b[0m\u001b[0mio\u001b[0m\u001b[0;34m.\u001b[0m\u001b[0mread_raw_brainvision\u001b[0m\u001b[0;34m(\u001b[0m\u001b[0mraw_fname4\u001b[0m\u001b[0;34m,\u001b[0m\u001b[0mmontage\u001b[0m\u001b[0;34m,\u001b[0m\u001b[0mpreload\u001b[0m\u001b[0;34m=\u001b[0m\u001b[0;32mTrue\u001b[0m\u001b[0;34m)\u001b[0m\u001b[0;34m\u001b[0m\u001b[0;34m\u001b[0m\u001b[0m\n",
      "\u001b[0;32m/media/hcp4715/study/Py_Envs/Py_MNE/lib/python3.6/site-packages/mne/io/brainvision/brainvision.py\u001b[0m in \u001b[0;36mread_raw_brainvision\u001b[0;34m(vhdr_fname, montage, eog, misc, scale, preload, verbose)\u001b[0m\n\u001b[1;32m    823\u001b[0m     return RawBrainVision(vhdr_fname=vhdr_fname, montage=montage, eog=eog,\n\u001b[1;32m    824\u001b[0m                           \u001b[0mmisc\u001b[0m\u001b[0;34m=\u001b[0m\u001b[0mmisc\u001b[0m\u001b[0;34m,\u001b[0m \u001b[0mscale\u001b[0m\u001b[0;34m=\u001b[0m\u001b[0mscale\u001b[0m\u001b[0;34m,\u001b[0m \u001b[0mpreload\u001b[0m\u001b[0;34m=\u001b[0m\u001b[0mpreload\u001b[0m\u001b[0;34m,\u001b[0m\u001b[0;34m\u001b[0m\u001b[0;34m\u001b[0m\u001b[0m\n\u001b[0;32m--> 825\u001b[0;31m                           verbose=verbose)\n\u001b[0m\u001b[1;32m    826\u001b[0m \u001b[0;34m\u001b[0m\u001b[0m\n\u001b[1;32m    827\u001b[0m \u001b[0;34m\u001b[0m\u001b[0m\n",
      "\u001b[0;32m</media/hcp4715/study/Py_Envs/Py_MNE/lib/python3.6/site-packages/mne/externals/decorator.py:decorator-gen-151>\u001b[0m in \u001b[0;36m__init__\u001b[0;34m(self, vhdr_fname, montage, eog, misc, scale, preload, verbose)\u001b[0m\n",
      "\u001b[0;32m/media/hcp4715/study/Py_Envs/Py_MNE/lib/python3.6/site-packages/mne/utils/_logging.py\u001b[0m in \u001b[0;36mwrapper\u001b[0;34m(*args, **kwargs)\u001b[0m\n\u001b[1;32m     88\u001b[0m             \u001b[0;32mwith\u001b[0m \u001b[0muse_log_level\u001b[0m\u001b[0;34m(\u001b[0m\u001b[0mverbose_level\u001b[0m\u001b[0;34m)\u001b[0m\u001b[0;34m:\u001b[0m\u001b[0;34m\u001b[0m\u001b[0;34m\u001b[0m\u001b[0m\n\u001b[1;32m     89\u001b[0m                 \u001b[0;32mreturn\u001b[0m \u001b[0mfunction\u001b[0m\u001b[0;34m(\u001b[0m\u001b[0;34m*\u001b[0m\u001b[0margs\u001b[0m\u001b[0;34m,\u001b[0m \u001b[0;34m**\u001b[0m\u001b[0mkwargs\u001b[0m\u001b[0;34m)\u001b[0m\u001b[0;34m\u001b[0m\u001b[0;34m\u001b[0m\u001b[0m\n\u001b[0;32m---> 90\u001b[0;31m         \u001b[0;32mreturn\u001b[0m \u001b[0mfunction\u001b[0m\u001b[0;34m(\u001b[0m\u001b[0;34m*\u001b[0m\u001b[0margs\u001b[0m\u001b[0;34m,\u001b[0m \u001b[0;34m**\u001b[0m\u001b[0mkwargs\u001b[0m\u001b[0;34m)\u001b[0m\u001b[0;34m\u001b[0m\u001b[0;34m\u001b[0m\u001b[0m\n\u001b[0m\u001b[1;32m     91\u001b[0m     return FunctionMaker.create(\n\u001b[1;32m     92\u001b[0m         \u001b[0mfunction\u001b[0m\u001b[0;34m,\u001b[0m \u001b[0;34m'return decfunc(%(signature)s)'\u001b[0m\u001b[0;34m,\u001b[0m\u001b[0;34m\u001b[0m\u001b[0;34m\u001b[0m\u001b[0m\n",
      "\u001b[0;32m/media/hcp4715/study/Py_Envs/Py_MNE/lib/python3.6/site-packages/mne/io/brainvision/brainvision.py\u001b[0m in \u001b[0;36m__init__\u001b[0;34m(self, vhdr_fname, montage, eog, misc, scale, preload, verbose)\u001b[0m\n\u001b[1;32m     67\u001b[0m         \u001b[0mvhdr_fname\u001b[0m \u001b[0;34m=\u001b[0m \u001b[0mop\u001b[0m\u001b[0;34m.\u001b[0m\u001b[0mabspath\u001b[0m\u001b[0;34m(\u001b[0m\u001b[0mvhdr_fname\u001b[0m\u001b[0;34m)\u001b[0m\u001b[0;34m\u001b[0m\u001b[0;34m\u001b[0m\u001b[0m\n\u001b[1;32m     68\u001b[0m         (info, data_fname, fmt, order, n_samples, mrk_fname, montage,\n\u001b[0;32m---> 69\u001b[0;31m          orig_units) = _get_vhdr_info(vhdr_fname, eog, misc, scale, montage)\n\u001b[0m\u001b[1;32m     70\u001b[0m         \u001b[0mself\u001b[0m\u001b[0;34m.\u001b[0m\u001b[0m_order\u001b[0m \u001b[0;34m=\u001b[0m \u001b[0morder\u001b[0m\u001b[0;34m\u001b[0m\u001b[0;34m\u001b[0m\u001b[0m\n\u001b[1;32m     71\u001b[0m         \u001b[0mself\u001b[0m\u001b[0;34m.\u001b[0m\u001b[0m_n_samples\u001b[0m \u001b[0;34m=\u001b[0m \u001b[0mn_samples\u001b[0m\u001b[0;34m\u001b[0m\u001b[0;34m\u001b[0m\u001b[0m\n",
      "\u001b[0;32m/media/hcp4715/study/Py_Envs/Py_MNE/lib/python3.6/site-packages/mne/io/brainvision/brainvision.py\u001b[0m in \u001b[0;36m_get_vhdr_info\u001b[0;34m(vhdr_fname, eog, misc, scale, montage)\u001b[0m\n\u001b[1;32m    438\u001b[0m                       \"not a file with extension '%s'.\" % ext)\n\u001b[1;32m    439\u001b[0m \u001b[0;34m\u001b[0m\u001b[0m\n\u001b[0;32m--> 440\u001b[0;31m     \u001b[0msettings\u001b[0m\u001b[0;34m,\u001b[0m \u001b[0mcfg\u001b[0m\u001b[0;34m,\u001b[0m \u001b[0mcinfostr\u001b[0m\u001b[0;34m,\u001b[0m \u001b[0minfo\u001b[0m \u001b[0;34m=\u001b[0m \u001b[0m_aux_vhdr_info\u001b[0m\u001b[0;34m(\u001b[0m\u001b[0mvhdr_fname\u001b[0m\u001b[0;34m)\u001b[0m\u001b[0;34m\u001b[0m\u001b[0;34m\u001b[0m\u001b[0m\n\u001b[0m\u001b[1;32m    441\u001b[0m \u001b[0;34m\u001b[0m\u001b[0m\n\u001b[1;32m    442\u001b[0m     \u001b[0morder\u001b[0m \u001b[0;34m=\u001b[0m \u001b[0mcfg\u001b[0m\u001b[0;34m.\u001b[0m\u001b[0mget\u001b[0m\u001b[0;34m(\u001b[0m\u001b[0mcinfostr\u001b[0m\u001b[0;34m,\u001b[0m \u001b[0;34m'DataOrientation'\u001b[0m\u001b[0;34m)\u001b[0m\u001b[0;34m\u001b[0m\u001b[0;34m\u001b[0m\u001b[0m\n",
      "\u001b[0;32m/media/hcp4715/study/Py_Envs/Py_MNE/lib/python3.6/site-packages/mne/io/brainvision/brainvision.py\u001b[0m in \u001b[0;36m_aux_vhdr_info\u001b[0;34m(vhdr_fname)\u001b[0m\n\u001b[1;32m    345\u001b[0m         \u001b[0;31m# same in Latin-1 and UTF-8\u001b[0m\u001b[0;34m\u001b[0m\u001b[0;34m\u001b[0m\u001b[0;34m\u001b[0m\u001b[0m\n\u001b[1;32m    346\u001b[0m         \u001b[0mheader\u001b[0m \u001b[0;34m=\u001b[0m \u001b[0mheader\u001b[0m\u001b[0;34m.\u001b[0m\u001b[0mdecode\u001b[0m\u001b[0;34m(\u001b[0m\u001b[0;34m'ascii'\u001b[0m\u001b[0;34m,\u001b[0m \u001b[0;34m'ignore'\u001b[0m\u001b[0;34m)\u001b[0m\u001b[0;34m.\u001b[0m\u001b[0mstrip\u001b[0m\u001b[0;34m(\u001b[0m\u001b[0;34m)\u001b[0m\u001b[0;34m\u001b[0m\u001b[0;34m\u001b[0m\u001b[0m\n\u001b[0;32m--> 347\u001b[0;31m         \u001b[0m_check_hdr_version\u001b[0m\u001b[0;34m(\u001b[0m\u001b[0mheader\u001b[0m\u001b[0;34m)\u001b[0m\u001b[0;34m\u001b[0m\u001b[0;34m\u001b[0m\u001b[0m\n\u001b[0m\u001b[1;32m    348\u001b[0m \u001b[0;34m\u001b[0m\u001b[0m\n\u001b[1;32m    349\u001b[0m         \u001b[0msettings\u001b[0m \u001b[0;34m=\u001b[0m \u001b[0mf\u001b[0m\u001b[0;34m.\u001b[0m\u001b[0mread\u001b[0m\u001b[0;34m(\u001b[0m\u001b[0;34m)\u001b[0m\u001b[0;34m\u001b[0m\u001b[0;34m\u001b[0m\u001b[0m\n",
      "\u001b[0;32m/media/hcp4715/study/Py_Envs/Py_MNE/lib/python3.6/site-packages/mne/io/brainvision/brainvision.py\u001b[0m in \u001b[0;36m_check_hdr_version\u001b[0;34m(header)\u001b[0m\n\u001b[1;32m    278\u001b[0m     \u001b[0;32melse\u001b[0m\u001b[0;34m:\u001b[0m\u001b[0;34m\u001b[0m\u001b[0;34m\u001b[0m\u001b[0m\n\u001b[1;32m    279\u001b[0m         raise ValueError(\"Currently only support versions 1.0 and 2.0, not %r \"\n\u001b[0;32m--> 280\u001b[0;31m                          \"Contact MNE-Developers for support.\" % header)\n\u001b[0m\u001b[1;32m    281\u001b[0m \u001b[0;34m\u001b[0m\u001b[0m\n\u001b[1;32m    282\u001b[0m \u001b[0;34m\u001b[0m\u001b[0m\n",
      "\u001b[0;31mValueError\u001b[0m: Currently only support versions 1.0 and 2.0, not 'Brain Vision Data Exchange Header File Version 1.0\\r\\r; Data created by the actiCHamp PyCorder\\r\\r\\r\\r[Common Infos]\\r\\rCodepage=UTF-8\\r\\rDataFile=sub29_Moral_asso_1.eeg\\r\\rMarkerFile=sub29_Moral_asso_1.vmrk\\r\\rDataFormat=BINARY\\r\\r; Data orientation: MULTIPLEXED=ch1,pt1, ch2,pt1 ...\\r\\rDataOrientation=MULTIPLEXED\\r\\rNumberOfChannels=63\\r\\r; Sampling interval in microseconds\\r\\rSamplingInterval=2000\\r\\r\\r\\r[Binary Infos]\\r\\rBinaryFormat=IEEE_FLOAT_32\\r\\r\\r\\r[Channel Infos]\\r\\r; Each entry: Ch<Channel number>=<Name>,<Reference channel name>,\\r\\r; <Scaling factor in \"Unit\">,<Unit>, Future extensions..\\r\\r; Fields are delimited by commas, some fields might be omitted (empty).\\r\\r; Commas in channel names are coded as \"\\\\1\".\\r\\rCh1=FP1,REF,1.0,V\\r\\rCh2=FZ,REF,1.0,V\\r\\rCh3=F3,REF,1.0,V\\r\\rCh4=F7,REF,1.0,V\\r\\rCh5=FT9,REF,1.0,V\\r\\rCh6=FC5,REF,1.0,V\\r\\rCh7=FC1,REF,1.0,V\\r\\rCh8=C3,REF,1.0,V\\r\\rCh9=T7,REF,1.0,V\\r\\rCh10=CP5,REF,1.0,V\\r\\rCh11=CP1,REF,1.0,V\\r\\rCh12=Pz,REF,1.0,V\\r\\rCh13=P3,REF,1.0,V\\r\\rCh14=P7,REF,1.0,V\\r\\rCh15=O1,REF,1.0,V\\r\\rCh16=Oz,REF,1.0,V\\r\\rCh17=O2,REF,1.0,V\\r\\rCh18=P4,REF,1.0,V\\r\\rCh19=P8,REF,1.0,V\\r\\rCh20=TP10,REF,1.0,V\\r\\rCh21=CP6,REF,1.0,V\\r\\rCh22=CP2,REF,1.0,V\\r\\rCh23=Cz,REF,1.0,V\\r\\rCh24=C4,REF,1.0,V\\r\\rCh25=T8,REF,1.0,V\\r\\rCh26=FT10,REF,1.0,V\\r\\rCh27=FC6,REF,1.0,V\\r\\rCh28=FC2,REF,1.0,V\\r\\rCh29=F4,REF,1.0,V\\r\\rCh30=F8,REF,1.0,V\\r\\rCh31=FP2,REF,1.0,V\\r\\rCh32=AF7,REF,1.0,V\\r\\rCh33=AF3,REF,1.0,V\\r\\rCh34=AFz,REF,1.0,V\\r\\rCh35=F1,REF,1.0,V\\r\\rCh36=F5,REF,1.0,V\\r\\rCh37=FT7,REF,1.0,V\\r\\rCh38=FC3,REF,1.0,V\\r\\rCh39=FCz,REF,1.0,V\\r\\rCh40=C1,REF,1.0,V\\r\\rCh41=C5,REF,1.0,V\\r\\rCh42=TP7,REF,1.0,V\\r\\rCh43=CP3,REF,1.0,V\\r\\rCh44=P1,REF,1.0,V\\r\\rCh45=P5,REF,1.0,V\\r\\rCh46=PO7,REF,1.0,V\\r\\rCh47=PO3,REF,1.0,V\\r\\rCh48=POz,REF,1.0,V\\r\\rCh49=PO4,REF,1.0,V\\r\\rCh50=PO8,REF,1.0,V\\r\\rCh51=P6,REF,1.0,V\\r\\rCh52=P2,REF,1.0,V\\r\\rCh53=CPz,REF,1.0,V\\r\\rCh54=CP4,REF,1.0,V\\r\\rCh55=TP8,REF,1.0,V\\r\\rCh56=C6,REF,1.0,V\\r\\rCh57=C2,REF,1.0,V\\r\\rCh58=FC4,REF,1.0,V\\r\\rCh59=FT8,REF,1.0,V\\r\\rCh60=F6,REF,1.0,V\\r\\rCh61=F2,REF,1.0,V\\r\\rCh62=AF4,REF,1.0,V\\r\\rCh63=AF8,REF,1.0,V\\r\\r\\r\\r[Comment]\\r\\rPyCorder V1.0.4\\r\\rAmplifier\\ractiCHamp (5001) SN: 12110121\\rModule 1  (5010) SN: 12110238\\rModule 2  (5010) SN: 13040342\\rModule 3  (5010) SN: 12110298\\rModule 4  (5010) SN: 13050351\\rModule 5  n.a.\\rVersion: DLL_17.12.11.16, DRV_03.04.01.146, CTRL_04.11.04.28, FPGA_44.00.00.00, DSP_06.11.05.25\\r\\r\\r\\r\\rReference channel: TP9\\r\\r\\r\\rImpedance [KOhm] at 14:47:43\\r\\r  1 FP1: 1\\r\\r  2 FZ: 2\\r\\r  3 F3: 2\\r\\r  4 F7: 4\\r\\r  5 FT9: 4\\r\\r  6 FC5: 3\\r\\r  7 FC1: 1\\r\\r  8 C3: 1\\r\\r  9 T7: 3\\r\\r 10 REF_TP9: 0\\r\\r 11 CP5: 2\\r\\r 12 CP1: 4\\r\\r 13 Pz: 2\\r\\r 14 P3: 2\\r\\r 15 P7: 2\\r\\r 16 O1: 3\\r\\r 17 Oz: 4\\r\\r 18 O2: 6\\r\\r 19 P4: 3\\r\\r 20 P8: 2\\r\\r 21 TP10: 3\\r\\r 22 CP6: 5\\r\\r 23 CP2: 4\\r\\r 24 Cz: 1\\r\\r 25 C4: 5\\r\\r 26 T8: 4\\r\\r 27 FT10: 1\\r\\r 28 FC6: 3\\r\\r 29 FC2: 2\\r\\r 30 F4: 0\\r\\r 31 F8: 4\\r\\r 32 FP2: 3\\r\\r 33 AF7: 2\\r\\r 34 AF3: 1\\r\\r 35 AFz: 4\\r\\r 36 F1: 0\\r\\r 37 F5: 5\\r\\r 38 FT7: 8\\r\\r 39 FC3: 2\\r\\r 40 FCz: 1\\r\\r 41 C1: 5\\r\\r 42 C5: 1\\r\\r 43 TP7: 3\\r\\r 44 CP3: 3\\r\\r 45 P1: 1\\r\\r 46 P5: 0\\r\\r 47 PO7: 1\\r\\r 48 PO3: 4\\r\\r 49 POz: 4\\r\\r 50 PO4: 3\\r\\r 51 PO8: 1\\r\\r 52 P6: 4\\r\\r 53 P2: 2\\r\\r 54 CPz: 1\\r\\r 55 CP4: 1\\r\\r 56 TP8: 1\\r\\r 57 C6: 1\\r\\r 58 C2: 0\\r\\r 59 FC4: 1\\r\\r 60 FT8: 3\\r\\r 61 F6: 5\\r\\r 62 F2: 2\\r\\r 63 AF4: 7\\r\\r 64 AF8: 2\\r\\rGND: 1' Contact MNE-Developers for support."
     ]
    }
   ],
   "source": [
    "#read each bolck data\n",
    "raw1=mne.io.read_raw_brainvision(raw_fname1,montage,preload=True)\n",
    "raw2=mne.io.read_raw_brainvision(raw_fname2,montage,preload=True)\n",
    "raw3=mne.io.read_raw_brainvision(raw_fname3,montage,preload=True)\n",
    "raw4=mne.io.read_raw_brainvision(raw_fname4,montage,preload=True)\n",
    "raw5=mne.io.read_raw_brainvision(raw_fname5,montage,preload=True)"
   ]
  },
  {
   "cell_type": "code",
   "execution_count": 5,
   "metadata": {},
   "outputs": [
    {
     "ename": "NameError",
     "evalue": "name 'raw1' is not defined",
     "output_type": "error",
     "traceback": [
      "\u001b[0;31m---------------------------------------------------------------------------\u001b[0m",
      "\u001b[0;31mNameError\u001b[0m                                 Traceback (most recent call last)",
      "\u001b[0;32m<ipython-input-5-74c51e43b8be>\u001b[0m in \u001b[0;36m<module>\u001b[0;34m\u001b[0m\n\u001b[1;32m      1\u001b[0m \u001b[0;31m#find events from annoatations\u001b[0m\u001b[0;34m\u001b[0m\u001b[0;34m\u001b[0m\u001b[0;34m\u001b[0m\u001b[0m\n\u001b[0;32m----> 2\u001b[0;31m \u001b[0mevents1\u001b[0m\u001b[0;34m,\u001b[0m\u001b[0mevents_id1\u001b[0m\u001b[0;34m=\u001b[0m\u001b[0mmne\u001b[0m\u001b[0;34m.\u001b[0m\u001b[0mevents_from_annotations\u001b[0m\u001b[0;34m(\u001b[0m\u001b[0mraw1\u001b[0m\u001b[0;34m,\u001b[0m\u001b[0mevent_id\u001b[0m\u001b[0;34m=\u001b[0m\u001b[0;34m'auto'\u001b[0m\u001b[0;34m)\u001b[0m\u001b[0;34m\u001b[0m\u001b[0;34m\u001b[0m\u001b[0m\n\u001b[0m\u001b[1;32m      3\u001b[0m \u001b[0mevents2\u001b[0m\u001b[0;34m,\u001b[0m\u001b[0mevents_id2\u001b[0m\u001b[0;34m=\u001b[0m\u001b[0mmne\u001b[0m\u001b[0;34m.\u001b[0m\u001b[0mevents_from_annotations\u001b[0m\u001b[0;34m(\u001b[0m\u001b[0mraw2\u001b[0m\u001b[0;34m,\u001b[0m\u001b[0mevent_id\u001b[0m\u001b[0;34m=\u001b[0m\u001b[0;34m'auto'\u001b[0m\u001b[0;34m)\u001b[0m\u001b[0;34m\u001b[0m\u001b[0;34m\u001b[0m\u001b[0m\n\u001b[1;32m      4\u001b[0m \u001b[0mevents3\u001b[0m\u001b[0;34m,\u001b[0m\u001b[0mevents_id3\u001b[0m\u001b[0;34m=\u001b[0m\u001b[0mmne\u001b[0m\u001b[0;34m.\u001b[0m\u001b[0mevents_from_annotations\u001b[0m\u001b[0;34m(\u001b[0m\u001b[0mraw3\u001b[0m\u001b[0;34m,\u001b[0m\u001b[0mevent_id\u001b[0m\u001b[0;34m=\u001b[0m\u001b[0;34m'auto'\u001b[0m\u001b[0;34m)\u001b[0m\u001b[0;34m\u001b[0m\u001b[0;34m\u001b[0m\u001b[0m\n\u001b[1;32m      5\u001b[0m \u001b[0mevents4\u001b[0m\u001b[0;34m,\u001b[0m\u001b[0mevents_id4\u001b[0m\u001b[0;34m=\u001b[0m\u001b[0mmne\u001b[0m\u001b[0;34m.\u001b[0m\u001b[0mevents_from_annotations\u001b[0m\u001b[0;34m(\u001b[0m\u001b[0mraw4\u001b[0m\u001b[0;34m,\u001b[0m\u001b[0mevent_id\u001b[0m\u001b[0;34m=\u001b[0m\u001b[0;34m'auto'\u001b[0m\u001b[0;34m)\u001b[0m\u001b[0;34m\u001b[0m\u001b[0;34m\u001b[0m\u001b[0m\n",
      "\u001b[0;31mNameError\u001b[0m: name 'raw1' is not defined"
     ]
    }
   ],
   "source": [
    "#find events from annoatations\n",
    "events1,events_id1=mne.events_from_annotations(raw1,event_id='auto') \n",
    "events2,events_id2=mne.events_from_annotations(raw2,event_id='auto') \n",
    "events3,events_id3=mne.events_from_annotations(raw3,event_id='auto') \n",
    "events4,events_id4=mne.events_from_annotations(raw4,event_id='auto') \n",
    "events5,events_id5=mne.events_from_annotations(raw5,event_id='auto') "
   ]
  },
  {
   "cell_type": "code",
   "execution_count": null,
   "metadata": {},
   "outputs": [],
   "source": [
    "#plot events and compare\n",
    "fig1=mne.viz.plot_events(events=events1,event_id=events_id1,sfreq=raw1.info['sfreq'])\n",
    "fig2=mne.viz.plot_events(events=events2,event_id=events_id2,sfreq=raw2.info['sfreq'])\n",
    "fig3=mne.viz.plot_events(events=events3,event_id=events_id3,sfreq=raw3.info['sfreq'])\n",
    "fig4=mne.viz.plot_events(events=events4,event_id=events_id4,sfreq=raw4.info['sfreq'])\n",
    "fig5=mne.viz.plot_events(events=events5,event_id=events_id5,sfreq=raw5.info['sfreq'])"
   ]
  }
 ],
 "metadata": {
  "kernelspec": {
   "display_name": "Python 3",
   "language": "python",
   "name": "python3"
  },
  "language_info": {
   "codemirror_mode": {
    "name": "ipython",
    "version": 3
   },
   "file_extension": ".py",
   "mimetype": "text/x-python",
   "name": "python",
   "nbconvert_exporter": "python",
   "pygments_lexer": "ipython3",
   "version": "3.6.8"
  }
 },
 "nbformat": 4,
 "nbformat_minor": 2
}
