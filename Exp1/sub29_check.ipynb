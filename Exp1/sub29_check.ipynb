{
 "cells": [
  {
   "cell_type": "markdown",
   "metadata": {},
   "source": [
    "### Purpose of this script\n",
    "To visualize the trigger in the blocks that were without any annotation in metadata."
   ]
  },
  {
   "cell_type": "code",
   "execution_count": 1,
   "metadata": {},
   "outputs": [],
   "source": [
    "import mne\n",
    "import os\n",
    "%matplotlib qt"
   ]
  },
  {
   "cell_type": "code",
   "execution_count": 2,
   "metadata": {},
   "outputs": [],
   "source": [
    "#define raw path name\n",
    "raw_fname1=('RawData/eeg/sub29/sub_Moral_asso_1.vhdr')\n",
    "raw_fname2=('RawData/eeg/sub29/sub29_Moral_asso_10.vhdr')\n",
    "raw_fname3=('RawData/eeg/sub29/sub29_Moral_asso_9.1.vhdr')\n",
    "raw_fname4=('RawData/eeg/sub29/sub29_Moral_asso_9.vhdr')\n",
    "raw_fname5=('RawData/eeg/sub29/sub29_Moral_asso_2.vhdr')"
   ]
  },
  {
   "cell_type": "code",
   "execution_count": 4,
   "metadata": {},
   "outputs": [],
   "source": [
    "#define montage\n",
    "montage=mne.channels.make_standard_montage('standard_1020')\n"
   ]
  },
  {
   "cell_type": "code",
   "execution_count": 6,
   "metadata": {},
   "outputs": [
    {
     "data": {
      "text/plain": [
       "<DigMontage | 0 extras (headshape), 0 HPIs, 3 fiducials, 94 channels>"
      ]
     },
     "execution_count": 6,
     "metadata": {},
     "output_type": "execute_result"
    }
   ],
   "source": [
    "montage"
   ]
  },
  {
   "cell_type": "code",
   "execution_count": 5,
   "metadata": {},
   "outputs": [
    {
     "name": "stdout",
     "output_type": "stream",
     "text": [
      "Extracting parameters from RawData/eeg/sub29/sub_Moral_asso_1.vhdr...\n",
      "Setting channel info structure...\n"
     ]
    },
    {
     "ename": "TypeError",
     "evalue": "argument of type 'DigMontage' is not iterable",
     "output_type": "error",
     "traceback": [
      "\u001b[0;31m---------------------------------------------------------------------------\u001b[0m",
      "\u001b[0;31mTypeError\u001b[0m                                 Traceback (most recent call last)",
      "\u001b[0;32m/tmp/ipykernel_75109/3763428007.py\u001b[0m in \u001b[0;36m<module>\u001b[0;34m\u001b[0m\n\u001b[1;32m      1\u001b[0m \u001b[0;31m#read each bolck data\u001b[0m\u001b[0;34m\u001b[0m\u001b[0;34m\u001b[0m\u001b[0m\n\u001b[0;32m----> 2\u001b[0;31m \u001b[0mraw1\u001b[0m\u001b[0;34m=\u001b[0m\u001b[0mmne\u001b[0m\u001b[0;34m.\u001b[0m\u001b[0mio\u001b[0m\u001b[0;34m.\u001b[0m\u001b[0mread_raw_brainvision\u001b[0m\u001b[0;34m(\u001b[0m\u001b[0mraw_fname1\u001b[0m\u001b[0;34m,\u001b[0m\u001b[0mmontage\u001b[0m\u001b[0;34m,\u001b[0m\u001b[0mpreload\u001b[0m\u001b[0;34m=\u001b[0m\u001b[0;32mTrue\u001b[0m\u001b[0;34m)\u001b[0m\u001b[0;34m\u001b[0m\u001b[0;34m\u001b[0m\u001b[0m\n\u001b[0m\u001b[1;32m      3\u001b[0m \u001b[0mraw2\u001b[0m\u001b[0;34m=\u001b[0m\u001b[0mmne\u001b[0m\u001b[0;34m.\u001b[0m\u001b[0mio\u001b[0m\u001b[0;34m.\u001b[0m\u001b[0mread_raw_brainvision\u001b[0m\u001b[0;34m(\u001b[0m\u001b[0mraw_fname2\u001b[0m\u001b[0;34m,\u001b[0m\u001b[0mmontage\u001b[0m\u001b[0;34m,\u001b[0m\u001b[0mpreload\u001b[0m\u001b[0;34m=\u001b[0m\u001b[0;32mTrue\u001b[0m\u001b[0;34m)\u001b[0m\u001b[0;34m\u001b[0m\u001b[0;34m\u001b[0m\u001b[0m\n\u001b[1;32m      4\u001b[0m \u001b[0mraw3\u001b[0m\u001b[0;34m=\u001b[0m\u001b[0mmne\u001b[0m\u001b[0;34m.\u001b[0m\u001b[0mio\u001b[0m\u001b[0;34m.\u001b[0m\u001b[0mread_raw_brainvision\u001b[0m\u001b[0;34m(\u001b[0m\u001b[0mraw_fname3\u001b[0m\u001b[0;34m,\u001b[0m\u001b[0mmontage\u001b[0m\u001b[0;34m,\u001b[0m\u001b[0mpreload\u001b[0m\u001b[0;34m=\u001b[0m\u001b[0;32mTrue\u001b[0m\u001b[0;34m)\u001b[0m\u001b[0;34m\u001b[0m\u001b[0;34m\u001b[0m\u001b[0m\n\u001b[1;32m      5\u001b[0m \u001b[0mraw4\u001b[0m\u001b[0;34m=\u001b[0m\u001b[0mmne\u001b[0m\u001b[0;34m.\u001b[0m\u001b[0mio\u001b[0m\u001b[0;34m.\u001b[0m\u001b[0mread_raw_brainvision\u001b[0m\u001b[0;34m(\u001b[0m\u001b[0mraw_fname4\u001b[0m\u001b[0;34m,\u001b[0m\u001b[0mmontage\u001b[0m\u001b[0;34m,\u001b[0m\u001b[0mpreload\u001b[0m\u001b[0;34m=\u001b[0m\u001b[0;32mTrue\u001b[0m\u001b[0;34m)\u001b[0m\u001b[0;34m\u001b[0m\u001b[0;34m\u001b[0m\u001b[0m\n",
      "\u001b[0;32m~/miniconda3/envs/mne/lib/python3.9/site-packages/mne/io/brainvision/brainvision.py\u001b[0m in \u001b[0;36mread_raw_brainvision\u001b[0;34m(vhdr_fname, eog, misc, scale, preload, verbose)\u001b[0m\n\u001b[1;32m    832\u001b[0m     \u001b[0mmne\u001b[0m\u001b[0;34m.\u001b[0m\u001b[0mio\u001b[0m\u001b[0;34m.\u001b[0m\u001b[0mRaw\u001b[0m \u001b[0;34m:\u001b[0m \u001b[0mDocumentation\u001b[0m \u001b[0mof\u001b[0m \u001b[0mattribute\u001b[0m \u001b[0;32mand\u001b[0m \u001b[0mmethods\u001b[0m\u001b[0;34m.\u001b[0m\u001b[0;34m\u001b[0m\u001b[0;34m\u001b[0m\u001b[0m\n\u001b[1;32m    833\u001b[0m     \"\"\"\n\u001b[0;32m--> 834\u001b[0;31m     return RawBrainVision(vhdr_fname=vhdr_fname, eog=eog,\n\u001b[0m\u001b[1;32m    835\u001b[0m                           \u001b[0mmisc\u001b[0m\u001b[0;34m=\u001b[0m\u001b[0mmisc\u001b[0m\u001b[0;34m,\u001b[0m \u001b[0mscale\u001b[0m\u001b[0;34m=\u001b[0m\u001b[0mscale\u001b[0m\u001b[0;34m,\u001b[0m \u001b[0mpreload\u001b[0m\u001b[0;34m=\u001b[0m\u001b[0mpreload\u001b[0m\u001b[0;34m,\u001b[0m\u001b[0;34m\u001b[0m\u001b[0;34m\u001b[0m\u001b[0m\n\u001b[1;32m    836\u001b[0m                           verbose=verbose)\n",
      "\u001b[0;32m<decorator-gen-193>\u001b[0m in \u001b[0;36m__init__\u001b[0;34m(self, vhdr_fname, eog, misc, scale, preload, verbose)\u001b[0m\n",
      "\u001b[0;32m~/miniconda3/envs/mne/lib/python3.9/site-packages/mne/io/brainvision/brainvision.py\u001b[0m in \u001b[0;36m__init__\u001b[0;34m(self, vhdr_fname, eog, misc, scale, preload, verbose)\u001b[0m\n\u001b[1;32m     70\u001b[0m         \u001b[0mvhdr_fname\u001b[0m \u001b[0;34m=\u001b[0m \u001b[0mop\u001b[0m\u001b[0;34m.\u001b[0m\u001b[0mabspath\u001b[0m\u001b[0;34m(\u001b[0m\u001b[0mvhdr_fname\u001b[0m\u001b[0;34m)\u001b[0m\u001b[0;34m\u001b[0m\u001b[0;34m\u001b[0m\u001b[0m\n\u001b[1;32m     71\u001b[0m         (info, data_fname, fmt, order, n_samples, mrk_fname, montage,\n\u001b[0;32m---> 72\u001b[0;31m          orig_units) = _get_vhdr_info(vhdr_fname, eog, misc, scale)\n\u001b[0m\u001b[1;32m     73\u001b[0m \u001b[0;34m\u001b[0m\u001b[0m\n\u001b[1;32m     74\u001b[0m         \u001b[0;32mwith\u001b[0m \u001b[0mopen\u001b[0m\u001b[0;34m(\u001b[0m\u001b[0mdata_fname\u001b[0m\u001b[0;34m,\u001b[0m \u001b[0;34m'rb'\u001b[0m\u001b[0;34m)\u001b[0m \u001b[0;32mas\u001b[0m \u001b[0mf\u001b[0m\u001b[0;34m:\u001b[0m\u001b[0;34m\u001b[0m\u001b[0;34m\u001b[0m\u001b[0m\n",
      "\u001b[0;32m~/miniconda3/envs/mne/lib/python3.9/site-packages/mne/io/brainvision/brainvision.py\u001b[0m in \u001b[0;36m_get_vhdr_info\u001b[0;34m(vhdr_fname, eog, misc, scale)\u001b[0m\n\u001b[1;32m    767\u001b[0m     \u001b[0minfo\u001b[0m\u001b[0;34m[\u001b[0m\u001b[0;34m'chs'\u001b[0m\u001b[0;34m]\u001b[0m \u001b[0;34m=\u001b[0m \u001b[0;34m[\u001b[0m\u001b[0;34m]\u001b[0m\u001b[0;34m\u001b[0m\u001b[0;34m\u001b[0m\u001b[0m\n\u001b[1;32m    768\u001b[0m     \u001b[0;32mfor\u001b[0m \u001b[0midx\u001b[0m\u001b[0;34m,\u001b[0m \u001b[0mch_name\u001b[0m \u001b[0;32min\u001b[0m \u001b[0menumerate\u001b[0m\u001b[0;34m(\u001b[0m\u001b[0mch_names\u001b[0m\u001b[0;34m)\u001b[0m\u001b[0;34m:\u001b[0m\u001b[0;34m\u001b[0m\u001b[0;34m\u001b[0m\u001b[0m\n\u001b[0;32m--> 769\u001b[0;31m         \u001b[0;32mif\u001b[0m \u001b[0mch_name\u001b[0m \u001b[0;32min\u001b[0m \u001b[0meog\u001b[0m \u001b[0;32mor\u001b[0m \u001b[0midx\u001b[0m \u001b[0;32min\u001b[0m \u001b[0meog\u001b[0m \u001b[0;32mor\u001b[0m \u001b[0midx\u001b[0m \u001b[0;34m-\u001b[0m \u001b[0mnchan\u001b[0m \u001b[0;32min\u001b[0m \u001b[0meog\u001b[0m\u001b[0;34m:\u001b[0m\u001b[0;34m\u001b[0m\u001b[0;34m\u001b[0m\u001b[0m\n\u001b[0m\u001b[1;32m    770\u001b[0m             \u001b[0mkind\u001b[0m \u001b[0;34m=\u001b[0m \u001b[0mFIFF\u001b[0m\u001b[0;34m.\u001b[0m\u001b[0mFIFFV_EOG_CH\u001b[0m\u001b[0;34m\u001b[0m\u001b[0;34m\u001b[0m\u001b[0m\n\u001b[1;32m    771\u001b[0m             \u001b[0mcoil_type\u001b[0m \u001b[0;34m=\u001b[0m \u001b[0mFIFF\u001b[0m\u001b[0;34m.\u001b[0m\u001b[0mFIFFV_COIL_NONE\u001b[0m\u001b[0;34m\u001b[0m\u001b[0;34m\u001b[0m\u001b[0m\n",
      "\u001b[0;31mTypeError\u001b[0m: argument of type 'DigMontage' is not iterable"
     ]
    }
   ],
   "source": [
    "#read each bolck data\n",
    "raw1=mne.io.read_raw_brainvision(raw_fname1,montage,preload=True)\n",
    "raw2=mne.io.read_raw_brainvision(raw_fname2,montage,preload=True)\n",
    "raw3=mne.io.read_raw_brainvision(raw_fname3,montage,preload=True)\n",
    "raw4=mne.io.read_raw_brainvision(raw_fname4,montage,preload=True)\n",
    "raw5=mne.io.read_raw_brainvision(raw_fname5,montage,preload=True)"
   ]
  },
  {
   "cell_type": "code",
   "execution_count": null,
   "metadata": {},
   "outputs": [],
   "source": []
  },
  {
   "cell_type": "code",
   "execution_count": 14,
   "metadata": {},
   "outputs": [
    {
     "name": "stdout",
     "output_type": "stream",
     "text": [
      "Used Annotations descriptions: ['New Segment/', 'Response/R  1', 'Response/R  2', 'Response/R  3', 'Response/R  4', 'Response/R  5', 'Response/R  6', 'Response/R 13', 'Response/R 14', 'Stimulus/S  3', 'Stimulus/S  5', 'Stimulus/S  7', 'Stimulus/S  9', 'Stimulus/S 11', 'Stimulus/S 13', 'Stimulus/S 15']\n",
      "Used Annotations descriptions: ['New Segment/', 'Response/R  1', 'Response/R  2', 'Response/R  3', 'Response/R  4', 'Response/R  5', 'Response/R  6', 'Response/R 13', 'Response/R 14', 'Stimulus/S  3', 'Stimulus/S  5', 'Stimulus/S  7', 'Stimulus/S  9', 'Stimulus/S 11', 'Stimulus/S 13', 'Stimulus/S 15']\n",
      "Used Annotations descriptions: ['New Segment/', 'Response/R  1', 'Response/R  2', 'Response/R  3', 'Response/R  4', 'Response/R  5', 'Response/R  6', 'Response/R 13', 'Response/R 14', 'Response/R 15', 'Stimulus/S  3', 'Stimulus/S  5', 'Stimulus/S  7', 'Stimulus/S  9', 'Stimulus/S 11', 'Stimulus/S 13', 'Stimulus/S 15']\n",
      "Used Annotations descriptions: ['New Segment/', 'Response/R  1', 'Response/R  2', 'Response/R  3', 'Response/R  4', 'Response/R  5', 'Response/R  6', 'Response/R 13', 'Response/R 14', 'Stimulus/S  3', 'Stimulus/S  5', 'Stimulus/S  7', 'Stimulus/S  9', 'Stimulus/S 11', 'Stimulus/S 13', 'Stimulus/S 15']\n",
      "Used Annotations descriptions: ['New Segment/', 'Response/R  1', 'Response/R  2', 'Response/R  3', 'Response/R  4', 'Response/R  5', 'Response/R  6', 'Response/R 13', 'Response/R 14', 'Stimulus/S  3', 'Stimulus/S  5', 'Stimulus/S  7', 'Stimulus/S  9', 'Stimulus/S 11', 'Stimulus/S 13', 'Stimulus/S 15']\n"
     ]
    }
   ],
   "source": [
    "#find events from annoatations\n",
    "events1,events_id1=mne.events_from_annotations(raw1,event_id='auto') \n",
    "events2,events_id2=mne.events_from_annotations(raw2,event_id='auto') \n",
    "events3,events_id3=mne.events_from_annotations(raw3,event_id='auto') \n",
    "events4,events_id4=mne.events_from_annotations(raw4,event_id='auto') \n",
    "events5,events_id5=mne.events_from_annotations(raw5,event_id='auto') "
   ]
  },
  {
   "cell_type": "code",
   "execution_count": 15,
   "metadata": {
    "scrolled": true
   },
   "outputs": [
    {
     "name": "stderr",
     "output_type": "stream",
     "text": [
      "<ipython-input-15-869eb4650b62>:2: RuntimeWarning: More events than colors available. You should pass a list of unique colors.\n",
      "  fig1=mne.viz.plot_events(events=events1,event_id=events_id1,sfreq=raw1.info['sfreq'])\n",
      "<ipython-input-15-869eb4650b62>:3: RuntimeWarning: More events than colors available. You should pass a list of unique colors.\n",
      "  fig2=mne.viz.plot_events(events=events2,event_id=events_id2,sfreq=raw2.info['sfreq'])\n",
      "<ipython-input-15-869eb4650b62>:4: RuntimeWarning: More events than colors available. You should pass a list of unique colors.\n",
      "  fig3=mne.viz.plot_events(events=events3,event_id=events_id3,sfreq=raw3.info['sfreq'])\n",
      "<ipython-input-15-869eb4650b62>:5: RuntimeWarning: More events than colors available. You should pass a list of unique colors.\n",
      "  fig4=mne.viz.plot_events(events=events4,event_id=events_id4,sfreq=raw4.info['sfreq'])\n",
      "<ipython-input-15-869eb4650b62>:6: RuntimeWarning: More events than colors available. You should pass a list of unique colors.\n",
      "  fig5=mne.viz.plot_events(events=events5,event_id=events_id5,sfreq=raw5.info['sfreq'])\n"
     ]
    }
   ],
   "source": [
    "#plot events and compare\n",
    "fig1=mne.viz.plot_events(events=events1,event_id=events_id1,sfreq=raw1.info['sfreq'])\n",
    "fig2=mne.viz.plot_events(events=events2,event_id=events_id2,sfreq=raw2.info['sfreq'])\n",
    "fig3=mne.viz.plot_events(events=events3,event_id=events_id3,sfreq=raw3.info['sfreq'])\n",
    "fig4=mne.viz.plot_events(events=events4,event_id=events_id4,sfreq=raw4.info['sfreq'])\n",
    "fig5=mne.viz.plot_events(events=events5,event_id=events_id5,sfreq=raw5.info['sfreq'])"
   ]
  }
 ],
 "metadata": {
  "kernelspec": {
   "display_name": "Python 3",
   "language": "python",
   "name": "python3"
  },
  "language_info": {
   "codemirror_mode": {
    "name": "ipython",
    "version": 3
   },
   "file_extension": ".py",
   "mimetype": "text/x-python",
   "name": "python",
   "nbconvert_exporter": "python",
   "pygments_lexer": "ipython3",
   "version": "3.9.7"
  }
 },
 "nbformat": 4,
 "nbformat_minor": 2
}
