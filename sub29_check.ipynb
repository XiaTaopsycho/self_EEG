{
 "cells": [
  {
   "cell_type": "code",
   "execution_count": null,
   "metadata": {},
   "outputs": [],
   "source": [
    "import mne\n",
    "import os\n",
    "%matplotlib qt"
   ]
  },
  {
   "cell_type": "code",
   "execution_count": null,
   "metadata": {},
   "outputs": [],
   "source": [
    "#define raw path name\n",
    "raw_fname1=('RawData/eeg/sub29/sub29_Moral_asso_1.vhdr')\n",
    "raw_fname2=('RawData/eeg/sub29/sub29_Moral_asso_10.vhdr')\n",
    "raw_fname3=('RawData/eeg/sub29/sub29_Moral_asso_9.1.vhdr')\n",
    "raw_fname4=('RawData/eeg/sub29/sub29_Moral_asso_9.vhdr')\n",
    "raw_fname5=('RawData/eeg/sub29/sub29_Moral_asso_2.vhdr')"
   ]
  },
  {
   "cell_type": "code",
   "execution_count": null,
   "metadata": {},
   "outputs": [],
   "source": [
    "#define montage\n",
    "montage=mne.channels.read_montage('standard_1020')\n"
   ]
  },
  {
   "cell_type": "code",
   "execution_count": null,
   "metadata": {},
   "outputs": [],
   "source": [
    "#read each bolck data\n",
    "raw1=mne.io.read_raw_brainvision(raw_fname1,montage,preload=True)\n",
    "raw2=mne.io.read_raw_brainvision(raw_fname2,montage,preload=True)\n",
    "raw3=mne.io.read_raw_brainvision(raw_fname3,montage,preload=True)\n",
    "raw4=mne.io.read_raw_brainvision(raw_fname4,montage,preload=True)\n",
    "raw5=mne.io.read_raw_brainvision(raw_fname5,montage,preload=True)"
   ]
  },
  {
   "cell_type": "code",
   "execution_count": null,
   "metadata": {},
   "outputs": [],
   "source": [
    "#find events from annoatations\n",
    "events1,events_id1=mne.events_from_annotations(raw1,event_id='auto') \n",
    "events2,events_id2=mne.events_from_annotations(raw2,event_id='auto') \n",
    "events3,events_id3=mne.events_from_annotations(raw3,event_id='auto') \n",
    "events4,events_id4=mne.events_from_annotations(raw4,event_id='auto') \n",
    "events5,events_id5=mne.events_from_annotations(raw5,event_id='auto') "
   ]
  },
  {
   "cell_type": "code",
   "execution_count": null,
   "metadata": {},
   "outputs": [],
   "source": [
    "#plot events and compare\n",
    "fig1=mne.viz.plot_events(events=events1,event_id=events_id1,sfreq=raw1.info['sfreq'])\n",
    "fig2=mne.viz.plot_events(events=events2,event_id=events_id2,sfreq=raw2.info['sfreq'])\n",
    "fig3=mne.viz.plot_events(events=events3,event_id=events_id3,sfreq=raw3.info['sfreq'])\n",
    "fig4=mne.viz.plot_events(events=events4,event_id=events_id4,sfreq=raw4.info['sfreq'])\n",
    "fig5=mne.viz.plot_events(events=events5,event_id=events_id5,sfreq=raw5.info['sfreq'])"
   ]
  }
 ],
 "metadata": {
  "kernelspec": {
   "display_name": "Python 3",
   "language": "python",
   "name": "python3"
  },
  "language_info": {
   "codemirror_mode": {
    "name": "ipython",
    "version": 3
   },
   "file_extension": ".py",
   "mimetype": "text/x-python",
   "name": "python",
   "nbconvert_exporter": "python",
   "pygments_lexer": "ipython3",
   "version": "3.7.4"
  }
 },
 "nbformat": 4,
 "nbformat_minor": 2
}
