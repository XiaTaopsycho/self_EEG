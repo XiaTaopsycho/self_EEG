{
 "cells": [
  {
   "cell_type": "code",
   "execution_count": 1,
   "metadata": {},
   "outputs": [],
   "source": [
    "%matplotlib qt\n",
    "import mne\n",
    "import os\n",
    "from mne_bids import write_raw_bids,make_bids_basename"
   ]
  },
  {
   "cell_type": "code",
   "execution_count": 2,
   "metadata": {},
   "outputs": [
    {
     "name": "stdout",
     "output_type": "stream",
     "text": [
      "Python v3.6.8 |Anaconda, Inc.| (default, Dec 30 2018, 01:22:34) \n",
      "[GCC 7.3.0]\n",
      "MNE v0.19.0\n"
     ]
    }
   ],
   "source": [
    "import sys\n",
    "print('Python v{}'.format(sys.version))\n",
    "print('MNE v{}'.format(mne.__version__))"
   ]
  },
  {
   "cell_type": "code",
   "execution_count": 3,
   "metadata": {},
   "outputs": [
    {
     "ename": "FileNotFoundError",
     "evalue": "[Errno 2] No such file or directory: 'RawData/eeg/'",
     "output_type": "error",
     "traceback": [
      "\u001b[0;31m---------------------------------------------------------------------------\u001b[0m",
      "\u001b[0;31mFileNotFoundError\u001b[0m                         Traceback (most recent call last)",
      "\u001b[0;32m<ipython-input-3-c7c5679e24b0>\u001b[0m in \u001b[0;36m<module>\u001b[0;34m\u001b[0m\n\u001b[1;32m      1\u001b[0m \u001b[0mraw_fname\u001b[0m \u001b[0;34m=\u001b[0m \u001b[0;34m(\u001b[0m\u001b[0;34m'RawData/eeg/'\u001b[0m\u001b[0;34m)\u001b[0m\u001b[0;34m\u001b[0m\u001b[0;34m\u001b[0m\u001b[0m\n\u001b[0;32m----> 2\u001b[0;31m \u001b[0msubjectlist\u001b[0m \u001b[0;34m=\u001b[0m \u001b[0mos\u001b[0m\u001b[0;34m.\u001b[0m\u001b[0mlistdir\u001b[0m\u001b[0;34m(\u001b[0m\u001b[0mraw_fname\u001b[0m\u001b[0;34m)\u001b[0m\u001b[0;34m\u001b[0m\u001b[0;34m\u001b[0m\u001b[0m\n\u001b[0m",
      "\u001b[0;31mFileNotFoundError\u001b[0m: [Errno 2] No such file or directory: 'RawData/eeg/'"
     ]
    }
   ],
   "source": [
    "raw_fname = ('RawData/eeg/')\n",
    "subjectlist = os.listdir(raw_fname)"
   ]
  },
  {
   "cell_type": "code",
   "execution_count": null,
   "metadata": {},
   "outputs": [],
   "source": [
    "for subject in subjectlist:\n",
    "    montage=mne.channels.read_montage('standard_1020')#read montage\n",
    "    raw_name_path=os.path.join(raw_fname,subject)\n",
    "    for i in range(1,10):#read block\n",
    "        block_path=(subject +'_Moral_asso_'+str(i)+'.vhdr')\n",
    "        eeg_path=os.path.join(raw_name_path,block_path)\n",
    "        raw=mne.io.read_raw_brainvision(eeg_path,montage,preload=False)\n",
    "        events,events_id=mne.events_from_annotations(raw,event_id='auto')     \n",
    "        if len(subject)==4:#change the subject name from sub6 to sub06 and save them as fif\n",
    "            d=list(subject)\n",
    "            d.insert(3,'0')\n",
    "            subject1=\"\".join(d)\n",
    "            bids_basename = make_bids_basename(subject1[3:5], run=i, task='Moral')\n",
    "            write_raw_bids(raw, bids_basename=bids_basename, output_path='./BIDS',event_id=events_id,events_data=events,overwrite=True)\n",
    "        elif len(subject)==5:\n",
    "            bids_basename1 = make_bids_basename(subject[3:5], run=i, task='Moral')\n",
    "            write_raw_bids(raw, bids_basename=bids_basename1, output_path='./BIDS',event_id=events_id,events_data=events,overwrite=True)"
   ]
  }
 ],
 "metadata": {
  "kernelspec": {
   "display_name": "Python 3",
   "language": "python",
   "name": "python3"
  },
  "language_info": {
   "codemirror_mode": {
    "name": "ipython",
    "version": 3
   },
   "file_extension": ".py",
   "mimetype": "text/x-python",
   "name": "python",
   "nbconvert_exporter": "python",
   "pygments_lexer": "ipython3",
   "version": "3.6.8"
  }
 },
 "nbformat": 4,
 "nbformat_minor": 2
}
